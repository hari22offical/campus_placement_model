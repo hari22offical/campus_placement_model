{
  "nbformat": 4,
  "nbformat_minor": 0,
  "metadata": {
    "colab": {
      "provenance": []
    },
    "kernelspec": {
      "name": "python3",
      "display_name": "Python 3"
    },
    "language_info": {
      "name": "python"
    }
  },
  "cells": [
    {
      "cell_type": "markdown",
      "source": [
        "#campus_placement model predictions"
      ],
      "metadata": {
        "id": "NmvQUJD72CuX"
      }
    },
    {
      "cell_type": "markdown",
      "source": [
        "#about the dataset"
      ],
      "metadata": {
        "id": "9CqdRBJ82LMz"
      }
    },
    {
      "cell_type": "code",
      "source": [
        "'''about a dataset\n",
        "RangeIndex: 215 entries, 0 to 214\n",
        "Data columns (total 15 columns):\n",
        " #   Column          Non-Null Count  Dtype  \n",
        "---  ------          --------------  -----  \n",
        " 0   sl_no           215 non-null    int64  \n",
        " 1   gender          215 non-null    object \n",
        " 2   ssc_p           215 non-null    float64\n",
        " 3   ssc_b           215 non-null    object \n",
        " 4   hsc_p           215 non-null    float64\n",
        " 5   hsc_b           215 non-null    object \n",
        " 6   hsc_s           215 non-null    object \n",
        " 7   degree_p        215 non-null    float64\n",
        " 8   degree_t        215 non-null    object \n",
        " 9   workex          215 non-null    object \n",
        " 10  etest_p         215 non-null    float64\n",
        " 11  specialisation  215 non-null    object \n",
        " 12  mba_p           215 non-null    float64\n",
        " 13  status          215 non-null    object \n",
        " 14  salary          148 non-null    float64\n",
        " '''"
      ],
      "metadata": {
        "colab": {
          "base_uri": "https://localhost:8080/",
          "height": 122
        },
        "id": "axjbi6001zNv",
        "outputId": "1321f96d-db4d-4a5d-aaf2-4e6bec5c9bdc"
      },
      "execution_count": 71,
      "outputs": [
        {
          "output_type": "execute_result",
          "data": {
            "text/plain": [
              "'about a dataset\\nRangeIndex: 215 entries, 0 to 214\\nData columns (total 15 columns):\\n #   Column          Non-Null Count  Dtype  \\n---  ------          --------------  -----  \\n 0   sl_no           215 non-null    int64  \\n 1   gender          215 non-null    object \\n 2   ssc_p           215 non-null    float64\\n 3   ssc_b           215 non-null    object \\n 4   hsc_p           215 non-null    float64\\n 5   hsc_b           215 non-null    object \\n 6   hsc_s           215 non-null    object \\n 7   degree_p        215 non-null    float64\\n 8   degree_t        215 non-null    object \\n 9   workex          215 non-null    object \\n 10  etest_p         215 non-null    float64\\n 11  specialisation  215 non-null    object \\n 12  mba_p           215 non-null    float64\\n 13  status          215 non-null    object \\n 14  salary          148 non-null    float64\\n '"
            ],
            "application/vnd.google.colaboratory.intrinsic+json": {
              "type": "string"
            }
          },
          "metadata": {},
          "execution_count": 71
        }
      ]
    },
    {
      "cell_type": "markdown",
      "source": [
        "#Exploratory Data Analytics / Root Cause Analytics\n",
        "#Domain Exploration\n",
        " Understand the relevant business process, business impact\n",
        " Common challenges and beleifs\n",
        " Sources of data and external factors\n",
        "#Data Collection and Data Exploration\n",
        " Collect data from multiple units of business, prepare the dataset\n",
        "Perform a generic exploration on data to identify common challenges in data quality\n",
        "#Data Cleaning\n",
        " Handling duplicates,\n",
        " unwanted columns,\n",
        " missing values,\n",
        " outliers\n",
        "#EDA / RCA\n",
        "\n",
        "Data Visualization\n",
        "\n",
        "  Univariate Analysis,\n",
        "  Bivariate Analysis,\n",
        "  Multivariate Analysis,\n",
        "  Statistical methods\n",
        "\n",
        "Correlation Analysis\n",
        "ANOVA,\n",
        "Chi Square Test,"
      ],
      "metadata": {
        "id": "tmR6SWVc2R2R"
      }
    },
    {
      "cell_type": "markdown",
      "source": [
        "# 1.datacollection and data exploration"
      ],
      "metadata": {
        "id": "dOtABF8f35xR"
      }
    },
    {
      "cell_type": "code",
      "source": [
        "#import the necessary library for your dataset operation\n",
        "import numpy as np\n",
        "import pandas as pd\n",
        "import matplotlib.pyplot as plt\n",
        "import seaborn as sns"
      ],
      "metadata": {
        "id": "IlN-m1g9szaW"
      },
      "execution_count": null,
      "outputs": []
    },
    {
      "cell_type": "code",
      "source": [
        "#loading the dataset into the dataframe\n",
        "df=pd.read_csv(\"Placement_Data_Full_Class.csv\")\n",
        "# this function to view the dataset\n",
        "df.head()"
      ],
      "metadata": {
        "colab": {
          "base_uri": "https://localhost:8080/",
          "height": 250
        },
        "id": "BI6G_5G8s2Zg",
        "outputId": "b4cacd6d-e297-4fee-986b-a121c69fbbd9"
      },
      "execution_count": null,
      "outputs": [
        {
          "output_type": "execute_result",
          "data": {
            "text/plain": [
              "   sl_no gender  ssc_p    ssc_b  hsc_p    hsc_b     hsc_s  degree_p  \\\n",
              "0      1      M  67.00   Others  91.00   Others  Commerce     58.00   \n",
              "1      2      M  79.33  Central  78.33   Others   Science     77.48   \n",
              "2      3      M  65.00  Central  68.00  Central      Arts     64.00   \n",
              "3      4      M  56.00  Central  52.00  Central   Science     52.00   \n",
              "4      5      M  85.80  Central  73.60  Central  Commerce     73.30   \n",
              "\n",
              "    degree_t workex  etest_p specialisation  mba_p      status    salary  \n",
              "0   Sci&Tech     No     55.0         Mkt&HR  58.80      Placed  270000.0  \n",
              "1   Sci&Tech    Yes     86.5        Mkt&Fin  66.28      Placed  200000.0  \n",
              "2  Comm&Mgmt     No     75.0        Mkt&Fin  57.80      Placed  250000.0  \n",
              "3   Sci&Tech     No     66.0         Mkt&HR  59.43  Not Placed       NaN  \n",
              "4  Comm&Mgmt     No     96.8        Mkt&Fin  55.50      Placed  425000.0  "
            ],
            "text/html": [
              "\n",
              "  <div id=\"df-174e4d74-df62-4a91-ae69-f44dc3a97551\">\n",
              "    <div class=\"colab-df-container\">\n",
              "      <div>\n",
              "<style scoped>\n",
              "    .dataframe tbody tr th:only-of-type {\n",
              "        vertical-align: middle;\n",
              "    }\n",
              "\n",
              "    .dataframe tbody tr th {\n",
              "        vertical-align: top;\n",
              "    }\n",
              "\n",
              "    .dataframe thead th {\n",
              "        text-align: right;\n",
              "    }\n",
              "</style>\n",
              "<table border=\"1\" class=\"dataframe\">\n",
              "  <thead>\n",
              "    <tr style=\"text-align: right;\">\n",
              "      <th></th>\n",
              "      <th>sl_no</th>\n",
              "      <th>gender</th>\n",
              "      <th>ssc_p</th>\n",
              "      <th>ssc_b</th>\n",
              "      <th>hsc_p</th>\n",
              "      <th>hsc_b</th>\n",
              "      <th>hsc_s</th>\n",
              "      <th>degree_p</th>\n",
              "      <th>degree_t</th>\n",
              "      <th>workex</th>\n",
              "      <th>etest_p</th>\n",
              "      <th>specialisation</th>\n",
              "      <th>mba_p</th>\n",
              "      <th>status</th>\n",
              "      <th>salary</th>\n",
              "    </tr>\n",
              "  </thead>\n",
              "  <tbody>\n",
              "    <tr>\n",
              "      <th>0</th>\n",
              "      <td>1</td>\n",
              "      <td>M</td>\n",
              "      <td>67.00</td>\n",
              "      <td>Others</td>\n",
              "      <td>91.00</td>\n",
              "      <td>Others</td>\n",
              "      <td>Commerce</td>\n",
              "      <td>58.00</td>\n",
              "      <td>Sci&amp;Tech</td>\n",
              "      <td>No</td>\n",
              "      <td>55.0</td>\n",
              "      <td>Mkt&amp;HR</td>\n",
              "      <td>58.80</td>\n",
              "      <td>Placed</td>\n",
              "      <td>270000.0</td>\n",
              "    </tr>\n",
              "    <tr>\n",
              "      <th>1</th>\n",
              "      <td>2</td>\n",
              "      <td>M</td>\n",
              "      <td>79.33</td>\n",
              "      <td>Central</td>\n",
              "      <td>78.33</td>\n",
              "      <td>Others</td>\n",
              "      <td>Science</td>\n",
              "      <td>77.48</td>\n",
              "      <td>Sci&amp;Tech</td>\n",
              "      <td>Yes</td>\n",
              "      <td>86.5</td>\n",
              "      <td>Mkt&amp;Fin</td>\n",
              "      <td>66.28</td>\n",
              "      <td>Placed</td>\n",
              "      <td>200000.0</td>\n",
              "    </tr>\n",
              "    <tr>\n",
              "      <th>2</th>\n",
              "      <td>3</td>\n",
              "      <td>M</td>\n",
              "      <td>65.00</td>\n",
              "      <td>Central</td>\n",
              "      <td>68.00</td>\n",
              "      <td>Central</td>\n",
              "      <td>Arts</td>\n",
              "      <td>64.00</td>\n",
              "      <td>Comm&amp;Mgmt</td>\n",
              "      <td>No</td>\n",
              "      <td>75.0</td>\n",
              "      <td>Mkt&amp;Fin</td>\n",
              "      <td>57.80</td>\n",
              "      <td>Placed</td>\n",
              "      <td>250000.0</td>\n",
              "    </tr>\n",
              "    <tr>\n",
              "      <th>3</th>\n",
              "      <td>4</td>\n",
              "      <td>M</td>\n",
              "      <td>56.00</td>\n",
              "      <td>Central</td>\n",
              "      <td>52.00</td>\n",
              "      <td>Central</td>\n",
              "      <td>Science</td>\n",
              "      <td>52.00</td>\n",
              "      <td>Sci&amp;Tech</td>\n",
              "      <td>No</td>\n",
              "      <td>66.0</td>\n",
              "      <td>Mkt&amp;HR</td>\n",
              "      <td>59.43</td>\n",
              "      <td>Not Placed</td>\n",
              "      <td>NaN</td>\n",
              "    </tr>\n",
              "    <tr>\n",
              "      <th>4</th>\n",
              "      <td>5</td>\n",
              "      <td>M</td>\n",
              "      <td>85.80</td>\n",
              "      <td>Central</td>\n",
              "      <td>73.60</td>\n",
              "      <td>Central</td>\n",
              "      <td>Commerce</td>\n",
              "      <td>73.30</td>\n",
              "      <td>Comm&amp;Mgmt</td>\n",
              "      <td>No</td>\n",
              "      <td>96.8</td>\n",
              "      <td>Mkt&amp;Fin</td>\n",
              "      <td>55.50</td>\n",
              "      <td>Placed</td>\n",
              "      <td>425000.0</td>\n",
              "    </tr>\n",
              "  </tbody>\n",
              "</table>\n",
              "</div>\n",
              "      <button class=\"colab-df-convert\" onclick=\"convertToInteractive('df-174e4d74-df62-4a91-ae69-f44dc3a97551')\"\n",
              "              title=\"Convert this dataframe to an interactive table.\"\n",
              "              style=\"display:none;\">\n",
              "        \n",
              "  <svg xmlns=\"http://www.w3.org/2000/svg\" height=\"24px\"viewBox=\"0 0 24 24\"\n",
              "       width=\"24px\">\n",
              "    <path d=\"M0 0h24v24H0V0z\" fill=\"none\"/>\n",
              "    <path d=\"M18.56 5.44l.94 2.06.94-2.06 2.06-.94-2.06-.94-.94-2.06-.94 2.06-2.06.94zm-11 1L8.5 8.5l.94-2.06 2.06-.94-2.06-.94L8.5 2.5l-.94 2.06-2.06.94zm10 10l.94 2.06.94-2.06 2.06-.94-2.06-.94-.94-2.06-.94 2.06-2.06.94z\"/><path d=\"M17.41 7.96l-1.37-1.37c-.4-.4-.92-.59-1.43-.59-.52 0-1.04.2-1.43.59L10.3 9.45l-7.72 7.72c-.78.78-.78 2.05 0 2.83L4 21.41c.39.39.9.59 1.41.59.51 0 1.02-.2 1.41-.59l7.78-7.78 2.81-2.81c.8-.78.8-2.07 0-2.86zM5.41 20L4 18.59l7.72-7.72 1.47 1.35L5.41 20z\"/>\n",
              "  </svg>\n",
              "      </button>\n",
              "      \n",
              "  <style>\n",
              "    .colab-df-container {\n",
              "      display:flex;\n",
              "      flex-wrap:wrap;\n",
              "      gap: 12px;\n",
              "    }\n",
              "\n",
              "    .colab-df-convert {\n",
              "      background-color: #E8F0FE;\n",
              "      border: none;\n",
              "      border-radius: 50%;\n",
              "      cursor: pointer;\n",
              "      display: none;\n",
              "      fill: #1967D2;\n",
              "      height: 32px;\n",
              "      padding: 0 0 0 0;\n",
              "      width: 32px;\n",
              "    }\n",
              "\n",
              "    .colab-df-convert:hover {\n",
              "      background-color: #E2EBFA;\n",
              "      box-shadow: 0px 1px 2px rgba(60, 64, 67, 0.3), 0px 1px 3px 1px rgba(60, 64, 67, 0.15);\n",
              "      fill: #174EA6;\n",
              "    }\n",
              "\n",
              "    [theme=dark] .colab-df-convert {\n",
              "      background-color: #3B4455;\n",
              "      fill: #D2E3FC;\n",
              "    }\n",
              "\n",
              "    [theme=dark] .colab-df-convert:hover {\n",
              "      background-color: #434B5C;\n",
              "      box-shadow: 0px 1px 3px 1px rgba(0, 0, 0, 0.15);\n",
              "      filter: drop-shadow(0px 1px 2px rgba(0, 0, 0, 0.3));\n",
              "      fill: #FFFFFF;\n",
              "    }\n",
              "  </style>\n",
              "\n",
              "      <script>\n",
              "        const buttonEl =\n",
              "          document.querySelector('#df-174e4d74-df62-4a91-ae69-f44dc3a97551 button.colab-df-convert');\n",
              "        buttonEl.style.display =\n",
              "          google.colab.kernel.accessAllowed ? 'block' : 'none';\n",
              "\n",
              "        async function convertToInteractive(key) {\n",
              "          const element = document.querySelector('#df-174e4d74-df62-4a91-ae69-f44dc3a97551');\n",
              "          const dataTable =\n",
              "            await google.colab.kernel.invokeFunction('convertToInteractive',\n",
              "                                                     [key], {});\n",
              "          if (!dataTable) return;\n",
              "\n",
              "          const docLinkHtml = 'Like what you see? Visit the ' +\n",
              "            '<a target=\"_blank\" href=https://colab.research.google.com/notebooks/data_table.ipynb>data table notebook</a>'\n",
              "            + ' to learn more about interactive tables.';\n",
              "          element.innerHTML = '';\n",
              "          dataTable['output_type'] = 'display_data';\n",
              "          await google.colab.output.renderOutput(dataTable, element);\n",
              "          const docLink = document.createElement('div');\n",
              "          docLink.innerHTML = docLinkHtml;\n",
              "          element.appendChild(docLink);\n",
              "        }\n",
              "      </script>\n",
              "    </div>\n",
              "  </div>\n",
              "  "
            ]
          },
          "metadata": {},
          "execution_count": 5
        }
      ]
    },
    {
      "cell_type": "code",
      "source": [
        "#to view the dataset size\n",
        "df.shape"
      ],
      "metadata": {
        "id": "zQqWqIkAs60j",
        "outputId": "f2215cf4-363a-4d40-bcf8-a592baad2df7",
        "colab": {
          "base_uri": "https://localhost:8080/"
        }
      },
      "execution_count": null,
      "outputs": [
        {
          "output_type": "execute_result",
          "data": {
            "text/plain": [
              "(215, 15)"
            ]
          },
          "metadata": {},
          "execution_count": 6
        }
      ]
    },
    {
      "cell_type": "code",
      "source": [
        "# to view the information about dataset\n",
        "df.info()"
      ],
      "metadata": {
        "id": "2noJ9op_s9oy",
        "outputId": "e1c20fae-28a6-4480-9a4b-9a7e8f6ba4da",
        "colab": {
          "base_uri": "https://localhost:8080/"
        }
      },
      "execution_count": null,
      "outputs": [
        {
          "output_type": "stream",
          "name": "stdout",
          "text": [
            "<class 'pandas.core.frame.DataFrame'>\n",
            "RangeIndex: 215 entries, 0 to 214\n",
            "Data columns (total 15 columns):\n",
            " #   Column          Non-Null Count  Dtype  \n",
            "---  ------          --------------  -----  \n",
            " 0   sl_no           215 non-null    int64  \n",
            " 1   gender          215 non-null    object \n",
            " 2   ssc_p           215 non-null    float64\n",
            " 3   ssc_b           215 non-null    object \n",
            " 4   hsc_p           215 non-null    float64\n",
            " 5   hsc_b           215 non-null    object \n",
            " 6   hsc_s           215 non-null    object \n",
            " 7   degree_p        215 non-null    float64\n",
            " 8   degree_t        215 non-null    object \n",
            " 9   workex          215 non-null    object \n",
            " 10  etest_p         215 non-null    float64\n",
            " 11  specialisation  215 non-null    object \n",
            " 12  mba_p           215 non-null    float64\n",
            " 13  status          215 non-null    object \n",
            " 14  salary          148 non-null    float64\n",
            "dtypes: float64(6), int64(1), object(8)\n",
            "memory usage: 25.3+ KB\n"
          ]
        }
      ]
    },
    {
      "cell_type": "code",
      "source": [
        "# to view the unique element in attributes in dataset\n",
        "df[\"gender\"].unique()"
      ],
      "metadata": {
        "id": "Ea7oDcHQtAWP",
        "colab": {
          "base_uri": "https://localhost:8080/"
        },
        "outputId": "29110ce4-6be0-43f6-d418-edb360dd1116"
      },
      "execution_count": null,
      "outputs": [
        {
          "output_type": "execute_result",
          "data": {
            "text/plain": [
              "array(['M', 'F'], dtype=object)"
            ]
          },
          "metadata": {},
          "execution_count": 8
        }
      ]
    },
    {
      "cell_type": "code",
      "source": [
        "df[\"ssc_b\"].unique()"
      ],
      "metadata": {
        "colab": {
          "base_uri": "https://localhost:8080/"
        },
        "id": "mI519PRTtnM9",
        "outputId": "913e1e6f-823c-436f-da18-072dfbb66eb4"
      },
      "execution_count": null,
      "outputs": [
        {
          "output_type": "execute_result",
          "data": {
            "text/plain": [
              "array(['Others', 'Central'], dtype=object)"
            ]
          },
          "metadata": {},
          "execution_count": 9
        }
      ]
    },
    {
      "cell_type": "code",
      "source": [
        "df[\"hsc_b\"].unique()"
      ],
      "metadata": {
        "colab": {
          "base_uri": "https://localhost:8080/"
        },
        "id": "dmwK-D6_tqGc",
        "outputId": "c65cf326-b093-45cf-cdaa-b4417cb999a2"
      },
      "execution_count": null,
      "outputs": [
        {
          "output_type": "execute_result",
          "data": {
            "text/plain": [
              "array(['Others', 'Central'], dtype=object)"
            ]
          },
          "metadata": {},
          "execution_count": 10
        }
      ]
    },
    {
      "cell_type": "code",
      "source": [
        "df[\"hsc_s\"].unique()"
      ],
      "metadata": {
        "colab": {
          "base_uri": "https://localhost:8080/"
        },
        "id": "4g-37HSxttSU",
        "outputId": "b6683039-30c6-4564-9c18-e351c185794c"
      },
      "execution_count": null,
      "outputs": [
        {
          "output_type": "execute_result",
          "data": {
            "text/plain": [
              "array(['Commerce', 'Science', 'Arts'], dtype=object)"
            ]
          },
          "metadata": {},
          "execution_count": 11
        }
      ]
    },
    {
      "cell_type": "code",
      "source": [
        "df[\"degree_t\"].unique()"
      ],
      "metadata": {
        "colab": {
          "base_uri": "https://localhost:8080/"
        },
        "id": "GVogEs2vtwZG",
        "outputId": "6fbf16a8-5fb9-4949-feb6-f436be137c53"
      },
      "execution_count": null,
      "outputs": [
        {
          "output_type": "execute_result",
          "data": {
            "text/plain": [
              "array(['Sci&Tech', 'Comm&Mgmt', 'Others'], dtype=object)"
            ]
          },
          "metadata": {},
          "execution_count": 12
        }
      ]
    },
    {
      "cell_type": "code",
      "source": [
        "df[\"workex\"].unique()"
      ],
      "metadata": {
        "colab": {
          "base_uri": "https://localhost:8080/"
        },
        "id": "7aexIoNRty9g",
        "outputId": "fadbc599-72e9-421e-f19f-801f53751cf8"
      },
      "execution_count": null,
      "outputs": [
        {
          "output_type": "execute_result",
          "data": {
            "text/plain": [
              "array(['No', 'Yes'], dtype=object)"
            ]
          },
          "metadata": {},
          "execution_count": 13
        }
      ]
    },
    {
      "cell_type": "code",
      "source": [
        "df[\"specialisation\"].unique()"
      ],
      "metadata": {
        "colab": {
          "base_uri": "https://localhost:8080/"
        },
        "id": "5xkttkwAt1wc",
        "outputId": "c72f5a8d-cb38-4215-f18c-fcff9602111c"
      },
      "execution_count": null,
      "outputs": [
        {
          "output_type": "execute_result",
          "data": {
            "text/plain": [
              "array(['Mkt&HR', 'Mkt&Fin'], dtype=object)"
            ]
          },
          "metadata": {},
          "execution_count": 14
        }
      ]
    },
    {
      "cell_type": "code",
      "source": [
        "df[\"status\"].unique()"
      ],
      "metadata": {
        "colab": {
          "base_uri": "https://localhost:8080/"
        },
        "id": "WzZD93f6t4Fn",
        "outputId": "e114ecb7-903d-4a33-a23a-79c22202e81e"
      },
      "execution_count": null,
      "outputs": [
        {
          "output_type": "execute_result",
          "data": {
            "text/plain": [
              "array(['Placed', 'Not Placed'], dtype=object)"
            ]
          },
          "metadata": {},
          "execution_count": 15
        }
      ]
    },
    {
      "cell_type": "code",
      "source": [
        "# to view the stat of dataset\n",
        "df.describe()"
      ],
      "metadata": {
        "colab": {
          "base_uri": "https://localhost:8080/",
          "height": 300
        },
        "id": "DLC6M0JSt6lc",
        "outputId": "cc1b3cd0-f62d-4831-ff7e-1597ca6aea29"
      },
      "execution_count": null,
      "outputs": [
        {
          "output_type": "execute_result",
          "data": {
            "text/plain": [
              "            sl_no       ssc_p       hsc_p    degree_p     etest_p       mba_p  \\\n",
              "count  215.000000  215.000000  215.000000  215.000000  215.000000  215.000000   \n",
              "mean   108.000000   67.303395   66.333163   66.370186   72.100558   62.278186   \n",
              "std     62.209324   10.827205   10.897509    7.358743   13.275956    5.833385   \n",
              "min      1.000000   40.890000   37.000000   50.000000   50.000000   51.210000   \n",
              "25%     54.500000   60.600000   60.900000   61.000000   60.000000   57.945000   \n",
              "50%    108.000000   67.000000   65.000000   66.000000   71.000000   62.000000   \n",
              "75%    161.500000   75.700000   73.000000   72.000000   83.500000   66.255000   \n",
              "max    215.000000   89.400000   97.700000   91.000000   98.000000   77.890000   \n",
              "\n",
              "              salary  \n",
              "count     148.000000  \n",
              "mean   288655.405405  \n",
              "std     93457.452420  \n",
              "min    200000.000000  \n",
              "25%    240000.000000  \n",
              "50%    265000.000000  \n",
              "75%    300000.000000  \n",
              "max    940000.000000  "
            ],
            "text/html": [
              "\n",
              "  <div id=\"df-0c5b0b2b-8a1c-4f35-a8ef-f22f9f6d568d\">\n",
              "    <div class=\"colab-df-container\">\n",
              "      <div>\n",
              "<style scoped>\n",
              "    .dataframe tbody tr th:only-of-type {\n",
              "        vertical-align: middle;\n",
              "    }\n",
              "\n",
              "    .dataframe tbody tr th {\n",
              "        vertical-align: top;\n",
              "    }\n",
              "\n",
              "    .dataframe thead th {\n",
              "        text-align: right;\n",
              "    }\n",
              "</style>\n",
              "<table border=\"1\" class=\"dataframe\">\n",
              "  <thead>\n",
              "    <tr style=\"text-align: right;\">\n",
              "      <th></th>\n",
              "      <th>sl_no</th>\n",
              "      <th>ssc_p</th>\n",
              "      <th>hsc_p</th>\n",
              "      <th>degree_p</th>\n",
              "      <th>etest_p</th>\n",
              "      <th>mba_p</th>\n",
              "      <th>salary</th>\n",
              "    </tr>\n",
              "  </thead>\n",
              "  <tbody>\n",
              "    <tr>\n",
              "      <th>count</th>\n",
              "      <td>215.000000</td>\n",
              "      <td>215.000000</td>\n",
              "      <td>215.000000</td>\n",
              "      <td>215.000000</td>\n",
              "      <td>215.000000</td>\n",
              "      <td>215.000000</td>\n",
              "      <td>148.000000</td>\n",
              "    </tr>\n",
              "    <tr>\n",
              "      <th>mean</th>\n",
              "      <td>108.000000</td>\n",
              "      <td>67.303395</td>\n",
              "      <td>66.333163</td>\n",
              "      <td>66.370186</td>\n",
              "      <td>72.100558</td>\n",
              "      <td>62.278186</td>\n",
              "      <td>288655.405405</td>\n",
              "    </tr>\n",
              "    <tr>\n",
              "      <th>std</th>\n",
              "      <td>62.209324</td>\n",
              "      <td>10.827205</td>\n",
              "      <td>10.897509</td>\n",
              "      <td>7.358743</td>\n",
              "      <td>13.275956</td>\n",
              "      <td>5.833385</td>\n",
              "      <td>93457.452420</td>\n",
              "    </tr>\n",
              "    <tr>\n",
              "      <th>min</th>\n",
              "      <td>1.000000</td>\n",
              "      <td>40.890000</td>\n",
              "      <td>37.000000</td>\n",
              "      <td>50.000000</td>\n",
              "      <td>50.000000</td>\n",
              "      <td>51.210000</td>\n",
              "      <td>200000.000000</td>\n",
              "    </tr>\n",
              "    <tr>\n",
              "      <th>25%</th>\n",
              "      <td>54.500000</td>\n",
              "      <td>60.600000</td>\n",
              "      <td>60.900000</td>\n",
              "      <td>61.000000</td>\n",
              "      <td>60.000000</td>\n",
              "      <td>57.945000</td>\n",
              "      <td>240000.000000</td>\n",
              "    </tr>\n",
              "    <tr>\n",
              "      <th>50%</th>\n",
              "      <td>108.000000</td>\n",
              "      <td>67.000000</td>\n",
              "      <td>65.000000</td>\n",
              "      <td>66.000000</td>\n",
              "      <td>71.000000</td>\n",
              "      <td>62.000000</td>\n",
              "      <td>265000.000000</td>\n",
              "    </tr>\n",
              "    <tr>\n",
              "      <th>75%</th>\n",
              "      <td>161.500000</td>\n",
              "      <td>75.700000</td>\n",
              "      <td>73.000000</td>\n",
              "      <td>72.000000</td>\n",
              "      <td>83.500000</td>\n",
              "      <td>66.255000</td>\n",
              "      <td>300000.000000</td>\n",
              "    </tr>\n",
              "    <tr>\n",
              "      <th>max</th>\n",
              "      <td>215.000000</td>\n",
              "      <td>89.400000</td>\n",
              "      <td>97.700000</td>\n",
              "      <td>91.000000</td>\n",
              "      <td>98.000000</td>\n",
              "      <td>77.890000</td>\n",
              "      <td>940000.000000</td>\n",
              "    </tr>\n",
              "  </tbody>\n",
              "</table>\n",
              "</div>\n",
              "      <button class=\"colab-df-convert\" onclick=\"convertToInteractive('df-0c5b0b2b-8a1c-4f35-a8ef-f22f9f6d568d')\"\n",
              "              title=\"Convert this dataframe to an interactive table.\"\n",
              "              style=\"display:none;\">\n",
              "        \n",
              "  <svg xmlns=\"http://www.w3.org/2000/svg\" height=\"24px\"viewBox=\"0 0 24 24\"\n",
              "       width=\"24px\">\n",
              "    <path d=\"M0 0h24v24H0V0z\" fill=\"none\"/>\n",
              "    <path d=\"M18.56 5.44l.94 2.06.94-2.06 2.06-.94-2.06-.94-.94-2.06-.94 2.06-2.06.94zm-11 1L8.5 8.5l.94-2.06 2.06-.94-2.06-.94L8.5 2.5l-.94 2.06-2.06.94zm10 10l.94 2.06.94-2.06 2.06-.94-2.06-.94-.94-2.06-.94 2.06-2.06.94z\"/><path d=\"M17.41 7.96l-1.37-1.37c-.4-.4-.92-.59-1.43-.59-.52 0-1.04.2-1.43.59L10.3 9.45l-7.72 7.72c-.78.78-.78 2.05 0 2.83L4 21.41c.39.39.9.59 1.41.59.51 0 1.02-.2 1.41-.59l7.78-7.78 2.81-2.81c.8-.78.8-2.07 0-2.86zM5.41 20L4 18.59l7.72-7.72 1.47 1.35L5.41 20z\"/>\n",
              "  </svg>\n",
              "      </button>\n",
              "      \n",
              "  <style>\n",
              "    .colab-df-container {\n",
              "      display:flex;\n",
              "      flex-wrap:wrap;\n",
              "      gap: 12px;\n",
              "    }\n",
              "\n",
              "    .colab-df-convert {\n",
              "      background-color: #E8F0FE;\n",
              "      border: none;\n",
              "      border-radius: 50%;\n",
              "      cursor: pointer;\n",
              "      display: none;\n",
              "      fill: #1967D2;\n",
              "      height: 32px;\n",
              "      padding: 0 0 0 0;\n",
              "      width: 32px;\n",
              "    }\n",
              "\n",
              "    .colab-df-convert:hover {\n",
              "      background-color: #E2EBFA;\n",
              "      box-shadow: 0px 1px 2px rgba(60, 64, 67, 0.3), 0px 1px 3px 1px rgba(60, 64, 67, 0.15);\n",
              "      fill: #174EA6;\n",
              "    }\n",
              "\n",
              "    [theme=dark] .colab-df-convert {\n",
              "      background-color: #3B4455;\n",
              "      fill: #D2E3FC;\n",
              "    }\n",
              "\n",
              "    [theme=dark] .colab-df-convert:hover {\n",
              "      background-color: #434B5C;\n",
              "      box-shadow: 0px 1px 3px 1px rgba(0, 0, 0, 0.15);\n",
              "      filter: drop-shadow(0px 1px 2px rgba(0, 0, 0, 0.3));\n",
              "      fill: #FFFFFF;\n",
              "    }\n",
              "  </style>\n",
              "\n",
              "      <script>\n",
              "        const buttonEl =\n",
              "          document.querySelector('#df-0c5b0b2b-8a1c-4f35-a8ef-f22f9f6d568d button.colab-df-convert');\n",
              "        buttonEl.style.display =\n",
              "          google.colab.kernel.accessAllowed ? 'block' : 'none';\n",
              "\n",
              "        async function convertToInteractive(key) {\n",
              "          const element = document.querySelector('#df-0c5b0b2b-8a1c-4f35-a8ef-f22f9f6d568d');\n",
              "          const dataTable =\n",
              "            await google.colab.kernel.invokeFunction('convertToInteractive',\n",
              "                                                     [key], {});\n",
              "          if (!dataTable) return;\n",
              "\n",
              "          const docLinkHtml = 'Like what you see? Visit the ' +\n",
              "            '<a target=\"_blank\" href=https://colab.research.google.com/notebooks/data_table.ipynb>data table notebook</a>'\n",
              "            + ' to learn more about interactive tables.';\n",
              "          element.innerHTML = '';\n",
              "          dataTable['output_type'] = 'display_data';\n",
              "          await google.colab.output.renderOutput(dataTable, element);\n",
              "          const docLink = document.createElement('div');\n",
              "          docLink.innerHTML = docLinkHtml;\n",
              "          element.appendChild(docLink);\n",
              "        }\n",
              "      </script>\n",
              "    </div>\n",
              "  </div>\n",
              "  "
            ]
          },
          "metadata": {},
          "execution_count": 16
        }
      ]
    },
    {
      "cell_type": "markdown",
      "source": [
        "#data cleaning"
      ],
      "metadata": {
        "id": "D4b2tIRg4K3V"
      }
    },
    {
      "cell_type": "code",
      "source": [
        "#target variable is status and rest is independence variable"
      ],
      "metadata": {
        "id": "0qpippP2uBtA"
      },
      "execution_count": null,
      "outputs": []
    },
    {
      "cell_type": "markdown",
      "source": [
        "#check the duplicates"
      ],
      "metadata": {
        "id": "HN6RVD-v4Qp7"
      }
    },
    {
      "cell_type": "code",
      "source": [
        "#the duplicates function is to find the duplicates in dataset\n",
        "df.duplicated().sum()"
      ],
      "metadata": {
        "colab": {
          "base_uri": "https://localhost:8080/"
        },
        "id": "BVLYiOXWuIMA",
        "outputId": "e0deb635-64a8-4c43-e29c-2448ecbe49d8"
      },
      "execution_count": null,
      "outputs": [
        {
          "output_type": "execute_result",
          "data": {
            "text/plain": [
              "0"
            ]
          },
          "metadata": {},
          "execution_count": 20
        }
      ]
    },
    {
      "cell_type": "markdown",
      "source": [
        "#remove unwanted the columns"
      ],
      "metadata": {
        "id": "S0hrnA9S4UqU"
      }
    },
    {
      "cell_type": "code",
      "source": [
        "# the drop function is drop columns and rows\n",
        "df.drop(\"sl_no\",axis=1,inplace=True)"
      ],
      "metadata": {
        "id": "9o3nYk5YuMjp"
      },
      "execution_count": null,
      "outputs": []
    },
    {
      "cell_type": "code",
      "source": [
        "df.head()"
      ],
      "metadata": {
        "colab": {
          "base_uri": "https://localhost:8080/",
          "height": 206
        },
        "id": "cVMy6ZlGuPrn",
        "outputId": "a0063514-a799-4a0d-fa17-58a64de6f941"
      },
      "execution_count": null,
      "outputs": [
        {
          "output_type": "execute_result",
          "data": {
            "text/plain": [
              "  gender  ssc_p    ssc_b  hsc_p    hsc_b     hsc_s  degree_p   degree_t  \\\n",
              "0      M  67.00   Others  91.00   Others  Commerce     58.00   Sci&Tech   \n",
              "1      M  79.33  Central  78.33   Others   Science     77.48   Sci&Tech   \n",
              "2      M  65.00  Central  68.00  Central      Arts     64.00  Comm&Mgmt   \n",
              "3      M  56.00  Central  52.00  Central   Science     52.00   Sci&Tech   \n",
              "4      M  85.80  Central  73.60  Central  Commerce     73.30  Comm&Mgmt   \n",
              "\n",
              "  workex  etest_p specialisation  mba_p      status    salary  \n",
              "0     No     55.0         Mkt&HR  58.80      Placed  270000.0  \n",
              "1    Yes     86.5        Mkt&Fin  66.28      Placed  200000.0  \n",
              "2     No     75.0        Mkt&Fin  57.80      Placed  250000.0  \n",
              "3     No     66.0         Mkt&HR  59.43  Not Placed       NaN  \n",
              "4     No     96.8        Mkt&Fin  55.50      Placed  425000.0  "
            ],
            "text/html": [
              "\n",
              "  <div id=\"df-f067654f-0f9e-45b5-891c-a595e555b44c\">\n",
              "    <div class=\"colab-df-container\">\n",
              "      <div>\n",
              "<style scoped>\n",
              "    .dataframe tbody tr th:only-of-type {\n",
              "        vertical-align: middle;\n",
              "    }\n",
              "\n",
              "    .dataframe tbody tr th {\n",
              "        vertical-align: top;\n",
              "    }\n",
              "\n",
              "    .dataframe thead th {\n",
              "        text-align: right;\n",
              "    }\n",
              "</style>\n",
              "<table border=\"1\" class=\"dataframe\">\n",
              "  <thead>\n",
              "    <tr style=\"text-align: right;\">\n",
              "      <th></th>\n",
              "      <th>gender</th>\n",
              "      <th>ssc_p</th>\n",
              "      <th>ssc_b</th>\n",
              "      <th>hsc_p</th>\n",
              "      <th>hsc_b</th>\n",
              "      <th>hsc_s</th>\n",
              "      <th>degree_p</th>\n",
              "      <th>degree_t</th>\n",
              "      <th>workex</th>\n",
              "      <th>etest_p</th>\n",
              "      <th>specialisation</th>\n",
              "      <th>mba_p</th>\n",
              "      <th>status</th>\n",
              "      <th>salary</th>\n",
              "    </tr>\n",
              "  </thead>\n",
              "  <tbody>\n",
              "    <tr>\n",
              "      <th>0</th>\n",
              "      <td>M</td>\n",
              "      <td>67.00</td>\n",
              "      <td>Others</td>\n",
              "      <td>91.00</td>\n",
              "      <td>Others</td>\n",
              "      <td>Commerce</td>\n",
              "      <td>58.00</td>\n",
              "      <td>Sci&amp;Tech</td>\n",
              "      <td>No</td>\n",
              "      <td>55.0</td>\n",
              "      <td>Mkt&amp;HR</td>\n",
              "      <td>58.80</td>\n",
              "      <td>Placed</td>\n",
              "      <td>270000.0</td>\n",
              "    </tr>\n",
              "    <tr>\n",
              "      <th>1</th>\n",
              "      <td>M</td>\n",
              "      <td>79.33</td>\n",
              "      <td>Central</td>\n",
              "      <td>78.33</td>\n",
              "      <td>Others</td>\n",
              "      <td>Science</td>\n",
              "      <td>77.48</td>\n",
              "      <td>Sci&amp;Tech</td>\n",
              "      <td>Yes</td>\n",
              "      <td>86.5</td>\n",
              "      <td>Mkt&amp;Fin</td>\n",
              "      <td>66.28</td>\n",
              "      <td>Placed</td>\n",
              "      <td>200000.0</td>\n",
              "    </tr>\n",
              "    <tr>\n",
              "      <th>2</th>\n",
              "      <td>M</td>\n",
              "      <td>65.00</td>\n",
              "      <td>Central</td>\n",
              "      <td>68.00</td>\n",
              "      <td>Central</td>\n",
              "      <td>Arts</td>\n",
              "      <td>64.00</td>\n",
              "      <td>Comm&amp;Mgmt</td>\n",
              "      <td>No</td>\n",
              "      <td>75.0</td>\n",
              "      <td>Mkt&amp;Fin</td>\n",
              "      <td>57.80</td>\n",
              "      <td>Placed</td>\n",
              "      <td>250000.0</td>\n",
              "    </tr>\n",
              "    <tr>\n",
              "      <th>3</th>\n",
              "      <td>M</td>\n",
              "      <td>56.00</td>\n",
              "      <td>Central</td>\n",
              "      <td>52.00</td>\n",
              "      <td>Central</td>\n",
              "      <td>Science</td>\n",
              "      <td>52.00</td>\n",
              "      <td>Sci&amp;Tech</td>\n",
              "      <td>No</td>\n",
              "      <td>66.0</td>\n",
              "      <td>Mkt&amp;HR</td>\n",
              "      <td>59.43</td>\n",
              "      <td>Not Placed</td>\n",
              "      <td>NaN</td>\n",
              "    </tr>\n",
              "    <tr>\n",
              "      <th>4</th>\n",
              "      <td>M</td>\n",
              "      <td>85.80</td>\n",
              "      <td>Central</td>\n",
              "      <td>73.60</td>\n",
              "      <td>Central</td>\n",
              "      <td>Commerce</td>\n",
              "      <td>73.30</td>\n",
              "      <td>Comm&amp;Mgmt</td>\n",
              "      <td>No</td>\n",
              "      <td>96.8</td>\n",
              "      <td>Mkt&amp;Fin</td>\n",
              "      <td>55.50</td>\n",
              "      <td>Placed</td>\n",
              "      <td>425000.0</td>\n",
              "    </tr>\n",
              "  </tbody>\n",
              "</table>\n",
              "</div>\n",
              "      <button class=\"colab-df-convert\" onclick=\"convertToInteractive('df-f067654f-0f9e-45b5-891c-a595e555b44c')\"\n",
              "              title=\"Convert this dataframe to an interactive table.\"\n",
              "              style=\"display:none;\">\n",
              "        \n",
              "  <svg xmlns=\"http://www.w3.org/2000/svg\" height=\"24px\"viewBox=\"0 0 24 24\"\n",
              "       width=\"24px\">\n",
              "    <path d=\"M0 0h24v24H0V0z\" fill=\"none\"/>\n",
              "    <path d=\"M18.56 5.44l.94 2.06.94-2.06 2.06-.94-2.06-.94-.94-2.06-.94 2.06-2.06.94zm-11 1L8.5 8.5l.94-2.06 2.06-.94-2.06-.94L8.5 2.5l-.94 2.06-2.06.94zm10 10l.94 2.06.94-2.06 2.06-.94-2.06-.94-.94-2.06-.94 2.06-2.06.94z\"/><path d=\"M17.41 7.96l-1.37-1.37c-.4-.4-.92-.59-1.43-.59-.52 0-1.04.2-1.43.59L10.3 9.45l-7.72 7.72c-.78.78-.78 2.05 0 2.83L4 21.41c.39.39.9.59 1.41.59.51 0 1.02-.2 1.41-.59l7.78-7.78 2.81-2.81c.8-.78.8-2.07 0-2.86zM5.41 20L4 18.59l7.72-7.72 1.47 1.35L5.41 20z\"/>\n",
              "  </svg>\n",
              "      </button>\n",
              "      \n",
              "  <style>\n",
              "    .colab-df-container {\n",
              "      display:flex;\n",
              "      flex-wrap:wrap;\n",
              "      gap: 12px;\n",
              "    }\n",
              "\n",
              "    .colab-df-convert {\n",
              "      background-color: #E8F0FE;\n",
              "      border: none;\n",
              "      border-radius: 50%;\n",
              "      cursor: pointer;\n",
              "      display: none;\n",
              "      fill: #1967D2;\n",
              "      height: 32px;\n",
              "      padding: 0 0 0 0;\n",
              "      width: 32px;\n",
              "    }\n",
              "\n",
              "    .colab-df-convert:hover {\n",
              "      background-color: #E2EBFA;\n",
              "      box-shadow: 0px 1px 2px rgba(60, 64, 67, 0.3), 0px 1px 3px 1px rgba(60, 64, 67, 0.15);\n",
              "      fill: #174EA6;\n",
              "    }\n",
              "\n",
              "    [theme=dark] .colab-df-convert {\n",
              "      background-color: #3B4455;\n",
              "      fill: #D2E3FC;\n",
              "    }\n",
              "\n",
              "    [theme=dark] .colab-df-convert:hover {\n",
              "      background-color: #434B5C;\n",
              "      box-shadow: 0px 1px 3px 1px rgba(0, 0, 0, 0.15);\n",
              "      filter: drop-shadow(0px 1px 2px rgba(0, 0, 0, 0.3));\n",
              "      fill: #FFFFFF;\n",
              "    }\n",
              "  </style>\n",
              "\n",
              "      <script>\n",
              "        const buttonEl =\n",
              "          document.querySelector('#df-f067654f-0f9e-45b5-891c-a595e555b44c button.colab-df-convert');\n",
              "        buttonEl.style.display =\n",
              "          google.colab.kernel.accessAllowed ? 'block' : 'none';\n",
              "\n",
              "        async function convertToInteractive(key) {\n",
              "          const element = document.querySelector('#df-f067654f-0f9e-45b5-891c-a595e555b44c');\n",
              "          const dataTable =\n",
              "            await google.colab.kernel.invokeFunction('convertToInteractive',\n",
              "                                                     [key], {});\n",
              "          if (!dataTable) return;\n",
              "\n",
              "          const docLinkHtml = 'Like what you see? Visit the ' +\n",
              "            '<a target=\"_blank\" href=https://colab.research.google.com/notebooks/data_table.ipynb>data table notebook</a>'\n",
              "            + ' to learn more about interactive tables.';\n",
              "          element.innerHTML = '';\n",
              "          dataTable['output_type'] = 'display_data';\n",
              "          await google.colab.output.renderOutput(dataTable, element);\n",
              "          const docLink = document.createElement('div');\n",
              "          docLink.innerHTML = docLinkHtml;\n",
              "          element.appendChild(docLink);\n",
              "        }\n",
              "      </script>\n",
              "    </div>\n",
              "  </div>\n",
              "  "
            ]
          },
          "metadata": {},
          "execution_count": 23
        }
      ]
    },
    {
      "cell_type": "markdown",
      "source": [
        "# check the null values"
      ],
      "metadata": {
        "id": "N73rxGu-4YPG"
      }
    },
    {
      "cell_type": "code",
      "source": [
        "# the isnull function is determine the any null value is present in dataset or not\n",
        "df.isnull().sum()"
      ],
      "metadata": {
        "colab": {
          "base_uri": "https://localhost:8080/"
        },
        "id": "B4fWrSHguUfM",
        "outputId": "fc3264bc-844a-4cdc-9ae3-189e1683b3b6"
      },
      "execution_count": null,
      "outputs": [
        {
          "output_type": "execute_result",
          "data": {
            "text/plain": [
              "gender             0\n",
              "ssc_p              0\n",
              "ssc_b              0\n",
              "hsc_p              0\n",
              "hsc_b              0\n",
              "hsc_s              0\n",
              "degree_p           0\n",
              "degree_t           0\n",
              "workex             0\n",
              "etest_p            0\n",
              "specialisation     0\n",
              "mba_p              0\n",
              "status             0\n",
              "salary            67\n",
              "dtype: int64"
            ]
          },
          "metadata": {},
          "execution_count": 25
        }
      ]
    },
    {
      "cell_type": "code",
      "source": [
        "# the skew function is determine the outlier in dataset in easy manner\n",
        "df.skew()"
      ],
      "metadata": {
        "colab": {
          "base_uri": "https://localhost:8080/"
        },
        "id": "2-36aqSyuWoV",
        "outputId": "97ae8eaa-2229-4261-9e53-1695f9a55f12"
      },
      "execution_count": null,
      "outputs": [
        {
          "output_type": "stream",
          "name": "stderr",
          "text": [
            "<ipython-input-26-9e0b1e29546f>:1: FutureWarning: Dropping of nuisance columns in DataFrame reductions (with 'numeric_only=None') is deprecated; in a future version this will raise TypeError.  Select only valid columns before calling the reduction.\n",
            "  df.skew()\n"
          ]
        },
        {
          "output_type": "execute_result",
          "data": {
            "text/plain": [
              "ssc_p      -0.132649\n",
              "hsc_p       0.163639\n",
              "degree_p    0.244917\n",
              "etest_p     0.282308\n",
              "mba_p       0.313576\n",
              "salary      3.569747\n",
              "dtype: float64"
            ]
          },
          "metadata": {},
          "execution_count": 26
        }
      ]
    },
    {
      "cell_type": "code",
      "source": [
        "df[\"salary\"].mean()"
      ],
      "metadata": {
        "colab": {
          "base_uri": "https://localhost:8080/"
        },
        "id": "ZBbpoLcqukSn",
        "outputId": "5e42e3dc-8693-48fe-9bbe-8f59a559a80b"
      },
      "execution_count": null,
      "outputs": [
        {
          "output_type": "execute_result",
          "data": {
            "text/plain": [
              "288655.4054054054"
            ]
          },
          "metadata": {},
          "execution_count": 27
        }
      ]
    },
    {
      "cell_type": "code",
      "source": [
        "df[\"salary\"].median()"
      ],
      "metadata": {
        "colab": {
          "base_uri": "https://localhost:8080/"
        },
        "id": "9F0yZMJ-umvo",
        "outputId": "e97a66b0-a593-4ca9-987c-d4db5a7bd54f"
      },
      "execution_count": null,
      "outputs": [
        {
          "output_type": "execute_result",
          "data": {
            "text/plain": [
              "265000.0"
            ]
          },
          "metadata": {},
          "execution_count": 28
        }
      ]
    },
    {
      "cell_type": "code",
      "source": [
        "# the fillna function is fill the null value in dataset\n",
        "df[\"salary\"].fillna(df[\"salary\"].median(),inplace=True)"
      ],
      "metadata": {
        "id": "E4YtNKy0upwA"
      },
      "execution_count": null,
      "outputs": []
    },
    {
      "cell_type": "code",
      "source": [
        "df.isnull().sum()"
      ],
      "metadata": {
        "colab": {
          "base_uri": "https://localhost:8080/"
        },
        "id": "NTkpiiD2us1J",
        "outputId": "94f60f5e-097a-4d2f-eb2d-447b074e2d36"
      },
      "execution_count": null,
      "outputs": [
        {
          "output_type": "execute_result",
          "data": {
            "text/plain": [
              "gender            0\n",
              "ssc_p             0\n",
              "ssc_b             0\n",
              "hsc_p             0\n",
              "hsc_b             0\n",
              "hsc_s             0\n",
              "degree_p          0\n",
              "degree_t          0\n",
              "workex            0\n",
              "etest_p           0\n",
              "specialisation    0\n",
              "mba_p             0\n",
              "status            0\n",
              "salary            0\n",
              "dtype: int64"
            ]
          },
          "metadata": {},
          "execution_count": 30
        }
      ]
    },
    {
      "cell_type": "code",
      "source": [
        "#outlier"
      ],
      "metadata": {
        "id": "a6q-sBbHuvYW"
      },
      "execution_count": null,
      "outputs": []
    },
    {
      "cell_type": "code",
      "source": [
        "df.skew()"
      ],
      "metadata": {
        "colab": {
          "base_uri": "https://localhost:8080/"
        },
        "id": "ZppUpvm2uyMm",
        "outputId": "b72ba92b-04e5-4ef6-d6b6-764ec7020bb1"
      },
      "execution_count": null,
      "outputs": [
        {
          "output_type": "stream",
          "name": "stderr",
          "text": [
            "<ipython-input-32-9e0b1e29546f>:1: FutureWarning: Dropping of nuisance columns in DataFrame reductions (with 'numeric_only=None') is deprecated; in a future version this will raise TypeError.  Select only valid columns before calling the reduction.\n",
            "  df.skew()\n"
          ]
        },
        {
          "output_type": "execute_result",
          "data": {
            "text/plain": [
              "ssc_p      -0.132649\n",
              "hsc_p       0.163639\n",
              "degree_p    0.244917\n",
              "etest_p     0.282308\n",
              "mba_p       0.313576\n",
              "salary      4.440111\n",
              "dtype: float64"
            ]
          },
          "metadata": {},
          "execution_count": 32
        }
      ]
    },
    {
      "cell_type": "code",
      "source": [
        "df[\"salary\"]=np.log(df[\"salary\"])\n",
        "df[\"salary\"].skew()"
      ],
      "metadata": {
        "colab": {
          "base_uri": "https://localhost:8080/"
        },
        "id": "n1YRfSwfu0ts",
        "outputId": "cd6654d2-00ca-4298-bb40-1956a1f7fb15"
      },
      "execution_count": null,
      "outputs": [
        {
          "output_type": "execute_result",
          "data": {
            "text/plain": [
              "2.3169520110476736"
            ]
          },
          "metadata": {},
          "execution_count": 33
        }
      ]
    },
    {
      "cell_type": "markdown",
      "source": [
        "#explorator data analysis"
      ],
      "metadata": {
        "id": "VvzIm1Ch5O6p"
      }
    },
    {
      "cell_type": "code",
      "source": [
        "# this visual to represent the how many are placed and not placed\n",
        "sns.countplot(df[\"status\"],palette='plasma')"
      ],
      "metadata": {
        "colab": {
          "base_uri": "https://localhost:8080/",
          "height": 351
        },
        "id": "KvVKShlavCsJ",
        "outputId": "f00dfc0c-7ff6-476d-a1b8-d129515089a0"
      },
      "execution_count": null,
      "outputs": [
        {
          "output_type": "stream",
          "name": "stderr",
          "text": [
            "/usr/local/lib/python3.8/dist-packages/seaborn/_decorators.py:36: FutureWarning: Pass the following variable as a keyword arg: x. From version 0.12, the only valid positional argument will be `data`, and passing other arguments without an explicit keyword will result in an error or misinterpretation.\n",
            "  warnings.warn(\n"
          ]
        },
        {
          "output_type": "execute_result",
          "data": {
            "text/plain": [
              "<matplotlib.axes._subplots.AxesSubplot at 0x7f9bba8052e0>"
            ]
          },
          "metadata": {},
          "execution_count": 35
        },
        {
          "output_type": "display_data",
          "data": {
            "text/plain": [
              "<Figure size 432x288 with 1 Axes>"
            ],
            "image/png": "[encoded data removed]"
          },
          "metadata": {
            "needs_background": "light"
          }
        }
      ]
    },
    {
      "cell_type": "code",
      "source": [
        "# this visual is represent how many take the commerce and management, science and technology, other course in the degree in which they studied\n",
        "df.groupby(['degree_t'])['status'].count().plot(kind = 'bar',color = 'magenta')\n",
        "plt.show()"
      ],
      "metadata": {
        "colab": {
          "base_uri": "https://localhost:8080/",
          "height": 339
        },
        "id": "JwZ1KqJgvGUe",
        "outputId": "19b1c709-3f4b-4357-934c-47c10db8c71b"
      },
      "execution_count": null,
      "outputs": [
        {
          "output_type": "display_data",
          "data": {
            "text/plain": [
              "<Figure size 432x288 with 1 Axes>"
            ],
            "image/png": "[encoded data removed]"
          },
          "metadata": {
            "needs_background": "light"
          }
        }
      ]
    },
    {
      "cell_type": "code",
      "source": [
        "# this visual is represent how many take the marking and finciance, marking and HR, other course in the degree in which they studied\n",
        "df.groupby(['specialisation'])['status'].count().plot(kind = 'bar',color = 'magenta')\n",
        "plt.show()"
      ],
      "metadata": {
        "colab": {
          "base_uri": "https://localhost:8080/",
          "height": 310
        },
        "id": "J3APtKmCvI-C",
        "outputId": "7dae1130-73e4-42a1-ff68-f15a9b131c25"
      },
      "execution_count": null,
      "outputs": [
        {
          "output_type": "display_data",
          "data": {
            "text/plain": [
              "<Figure size 432x288 with 1 Axes>"
            ],
            "image/png": "[encoded data removed]"
          },
          "metadata": {
            "needs_background": "light"
          }
        }
      ]
    },
    {
      "cell_type": "code",
      "source": [
        "# this visual is represent the weight of male and female\n",
        "df.groupby(['gender'])['status'].count().plot(kind = 'pie',autopct='%1.0f%%')\n",
        "plt.show()"
      ],
      "metadata": {
        "colab": {
          "base_uri": "https://localhost:8080/",
          "height": 248
        },
        "id": "EsivzYyzvOGz",
        "outputId": "1ab64cb6-8586-40ba-9762-127cb2985419"
      },
      "execution_count": null,
      "outputs": [
        {
          "output_type": "display_data",
          "data": {
            "text/plain": [
              "<Figure size 432x288 with 1 Axes>"
            ],
            "image/png": "[encoded data removed]"
          },
          "metadata": {}
        }
      ]
    },
    {
      "cell_type": "code",
      "source": [
        "# this visual is represent the course wieght that are take in higher secondary\n",
        " df.groupby(['hsc_s'])['status'].count().plot(kind = 'pie',autopct='%1.0f%%',figsize=(15,7))\n",
        "plt.show()"
      ],
      "metadata": {
        "colab": {
          "base_uri": "https://localhost:8080/",
          "height": 411
        },
        "id": "foYZioMrvQ9y",
        "outputId": "919874aa-ebf4-4746-93d7-88a1e3aebc72"
      },
      "execution_count": null,
      "outputs": [
        {
          "output_type": "display_data",
          "data": {
            "text/plain": [
              "<Figure size 1080x504 with 1 Axes>"
            ],
            "image/png": "[encoded data removed]"
          },
          "metadata": {}
        }
      ]
    },
    {
      "cell_type": "code",
      "source": [
        "df.head()"
      ],
      "metadata": {
        "colab": {
          "base_uri": "https://localhost:8080/",
          "height": 206
        },
        "id": "8ZIsvC3_vibd",
        "outputId": "6c7acc99-bd4e-447f-9efc-6f00883993b2"
      },
      "execution_count": null,
      "outputs": [
        {
          "output_type": "execute_result",
          "data": {
            "text/plain": [
              "  gender  ssc_p    ssc_b  hsc_p    hsc_b     hsc_s  degree_p   degree_t  \\\n",
              "0      M  67.00   Others  91.00   Others  Commerce     58.00   Sci&Tech   \n",
              "1      M  79.33  Central  78.33   Others   Science     77.48   Sci&Tech   \n",
              "2      M  65.00  Central  68.00  Central      Arts     64.00  Comm&Mgmt   \n",
              "3      M  56.00  Central  52.00  Central   Science     52.00   Sci&Tech   \n",
              "4      M  85.80  Central  73.60  Central  Commerce     73.30  Comm&Mgmt   \n",
              "\n",
              "  workex  etest_p specialisation  mba_p      status     salary  \n",
              "0     No     55.0         Mkt&HR  58.80      Placed  12.506177  \n",
              "1    Yes     86.5        Mkt&Fin  66.28      Placed  12.206073  \n",
              "2     No     75.0        Mkt&Fin  57.80      Placed  12.429216  \n",
              "3     No     66.0         Mkt&HR  59.43  Not Placed  12.487485  \n",
              "4     No     96.8        Mkt&Fin  55.50      Placed  12.959844  "
            ],
            "text/html": [
              "\n",
              "  <div id=\"df-f5c1008c-1737-4a52-97ff-7b2dfb9a491b\">\n",
              "    <div class=\"colab-df-container\">\n",
              "      <div>\n",
              "<style scoped>\n",
              "    .dataframe tbody tr th:only-of-type {\n",
              "        vertical-align: middle;\n",
              "    }\n",
              "\n",
              "    .dataframe tbody tr th {\n",
              "        vertical-align: top;\n",
              "    }\n",
              "\n",
              "    .dataframe thead th {\n",
              "        text-align: right;\n",
              "    }\n",
              "</style>\n",
              "<table border=\"1\" class=\"dataframe\">\n",
              "  <thead>\n",
              "    <tr style=\"text-align: right;\">\n",
              "      <th></th>\n",
              "      <th>gender</th>\n",
              "      <th>ssc_p</th>\n",
              "      <th>ssc_b</th>\n",
              "      <th>hsc_p</th>\n",
              "      <th>hsc_b</th>\n",
              "      <th>hsc_s</th>\n",
              "      <th>degree_p</th>\n",
              "      <th>degree_t</th>\n",
              "      <th>workex</th>\n",
              "      <th>etest_p</th>\n",
              "      <th>specialisation</th>\n",
              "      <th>mba_p</th>\n",
              "      <th>status</th>\n",
              "      <th>salary</th>\n",
              "    </tr>\n",
              "  </thead>\n",
              "  <tbody>\n",
              "    <tr>\n",
              "      <th>0</th>\n",
              "      <td>M</td>\n",
              "      <td>67.00</td>\n",
              "      <td>Others</td>\n",
              "      <td>91.00</td>\n",
              "      <td>Others</td>\n",
              "      <td>Commerce</td>\n",
              "      <td>58.00</td>\n",
              "      <td>Sci&amp;Tech</td>\n",
              "      <td>No</td>\n",
              "      <td>55.0</td>\n",
              "      <td>Mkt&amp;HR</td>\n",
              "      <td>58.80</td>\n",
              "      <td>Placed</td>\n",
              "      <td>12.506177</td>\n",
              "    </tr>\n",
              "    <tr>\n",
              "      <th>1</th>\n",
              "      <td>M</td>\n",
              "      <td>79.33</td>\n",
              "      <td>Central</td>\n",
              "      <td>78.33</td>\n",
              "      <td>Others</td>\n",
              "      <td>Science</td>\n",
              "      <td>77.48</td>\n",
              "      <td>Sci&amp;Tech</td>\n",
              "      <td>Yes</td>\n",
              "      <td>86.5</td>\n",
              "      <td>Mkt&amp;Fin</td>\n",
              "      <td>66.28</td>\n",
              "      <td>Placed</td>\n",
              "      <td>12.206073</td>\n",
              "    </tr>\n",
              "    <tr>\n",
              "      <th>2</th>\n",
              "      <td>M</td>\n",
              "      <td>65.00</td>\n",
              "      <td>Central</td>\n",
              "      <td>68.00</td>\n",
              "      <td>Central</td>\n",
              "      <td>Arts</td>\n",
              "      <td>64.00</td>\n",
              "      <td>Comm&amp;Mgmt</td>\n",
              "      <td>No</td>\n",
              "      <td>75.0</td>\n",
              "      <td>Mkt&amp;Fin</td>\n",
              "      <td>57.80</td>\n",
              "      <td>Placed</td>\n",
              "      <td>12.429216</td>\n",
              "    </tr>\n",
              "    <tr>\n",
              "      <th>3</th>\n",
              "      <td>M</td>\n",
              "      <td>56.00</td>\n",
              "      <td>Central</td>\n",
              "      <td>52.00</td>\n",
              "      <td>Central</td>\n",
              "      <td>Science</td>\n",
              "      <td>52.00</td>\n",
              "      <td>Sci&amp;Tech</td>\n",
              "      <td>No</td>\n",
              "      <td>66.0</td>\n",
              "      <td>Mkt&amp;HR</td>\n",
              "      <td>59.43</td>\n",
              "      <td>Not Placed</td>\n",
              "      <td>12.487485</td>\n",
              "    </tr>\n",
              "    <tr>\n",
              "      <th>4</th>\n",
              "      <td>M</td>\n",
              "      <td>85.80</td>\n",
              "      <td>Central</td>\n",
              "      <td>73.60</td>\n",
              "      <td>Central</td>\n",
              "      <td>Commerce</td>\n",
              "      <td>73.30</td>\n",
              "      <td>Comm&amp;Mgmt</td>\n",
              "      <td>No</td>\n",
              "      <td>96.8</td>\n",
              "      <td>Mkt&amp;Fin</td>\n",
              "      <td>55.50</td>\n",
              "      <td>Placed</td>\n",
              "      <td>12.959844</td>\n",
              "    </tr>\n",
              "  </tbody>\n",
              "</table>\n",
              "</div>\n",
              "      <button class=\"colab-df-convert\" onclick=\"convertToInteractive('df-f5c1008c-1737-4a52-97ff-7b2dfb9a491b')\"\n",
              "              title=\"Convert this dataframe to an interactive table.\"\n",
              "              style=\"display:none;\">\n",
              "        \n",
              "  <svg xmlns=\"http://www.w3.org/2000/svg\" height=\"24px\"viewBox=\"0 0 24 24\"\n",
              "       width=\"24px\">\n",
              "    <path d=\"M0 0h24v24H0V0z\" fill=\"none\"/>\n",
              "    <path d=\"M18.56 5.44l.94 2.06.94-2.06 2.06-.94-2.06-.94-.94-2.06-.94 2.06-2.06.94zm-11 1L8.5 8.5l.94-2.06 2.06-.94-2.06-.94L8.5 2.5l-.94 2.06-2.06.94zm10 10l.94 2.06.94-2.06 2.06-.94-2.06-.94-.94-2.06-.94 2.06-2.06.94z\"/><path d=\"M17.41 7.96l-1.37-1.37c-.4-.4-.92-.59-1.43-.59-.52 0-1.04.2-1.43.59L10.3 9.45l-7.72 7.72c-.78.78-.78 2.05 0 2.83L4 21.41c.39.39.9.59 1.41.59.51 0 1.02-.2 1.41-.59l7.78-7.78 2.81-2.81c.8-.78.8-2.07 0-2.86zM5.41 20L4 18.59l7.72-7.72 1.47 1.35L5.41 20z\"/>\n",
              "  </svg>\n",
              "      </button>\n",
              "      \n",
              "  <style>\n",
              "    .colab-df-container {\n",
              "      display:flex;\n",
              "      flex-wrap:wrap;\n",
              "      gap: 12px;\n",
              "    }\n",
              "\n",
              "    .colab-df-convert {\n",
              "      background-color: #E8F0FE;\n",
              "      border: none;\n",
              "      border-radius: 50%;\n",
              "      cursor: pointer;\n",
              "      display: none;\n",
              "      fill: #1967D2;\n",
              "      height: 32px;\n",
              "      padding: 0 0 0 0;\n",
              "      width: 32px;\n",
              "    }\n",
              "\n",
              "    .colab-df-convert:hover {\n",
              "      background-color: #E2EBFA;\n",
              "      box-shadow: 0px 1px 2px rgba(60, 64, 67, 0.3), 0px 1px 3px 1px rgba(60, 64, 67, 0.15);\n",
              "      fill: #174EA6;\n",
              "    }\n",
              "\n",
              "    [theme=dark] .colab-df-convert {\n",
              "      background-color: #3B4455;\n",
              "      fill: #D2E3FC;\n",
              "    }\n",
              "\n",
              "    [theme=dark] .colab-df-convert:hover {\n",
              "      background-color: #434B5C;\n",
              "      box-shadow: 0px 1px 3px 1px rgba(0, 0, 0, 0.15);\n",
              "      filter: drop-shadow(0px 1px 2px rgba(0, 0, 0, 0.3));\n",
              "      fill: #FFFFFF;\n",
              "    }\n",
              "  </style>\n",
              "\n",
              "      <script>\n",
              "        const buttonEl =\n",
              "          document.querySelector('#df-f5c1008c-1737-4a52-97ff-7b2dfb9a491b button.colab-df-convert');\n",
              "        buttonEl.style.display =\n",
              "          google.colab.kernel.accessAllowed ? 'block' : 'none';\n",
              "\n",
              "        async function convertToInteractive(key) {\n",
              "          const element = document.querySelector('#df-f5c1008c-1737-4a52-97ff-7b2dfb9a491b');\n",
              "          const dataTable =\n",
              "            await google.colab.kernel.invokeFunction('convertToInteractive',\n",
              "                                                     [key], {});\n",
              "          if (!dataTable) return;\n",
              "\n",
              "          const docLinkHtml = 'Like what you see? Visit the ' +\n",
              "            '<a target=\"_blank\" href=https://colab.research.google.com/notebooks/data_table.ipynb>data table notebook</a>'\n",
              "            + ' to learn more about interactive tables.';\n",
              "          element.innerHTML = '';\n",
              "          dataTable['output_type'] = 'display_data';\n",
              "          await google.colab.output.renderOutput(dataTable, element);\n",
              "          const docLink = document.createElement('div');\n",
              "          docLink.innerHTML = docLinkHtml;\n",
              "          element.appendChild(docLink);\n",
              "        }\n",
              "      </script>\n",
              "    </div>\n",
              "  </div>\n",
              "  "
            ]
          },
          "metadata": {},
          "execution_count": 40
        }
      ]
    },
    {
      "cell_type": "code",
      "source": [
        "#Encode target labels with value between 0 and n_classes-1.\n",
        "\n",
        "#This transformer should be used to encode target values, i.e. y, and not the input X.\n",
        "\n",
        "from sklearn.preprocessing import LabelEncoder\n",
        "col=[\"gender\",\"ssc_b\",\"hsc_b\",\"specialisation\",\"status\"]\n",
        "label_encoder= LabelEncoder()\n",
        "for x in col:\n",
        "  df[x]=label_encoder.fit_transform(df[x])\n"
      ],
      "metadata": {
        "id": "ywEpuoDPvoSG"
      },
      "execution_count": null,
      "outputs": []
    },
    {
      "cell_type": "code",
      "source": [
        "df.head()"
      ],
      "metadata": {
        "colab": {
          "base_uri": "https://localhost:8080/",
          "height": 206
        },
        "id": "W94SvqbUv0Rk",
        "outputId": "187c03aa-f2d8-47d1-a132-ed23bcf85cae"
      },
      "execution_count": null,
      "outputs": [
        {
          "output_type": "execute_result",
          "data": {
            "text/plain": [
              "   gender  ssc_p  ssc_b  hsc_p  hsc_b     hsc_s  degree_p   degree_t workex  \\\n",
              "0       1  67.00      1  91.00      1  Commerce     58.00   Sci&Tech     No   \n",
              "1       1  79.33      0  78.33      1   Science     77.48   Sci&Tech    Yes   \n",
              "2       1  65.00      0  68.00      0      Arts     64.00  Comm&Mgmt     No   \n",
              "3       1  56.00      0  52.00      0   Science     52.00   Sci&Tech     No   \n",
              "4       1  85.80      0  73.60      0  Commerce     73.30  Comm&Mgmt     No   \n",
              "\n",
              "   etest_p  specialisation  mba_p  status     salary  \n",
              "0     55.0               1  58.80       1  12.506177  \n",
              "1     86.5               0  66.28       1  12.206073  \n",
              "2     75.0               0  57.80       1  12.429216  \n",
              "3     66.0               1  59.43       0  12.487485  \n",
              "4     96.8               0  55.50       1  12.959844  "
            ],
            "text/html": [
              "\n",
              "  <div id=\"df-13cffdf7-1b0a-440c-93f2-05a8a9409c0b\">\n",
              "    <div class=\"colab-df-container\">\n",
              "      <div>\n",
              "<style scoped>\n",
              "    .dataframe tbody tr th:only-of-type {\n",
              "        vertical-align: middle;\n",
              "    }\n",
              "\n",
              "    .dataframe tbody tr th {\n",
              "        vertical-align: top;\n",
              "    }\n",
              "\n",
              "    .dataframe thead th {\n",
              "        text-align: right;\n",
              "    }\n",
              "</style>\n",
              "<table border=\"1\" class=\"dataframe\">\n",
              "  <thead>\n",
              "    <tr style=\"text-align: right;\">\n",
              "      <th></th>\n",
              "      <th>gender</th>\n",
              "      <th>ssc_p</th>\n",
              "      <th>ssc_b</th>\n",
              "      <th>hsc_p</th>\n",
              "      <th>hsc_b</th>\n",
              "      <th>hsc_s</th>\n",
              "      <th>degree_p</th>\n",
              "      <th>degree_t</th>\n",
              "      <th>workex</th>\n",
              "      <th>etest_p</th>\n",
              "      <th>specialisation</th>\n",
              "      <th>mba_p</th>\n",
              "      <th>status</th>\n",
              "      <th>salary</th>\n",
              "    </tr>\n",
              "  </thead>\n",
              "  <tbody>\n",
              "    <tr>\n",
              "      <th>0</th>\n",
              "      <td>1</td>\n",
              "      <td>67.00</td>\n",
              "      <td>1</td>\n",
              "      <td>91.00</td>\n",
              "      <td>1</td>\n",
              "      <td>Commerce</td>\n",
              "      <td>58.00</td>\n",
              "      <td>Sci&amp;Tech</td>\n",
              "      <td>No</td>\n",
              "      <td>55.0</td>\n",
              "      <td>1</td>\n",
              "      <td>58.80</td>\n",
              "      <td>1</td>\n",
              "      <td>12.506177</td>\n",
              "    </tr>\n",
              "    <tr>\n",
              "      <th>1</th>\n",
              "      <td>1</td>\n",
              "      <td>79.33</td>\n",
              "      <td>0</td>\n",
              "      <td>78.33</td>\n",
              "      <td>1</td>\n",
              "      <td>Science</td>\n",
              "      <td>77.48</td>\n",
              "      <td>Sci&amp;Tech</td>\n",
              "      <td>Yes</td>\n",
              "      <td>86.5</td>\n",
              "      <td>0</td>\n",
              "      <td>66.28</td>\n",
              "      <td>1</td>\n",
              "      <td>12.206073</td>\n",
              "    </tr>\n",
              "    <tr>\n",
              "      <th>2</th>\n",
              "      <td>1</td>\n",
              "      <td>65.00</td>\n",
              "      <td>0</td>\n",
              "      <td>68.00</td>\n",
              "      <td>0</td>\n",
              "      <td>Arts</td>\n",
              "      <td>64.00</td>\n",
              "      <td>Comm&amp;Mgmt</td>\n",
              "      <td>No</td>\n",
              "      <td>75.0</td>\n",
              "      <td>0</td>\n",
              "      <td>57.80</td>\n",
              "      <td>1</td>\n",
              "      <td>12.429216</td>\n",
              "    </tr>\n",
              "    <tr>\n",
              "      <th>3</th>\n",
              "      <td>1</td>\n",
              "      <td>56.00</td>\n",
              "      <td>0</td>\n",
              "      <td>52.00</td>\n",
              "      <td>0</td>\n",
              "      <td>Science</td>\n",
              "      <td>52.00</td>\n",
              "      <td>Sci&amp;Tech</td>\n",
              "      <td>No</td>\n",
              "      <td>66.0</td>\n",
              "      <td>1</td>\n",
              "      <td>59.43</td>\n",
              "      <td>0</td>\n",
              "      <td>12.487485</td>\n",
              "    </tr>\n",
              "    <tr>\n",
              "      <th>4</th>\n",
              "      <td>1</td>\n",
              "      <td>85.80</td>\n",
              "      <td>0</td>\n",
              "      <td>73.60</td>\n",
              "      <td>0</td>\n",
              "      <td>Commerce</td>\n",
              "      <td>73.30</td>\n",
              "      <td>Comm&amp;Mgmt</td>\n",
              "      <td>No</td>\n",
              "      <td>96.8</td>\n",
              "      <td>0</td>\n",
              "      <td>55.50</td>\n",
              "      <td>1</td>\n",
              "      <td>12.959844</td>\n",
              "    </tr>\n",
              "  </tbody>\n",
              "</table>\n",
              "</div>\n",
              "      <button class=\"colab-df-convert\" onclick=\"convertToInteractive('df-13cffdf7-1b0a-440c-93f2-05a8a9409c0b')\"\n",
              "              title=\"Convert this dataframe to an interactive table.\"\n",
              "              style=\"display:none;\">\n",
              "        \n",
              "  <svg xmlns=\"http://www.w3.org/2000/svg\" height=\"24px\"viewBox=\"0 0 24 24\"\n",
              "       width=\"24px\">\n",
              "    <path d=\"M0 0h24v24H0V0z\" fill=\"none\"/>\n",
              "    <path d=\"M18.56 5.44l.94 2.06.94-2.06 2.06-.94-2.06-.94-.94-2.06-.94 2.06-2.06.94zm-11 1L8.5 8.5l.94-2.06 2.06-.94-2.06-.94L8.5 2.5l-.94 2.06-2.06.94zm10 10l.94 2.06.94-2.06 2.06-.94-2.06-.94-.94-2.06-.94 2.06-2.06.94z\"/><path d=\"M17.41 7.96l-1.37-1.37c-.4-.4-.92-.59-1.43-.59-.52 0-1.04.2-1.43.59L10.3 9.45l-7.72 7.72c-.78.78-.78 2.05 0 2.83L4 21.41c.39.39.9.59 1.41.59.51 0 1.02-.2 1.41-.59l7.78-7.78 2.81-2.81c.8-.78.8-2.07 0-2.86zM5.41 20L4 18.59l7.72-7.72 1.47 1.35L5.41 20z\"/>\n",
              "  </svg>\n",
              "      </button>\n",
              "      \n",
              "  <style>\n",
              "    .colab-df-container {\n",
              "      display:flex;\n",
              "      flex-wrap:wrap;\n",
              "      gap: 12px;\n",
              "    }\n",
              "\n",
              "    .colab-df-convert {\n",
              "      background-color: #E8F0FE;\n",
              "      border: none;\n",
              "      border-radius: 50%;\n",
              "      cursor: pointer;\n",
              "      display: none;\n",
              "      fill: #1967D2;\n",
              "      height: 32px;\n",
              "      padding: 0 0 0 0;\n",
              "      width: 32px;\n",
              "    }\n",
              "\n",
              "    .colab-df-convert:hover {\n",
              "      background-color: #E2EBFA;\n",
              "      box-shadow: 0px 1px 2px rgba(60, 64, 67, 0.3), 0px 1px 3px 1px rgba(60, 64, 67, 0.15);\n",
              "      fill: #174EA6;\n",
              "    }\n",
              "\n",
              "    [theme=dark] .colab-df-convert {\n",
              "      background-color: #3B4455;\n",
              "      fill: #D2E3FC;\n",
              "    }\n",
              "\n",
              "    [theme=dark] .colab-df-convert:hover {\n",
              "      background-color: #434B5C;\n",
              "      box-shadow: 0px 1px 3px 1px rgba(0, 0, 0, 0.15);\n",
              "      filter: drop-shadow(0px 1px 2px rgba(0, 0, 0, 0.3));\n",
              "      fill: #FFFFFF;\n",
              "    }\n",
              "  </style>\n",
              "\n",
              "      <script>\n",
              "        const buttonEl =\n",
              "          document.querySelector('#df-13cffdf7-1b0a-440c-93f2-05a8a9409c0b button.colab-df-convert');\n",
              "        buttonEl.style.display =\n",
              "          google.colab.kernel.accessAllowed ? 'block' : 'none';\n",
              "\n",
              "        async function convertToInteractive(key) {\n",
              "          const element = document.querySelector('#df-13cffdf7-1b0a-440c-93f2-05a8a9409c0b');\n",
              "          const dataTable =\n",
              "            await google.colab.kernel.invokeFunction('convertToInteractive',\n",
              "                                                     [key], {});\n",
              "          if (!dataTable) return;\n",
              "\n",
              "          const docLinkHtml = 'Like what you see? Visit the ' +\n",
              "            '<a target=\"_blank\" href=https://colab.research.google.com/notebooks/data_table.ipynb>data table notebook</a>'\n",
              "            + ' to learn more about interactive tables.';\n",
              "          element.innerHTML = '';\n",
              "          dataTable['output_type'] = 'display_data';\n",
              "          await google.colab.output.renderOutput(dataTable, element);\n",
              "          const docLink = document.createElement('div');\n",
              "          docLink.innerHTML = docLinkHtml;\n",
              "          element.appendChild(docLink);\n",
              "        }\n",
              "      </script>\n",
              "    </div>\n",
              "  </div>\n",
              "  "
            ]
          },
          "metadata": {},
          "execution_count": 42
        }
      ]
    },
    {
      "cell_type": "code",
      "source": [
        "# the replace function is replace the old value by new value\n",
        "df[\"hsc_s\"].replace(\"Commerce\",1,inplace=True)\n",
        "df[\"hsc_s\"].replace(\"Science\",2,inplace=True)\n",
        "df[\"hsc_s\"].replace(\"Arts\",3,inplace=True)"
      ],
      "metadata": {
        "id": "UeAuO7vCv7J8"
      },
      "execution_count": null,
      "outputs": []
    },
    {
      "cell_type": "code",
      "source": [
        "df[\"degree_t\"].replace(\"Sci&Tech\",1,inplace=True)\n",
        "df[\"degree_t\"].replace(\"Comm&Mgmt\",2,inplace=True)\n",
        "df[\"degree_t\"].replace(\"Others\",3,inplace=True)"
      ],
      "metadata": {
        "id": "BdH8XQB0wa9a"
      },
      "execution_count": null,
      "outputs": []
    },
    {
      "cell_type": "code",
      "source": [
        "df.head()"
      ],
      "metadata": {
        "colab": {
          "base_uri": "https://localhost:8080/",
          "height": 206
        },
        "id": "kAKP1a-BwFmI",
        "outputId": "853d587a-2618-4710-ecac-342631b357d8"
      },
      "execution_count": null,
      "outputs": [
        {
          "output_type": "execute_result",
          "data": {
            "text/plain": [
              "   gender  ssc_p  ssc_b  hsc_p  hsc_b  hsc_s  degree_p  degree_t workex  \\\n",
              "0       1  67.00      1  91.00      1      1     58.00         1     No   \n",
              "1       1  79.33      0  78.33      1      2     77.48         1    Yes   \n",
              "2       1  65.00      0  68.00      0      3     64.00         2     No   \n",
              "3       1  56.00      0  52.00      0      2     52.00         1     No   \n",
              "4       1  85.80      0  73.60      0      1     73.30         2     No   \n",
              "\n",
              "   etest_p  specialisation  mba_p  status     salary  \n",
              "0     55.0               1  58.80       1  12.506177  \n",
              "1     86.5               0  66.28       1  12.206073  \n",
              "2     75.0               0  57.80       1  12.429216  \n",
              "3     66.0               1  59.43       0  12.487485  \n",
              "4     96.8               0  55.50       1  12.959844  "
            ],
            "text/html": [
              "\n",
              "  <div id=\"df-f611ef2e-f720-41ec-9022-2f58c4997f3a\">\n",
              "    <div class=\"colab-df-container\">\n",
              "      <div>\n",
              "<style scoped>\n",
              "    .dataframe tbody tr th:only-of-type {\n",
              "        vertical-align: middle;\n",
              "    }\n",
              "\n",
              "    .dataframe tbody tr th {\n",
              "        vertical-align: top;\n",
              "    }\n",
              "\n",
              "    .dataframe thead th {\n",
              "        text-align: right;\n",
              "    }\n",
              "</style>\n",
              "<table border=\"1\" class=\"dataframe\">\n",
              "  <thead>\n",
              "    <tr style=\"text-align: right;\">\n",
              "      <th></th>\n",
              "      <th>gender</th>\n",
              "      <th>ssc_p</th>\n",
              "      <th>ssc_b</th>\n",
              "      <th>hsc_p</th>\n",
              "      <th>hsc_b</th>\n",
              "      <th>hsc_s</th>\n",
              "      <th>degree_p</th>\n",
              "      <th>degree_t</th>\n",
              "      <th>workex</th>\n",
              "      <th>etest_p</th>\n",
              "      <th>specialisation</th>\n",
              "      <th>mba_p</th>\n",
              "      <th>status</th>\n",
              "      <th>salary</th>\n",
              "    </tr>\n",
              "  </thead>\n",
              "  <tbody>\n",
              "    <tr>\n",
              "      <th>0</th>\n",
              "      <td>1</td>\n",
              "      <td>67.00</td>\n",
              "      <td>1</td>\n",
              "      <td>91.00</td>\n",
              "      <td>1</td>\n",
              "      <td>1</td>\n",
              "      <td>58.00</td>\n",
              "      <td>1</td>\n",
              "      <td>No</td>\n",
              "      <td>55.0</td>\n",
              "      <td>1</td>\n",
              "      <td>58.80</td>\n",
              "      <td>1</td>\n",
              "      <td>12.506177</td>\n",
              "    </tr>\n",
              "    <tr>\n",
              "      <th>1</th>\n",
              "      <td>1</td>\n",
              "      <td>79.33</td>\n",
              "      <td>0</td>\n",
              "      <td>78.33</td>\n",
              "      <td>1</td>\n",
              "      <td>2</td>\n",
              "      <td>77.48</td>\n",
              "      <td>1</td>\n",
              "      <td>Yes</td>\n",
              "      <td>86.5</td>\n",
              "      <td>0</td>\n",
              "      <td>66.28</td>\n",
              "      <td>1</td>\n",
              "      <td>12.206073</td>\n",
              "    </tr>\n",
              "    <tr>\n",
              "      <th>2</th>\n",
              "      <td>1</td>\n",
              "      <td>65.00</td>\n",
              "      <td>0</td>\n",
              "      <td>68.00</td>\n",
              "      <td>0</td>\n",
              "      <td>3</td>\n",
              "      <td>64.00</td>\n",
              "      <td>2</td>\n",
              "      <td>No</td>\n",
              "      <td>75.0</td>\n",
              "      <td>0</td>\n",
              "      <td>57.80</td>\n",
              "      <td>1</td>\n",
              "      <td>12.429216</td>\n",
              "    </tr>\n",
              "    <tr>\n",
              "      <th>3</th>\n",
              "      <td>1</td>\n",
              "      <td>56.00</td>\n",
              "      <td>0</td>\n",
              "      <td>52.00</td>\n",
              "      <td>0</td>\n",
              "      <td>2</td>\n",
              "      <td>52.00</td>\n",
              "      <td>1</td>\n",
              "      <td>No</td>\n",
              "      <td>66.0</td>\n",
              "      <td>1</td>\n",
              "      <td>59.43</td>\n",
              "      <td>0</td>\n",
              "      <td>12.487485</td>\n",
              "    </tr>\n",
              "    <tr>\n",
              "      <th>4</th>\n",
              "      <td>1</td>\n",
              "      <td>85.80</td>\n",
              "      <td>0</td>\n",
              "      <td>73.60</td>\n",
              "      <td>0</td>\n",
              "      <td>1</td>\n",
              "      <td>73.30</td>\n",
              "      <td>2</td>\n",
              "      <td>No</td>\n",
              "      <td>96.8</td>\n",
              "      <td>0</td>\n",
              "      <td>55.50</td>\n",
              "      <td>1</td>\n",
              "      <td>12.959844</td>\n",
              "    </tr>\n",
              "  </tbody>\n",
              "</table>\n",
              "</div>\n",
              "      <button class=\"colab-df-convert\" onclick=\"convertToInteractive('df-f611ef2e-f720-41ec-9022-2f58c4997f3a')\"\n",
              "              title=\"Convert this dataframe to an interactive table.\"\n",
              "              style=\"display:none;\">\n",
              "        \n",
              "  <svg xmlns=\"http://www.w3.org/2000/svg\" height=\"24px\"viewBox=\"0 0 24 24\"\n",
              "       width=\"24px\">\n",
              "    <path d=\"M0 0h24v24H0V0z\" fill=\"none\"/>\n",
              "    <path d=\"M18.56 5.44l.94 2.06.94-2.06 2.06-.94-2.06-.94-.94-2.06-.94 2.06-2.06.94zm-11 1L8.5 8.5l.94-2.06 2.06-.94-2.06-.94L8.5 2.5l-.94 2.06-2.06.94zm10 10l.94 2.06.94-2.06 2.06-.94-2.06-.94-.94-2.06-.94 2.06-2.06.94z\"/><path d=\"M17.41 7.96l-1.37-1.37c-.4-.4-.92-.59-1.43-.59-.52 0-1.04.2-1.43.59L10.3 9.45l-7.72 7.72c-.78.78-.78 2.05 0 2.83L4 21.41c.39.39.9.59 1.41.59.51 0 1.02-.2 1.41-.59l7.78-7.78 2.81-2.81c.8-.78.8-2.07 0-2.86zM5.41 20L4 18.59l7.72-7.72 1.47 1.35L5.41 20z\"/>\n",
              "  </svg>\n",
              "      </button>\n",
              "      \n",
              "  <style>\n",
              "    .colab-df-container {\n",
              "      display:flex;\n",
              "      flex-wrap:wrap;\n",
              "      gap: 12px;\n",
              "    }\n",
              "\n",
              "    .colab-df-convert {\n",
              "      background-color: #E8F0FE;\n",
              "      border: none;\n",
              "      border-radius: 50%;\n",
              "      cursor: pointer;\n",
              "      display: none;\n",
              "      fill: #1967D2;\n",
              "      height: 32px;\n",
              "      padding: 0 0 0 0;\n",
              "      width: 32px;\n",
              "    }\n",
              "\n",
              "    .colab-df-convert:hover {\n",
              "      background-color: #E2EBFA;\n",
              "      box-shadow: 0px 1px 2px rgba(60, 64, 67, 0.3), 0px 1px 3px 1px rgba(60, 64, 67, 0.15);\n",
              "      fill: #174EA6;\n",
              "    }\n",
              "\n",
              "    [theme=dark] .colab-df-convert {\n",
              "      background-color: #3B4455;\n",
              "      fill: #D2E3FC;\n",
              "    }\n",
              "\n",
              "    [theme=dark] .colab-df-convert:hover {\n",
              "      background-color: #434B5C;\n",
              "      box-shadow: 0px 1px 3px 1px rgba(0, 0, 0, 0.15);\n",
              "      filter: drop-shadow(0px 1px 2px rgba(0, 0, 0, 0.3));\n",
              "      fill: #FFFFFF;\n",
              "    }\n",
              "  </style>\n",
              "\n",
              "      <script>\n",
              "        const buttonEl =\n",
              "          document.querySelector('#df-f611ef2e-f720-41ec-9022-2f58c4997f3a button.colab-df-convert');\n",
              "        buttonEl.style.display =\n",
              "          google.colab.kernel.accessAllowed ? 'block' : 'none';\n",
              "\n",
              "        async function convertToInteractive(key) {\n",
              "          const element = document.querySelector('#df-f611ef2e-f720-41ec-9022-2f58c4997f3a');\n",
              "          const dataTable =\n",
              "            await google.colab.kernel.invokeFunction('convertToInteractive',\n",
              "                                                     [key], {});\n",
              "          if (!dataTable) return;\n",
              "\n",
              "          const docLinkHtml = 'Like what you see? Visit the ' +\n",
              "            '<a target=\"_blank\" href=https://colab.research.google.com/notebooks/data_table.ipynb>data table notebook</a>'\n",
              "            + ' to learn more about interactive tables.';\n",
              "          element.innerHTML = '';\n",
              "          dataTable['output_type'] = 'display_data';\n",
              "          await google.colab.output.renderOutput(dataTable, element);\n",
              "          const docLink = document.createElement('div');\n",
              "          docLink.innerHTML = docLinkHtml;\n",
              "          element.appendChild(docLink);\n",
              "        }\n",
              "      </script>\n",
              "    </div>\n",
              "  </div>\n",
              "  "
            ]
          },
          "metadata": {},
          "execution_count": 49
        }
      ]
    },
    {
      "cell_type": "markdown",
      "source": [
        "#correlations"
      ],
      "metadata": {
        "id": "Qyc1ZK_a7Pmr"
      }
    },
    {
      "cell_type": "code",
      "source": [
        "df.drop(\"salary\",axis=1,inplace=True)"
      ],
      "metadata": {
        "id": "wESF9ZT0wxXA"
      },
      "execution_count": null,
      "outputs": []
    },
    {
      "cell_type": "code",
      "source": [
        "df.head()"
      ],
      "metadata": {
        "colab": {
          "base_uri": "https://localhost:8080/",
          "height": 206
        },
        "id": "X-lUotP_w0Ue",
        "outputId": "3b88fafd-14a5-45f6-ba60-616e833571e6"
      },
      "execution_count": null,
      "outputs": [
        {
          "output_type": "execute_result",
          "data": {
            "text/plain": [
              "   gender  ssc_p  ssc_b  hsc_p  hsc_b  hsc_s  degree_p  degree_t workex  \\\n",
              "0       1  67.00      1  91.00      1      1     58.00         1     No   \n",
              "1       1  79.33      0  78.33      1      2     77.48         1    Yes   \n",
              "2       1  65.00      0  68.00      0      3     64.00         2     No   \n",
              "3       1  56.00      0  52.00      0      2     52.00         1     No   \n",
              "4       1  85.80      0  73.60      0      1     73.30         2     No   \n",
              "\n",
              "   etest_p  specialisation  mba_p  status  \n",
              "0     55.0               1  58.80       1  \n",
              "1     86.5               0  66.28       1  \n",
              "2     75.0               0  57.80       1  \n",
              "3     66.0               1  59.43       0  \n",
              "4     96.8               0  55.50       1  "
            ],
            "text/html": [
              "\n",
              "  <div id=\"df-4b629508-09e9-4b76-9767-b5799d01b0f4\">\n",
              "    <div class=\"colab-df-container\">\n",
              "      <div>\n",
              "<style scoped>\n",
              "    .dataframe tbody tr th:only-of-type {\n",
              "        vertical-align: middle;\n",
              "    }\n",
              "\n",
              "    .dataframe tbody tr th {\n",
              "        vertical-align: top;\n",
              "    }\n",
              "\n",
              "    .dataframe thead th {\n",
              "        text-align: right;\n",
              "    }\n",
              "</style>\n",
              "<table border=\"1\" class=\"dataframe\">\n",
              "  <thead>\n",
              "    <tr style=\"text-align: right;\">\n",
              "      <th></th>\n",
              "      <th>gender</th>\n",
              "      <th>ssc_p</th>\n",
              "      <th>ssc_b</th>\n",
              "      <th>hsc_p</th>\n",
              "      <th>hsc_b</th>\n",
              "      <th>hsc_s</th>\n",
              "      <th>degree_p</th>\n",
              "      <th>degree_t</th>\n",
              "      <th>workex</th>\n",
              "      <th>etest_p</th>\n",
              "      <th>specialisation</th>\n",
              "      <th>mba_p</th>\n",
              "      <th>status</th>\n",
              "    </tr>\n",
              "  </thead>\n",
              "  <tbody>\n",
              "    <tr>\n",
              "      <th>0</th>\n",
              "      <td>1</td>\n",
              "      <td>67.00</td>\n",
              "      <td>1</td>\n",
              "      <td>91.00</td>\n",
              "      <td>1</td>\n",
              "      <td>1</td>\n",
              "      <td>58.00</td>\n",
              "      <td>1</td>\n",
              "      <td>No</td>\n",
              "      <td>55.0</td>\n",
              "      <td>1</td>\n",
              "      <td>58.80</td>\n",
              "      <td>1</td>\n",
              "    </tr>\n",
              "    <tr>\n",
              "      <th>1</th>\n",
              "      <td>1</td>\n",
              "      <td>79.33</td>\n",
              "      <td>0</td>\n",
              "      <td>78.33</td>\n",
              "      <td>1</td>\n",
              "      <td>2</td>\n",
              "      <td>77.48</td>\n",
              "      <td>1</td>\n",
              "      <td>Yes</td>\n",
              "      <td>86.5</td>\n",
              "      <td>0</td>\n",
              "      <td>66.28</td>\n",
              "      <td>1</td>\n",
              "    </tr>\n",
              "    <tr>\n",
              "      <th>2</th>\n",
              "      <td>1</td>\n",
              "      <td>65.00</td>\n",
              "      <td>0</td>\n",
              "      <td>68.00</td>\n",
              "      <td>0</td>\n",
              "      <td>3</td>\n",
              "      <td>64.00</td>\n",
              "      <td>2</td>\n",
              "      <td>No</td>\n",
              "      <td>75.0</td>\n",
              "      <td>0</td>\n",
              "      <td>57.80</td>\n",
              "      <td>1</td>\n",
              "    </tr>\n",
              "    <tr>\n",
              "      <th>3</th>\n",
              "      <td>1</td>\n",
              "      <td>56.00</td>\n",
              "      <td>0</td>\n",
              "      <td>52.00</td>\n",
              "      <td>0</td>\n",
              "      <td>2</td>\n",
              "      <td>52.00</td>\n",
              "      <td>1</td>\n",
              "      <td>No</td>\n",
              "      <td>66.0</td>\n",
              "      <td>1</td>\n",
              "      <td>59.43</td>\n",
              "      <td>0</td>\n",
              "    </tr>\n",
              "    <tr>\n",
              "      <th>4</th>\n",
              "      <td>1</td>\n",
              "      <td>85.80</td>\n",
              "      <td>0</td>\n",
              "      <td>73.60</td>\n",
              "      <td>0</td>\n",
              "      <td>1</td>\n",
              "      <td>73.30</td>\n",
              "      <td>2</td>\n",
              "      <td>No</td>\n",
              "      <td>96.8</td>\n",
              "      <td>0</td>\n",
              "      <td>55.50</td>\n",
              "      <td>1</td>\n",
              "    </tr>\n",
              "  </tbody>\n",
              "</table>\n",
              "</div>\n",
              "      <button class=\"colab-df-convert\" onclick=\"convertToInteractive('df-4b629508-09e9-4b76-9767-b5799d01b0f4')\"\n",
              "              title=\"Convert this dataframe to an interactive table.\"\n",
              "              style=\"display:none;\">\n",
              "        \n",
              "  <svg xmlns=\"http://www.w3.org/2000/svg\" height=\"24px\"viewBox=\"0 0 24 24\"\n",
              "       width=\"24px\">\n",
              "    <path d=\"M0 0h24v24H0V0z\" fill=\"none\"/>\n",
              "    <path d=\"M18.56 5.44l.94 2.06.94-2.06 2.06-.94-2.06-.94-.94-2.06-.94 2.06-2.06.94zm-11 1L8.5 8.5l.94-2.06 2.06-.94-2.06-.94L8.5 2.5l-.94 2.06-2.06.94zm10 10l.94 2.06.94-2.06 2.06-.94-2.06-.94-.94-2.06-.94 2.06-2.06.94z\"/><path d=\"M17.41 7.96l-1.37-1.37c-.4-.4-.92-.59-1.43-.59-.52 0-1.04.2-1.43.59L10.3 9.45l-7.72 7.72c-.78.78-.78 2.05 0 2.83L4 21.41c.39.39.9.59 1.41.59.51 0 1.02-.2 1.41-.59l7.78-7.78 2.81-2.81c.8-.78.8-2.07 0-2.86zM5.41 20L4 18.59l7.72-7.72 1.47 1.35L5.41 20z\"/>\n",
              "  </svg>\n",
              "      </button>\n",
              "      \n",
              "  <style>\n",
              "    .colab-df-container {\n",
              "      display:flex;\n",
              "      flex-wrap:wrap;\n",
              "      gap: 12px;\n",
              "    }\n",
              "\n",
              "    .colab-df-convert {\n",
              "      background-color: #E8F0FE;\n",
              "      border: none;\n",
              "      border-radius: 50%;\n",
              "      cursor: pointer;\n",
              "      display: none;\n",
              "      fill: #1967D2;\n",
              "      height: 32px;\n",
              "      padding: 0 0 0 0;\n",
              "      width: 32px;\n",
              "    }\n",
              "\n",
              "    .colab-df-convert:hover {\n",
              "      background-color: #E2EBFA;\n",
              "      box-shadow: 0px 1px 2px rgba(60, 64, 67, 0.3), 0px 1px 3px 1px rgba(60, 64, 67, 0.15);\n",
              "      fill: #174EA6;\n",
              "    }\n",
              "\n",
              "    [theme=dark] .colab-df-convert {\n",
              "      background-color: #3B4455;\n",
              "      fill: #D2E3FC;\n",
              "    }\n",
              "\n",
              "    [theme=dark] .colab-df-convert:hover {\n",
              "      background-color: #434B5C;\n",
              "      box-shadow: 0px 1px 3px 1px rgba(0, 0, 0, 0.15);\n",
              "      filter: drop-shadow(0px 1px 2px rgba(0, 0, 0, 0.3));\n",
              "      fill: #FFFFFF;\n",
              "    }\n",
              "  </style>\n",
              "\n",
              "      <script>\n",
              "        const buttonEl =\n",
              "          document.querySelector('#df-4b629508-09e9-4b76-9767-b5799d01b0f4 button.colab-df-convert');\n",
              "        buttonEl.style.display =\n",
              "          google.colab.kernel.accessAllowed ? 'block' : 'none';\n",
              "\n",
              "        async function convertToInteractive(key) {\n",
              "          const element = document.querySelector('#df-4b629508-09e9-4b76-9767-b5799d01b0f4');\n",
              "          const dataTable =\n",
              "            await google.colab.kernel.invokeFunction('convertToInteractive',\n",
              "                                                     [key], {});\n",
              "          if (!dataTable) return;\n",
              "\n",
              "          const docLinkHtml = 'Like what you see? Visit the ' +\n",
              "            '<a target=\"_blank\" href=https://colab.research.google.com/notebooks/data_table.ipynb>data table notebook</a>'\n",
              "            + ' to learn more about interactive tables.';\n",
              "          element.innerHTML = '';\n",
              "          dataTable['output_type'] = 'display_data';\n",
              "          await google.colab.output.renderOutput(dataTable, element);\n",
              "          const docLink = document.createElement('div');\n",
              "          docLink.innerHTML = docLinkHtml;\n",
              "          element.appendChild(docLink);\n",
              "        }\n",
              "      </script>\n",
              "    </div>\n",
              "  </div>\n",
              "  "
            ]
          },
          "metadata": {},
          "execution_count": 52
        }
      ]
    },
    {
      "cell_type": "code",
      "source": [
        "df[\"workex\"].replace(\"Yes\",1,inplace=True)\n",
        "df[\"workex\"].replace(\"No\",0,inplace=True)"
      ],
      "metadata": {
        "id": "bkNVIhsLw3Wl"
      },
      "execution_count": null,
      "outputs": []
    },
    {
      "cell_type": "code",
      "source": [
        "df.head()"
      ],
      "metadata": {
        "colab": {
          "base_uri": "https://localhost:8080/",
          "height": 206
        },
        "id": "0YRzXe-Aw8tA",
        "outputId": "72ba4b5b-c0aa-4e02-fc32-fcd5ded5ea18"
      },
      "execution_count": null,
      "outputs": [
        {
          "output_type": "execute_result",
          "data": {
            "text/plain": [
              "   gender  ssc_p  ssc_b  hsc_p  hsc_b  hsc_s  degree_p  degree_t  workex  \\\n",
              "0       1  67.00      1  91.00      1      1     58.00         1       0   \n",
              "1       1  79.33      0  78.33      1      2     77.48         1       1   \n",
              "2       1  65.00      0  68.00      0      3     64.00         2       0   \n",
              "3       1  56.00      0  52.00      0      2     52.00         1       0   \n",
              "4       1  85.80      0  73.60      0      1     73.30         2       0   \n",
              "\n",
              "   etest_p  specialisation  mba_p  status  \n",
              "0     55.0               1  58.80       1  \n",
              "1     86.5               0  66.28       1  \n",
              "2     75.0               0  57.80       1  \n",
              "3     66.0               1  59.43       0  \n",
              "4     96.8               0  55.50       1  "
            ],
            "text/html": [
              "\n",
              "  <div id=\"df-2b37a7cf-8de1-485c-ba79-2a212f6fbc45\">\n",
              "    <div class=\"colab-df-container\">\n",
              "      <div>\n",
              "<style scoped>\n",
              "    .dataframe tbody tr th:only-of-type {\n",
              "        vertical-align: middle;\n",
              "    }\n",
              "\n",
              "    .dataframe tbody tr th {\n",
              "        vertical-align: top;\n",
              "    }\n",
              "\n",
              "    .dataframe thead th {\n",
              "        text-align: right;\n",
              "    }\n",
              "</style>\n",
              "<table border=\"1\" class=\"dataframe\">\n",
              "  <thead>\n",
              "    <tr style=\"text-align: right;\">\n",
              "      <th></th>\n",
              "      <th>gender</th>\n",
              "      <th>ssc_p</th>\n",
              "      <th>ssc_b</th>\n",
              "      <th>hsc_p</th>\n",
              "      <th>hsc_b</th>\n",
              "      <th>hsc_s</th>\n",
              "      <th>degree_p</th>\n",
              "      <th>degree_t</th>\n",
              "      <th>workex</th>\n",
              "      <th>etest_p</th>\n",
              "      <th>specialisation</th>\n",
              "      <th>mba_p</th>\n",
              "      <th>status</th>\n",
              "    </tr>\n",
              "  </thead>\n",
              "  <tbody>\n",
              "    <tr>\n",
              "      <th>0</th>\n",
              "      <td>1</td>\n",
              "      <td>67.00</td>\n",
              "      <td>1</td>\n",
              "      <td>91.00</td>\n",
              "      <td>1</td>\n",
              "      <td>1</td>\n",
              "      <td>58.00</td>\n",
              "      <td>1</td>\n",
              "      <td>0</td>\n",
              "      <td>55.0</td>\n",
              "      <td>1</td>\n",
              "      <td>58.80</td>\n",
              "      <td>1</td>\n",
              "    </tr>\n",
              "    <tr>\n",
              "      <th>1</th>\n",
              "      <td>1</td>\n",
              "      <td>79.33</td>\n",
              "      <td>0</td>\n",
              "      <td>78.33</td>\n",
              "      <td>1</td>\n",
              "      <td>2</td>\n",
              "      <td>77.48</td>\n",
              "      <td>1</td>\n",
              "      <td>1</td>\n",
              "      <td>86.5</td>\n",
              "      <td>0</td>\n",
              "      <td>66.28</td>\n",
              "      <td>1</td>\n",
              "    </tr>\n",
              "    <tr>\n",
              "      <th>2</th>\n",
              "      <td>1</td>\n",
              "      <td>65.00</td>\n",
              "      <td>0</td>\n",
              "      <td>68.00</td>\n",
              "      <td>0</td>\n",
              "      <td>3</td>\n",
              "      <td>64.00</td>\n",
              "      <td>2</td>\n",
              "      <td>0</td>\n",
              "      <td>75.0</td>\n",
              "      <td>0</td>\n",
              "      <td>57.80</td>\n",
              "      <td>1</td>\n",
              "    </tr>\n",
              "    <tr>\n",
              "      <th>3</th>\n",
              "      <td>1</td>\n",
              "      <td>56.00</td>\n",
              "      <td>0</td>\n",
              "      <td>52.00</td>\n",
              "      <td>0</td>\n",
              "      <td>2</td>\n",
              "      <td>52.00</td>\n",
              "      <td>1</td>\n",
              "      <td>0</td>\n",
              "      <td>66.0</td>\n",
              "      <td>1</td>\n",
              "      <td>59.43</td>\n",
              "      <td>0</td>\n",
              "    </tr>\n",
              "    <tr>\n",
              "      <th>4</th>\n",
              "      <td>1</td>\n",
              "      <td>85.80</td>\n",
              "      <td>0</td>\n",
              "      <td>73.60</td>\n",
              "      <td>0</td>\n",
              "      <td>1</td>\n",
              "      <td>73.30</td>\n",
              "      <td>2</td>\n",
              "      <td>0</td>\n",
              "      <td>96.8</td>\n",
              "      <td>0</td>\n",
              "      <td>55.50</td>\n",
              "      <td>1</td>\n",
              "    </tr>\n",
              "  </tbody>\n",
              "</table>\n",
              "</div>\n",
              "      <button class=\"colab-df-convert\" onclick=\"convertToInteractive('df-2b37a7cf-8de1-485c-ba79-2a212f6fbc45')\"\n",
              "              title=\"Convert this dataframe to an interactive table.\"\n",
              "              style=\"display:none;\">\n",
              "        \n",
              "  <svg xmlns=\"http://www.w3.org/2000/svg\" height=\"24px\"viewBox=\"0 0 24 24\"\n",
              "       width=\"24px\">\n",
              "    <path d=\"M0 0h24v24H0V0z\" fill=\"none\"/>\n",
              "    <path d=\"M18.56 5.44l.94 2.06.94-2.06 2.06-.94-2.06-.94-.94-2.06-.94 2.06-2.06.94zm-11 1L8.5 8.5l.94-2.06 2.06-.94-2.06-.94L8.5 2.5l-.94 2.06-2.06.94zm10 10l.94 2.06.94-2.06 2.06-.94-2.06-.94-.94-2.06-.94 2.06-2.06.94z\"/><path d=\"M17.41 7.96l-1.37-1.37c-.4-.4-.92-.59-1.43-.59-.52 0-1.04.2-1.43.59L10.3 9.45l-7.72 7.72c-.78.78-.78 2.05 0 2.83L4 21.41c.39.39.9.59 1.41.59.51 0 1.02-.2 1.41-.59l7.78-7.78 2.81-2.81c.8-.78.8-2.07 0-2.86zM5.41 20L4 18.59l7.72-7.72 1.47 1.35L5.41 20z\"/>\n",
              "  </svg>\n",
              "      </button>\n",
              "      \n",
              "  <style>\n",
              "    .colab-df-container {\n",
              "      display:flex;\n",
              "      flex-wrap:wrap;\n",
              "      gap: 12px;\n",
              "    }\n",
              "\n",
              "    .colab-df-convert {\n",
              "      background-color: #E8F0FE;\n",
              "      border: none;\n",
              "      border-radius: 50%;\n",
              "      cursor: pointer;\n",
              "      display: none;\n",
              "      fill: #1967D2;\n",
              "      height: 32px;\n",
              "      padding: 0 0 0 0;\n",
              "      width: 32px;\n",
              "    }\n",
              "\n",
              "    .colab-df-convert:hover {\n",
              "      background-color: #E2EBFA;\n",
              "      box-shadow: 0px 1px 2px rgba(60, 64, 67, 0.3), 0px 1px 3px 1px rgba(60, 64, 67, 0.15);\n",
              "      fill: #174EA6;\n",
              "    }\n",
              "\n",
              "    [theme=dark] .colab-df-convert {\n",
              "      background-color: #3B4455;\n",
              "      fill: #D2E3FC;\n",
              "    }\n",
              "\n",
              "    [theme=dark] .colab-df-convert:hover {\n",
              "      background-color: #434B5C;\n",
              "      box-shadow: 0px 1px 3px 1px rgba(0, 0, 0, 0.15);\n",
              "      filter: drop-shadow(0px 1px 2px rgba(0, 0, 0, 0.3));\n",
              "      fill: #FFFFFF;\n",
              "    }\n",
              "  </style>\n",
              "\n",
              "      <script>\n",
              "        const buttonEl =\n",
              "          document.querySelector('#df-2b37a7cf-8de1-485c-ba79-2a212f6fbc45 button.colab-df-convert');\n",
              "        buttonEl.style.display =\n",
              "          google.colab.kernel.accessAllowed ? 'block' : 'none';\n",
              "\n",
              "        async function convertToInteractive(key) {\n",
              "          const element = document.querySelector('#df-2b37a7cf-8de1-485c-ba79-2a212f6fbc45');\n",
              "          const dataTable =\n",
              "            await google.colab.kernel.invokeFunction('convertToInteractive',\n",
              "                                                     [key], {});\n",
              "          if (!dataTable) return;\n",
              "\n",
              "          const docLinkHtml = 'Like what you see? Visit the ' +\n",
              "            '<a target=\"_blank\" href=https://colab.research.google.com/notebooks/data_table.ipynb>data table notebook</a>'\n",
              "            + ' to learn more about interactive tables.';\n",
              "          element.innerHTML = '';\n",
              "          dataTable['output_type'] = 'display_data';\n",
              "          await google.colab.output.renderOutput(dataTable, element);\n",
              "          const docLink = document.createElement('div');\n",
              "          docLink.innerHTML = docLinkHtml;\n",
              "          element.appendChild(docLink);\n",
              "        }\n",
              "      </script>\n",
              "    </div>\n",
              "  </div>\n",
              "  "
            ]
          },
          "metadata": {},
          "execution_count": 54
        }
      ]
    },
    {
      "cell_type": "code",
      "source": [
        "corr=df.corr()"
      ],
      "metadata": {
        "id": "Q8pu-re-w_oE"
      },
      "execution_count": null,
      "outputs": []
    },
    {
      "cell_type": "code",
      "source": [
        "corr"
      ],
      "metadata": {
        "colab": {
          "base_uri": "https://localhost:8080/",
          "height": 521
        },
        "id": "1DgX_N9qxDXT",
        "outputId": "4d14c81c-0a77-4d0d-ba6f-8800a3ec4aab"
      },
      "execution_count": null,
      "outputs": [
        {
          "output_type": "execute_result",
          "data": {
            "text/plain": [
              "                  gender     ssc_p     ssc_b     hsc_p     hsc_b     hsc_s  \\\n",
              "gender          1.000000 -0.068969  0.019429 -0.021334  0.065945 -0.033729   \n",
              "ssc_p          -0.068969  1.000000  0.116194  0.511472  0.066996  0.012464   \n",
              "ssc_b           0.019429  0.116194  1.000000 -0.137013  0.605883  0.046695   \n",
              "hsc_p          -0.021334  0.511472 -0.137013  1.000000 -0.019548 -0.245795   \n",
              "hsc_b           0.065945  0.066996  0.605883 -0.019548  1.000000  0.018468   \n",
              "hsc_s          -0.033729  0.012464  0.046695 -0.245795  0.018468  1.000000   \n",
              "degree_p       -0.173217  0.538404  0.038070  0.434206  0.067229 -0.038386   \n",
              "degree_t       -0.110567 -0.215745 -0.087035 -0.009579 -0.122604 -0.250514   \n",
              "workex          0.085153  0.175675 -0.040744  0.141025  0.038357  0.067800   \n",
              "etest_p         0.084294  0.261993 -0.018991  0.245113  0.039108 -0.009518   \n",
              "specialisation -0.106160 -0.172536 -0.051565 -0.241630  0.002232  0.080070   \n",
              "mba_p          -0.300531  0.388478  0.083120  0.354823  0.090201  0.043186   \n",
              "status          0.090670  0.607889  0.037297  0.491228  0.016945 -0.047179   \n",
              "\n",
              "                degree_p  degree_t    workex   etest_p  specialisation  \\\n",
              "gender         -0.173217 -0.110567  0.085153  0.084294       -0.106160   \n",
              "ssc_p           0.538404 -0.215745  0.175675  0.261993       -0.172536   \n",
              "ssc_b           0.038070 -0.087035 -0.040744 -0.018991       -0.051565   \n",
              "hsc_p           0.434206 -0.009579  0.141025  0.245113       -0.241630   \n",
              "hsc_b           0.067229 -0.122604  0.038357  0.039108        0.002232   \n",
              "hsc_s          -0.038386 -0.250514  0.067800 -0.009518        0.080070   \n",
              "degree_p        1.000000 -0.180624  0.122648  0.224470       -0.218286   \n",
              "degree_t       -0.180624  1.000000 -0.083505 -0.005386       -0.014103   \n",
              "workex          0.122648 -0.083505  1.000000  0.056735       -0.191174   \n",
              "etest_p         0.224470 -0.005386  0.056735  1.000000       -0.236315   \n",
              "specialisation -0.218286 -0.014103 -0.191174 -0.236315        1.000000   \n",
              "mba_p           0.402364 -0.121357  0.168811  0.218055       -0.105728   \n",
              "status          0.479861 -0.056572  0.276060  0.127639       -0.250655   \n",
              "\n",
              "                   mba_p    status  \n",
              "gender         -0.300531  0.090670  \n",
              "ssc_p           0.388478  0.607889  \n",
              "ssc_b           0.083120  0.037297  \n",
              "hsc_p           0.354823  0.491228  \n",
              "hsc_b           0.090201  0.016945  \n",
              "hsc_s           0.043186 -0.047179  \n",
              "degree_p        0.402364  0.479861  \n",
              "degree_t       -0.121357 -0.056572  \n",
              "workex          0.168811  0.276060  \n",
              "etest_p         0.218055  0.127639  \n",
              "specialisation -0.105728 -0.250655  \n",
              "mba_p           1.000000  0.076922  \n",
              "status          0.076922  1.000000  "
            ],
            "text/html": [
              "\n",
              "  <div id=\"df-41323563-34f9-492a-a957-beea318180d9\">\n",
              "    <div class=\"colab-df-container\">\n",
              "      <div>\n",
              "<style scoped>\n",
              "    .dataframe tbody tr th:only-of-type {\n",
              "        vertical-align: middle;\n",
              "    }\n",
              "\n",
              "    .dataframe tbody tr th {\n",
              "        vertical-align: top;\n",
              "    }\n",
              "\n",
              "    .dataframe thead th {\n",
              "        text-align: right;\n",
              "    }\n",
              "</style>\n",
              "<table border=\"1\" class=\"dataframe\">\n",
              "  <thead>\n",
              "    <tr style=\"text-align: right;\">\n",
              "      <th></th>\n",
              "      <th>gender</th>\n",
              "      <th>ssc_p</th>\n",
              "      <th>ssc_b</th>\n",
              "      <th>hsc_p</th>\n",
              "      <th>hsc_b</th>\n",
              "      <th>hsc_s</th>\n",
              "      <th>degree_p</th>\n",
              "      <th>degree_t</th>\n",
              "      <th>workex</th>\n",
              "      <th>etest_p</th>\n",
              "      <th>specialisation</th>\n",
              "      <th>mba_p</th>\n",
              "      <th>status</th>\n",
              "    </tr>\n",
              "  </thead>\n",
              "  <tbody>\n",
              "    <tr>\n",
              "      <th>gender</th>\n",
              "      <td>1.000000</td>\n",
              "      <td>-0.068969</td>\n",
              "      <td>0.019429</td>\n",
              "      <td>-0.021334</td>\n",
              "      <td>0.065945</td>\n",
              "      <td>-0.033729</td>\n",
              "      <td>-0.173217</td>\n",
              "      <td>-0.110567</td>\n",
              "      <td>0.085153</td>\n",
              "      <td>0.084294</td>\n",
              "      <td>-0.106160</td>\n",
              "      <td>-0.300531</td>\n",
              "      <td>0.090670</td>\n",
              "    </tr>\n",
              "    <tr>\n",
              "      <th>ssc_p</th>\n",
              "      <td>-0.068969</td>\n",
              "      <td>1.000000</td>\n",
              "      <td>0.116194</td>\n",
              "      <td>0.511472</td>\n",
              "      <td>0.066996</td>\n",
              "      <td>0.012464</td>\n",
              "      <td>0.538404</td>\n",
              "      <td>-0.215745</td>\n",
              "      <td>0.175675</td>\n",
              "      <td>0.261993</td>\n",
              "      <td>-0.172536</td>\n",
              "      <td>0.388478</td>\n",
              "      <td>0.607889</td>\n",
              "    </tr>\n",
              "    <tr>\n",
              "      <th>ssc_b</th>\n",
              "      <td>0.019429</td>\n",
              "      <td>0.116194</td>\n",
              "      <td>1.000000</td>\n",
              "      <td>-0.137013</td>\n",
              "      <td>0.605883</td>\n",
              "      <td>0.046695</td>\n",
              "      <td>0.038070</td>\n",
              "      <td>-0.087035</td>\n",
              "      <td>-0.040744</td>\n",
              "      <td>-0.018991</td>\n",
              "      <td>-0.051565</td>\n",
              "      <td>0.083120</td>\n",
              "      <td>0.037297</td>\n",
              "    </tr>\n",
              "    <tr>\n",
              "      <th>hsc_p</th>\n",
              "      <td>-0.021334</td>\n",
              "      <td>0.511472</td>\n",
              "      <td>-0.137013</td>\n",
              "      <td>1.000000</td>\n",
              "      <td>-0.019548</td>\n",
              "      <td>-0.245795</td>\n",
              "      <td>0.434206</td>\n",
              "      <td>-0.009579</td>\n",
              "      <td>0.141025</td>\n",
              "      <td>0.245113</td>\n",
              "      <td>-0.241630</td>\n",
              "      <td>0.354823</td>\n",
              "      <td>0.491228</td>\n",
              "    </tr>\n",
              "    <tr>\n",
              "      <th>hsc_b</th>\n",
              "      <td>0.065945</td>\n",
              "      <td>0.066996</td>\n",
              "      <td>0.605883</td>\n",
              "      <td>-0.019548</td>\n",
              "      <td>1.000000</td>\n",
              "      <td>0.018468</td>\n",
              "      <td>0.067229</td>\n",
              "      <td>-0.122604</td>\n",
              "      <td>0.038357</td>\n",
              "      <td>0.039108</td>\n",
              "      <td>0.002232</td>\n",
              "      <td>0.090201</td>\n",
              "      <td>0.016945</td>\n",
              "    </tr>\n",
              "    <tr>\n",
              "      <th>hsc_s</th>\n",
              "      <td>-0.033729</td>\n",
              "      <td>0.012464</td>\n",
              "      <td>0.046695</td>\n",
              "      <td>-0.245795</td>\n",
              "      <td>0.018468</td>\n",
              "      <td>1.000000</td>\n",
              "      <td>-0.038386</td>\n",
              "      <td>-0.250514</td>\n",
              "      <td>0.067800</td>\n",
              "      <td>-0.009518</td>\n",
              "      <td>0.080070</td>\n",
              "      <td>0.043186</td>\n",
              "      <td>-0.047179</td>\n",
              "    </tr>\n",
              "    <tr>\n",
              "      <th>degree_p</th>\n",
              "      <td>-0.173217</td>\n",
              "      <td>0.538404</td>\n",
              "      <td>0.038070</td>\n",
              "      <td>0.434206</td>\n",
              "      <td>0.067229</td>\n",
              "      <td>-0.038386</td>\n",
              "      <td>1.000000</td>\n",
              "      <td>-0.180624</td>\n",
              "      <td>0.122648</td>\n",
              "      <td>0.224470</td>\n",
              "      <td>-0.218286</td>\n",
              "      <td>0.402364</td>\n",
              "      <td>0.479861</td>\n",
              "    </tr>\n",
              "    <tr>\n",
              "      <th>degree_t</th>\n",
              "      <td>-0.110567</td>\n",
              "      <td>-0.215745</td>\n",
              "      <td>-0.087035</td>\n",
              "      <td>-0.009579</td>\n",
              "      <td>-0.122604</td>\n",
              "      <td>-0.250514</td>\n",
              "      <td>-0.180624</td>\n",
              "      <td>1.000000</td>\n",
              "      <td>-0.083505</td>\n",
              "      <td>-0.005386</td>\n",
              "      <td>-0.014103</td>\n",
              "      <td>-0.121357</td>\n",
              "      <td>-0.056572</td>\n",
              "    </tr>\n",
              "    <tr>\n",
              "      <th>workex</th>\n",
              "      <td>0.085153</td>\n",
              "      <td>0.175675</td>\n",
              "      <td>-0.040744</td>\n",
              "      <td>0.141025</td>\n",
              "      <td>0.038357</td>\n",
              "      <td>0.067800</td>\n",
              "      <td>0.122648</td>\n",
              "      <td>-0.083505</td>\n",
              "      <td>1.000000</td>\n",
              "      <td>0.056735</td>\n",
              "      <td>-0.191174</td>\n",
              "      <td>0.168811</td>\n",
              "      <td>0.276060</td>\n",
              "    </tr>\n",
              "    <tr>\n",
              "      <th>etest_p</th>\n",
              "      <td>0.084294</td>\n",
              "      <td>0.261993</td>\n",
              "      <td>-0.018991</td>\n",
              "      <td>0.245113</td>\n",
              "      <td>0.039108</td>\n",
              "      <td>-0.009518</td>\n",
              "      <td>0.224470</td>\n",
              "      <td>-0.005386</td>\n",
              "      <td>0.056735</td>\n",
              "      <td>1.000000</td>\n",
              "      <td>-0.236315</td>\n",
              "      <td>0.218055</td>\n",
              "      <td>0.127639</td>\n",
              "    </tr>\n",
              "    <tr>\n",
              "      <th>specialisation</th>\n",
              "      <td>-0.106160</td>\n",
              "      <td>-0.172536</td>\n",
              "      <td>-0.051565</td>\n",
              "      <td>-0.241630</td>\n",
              "      <td>0.002232</td>\n",
              "      <td>0.080070</td>\n",
              "      <td>-0.218286</td>\n",
              "      <td>-0.014103</td>\n",
              "      <td>-0.191174</td>\n",
              "      <td>-0.236315</td>\n",
              "      <td>1.000000</td>\n",
              "      <td>-0.105728</td>\n",
              "      <td>-0.250655</td>\n",
              "    </tr>\n",
              "    <tr>\n",
              "      <th>mba_p</th>\n",
              "      <td>-0.300531</td>\n",
              "      <td>0.388478</td>\n",
              "      <td>0.083120</td>\n",
              "      <td>0.354823</td>\n",
              "      <td>0.090201</td>\n",
              "      <td>0.043186</td>\n",
              "      <td>0.402364</td>\n",
              "      <td>-0.121357</td>\n",
              "      <td>0.168811</td>\n",
              "      <td>0.218055</td>\n",
              "      <td>-0.105728</td>\n",
              "      <td>1.000000</td>\n",
              "      <td>0.076922</td>\n",
              "    </tr>\n",
              "    <tr>\n",
              "      <th>status</th>\n",
              "      <td>0.090670</td>\n",
              "      <td>0.607889</td>\n",
              "      <td>0.037297</td>\n",
              "      <td>0.491228</td>\n",
              "      <td>0.016945</td>\n",
              "      <td>-0.047179</td>\n",
              "      <td>0.479861</td>\n",
              "      <td>-0.056572</td>\n",
              "      <td>0.276060</td>\n",
              "      <td>0.127639</td>\n",
              "      <td>-0.250655</td>\n",
              "      <td>0.076922</td>\n",
              "      <td>1.000000</td>\n",
              "    </tr>\n",
              "  </tbody>\n",
              "</table>\n",
              "</div>\n",
              "      <button class=\"colab-df-convert\" onclick=\"convertToInteractive('df-41323563-34f9-492a-a957-beea318180d9')\"\n",
              "              title=\"Convert this dataframe to an interactive table.\"\n",
              "              style=\"display:none;\">\n",
              "        \n",
              "  <svg xmlns=\"http://www.w3.org/2000/svg\" height=\"24px\"viewBox=\"0 0 24 24\"\n",
              "       width=\"24px\">\n",
              "    <path d=\"M0 0h24v24H0V0z\" fill=\"none\"/>\n",
              "    <path d=\"M18.56 5.44l.94 2.06.94-2.06 2.06-.94-2.06-.94-.94-2.06-.94 2.06-2.06.94zm-11 1L8.5 8.5l.94-2.06 2.06-.94-2.06-.94L8.5 2.5l-.94 2.06-2.06.94zm10 10l.94 2.06.94-2.06 2.06-.94-2.06-.94-.94-2.06-.94 2.06-2.06.94z\"/><path d=\"M17.41 7.96l-1.37-1.37c-.4-.4-.92-.59-1.43-.59-.52 0-1.04.2-1.43.59L10.3 9.45l-7.72 7.72c-.78.78-.78 2.05 0 2.83L4 21.41c.39.39.9.59 1.41.59.51 0 1.02-.2 1.41-.59l7.78-7.78 2.81-2.81c.8-.78.8-2.07 0-2.86zM5.41 20L4 18.59l7.72-7.72 1.47 1.35L5.41 20z\"/>\n",
              "  </svg>\n",
              "      </button>\n",
              "      \n",
              "  <style>\n",
              "    .colab-df-container {\n",
              "      display:flex;\n",
              "      flex-wrap:wrap;\n",
              "      gap: 12px;\n",
              "    }\n",
              "\n",
              "    .colab-df-convert {\n",
              "      background-color: #E8F0FE;\n",
              "      border: none;\n",
              "      border-radius: 50%;\n",
              "      cursor: pointer;\n",
              "      display: none;\n",
              "      fill: #1967D2;\n",
              "      height: 32px;\n",
              "      padding: 0 0 0 0;\n",
              "      width: 32px;\n",
              "    }\n",
              "\n",
              "    .colab-df-convert:hover {\n",
              "      background-color: #E2EBFA;\n",
              "      box-shadow: 0px 1px 2px rgba(60, 64, 67, 0.3), 0px 1px 3px 1px rgba(60, 64, 67, 0.15);\n",
              "      fill: #174EA6;\n",
              "    }\n",
              "\n",
              "    [theme=dark] .colab-df-convert {\n",
              "      background-color: #3B4455;\n",
              "      fill: #D2E3FC;\n",
              "    }\n",
              "\n",
              "    [theme=dark] .colab-df-convert:hover {\n",
              "      background-color: #434B5C;\n",
              "      box-shadow: 0px 1px 3px 1px rgba(0, 0, 0, 0.15);\n",
              "      filter: drop-shadow(0px 1px 2px rgba(0, 0, 0, 0.3));\n",
              "      fill: #FFFFFF;\n",
              "    }\n",
              "  </style>\n",
              "\n",
              "      <script>\n",
              "        const buttonEl =\n",
              "          document.querySelector('#df-41323563-34f9-492a-a957-beea318180d9 button.colab-df-convert');\n",
              "        buttonEl.style.display =\n",
              "          google.colab.kernel.accessAllowed ? 'block' : 'none';\n",
              "\n",
              "        async function convertToInteractive(key) {\n",
              "          const element = document.querySelector('#df-41323563-34f9-492a-a957-beea318180d9');\n",
              "          const dataTable =\n",
              "            await google.colab.kernel.invokeFunction('convertToInteractive',\n",
              "                                                     [key], {});\n",
              "          if (!dataTable) return;\n",
              "\n",
              "          const docLinkHtml = 'Like what you see? Visit the ' +\n",
              "            '<a target=\"_blank\" href=https://colab.research.google.com/notebooks/data_table.ipynb>data table notebook</a>'\n",
              "            + ' to learn more about interactive tables.';\n",
              "          element.innerHTML = '';\n",
              "          dataTable['output_type'] = 'display_data';\n",
              "          await google.colab.output.renderOutput(dataTable, element);\n",
              "          const docLink = document.createElement('div');\n",
              "          docLink.innerHTML = docLinkHtml;\n",
              "          element.appendChild(docLink);\n",
              "        }\n",
              "      </script>\n",
              "    </div>\n",
              "  </div>\n",
              "  "
            ]
          },
          "metadata": {},
          "execution_count": 56
        }
      ]
    },
    {
      "cell_type": "code",
      "source": [
        "x=df.drop(\"status\",axis=1)"
      ],
      "metadata": {
        "id": "7mBhRKRGxGEB"
      },
      "execution_count": null,
      "outputs": []
    },
    {
      "cell_type": "code",
      "source": [
        "x"
      ],
      "metadata": {
        "colab": {
          "base_uri": "https://localhost:8080/",
          "height": 424
        },
        "id": "AjuKdIi3xKtP",
        "outputId": "8002def0-2e83-4ebc-99ed-51972aa03b11"
      },
      "execution_count": null,
      "outputs": [
        {
          "output_type": "execute_result",
          "data": {
            "text/plain": [
              "     gender  ssc_p  ssc_b  hsc_p  hsc_b  hsc_s  degree_p  degree_t  workex  \\\n",
              "0         1  67.00      1  91.00      1      1     58.00         1       0   \n",
              "1         1  79.33      0  78.33      1      2     77.48         1       1   \n",
              "2         1  65.00      0  68.00      0      3     64.00         2       0   \n",
              "3         1  56.00      0  52.00      0      2     52.00         1       0   \n",
              "4         1  85.80      0  73.60      0      1     73.30         2       0   \n",
              "..      ...    ...    ...    ...    ...    ...       ...       ...     ...   \n",
              "210       1  80.60      1  82.00      1      1     77.60         2       0   \n",
              "211       1  58.00      1  60.00      1      2     72.00         1       0   \n",
              "212       1  67.00      1  67.00      1      1     73.00         2       1   \n",
              "213       0  74.00      1  66.00      1      1     58.00         2       0   \n",
              "214       1  62.00      0  58.00      1      2     53.00         2       0   \n",
              "\n",
              "     etest_p  specialisation  mba_p  \n",
              "0       55.0               1  58.80  \n",
              "1       86.5               0  66.28  \n",
              "2       75.0               0  57.80  \n",
              "3       66.0               1  59.43  \n",
              "4       96.8               0  55.50  \n",
              "..       ...             ...    ...  \n",
              "210     91.0               0  74.49  \n",
              "211     74.0               0  53.62  \n",
              "212     59.0               0  69.72  \n",
              "213     70.0               1  60.23  \n",
              "214     89.0               1  60.22  \n",
              "\n",
              "[215 rows x 12 columns]"
            ],
            "text/html": [
              "\n",
              "  <div id=\"df-ae7bbbcf-875e-4bad-ab40-92d5c000b7c4\">\n",
              "    <div class=\"colab-df-container\">\n",
              "      <div>\n",
              "<style scoped>\n",
              "    .dataframe tbody tr th:only-of-type {\n",
              "        vertical-align: middle;\n",
              "    }\n",
              "\n",
              "    .dataframe tbody tr th {\n",
              "        vertical-align: top;\n",
              "    }\n",
              "\n",
              "    .dataframe thead th {\n",
              "        text-align: right;\n",
              "    }\n",
              "</style>\n",
              "<table border=\"1\" class=\"dataframe\">\n",
              "  <thead>\n",
              "    <tr style=\"text-align: right;\">\n",
              "      <th></th>\n",
              "      <th>gender</th>\n",
              "      <th>ssc_p</th>\n",
              "      <th>ssc_b</th>\n",
              "      <th>hsc_p</th>\n",
              "      <th>hsc_b</th>\n",
              "      <th>hsc_s</th>\n",
              "      <th>degree_p</th>\n",
              "      <th>degree_t</th>\n",
              "      <th>workex</th>\n",
              "      <th>etest_p</th>\n",
              "      <th>specialisation</th>\n",
              "      <th>mba_p</th>\n",
              "    </tr>\n",
              "  </thead>\n",
              "  <tbody>\n",
              "    <tr>\n",
              "      <th>0</th>\n",
              "      <td>1</td>\n",
              "      <td>67.00</td>\n",
              "      <td>1</td>\n",
              "      <td>91.00</td>\n",
              "      <td>1</td>\n",
              "      <td>1</td>\n",
              "      <td>58.00</td>\n",
              "      <td>1</td>\n",
              "      <td>0</td>\n",
              "      <td>55.0</td>\n",
              "      <td>1</td>\n",
              "      <td>58.80</td>\n",
              "    </tr>\n",
              "    <tr>\n",
              "      <th>1</th>\n",
              "      <td>1</td>\n",
              "      <td>79.33</td>\n",
              "      <td>0</td>\n",
              "      <td>78.33</td>\n",
              "      <td>1</td>\n",
              "      <td>2</td>\n",
              "      <td>77.48</td>\n",
              "      <td>1</td>\n",
              "      <td>1</td>\n",
              "      <td>86.5</td>\n",
              "      <td>0</td>\n",
              "      <td>66.28</td>\n",
              "    </tr>\n",
              "    <tr>\n",
              "      <th>2</th>\n",
              "      <td>1</td>\n",
              "      <td>65.00</td>\n",
              "      <td>0</td>\n",
              "      <td>68.00</td>\n",
              "      <td>0</td>\n",
              "      <td>3</td>\n",
              "      <td>64.00</td>\n",
              "      <td>2</td>\n",
              "      <td>0</td>\n",
              "      <td>75.0</td>\n",
              "      <td>0</td>\n",
              "      <td>57.80</td>\n",
              "    </tr>\n",
              "    <tr>\n",
              "      <th>3</th>\n",
              "      <td>1</td>\n",
              "      <td>56.00</td>\n",
              "      <td>0</td>\n",
              "      <td>52.00</td>\n",
              "      <td>0</td>\n",
              "      <td>2</td>\n",
              "      <td>52.00</td>\n",
              "      <td>1</td>\n",
              "      <td>0</td>\n",
              "      <td>66.0</td>\n",
              "      <td>1</td>\n",
              "      <td>59.43</td>\n",
              "    </tr>\n",
              "    <tr>\n",
              "      <th>4</th>\n",
              "      <td>1</td>\n",
              "      <td>85.80</td>\n",
              "      <td>0</td>\n",
              "      <td>73.60</td>\n",
              "      <td>0</td>\n",
              "      <td>1</td>\n",
              "      <td>73.30</td>\n",
              "      <td>2</td>\n",
              "      <td>0</td>\n",
              "      <td>96.8</td>\n",
              "      <td>0</td>\n",
              "      <td>55.50</td>\n",
              "    </tr>\n",
              "    <tr>\n",
              "      <th>...</th>\n",
              "      <td>...</td>\n",
              "      <td>...</td>\n",
              "      <td>...</td>\n",
              "      <td>...</td>\n",
              "      <td>...</td>\n",
              "      <td>...</td>\n",
              "      <td>...</td>\n",
              "      <td>...</td>\n",
              "      <td>...</td>\n",
              "      <td>...</td>\n",
              "      <td>...</td>\n",
              "      <td>...</td>\n",
              "    </tr>\n",
              "    <tr>\n",
              "      <th>210</th>\n",
              "      <td>1</td>\n",
              "      <td>80.60</td>\n",
              "      <td>1</td>\n",
              "      <td>82.00</td>\n",
              "      <td>1</td>\n",
              "      <td>1</td>\n",
              "      <td>77.60</td>\n",
              "      <td>2</td>\n",
              "      <td>0</td>\n",
              "      <td>91.0</td>\n",
              "      <td>0</td>\n",
              "      <td>74.49</td>\n",
              "    </tr>\n",
              "    <tr>\n",
              "      <th>211</th>\n",
              "      <td>1</td>\n",
              "      <td>58.00</td>\n",
              "      <td>1</td>\n",
              "      <td>60.00</td>\n",
              "      <td>1</td>\n",
              "      <td>2</td>\n",
              "      <td>72.00</td>\n",
              "      <td>1</td>\n",
              "      <td>0</td>\n",
              "      <td>74.0</td>\n",
              "      <td>0</td>\n",
              "      <td>53.62</td>\n",
              "    </tr>\n",
              "    <tr>\n",
              "      <th>212</th>\n",
              "      <td>1</td>\n",
              "      <td>67.00</td>\n",
              "      <td>1</td>\n",
              "      <td>67.00</td>\n",
              "      <td>1</td>\n",
              "      <td>1</td>\n",
              "      <td>73.00</td>\n",
              "      <td>2</td>\n",
              "      <td>1</td>\n",
              "      <td>59.0</td>\n",
              "      <td>0</td>\n",
              "      <td>69.72</td>\n",
              "    </tr>\n",
              "    <tr>\n",
              "      <th>213</th>\n",
              "      <td>0</td>\n",
              "      <td>74.00</td>\n",
              "      <td>1</td>\n",
              "      <td>66.00</td>\n",
              "      <td>1</td>\n",
              "      <td>1</td>\n",
              "      <td>58.00</td>\n",
              "      <td>2</td>\n",
              "      <td>0</td>\n",
              "      <td>70.0</td>\n",
              "      <td>1</td>\n",
              "      <td>60.23</td>\n",
              "    </tr>\n",
              "    <tr>\n",
              "      <th>214</th>\n",
              "      <td>1</td>\n",
              "      <td>62.00</td>\n",
              "      <td>0</td>\n",
              "      <td>58.00</td>\n",
              "      <td>1</td>\n",
              "      <td>2</td>\n",
              "      <td>53.00</td>\n",
              "      <td>2</td>\n",
              "      <td>0</td>\n",
              "      <td>89.0</td>\n",
              "      <td>1</td>\n",
              "      <td>60.22</td>\n",
              "    </tr>\n",
              "  </tbody>\n",
              "</table>\n",
              "<p>215 rows × 12 columns</p>\n",
              "</div>\n",
              "      <button class=\"colab-df-convert\" onclick=\"convertToInteractive('df-ae7bbbcf-875e-4bad-ab40-92d5c000b7c4')\"\n",
              "              title=\"Convert this dataframe to an interactive table.\"\n",
              "              style=\"display:none;\">\n",
              "        \n",
              "  <svg xmlns=\"http://www.w3.org/2000/svg\" height=\"24px\"viewBox=\"0 0 24 24\"\n",
              "       width=\"24px\">\n",
              "    <path d=\"M0 0h24v24H0V0z\" fill=\"none\"/>\n",
              "    <path d=\"M18.56 5.44l.94 2.06.94-2.06 2.06-.94-2.06-.94-.94-2.06-.94 2.06-2.06.94zm-11 1L8.5 8.5l.94-2.06 2.06-.94-2.06-.94L8.5 2.5l-.94 2.06-2.06.94zm10 10l.94 2.06.94-2.06 2.06-.94-2.06-.94-.94-2.06-.94 2.06-2.06.94z\"/><path d=\"M17.41 7.96l-1.37-1.37c-.4-.4-.92-.59-1.43-.59-.52 0-1.04.2-1.43.59L10.3 9.45l-7.72 7.72c-.78.78-.78 2.05 0 2.83L4 21.41c.39.39.9.59 1.41.59.51 0 1.02-.2 1.41-.59l7.78-7.78 2.81-2.81c.8-.78.8-2.07 0-2.86zM5.41 20L4 18.59l7.72-7.72 1.47 1.35L5.41 20z\"/>\n",
              "  </svg>\n",
              "      </button>\n",
              "      \n",
              "  <style>\n",
              "    .colab-df-container {\n",
              "      display:flex;\n",
              "      flex-wrap:wrap;\n",
              "      gap: 12px;\n",
              "    }\n",
              "\n",
              "    .colab-df-convert {\n",
              "      background-color: #E8F0FE;\n",
              "      border: none;\n",
              "      border-radius: 50%;\n",
              "      cursor: pointer;\n",
              "      display: none;\n",
              "      fill: #1967D2;\n",
              "      height: 32px;\n",
              "      padding: 0 0 0 0;\n",
              "      width: 32px;\n",
              "    }\n",
              "\n",
              "    .colab-df-convert:hover {\n",
              "      background-color: #E2EBFA;\n",
              "      box-shadow: 0px 1px 2px rgba(60, 64, 67, 0.3), 0px 1px 3px 1px rgba(60, 64, 67, 0.15);\n",
              "      fill: #174EA6;\n",
              "    }\n",
              "\n",
              "    [theme=dark] .colab-df-convert {\n",
              "      background-color: #3B4455;\n",
              "      fill: #D2E3FC;\n",
              "    }\n",
              "\n",
              "    [theme=dark] .colab-df-convert:hover {\n",
              "      background-color: #434B5C;\n",
              "      box-shadow: 0px 1px 3px 1px rgba(0, 0, 0, 0.15);\n",
              "      filter: drop-shadow(0px 1px 2px rgba(0, 0, 0, 0.3));\n",
              "      fill: #FFFFFF;\n",
              "    }\n",
              "  </style>\n",
              "\n",
              "      <script>\n",
              "        const buttonEl =\n",
              "          document.querySelector('#df-ae7bbbcf-875e-4bad-ab40-92d5c000b7c4 button.colab-df-convert');\n",
              "        buttonEl.style.display =\n",
              "          google.colab.kernel.accessAllowed ? 'block' : 'none';\n",
              "\n",
              "        async function convertToInteractive(key) {\n",
              "          const element = document.querySelector('#df-ae7bbbcf-875e-4bad-ab40-92d5c000b7c4');\n",
              "          const dataTable =\n",
              "            await google.colab.kernel.invokeFunction('convertToInteractive',\n",
              "                                                     [key], {});\n",
              "          if (!dataTable) return;\n",
              "\n",
              "          const docLinkHtml = 'Like what you see? Visit the ' +\n",
              "            '<a target=\"_blank\" href=https://colab.research.google.com/notebooks/data_table.ipynb>data table notebook</a>'\n",
              "            + ' to learn more about interactive tables.';\n",
              "          element.innerHTML = '';\n",
              "          dataTable['output_type'] = 'display_data';\n",
              "          await google.colab.output.renderOutput(dataTable, element);\n",
              "          const docLink = document.createElement('div');\n",
              "          docLink.innerHTML = docLinkHtml;\n",
              "          element.appendChild(docLink);\n",
              "        }\n",
              "      </script>\n",
              "    </div>\n",
              "  </div>\n",
              "  "
            ]
          },
          "metadata": {},
          "execution_count": 58
        }
      ]
    },
    {
      "cell_type": "code",
      "source": [
        "y=df[\"status\"]"
      ],
      "metadata": {
        "id": "pl8kChBtxLoJ"
      },
      "execution_count": null,
      "outputs": []
    },
    {
      "cell_type": "code",
      "source": [
        "y"
      ],
      "metadata": {
        "colab": {
          "base_uri": "https://localhost:8080/"
        },
        "id": "Sn9QRPr5xOkU",
        "outputId": "d02eb4b0-3dad-43cf-aca7-60bb073f024e"
      },
      "execution_count": null,
      "outputs": [
        {
          "output_type": "execute_result",
          "data": {
            "text/plain": [
              "0      1\n",
              "1      1\n",
              "2      1\n",
              "3      0\n",
              "4      1\n",
              "      ..\n",
              "210    1\n",
              "211    1\n",
              "212    1\n",
              "213    1\n",
              "214    0\n",
              "Name: status, Length: 215, dtype: int64"
            ]
          },
          "metadata": {},
          "execution_count": 60
        }
      ]
    },
    {
      "cell_type": "code",
      "source": [
        "# this is step we are going to split the dataset into train_dataset and test_dataset and import library from sklearn\n",
        "from sklearn.model_selection import train_test_split\n",
        "x_train,x_test,y_train,y_test=train_test_split(x,y,train_size=0.6,random_state=0)"
      ],
      "metadata": {
        "id": "MrcxiEuPxPWL"
      },
      "execution_count": null,
      "outputs": []
    },
    {
      "cell_type": "markdown",
      "source": [
        "#building the model"
      ],
      "metadata": {
        "id": "uNZAi1pI7qIW"
      }
    },
    {
      "cell_type": "markdown",
      "source": [
        "#LogisticRegression"
      ],
      "metadata": {
        "id": "7uZ2QOgT74rm"
      }
    },
    {
      "cell_type": "code",
      "source": [
        "from sklearn.linear_model import LogisticRegression\n",
        "model=LogisticRegression()\n",
        "model.fit(x_train,y_train)"
      ],
      "metadata": {
        "colab": {
          "base_uri": "https://localhost:8080/"
        },
        "id": "S--iYnwmxSs8",
        "outputId": "8f8fdf2e-c4ac-4c45-fec9-d4bd121cfba8"
      },
      "execution_count": null,
      "outputs": [
        {
          "output_type": "stream",
          "name": "stderr",
          "text": [
            "/usr/local/lib/python3.8/dist-packages/sklearn/linear_model/_logistic.py:814: ConvergenceWarning: lbfgs failed to converge (status=1):\n",
            "STOP: TOTAL NO. of ITERATIONS REACHED LIMIT.\n",
            "\n",
            "Increase the number of iterations (max_iter) or scale the data as shown in:\n",
            "    https://scikit-learn.org/stable/modules/preprocessing.html\n",
            "Please also refer to the documentation for alternative solver options:\n",
            "    https://scikit-learn.org/stable/modules/linear_model.html#logistic-regression\n",
            "  n_iter_i = _check_optimize_result(\n"
          ]
        },
        {
          "output_type": "execute_result",
          "data": {
            "text/plain": [
              "LogisticRegression()"
            ]
          },
          "metadata": {},
          "execution_count": 62
        }
      ]
    },
    {
      "cell_type": "markdown",
      "source": [
        "# predict the values by model"
      ],
      "metadata": {
        "id": "_qtU8YFv7-jj"
      }
    },
    {
      "cell_type": "code",
      "source": [
        "y_pred=model.predict(x_test)\n",
        "y_pred.shape"
      ],
      "metadata": {
        "colab": {
          "base_uri": "https://localhost:8080/"
        },
        "id": "SMpd--QpxVra",
        "outputId": "df836cfb-db3a-4ef2-e9a8-7e9963e9a632"
      },
      "execution_count": null,
      "outputs": [
        {
          "output_type": "execute_result",
          "data": {
            "text/plain": [
              "(86,)"
            ]
          },
          "metadata": {},
          "execution_count": 63
        }
      ]
    },
    {
      "cell_type": "markdown",
      "source": [
        "#view the score"
      ],
      "metadata": {
        "id": "zqYndEG_8Dy9"
      }
    },
    {
      "cell_type": "code",
      "source": [
        "model.score(x_test,y_test)"
      ],
      "metadata": {
        "colab": {
          "base_uri": "https://localhost:8080/"
        },
        "id": "AhIFcK47xYFp",
        "outputId": "063dd23b-a2eb-4825-8ad7-05454dabd77d"
      },
      "execution_count": null,
      "outputs": [
        {
          "output_type": "execute_result",
          "data": {
            "text/plain": [
              "0.8372093023255814"
            ]
          },
          "metadata": {},
          "execution_count": 64
        }
      ]
    },
    {
      "cell_type": "markdown",
      "source": [
        "# optional - other algorithm"
      ],
      "metadata": {
        "id": "i86X5yL98KYv"
      }
    },
    {
      "cell_type": "code",
      "source": [
        "'''#naive_bayes\n",
        "from sklearn.naive_bayes import GaussianNB\n",
        "model=GaussianNB()\n",
        "model.fit(x_train,y_train)\n",
        "\n",
        "\n",
        "y_pred=model.predict(x_test)\n",
        "y_pred.shape\n",
        "\n",
        "\n",
        "from sklearn.metrics import accuracy_score\n",
        "score=accuracy_score(y_pred,y_test)\n",
        "score\n",
        "'''"
      ],
      "metadata": {
        "colab": {
          "base_uri": "https://localhost:8080/",
          "height": 53
        },
        "id": "vzZ1xO848Jky",
        "outputId": "deff32a7-b871-4c98-892d-83be7d183f8a"
      },
      "execution_count": 73,
      "outputs": [
        {
          "output_type": "execute_result",
          "data": {
            "text/plain": [
              "'#naive_bayes\\nfrom sklearn.naive_bayes import GaussianNB\\nmodel=GaussianNB()\\nmodel.fit(x_train,y_train)\\n\\n\\ny_pred=model.predict(x_test)\\ny_pred.shape\\n\\n\\nfrom sklearn.metrics import accuracy_score\\nscore=accuracy_score(y_pred,y_test)\\nscore\\n'"
            ],
            "application/vnd.google.colaboratory.intrinsic+json": {
              "type": "string"
            }
          },
          "metadata": {},
          "execution_count": 73
        }
      ]
    },
    {
      "cell_type": "code",
      "source": [
        "''' # k_nearest neighbors\n",
        "\n",
        "\n",
        "from sklearn.neighbors import KNeighborsClassifier\n",
        "model= KNeighborsClassifier(n_neighbors=5)\n",
        "model.fit(x_train,y_train)\n",
        "\n",
        "\n",
        "y_pred=model.predict(x_test)\n",
        "y_pred.shape\n",
        "\n",
        "from sklearn.metrics import accuracy_score\n",
        "score=accuracy_score(y_pred,y_test)\n",
        "score\n",
        "'''"
      ],
      "metadata": {
        "colab": {
          "base_uri": "https://localhost:8080/",
          "height": 70
        },
        "id": "GpvMZOC-8v18",
        "outputId": "54cf7297-547f-4619-f9c3-85c155d2f79f"
      },
      "execution_count": 75,
      "outputs": [
        {
          "output_type": "execute_result",
          "data": {
            "text/plain": [
              "' # k_nearest neighbors\\n\\n\\nfrom sklearn.neighbors import KNeighborsClassifier\\nmodel= KNeighborsClassifier(n_neighbors=5)\\nmodel.fit(x_train,y_train)\\n\\n\\ny_pred=model.predict(x_test)\\ny_pred.shape\\n\\nfrom sklearn.metrics import accuracy_score\\nscore=accuracy_score(y_pred,y_test)\\nscore\\n'"
            ],
            "application/vnd.google.colaboratory.intrinsic+json": {
              "type": "string"
            }
          },
          "metadata": {},
          "execution_count": 75
        }
      ]
    },
    {
      "cell_type": "code",
      "source": [
        "'''# support vector machine\n",
        "from sklearn.svm import SVC\n",
        "model=SVC(kernel=\"linear\",random_state=0)\n",
        "model.fit(x_train,y_train)\n",
        "\n",
        "\n",
        "y_pred=model.predict(x_test)\n",
        "y_pred.shape\n",
        "\n",
        "\n",
        "from sklearn.metrics import accuracy_score\n",
        "score=accuracy_score(y_pred,y_test)\n",
        "score\n",
        "'''\n"
      ],
      "metadata": {
        "colab": {
          "base_uri": "https://localhost:8080/",
          "height": 53
        },
        "id": "doAlmJtY9RLr",
        "outputId": "d451c9c4-7b7b-4c61-9645-482cd0a22277"
      },
      "execution_count": 77,
      "outputs": [
        {
          "output_type": "execute_result",
          "data": {
            "text/plain": [
              "'# support vector machine\\nfrom sklearn.svm import SVC\\nmodel=SVC(kernel=\"linear\",random_state=0)\\nmodel.fit(x_train,y_train)\\n\\n\\ny_pred=model.predict(x_test)\\ny_pred.shape\\n\\n\\nfrom sklearn.metrics import accuracy_score\\nscore=accuracy_score(y_pred,y_test)\\nscore\\n'"
            ],
            "application/vnd.google.colaboratory.intrinsic+json": {
              "type": "string"
            }
          },
          "metadata": {},
          "execution_count": 77
        }
      ]
    },
    {
      "cell_type": "code",
      "source": [
        "'''# DecisionTreeClassifier\n",
        "\n",
        " from sklearn.tree import DecisionTreeClassifier\n",
        "model=DecisionTreeClassifier()\n",
        "model.fit(x_train,y_train)\n",
        "\n",
        "\n",
        "y_pred=model.predict(x_test)\n",
        "y_pred.shape\n",
        "\n",
        "\n",
        "from sklearn.metrics import accuracy_score\n",
        "score=accuracy_score(y_pred,y_test)\n",
        "score\n",
        "'''"
      ],
      "metadata": {
        "colab": {
          "base_uri": "https://localhost:8080/",
          "height": 53
        },
        "id": "J72ge-r79ue3",
        "outputId": "58be7f97-6928-4c05-debb-60becd63a82a"
      },
      "execution_count": 80,
      "outputs": [
        {
          "output_type": "execute_result",
          "data": {
            "text/plain": [
              "'# DecisionTreeClassifier\\n\\n from sklearn.tree import DecisionTreeClassifier\\nmodel=DecisionTreeClassifier()\\nmodel.fit(x_train,y_train)\\n\\n\\ny_pred=model.predict(x_test)\\ny_pred.shape\\n\\n\\nfrom sklearn.metrics import accuracy_score\\nscore=accuracy_score(y_pred,y_test)\\nscore\\n'"
            ],
            "application/vnd.google.colaboratory.intrinsic+json": {
              "type": "string"
            }
          },
          "metadata": {},
          "execution_count": 80
        }
      ]
    },
    {
      "cell_type": "markdown",
      "source": [
        "#saving the model"
      ],
      "metadata": {
        "id": "taGqzunC-FEW"
      }
    },
    {
      "cell_type": "code",
      "source": [
        "import pickle \n",
        "result=\"campus_model.csv\"\n",
        "pickle.dump(model,open(\"placement_model.sav\",\"wb\"))"
      ],
      "metadata": {
        "id": "NK_NfP4qxdxz"
      },
      "execution_count": 68,
      "outputs": []
    },
    {
      "cell_type": "markdown",
      "source": [
        "#deploying the model"
      ],
      "metadata": {
        "id": "-2RuegE2-HAE"
      }
    },
    {
      "cell_type": "code",
      "source": [
        "'''\n",
        "import numpy as np\n",
        "import pickle \n",
        "import streamlit as st\n",
        "\n",
        "lod=pickle.load(open(\"C:/Users/harin/Pictures/placement_model.sav\",\"rb\"))\n",
        "\n",
        "\n",
        "def status( vari ):\n",
        "    vari1=np.asarray(vari)\n",
        "    vari2=vari1.reshape(1,-1)\n",
        "    predi=lod.predict(vari2)\n",
        "    print(predi)\n",
        "    \n",
        "    if(predi[0]==1):\n",
        "        return \"HE/SHE WILL NOT PLACED\"\n",
        "    else:\n",
        "        return \"HE/SHE WILL  PLACED\"\n",
        "    \n",
        "def main():\n",
        "     st.title(\"CAMPUS PLACEMENT\")\n",
        "     gender=st.text_input('GENDER(M-1,F-0)')\n",
        "     sslc_p=st.text_input('SSLC PERCENTAGE')\n",
        "     sslc_b=st.text_input('SSLC BOARD(Central-0/Others-1)')\n",
        "     hsc_p=st.text_input('HSC PERCENTAGE')\n",
        "     hsc_b=st.text_input('HSC BOARD(Central-0/Others-1)')\n",
        "     hsc_s=st.text_input('HSC SUBJECT(SCIENCE-2/COMMERCE-1/ARTS-3)')\n",
        "     degree_p=st.text_input('DEGREE PERCENTAGE')\n",
        "     degree_t=st.text_input('DEGREE TYPE(Sci&Tech-1/Others-3/Comm&Mgmt-2)')\n",
        "     workex=st.text_input('WORK EXPERIENCE(NO-0/YES-1)')\n",
        "     etest_p=st.text_input('E-TEST PERCENTAGE')\n",
        "     specialisation=st.text_input('SPECIALIZATION(Mkt&HR-1/Mkt&Fin-0)')\n",
        "     mba_p=st.text_input('MBA PERCENTAGE')\n",
        "     \n",
        "     vari3=\"\"\n",
        "     \n",
        "     if(st.button(\"predict\")):\n",
        "         vari3=status([gender,sslc_p,sslc_b,hsc_p,hsc_b,hsc_s,degree_p,degree_t,workex,etest_p,specialisation, mba_p])\n",
        "         \n",
        "         \n",
        "         \n",
        "     st.success(vari3)\n",
        "         \n",
        "         \n",
        "if __name__=='__main__':\n",
        "    main()\n",
        "     \n",
        "     \n",
        "     '''"
      ],
      "metadata": {
        "id": "TvZUr_lKxiiR",
        "colab": {
          "base_uri": "https://localhost:8080/",
          "height": 158
        },
        "outputId": "aae16a95-8717-46de-8645-b8f048ab39e1"
      },
      "execution_count": 81,
      "outputs": [
        {
          "output_type": "execute_result",
          "data": {
            "text/plain": [
              "'\\nimport numpy as np\\nimport pickle \\nimport streamlit as st\\n\\nlod=pickle.load(open(\"C:/Users/harin/Pictures/placement_model.sav\",\"rb\"))\\n\\n\\ndef status( vari ):\\n    vari1=np.asarray(vari)\\n    vari2=vari1.reshape(1,-1)\\n    predi=lod.predict(vari2)\\n    print(predi)\\n    \\n    if(predi[0]==1):\\n        return \"HE/SHE WILL NOT PLACED\"\\n    else:\\n        return \"HE/SHE WILL  PLACED\"\\n    \\ndef main():\\n     st.title(\"CAMPUS PLACEMENT\")\\n     gender=st.text_input(\\'GENDER(M-1,F-0)\\')\\n     sslc_p=st.text_input(\\'SSLC PERCENTAGE\\')\\n     sslc_b=st.text_input(\\'SSLC BOARD(Central-0/Others-1)\\')\\n     hsc_p=st.text_input(\\'HSC PERCENTAGE\\')\\n     hsc_b=st.text_input(\\'HSC BOARD(Central-0/Others-1)\\')\\n     hsc_s=st.text_input(\\'HSC SUBJECT(SCIENCE-2/COMMERCE-1/ARTS-3)\\')\\n     degree_p=st.text_input(\\'DEGREE PERCENTAGE\\')\\n     degree_t=st.text_input(\\'DEGREE TYPE(Sci&Tech-1/Others-3/Comm&Mgmt-2)\\')\\n     workex=st.text_input(\\'WORK EXPERIENCE(NO-0/YES-1)\\')\\n     etest_p=st.text_input(\\'E-TEST PERCENTAGE\\')\\n     specialisation=st.text_input(\\'SPECIALIZATION(Mkt&HR-1/Mkt&Fin-0)\\')\\n     mba_p=st.text_input(\\'MBA PERCENTAGE\\')\\n     \\n     vari3=\"\"\\n     \\n     if(st.button(\"predict\")):\\n         vari3=status([gender,sslc_p,sslc_b,hsc_p,hsc_b,hsc_s,degree_p,degree_t,workex,etest_p,specialisation, mba_p])\\n         \\n         \\n         \\n     st.success(vari3)\\n         \\n         \\nif __name__==\\'__main__\\':\\n    main()\\n     \\n     \\n     '"
            ],
            "application/vnd.google.colaboratory.intrinsic+json": {
              "type": "string"
            }
          },
          "metadata": {},
          "execution_count": 81
        }
      ]
    },
    {
      "cell_type": "markdown",
      "source": [
        "# web application will be like this"
      ],
      "metadata": {
        "id": "tT08cSWXAEgb"
      }
    },
    {
      "cell_type": "markdown",
      "source": [
        "![Screenshot (185).png](data:image/png;base64,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)"
      ],
      "metadata": {
        "id": "noImwRkMAKuj"
      }
    },
    {
      "cell_type": "markdown",
      "source": [
        "![Screenshot (186).png](data:image/png;base64,iVBORw0KGgoAAAANSUhEUgAAB4AAAAQ4CAYAAADo08FDAAAAAXNSR0IArs4c6QAAAARnQU1BAACxjwv8YQUAAP+6SURBVHhe7N0JgFxVnff9Xy29ZSUhYQlCCCELKIjIaBTZwzYDGR1GUTSiJArvIwz4iMAjCIrgADIKE1GWBFkUxRUDMyxm6QRB1IAIAlkIIQHClj3p9FLbe/+n7q2+VV3VXZ2u7nRXvh+9Ofeee+5SW4f0r845kaeffjqjKpbJZB+elclkUm1tbdpjjz00evRo1dfXKxaLuf0AsLPYz6bm5ma9/vrrampqUk1NjfvZFIlE3P6gBAAAAAAAAAAA6ErUL6tSYfjb0tKiAw88UPvvv78GDx5M+AugX4jH4xo6dKgOOuggjRw50n1RJZVK5f0MAwAAAAAAAAAAKEfVBsDh4CSdTiuRSGivvfZy4QoA9FcHHHCAGhoa3JdW7GcX4S8AAAAAAAAAAOiOqu8BbIv1pLMA2Hr+AkB/Z19WsZ9ZFgCb4GcZAAAAAAAAAABAV6oyAA4HJUEAXFtb69cAQP82ZMgQ93PLAuAgBAYAAAAAAAAAAChHVQ8BbUsQoESjVd3ZGUAVqa+v7zAEdPAzDQAAAAAAAAAAoDNVPwS0oRcdgIEmCH8JfgEAAAAAAAAAQHdUfQAcDKNqJQAMFMEXVwiAAQAAAAAAAABAd1RdAByEJeElCFEAYKAo/DkGAAAAAAAAAABQDibGBYB+iPAXAAAAAAAAAADsiKoNgMOhSW+EKNu3N+v3v39IF150qU48aZoO+8BH3WLrVvfrXz+gbVu3+a0BoHvCP7eC9XDdjli2bJm/BgAAAAAAAAAAqlXk6aef7pXuZWvXrtXPf/5zLV++3K8pz8SJE/WZz3xGY8aM8Wu6JwhIgvkzE4mEmpubVVNTo4985CN+q5554PcP6d57fq6XV77ibUW8pfApjCjiVY8bt79mnPN5nXbaKe5eolE6XAMoz6OPPqqhQ4eqtrZW8XhcsVjM+7liP1uyy4744Ac/qNtuu01HHHGEXwMAAAAAAAAAAKpNrwTAFv6eddZZ2rp1q1/TPRZ63HfffTsUAvd2APy9G2/Wz+77pTKhQNeuExauj3jrnz3rU/r6xRe6OgAohwXAQ4YMUV1dHQEwAAAAAAAAAAAoW690SbXwdkfDX2PH2jl6KgiDe8qCXDuPC39/9ktFI9mQNwiaTTiQCdpbm6hXb8fYseH2AAAAAAAAAAAAwK7k0ksv1Ze//GXXYalwsXrbP1BdddVV/lrXrO2NN97ob1VerwTA3R32uZhKnKNSLMh96H8e0c9+9itvPaJkMpULeQOpVMotgSDsTSaT7hg79qGHHnbn6h1zdUFDgy6Y629iYJl7gRoaLvBeRbfhXsuGSr+Y7hreeXNLcL1+rC+eFwAAAAAAAAAA0Ceuv/563X777Xr66ac7LFa/xx57DOgQ+Fvf+pa/VloQFF988cWu7A29lUZWFeuRfMfsu5TJZENfG47VBAGwBb+DBg3S8OHDciFwsM+GbbV1O3bOnfeoqWm7q0c3WRB40iwt8zd31LJZJw2AAHGaZjU3q3nWNH+75/ftjj9Tut/O6y/P3iCt9p/QXfV52VF///vf3dKZuXPnatOmTf4WAAAAAAAAAAC7pkWLFumcc84p2us3WL74xS+6dl/72te0ceNG/8iB5dvf/rbLBDsLgYPw19r2pl4LgE877TQ316Qtxl6wYLurxY7tTx55dL7WrH5Ngwc3uBdu8+bNridvMCdna2urvvzlL+qCC/4/tbUl3DG23/ZZ0GYaGuq0+tXXNG/+QrcN9J1leuzBx3XUDeerPTqVJl0wSxdM8jfQLT/96U91yimnlAyB7733Xp155plavHixXwMAAAAAAAAAwK7prrvu0p133lm012+w/OQnP9Hdd9/t2tv2QNVZCNxX4a/ptQB4zJgxOuKII9xiJk6cmNvuarFj+5MnnviTC3b32WeMZv33jTr++GO0bds2bd++XVu3bnPbJ049Vkd+dIpOOul4NTU1KZFIqqWlRZMnT9RnP/sp7bnnHmpta9OCBYv8s3bHMs06qUEnzVqmuReEhvDtoudjXtuGk+Qdnsf1nsztzx8+Ov/Y8FDBwVDT/nC8of155+twb9nHkNsf7s0bDPO7bJZOCvaHrunu5czZ0uOX6LCi5y5U7FrZusMueVyafaart+ez4+MpuG5wjrznwJN3r96S/+Rl24eHXHb78++r9MNof72D9Y733R2TNHaS9/QtL3bcrvy87Ljvfe977osqxUJgC39tngIbqmLatHDkDgAAAAAAAADArue5557z1zrX1cibA0WxELgvw1/DENBleOGFl1RbW6MXX1yq3XYbrrt+cpvmzPmR/umfPqj3vGeMPj/9LKXTUiKR0IxzPq/99ttPo0aN1PTpn9GXv/RFd8wrr7yaO8eOevySw/SHE4MhfJ/VDcvO7CQMnas/6P684X4vuaA9dLWw9rBLJrUPCew1mOjvs4DvzLxjl+nMguGXZ5/5B53o9nv3cdRsndnQoMOWn58711GzzwwFeRbWHaYHT382d877J12iw/Lu3TvHBcoO8Ruc098/bZZXd/9M6agb9KztDw0BXMzcCw7TJZPa7//+0612ki54zB7LUdLM7L7HQt1f2x/PLNdLtqvnYNljy3X6s9l9zc33a2be4zXe/f/hxOx+//loaDhMy88PzneUd82C8LSozu+7XNPO9++hwzDau/bz0hN33HFHhxA4HP5Onz7d1fWlZcuWdfjWVHgxK1asKLovWGzIewAAAAAAAAAAsOPCIXAQBPdV+GsIgMvw7rvrXGlDPd9778/d0M8nnXiCfvHzu3TvPXdo3Lj93T4LgHfffXdddulXde65M3T44YcpGovqqaeeVjKZdOcIzrVDZt6v9uxzki44f6Y0+w8lwrJpmhUKSieddLqOeny5H9TN1Q8vkW54NhvqOZMu0AW2sWyWfjh7pu4PH3vB+Zr5+IN6LJQczrw/ONa/D4WO8c5lVcuCCWbn/lCX6AbNCgV02UAyfO9H6YZZF3hnM/45l60uCCvLd9TE0LUuCM5bWt7wyGU8B/nDJ0/TieHH63R8PsKvnzuf9+jyDulN3j08ZsG690qU14s6q+qflx4Kh8Df/e53d2r4a8GtXb+zxdx4441F9wWLhcgAAAAAAAAAgL5RbD7crhYMDBb4LlmyxHW+6svw1xAAl8lS+traWv11yTN67bU3lEql3Dy/EydO0H777asxY/ZWfX29GxZ60qSJ2mefvV2vxPXrN2rp0mWurZ2jJ8KhpuNd5yh/tajwcLyHXaLH/WrN/YNmKzsscAfLlnvtsj16gyF5GxrO9GoeV9ERhANHTSwZsroAMBi+OVjc/YSDviL3kwusu2faiTNdb+kOwxN3YlL44mU+B+GhkG2E6q50eP0qKhiy2d8sKttrNuiZW87zM/Cfl95nIfBBBx2k73znO/rmN7+5U8JfM3ToUDdBfmGP3vBibJ71YvuCxYbhBwAAAAAAAAD0jWK/p+1qwcBgwz5bYH/44YcXnRO4NxEAl2H06FGuHNTQoFWrVuvJJ59yga7N82u9fqPRiGuz//5jtffeeyuVSmvEbiM0bOhQvfTSUq1bt151dbXuHMG5epubj/ewB9uH47Xhdv19TieBreulaccULKGOn90XDN+ctzwW6i1aQdNmufO74YktiCyzt2u+zp6DbNgaHgrZRqgeOKZplj/M9g+7PW9uNT8vO8aGff7Tn/6kj3zkI5o1a1bVzFEAAAAAAAAAAMDOUA29nMNz/oaHg+4rBMBlOGjyRCkSUVoZF+T+8le/8TYjbr2mpsaFwca299xztA4+eJK3TNbYsfvp+edfdPu8EyjitTv4oAomntYjs2iQu0yPPfi4Zt5fImC1nsMFQzrnuF7FlR2C1/Ui3cHevD0x6YLHlO3t+kN1K+fs6jmwHtQWaPcoEa80C3W7E9KX6AHemQH5vPSu8Jy/CxYs6DAnMAAAAAAAAAAA6J4RI0b4awNTOPwN9HUITABchhOmHqdYNKZMOuOGef7731/Q1y7+hq6/4Qf67n/eqP+8LrvYerD9ox/foXvuvU+vvro61/s34v3vY0cd6dZ3xOOXXBAKMufqgjNna+b5xea3zYZ7s/8Q9HxdplkXhIaAdnOvPq5LLpjVHsoum6VZ1rzYPnd8eLubpp3vepuemdcT17v/7vbMLStELrjXYvMIdzW3cFfPQWGAPveCsoY67rEdnhPZu/eTCoZ7dvP5HqXTTwq9e3a556VnwuFvMOxzeE5gQmAAAAAAAAAAALrv+uuv99cGnmLhb6AvQ2AC4DJMPeE47bffPt5axPX2jcdj+tWvfqtZs36sH/3odt1yS3ax9WD75pt/pF/+8reup3B2/l9p33330Sknn5A96Q446obzpdz8qmdq2Q3PluzxOW1WMM+rtb1AOj9/COhps5p1/6TQvLyHPaggSZ4261ndoPCcvYdp+YnFguZy2dyz4fux5YeaeH43eooGIbId22lwPEljw/fuhsFu7wk96YLzNdOfj/ikTroFd/ocTLpAs26QLjnM3/eHE3t9qONy77s4+0JAwdy9PC89Uiz8DRACAwAAAAAAAADQ7v3vf7+/1rlDDz3UXxuYOgt/A30VAkeefvrpjL9eMRaM2Pjc5557rtu29dtuu01HHHGE2+6KtbVJrC1c6S570mxJp9NKpVJujt6WlhY3VLPN0bmjHnzwf/XNK6918/3aeS3UtXDX2PXCgnq7B9sXi8W89YyuvvpyTTv9n92+7rEenIfpwdOf1WO9MmkugO6wANgUhr9hX//61/W5z32u7L/YCj366KMaMmSI6urqFI/H3c8R+9kSLDuiuz+LAQAAAAAAAADoqUWLFumuu+7Sc88959d0ZL9LP/vss3XMMcf4NQOPBcCdhb9h1nbMmDG5LLXSeiUAvvHGG7VixQoXNJjuhg4WIE+cOFEXX3yxX1O+3giA7VwW+H7vxpv1s5/90oXAwXVsKaY9qLHjpc9+9lO6+Gv/4doHcwaXjwC40NwLGooPLzzzfjXvQnPQonoRAAMAAAAAAAAAgB3RKwHw2rVr9ZnPfEaTJ0/OBQ6nn366S7K7Yj1/ly5dqp///OdltS8UhLKV7gEccCHwfb9Uxg+FjV0rLFwf8dY/e9an9PWLL3R1O4YAGNjV9FYAfN9992nSJH6OAAAAAAAAAABQrXolADYWAlvQsHz5cr+mPNbz96yzztqh8Nf0ZgAc9AR+6KFHNOfOe7Rq1avetWxP4VNo4UxGB44/QNM//xl9/F9Py1YDQJl6IwAGAAAAAAAAAADVr9cC4J2lt3sAB7Zt26aHH/6D/vjEU3rxxZe0bt16d93Ro0fp4IMP0vHHHaWpU4/X4MGD/CMAoHwEwAAAAAAAAAAAYEcQAANAP0QADAAAAAAAAAAAdkR2sloAAAAAAAAAAAAAwIBHAAwAAAAAAAAAAAAAVYIAGAAAAAAAAAAAAACqxC4RANt8wAAwkATzmQMAAAAAAAAAAHRH1QfAQYhSX1/v1wBA/1dXV+e+vBKEwITBAAAAAAAAAACgHFUVAAdhb3jdApRUKqWhQ4e6egAYCAYPHux+dtlSGP4WbgMAAAAAAAAAAAQiTz/9dKZawoTgcQShbyKRUHNzs2KxmD72sY+5fQAwEDQ1NelPf/qTG73Alng87n6WRSIRtwAAAAAAAAAAABRyOcJf//rXTKk5cgdiMByEv8lkUq2trS44OeSQQzRo0CC/BQAMDO+++65eeukl98PahoS2ADgIgQEAAAAAAAAAwK6rVFYQjUYV+eMf/5ixwLRUCDyQWGBtj8OW3XffXaNGjdIee+zh70WlVEuPcWCgeOONN7R+/Xpt2rTJBcDuhzchMAAAAAAAAFAR/K4NQLWw/MB1JGtubibNQ0ldhb2EwQAAAAAAAACAgaar0JdQGMBARgCMogqD3WJBL+EvAAAAAAAAAGAgKxb0husIggEMRATAyBMOdYP1YnUAAAAAAAAAAFSLYqEvQTCAgYoAGE5nwW+pEgAAAAAAAACAga5U+BteD4TXAaC/IgBG0YC31Hq4BAAAAAAAAABgoCsMesNlsATb4RIA+isC4F1cqaC3cIlGo6qtrVU8Hnfr4b/0AAAAAAAAAAAYiNLptPsduJWJRMItJvw78GA9vB0ugULvbk7ot0++o8Z/bNS6zW3asj2pzdtTak2k/RYoZuSQuHYbUqPhg+L64IFD9cmP7aWJ+zT4e9EdBMC7MPtLLSiLLfaXl4W+tljoCwAAAAAAAABANbPfjSeTSRcEW2mC8DdYgrpwCVjA+9gz6/TAU+/qT0s3a9I+g3TsISO054g6F2iOHFqjujjvl1KS6Yw2bUtqU1NS67cm9Odlm93zaAHwv31kT53+4dEaM7LWb42uEADvooKQN7weLPZNJwt96+vrCX4BAAAAAAAAALskC4FbW1uVSqVy4W8wQqYhBEZgyctbdfV9K/XG+lad98/76vQPjdJeIwgre2prc0qPPL1Odzy61vWi/urH99MnP7anonzkukQAvAsqFvwGw1zEYjENGjSI4BcAAAAAAAAAAE9bW5sLgu136EEIbGw9WLBrWv5Gs67/9SoteG6jZpw4Rv/3E/tpUF3M34tK+lnj2/reb1ZpzxG1+n+fOkDHvm83fw+KIQDexdhfUEEZLOHwd8iQIW4/AAAAAAAAAADIsuGgm5ub3e/SgxA4CH4JgXdNK99q1pdnveTm9f3JRe/VhDHMVduV4PMTsO2U99lKpbNzI8e8z1W8psatB8LH2PDQ/3HbMv3tla26+cuTdPyhI1w9OiIA3oXYhyQogyUIf+vq6tyQzwAAAAAAAAAAoCP7fbqFwMGQ0EEIHIRT4WAL1c16/F54+zJNHDNId170Xg0fRK/fcrk5tttavc/SdrW2tigey3/uksmU6hsa1NAwSPGaWsXjcX9Pu2/d94runv+mLpy2r7fs5332/B3IIQDehYSD32Cxv7DswzN48GC/FQAAAAAAAAAAKMbCXwuB7Xfr4QCYEHjXsertZk37zt917CEjNOvcSX4tuuJ60W9v8pZt7nNko9Imkwk313Y6nY0qo9GIampqFI/XuDZRr83gwUPUMGiw1z4/CLYA2IJgew1O+9AovxYBAuBdhIW9QRkEv0HdsGHDXAkAAAAAAAAAADpngVVLS4tbDwfAwYLqtbU5pWlXP6sRQ2r028sP9WtRiuVQ9pmw4Lepaasy6bRXNrkw2OqDzCr43GTX7YsV2fUa68A4ZLC3HfPKYa5ncLj9d3+5SvcueEu//saheu9+dHQMy85Ujl6zadMmPf74425ZvXq1X5vP2pTaV0nBBylYLATu6zl/t2/fruXLl7sSAAAAAAAAADAwrF271l+D9VC0Jfhde1jhNirDMhTLWSxP2Zn+85er1GJz/n71vX4NOmNB7ebNG7XVW1qam731za5nr7GMynoB2xSlsXjMjVbr1mNRt88kvbabNm1xw0Vv2bxB27ZuducMPmff+NQ4fWjSMH31juVK+b2IkdUvegD//e9/1y233KLbb7/drxnY7AfRtddeq8WLF3cIdseOHaujjz5al19+uVs311xzjWv72GOPue1KCz4IVgY9f620v6AGDRrk9vWmJ5980r3Gr732mtavX+/XSrvvvrv23XdfHXbYYfrIRz7i1wIAAAAAAAAA+purrrpKI0aM0Kc+9SmNGTPGr+1flixZoqefflof+9jH9N739m5A19lQ0Lb0NQtGzz33XLd+//33u3Igs8fzxz/+UXPnzu2QtViWNH36dH+r76xYu12nXPk33ff1Q/ThSYys2hnLoexzsGXLJjVttQA3+1kJ2GfGwt+NGzfqrTffynUaHDR4kPbee2/ttttu7jMWHBN8phoaGjRs+AgNGdr+/G9qSuqoS5fosn8fp88eu6dfi53eA9iCwVNOOSUXUg50X//61zV58mT3uCzkfeqpp9wbO1huuOEG91itzSWXXOIf1fvsmsFzHHzw7IPSmyzs/a//+i/98pe/1MiRI3Xaaafpiiuu0G233eZK27Z6+8vI2oXDYQAAAAAAAABA/3HZZZe5APjmm292QWt/9Ic//EEbNmzQgw8+6Nf0HguvrJOV6Q/5hj3mRYsWueXee+/1awcWy1Wsc92UKVNcCDhz5kwXBH/lK1/JZS2WsVgO0xejqha6+uerdPz7RxD+lsEyKOvxu23LZrW0tOZyqWBfJp3R35/9uxYvWqwXX3zRvZ62vPjCi1rUuEjPP/e8Mt7/gmOMnaOtrU1bXG/i9lFmdxsc1wWn7avv/+5VN0Q3snZqD+Ag/LUg8I477vBrByb7IXTmmWe68nvf+57r5dsZe+xf/vKX3Zv3qKOOctu90QM4HPraYt+WsMXC39raWrevN1ivXwt+3/Oe9+iLX/yi6+1bigW/P/nJT/T666+7b4999KMf9fdU2NKbdOxBX9Xk32V068f9uj70wHkRfWLpD/RS40Wa7G0vvelYHfTAx3PbAAAAAAAAALCzWa/L+vp6HXHEEX6NXPAWdCiy8PdXv/qVPvnJT+a12dnsviwEveiii3TTTTfp9NNP7/X7s9+121zA1lPRftcf9AQ24eCqL0yaNCnXK/anP/2pli5d6tYHAstHrMOc9fS1vMTylWAp5sMf/rB7fa2jWV958C/r9B+3LdPC//yg9t+j3q9FKalUUuvffVutra1usc9D0JvXhnpe8tclLvAt1lHRsqyW5hYdMP4AfeDwD7j5go19vmyfHROP12jUHnvlfeaOumSJph42UleddYDb3tXttB7A9g0U+xZHNYS/xsLc4cOH69FHH+0y/DXvf//7XVt7s/7whz/0a3tPEAAHi33AeosN9Xz33Xe7H8AXX3xxp+Gvsf3WztpbaGzHY+daMudSXXppsMxRh+/zrZ2r63L7Q8t1c1U4E0j+ua7T3M6mCrHzFjkHAAAAAAAAgL5hvWgLe9BanYWqNg+whaoW/loI3J/mBbZ7tKGfrZeylfPmzfP39B4Ln4JQygS/f+9rlrfY3Krnn3++W6yj2kDqBWz5it2zhdbWUc6C3c5yFssSLCzuS48+s17HHzqC8LdM27ZudcFsa1tb3pchrGPiqlWrtGbNGhfkBp+Z8GIaBjfo1VdfdXlRuKe9ncu+dBGNRtS0LXuNwOeO21t/eHaDv4WdEgDbDx77QNs47dUQ/tocvvYNFXs8Ni55Z+yHmE1Ubsvzzz/fJ99QCT4wgeAvpd5y1113uYD7hBNO8GvylQp4rf3EiRPd8ag863EcOfYmdfW9Lwtsf7V8oj55/fW63lsuPPJd/apocDtCR16YbZNbLpum8Owf7lzvHqkLc+eSnri5eAi8du51uvTmJ7TR3wYAAAAAAADQt8JDO4fXTzzxRBes2vR+QQj8wQ9+UPfcc4/fYueye7VQyIJfY6X1Wg4/ht5iQ0Gbwt/D9yXLKCz4tXzCFlu3oZQHiueee85NqTl27Fi/pnMWAPcle2kX/WOjTj68885u3fHYD5/QuBmh5YfBL83X6vK87d7Qu9ewHrsWzjY1Nfk1WRbW2hDOa1avyXVSDAe4gYj3P3nPeTQS1ZpX1+R62Ifb2ue9qWmb2xeY+oGRemN9q15+s9mv2bX1eQBsP4iC8HdnTNJdaRbo3nLLLW7Y567CX2Ph90knnZRbbMhjU86xPRV8e6I3h362b4bZkM5f+MIX/Jp8y5Ytc++B+fPn+zX57Dg7vi/maEARa+dq3nJp4idnKBgcZcy0z+vIERv1xMPd/I8ld64ROvLz7aFw0XMtmeN6B9/8BNEvAAAAAAAAsDNZYPre977XLU8//bRfK9dT7+yzz3b1FgJbuGohXF+FrJ2xQNp6+1roGwwna2XQC7i3eylbALyzQmDLJyzoDXr/BgZaL2AbXdUeQ7msA1pvTKlZyrOrtmpbc0onViQA3qo7L39C52qcVs050l8O1TfVpJVu/xhda3Xnh7taVVrvXqOtNdtD14LgILK1z4Z1TLSfGdu2bXPrQWZVGAJ7tdn2sai2bN3i9/ht72lvbFjpTDrlrhUYv1eD3jOqTn/423q/ZtfWpwHwl770JTfccbWEv8aCymHDhmnatGl+TecuuOAC9wYvXGzo474S/GXUG2zuXwu1Bw0a5NfkGzVqlBv2+7DDDvNr8tlxdvyf/vQnvwZ9au272qgRGp33c3+Mxoz2VwOu3WiN6eTvh7VLXtTGEQfriIJzHXHwCGn533PDSq/1zqUR2V7CFx7p7QMAAAAAAADQ5zZu3OiGZrXg1JZXXnnF1YXZ725tfmCbJ9hCVusFbOt9xcJm+528hdDXXXddtmPJzTe7e7J7DrNtq7f91s7a23F2fDjc7ikLpizACodTpnC7p2y+VAt7zzzzTJ188snu+d97771dh6vCDmpBL2DrjGftChc7rj+x4Z5LDelsj2/y5MlFH0d4sccUDCVdaX9buVX7ja7XiMEVmFpzzVt67K0afXNa+BfnQ3XO+RM03t8a6Kz3b/C5MEF4a9sWCgdzAQefm2BfuM5KW6yHb1uize0rbGdDQzdv3+62Ax+aMEzPrNzib+3a+iwAtvDXfrDavLfVEv4ae0zlzPm7s9kHIxB8QCptu/dB27Bhg/bdd1+/piOb7/ejH/1op/MC2/HWC9jO1yceOC/3wyS7HKubio6T/IDOy2sX0bG5hh33Rc57wN/XlYJjix7X2bXbuWGew+1syOelN+lYb/2gry6SFn1VB7l9/mP0e9/OCdLYMaM1Qhv1bt6X4tZa3qsR+alwF9ZqyYvefxx6xxQeNcalye8q+OLdmGmXdRg6GgAAAAAAAEDfsjl0LUQbM2aMW2zdpjIsZMNBB6GvDQX95ptvuk5Ovc2uab+Pt99BH3DAAZo6daoL/L71rW/poosuciFgmG1bve23dtbejrPj586d22vBdfh38ZX04Q9/2N33fvvtp6OOOsplLU899ZR77otlLjb9pO23doXLI4884rfqH6w3ebH3mvVgttD7c5/7XNHHEV5uuOEG9/x8/etf94+unHc2t2nM7nX+Vg/tN1jjldDKt/ztDrI9hD/9663+tmfNCn06N1z0X3TnX2z778r1gf7L3716bzuvXWh/B4XXyA4JfflfsvXBsNSX/8Xf3Q2ZdFrJZMIN9Wwsp7DA10r7bNjQz9az19bDgW6wHi6NdWisiWfnAA7vNxYmt7Q059oae53e3Zzwt3ZtfRIA21DHP/3pT3XMMcfooYcech/YHV2sB3F/YnP/ViIAtm+lVPqxhd/0xrZtsW9b9IZgbt/OAmDzjW98wwW8pQTHl5oruJIeOC+iyCeW6gcvZZ8bW176gfTVgyLKy2FdiPoJ3Xbu73LtMl7DybndN0m/az+H7Tvmtk8UDWnzuED2EZ3S2XEuoP6Elv7gpbzzezeZFxZb+HvQVyd7t+G3ybykH9gNTr5Ijd72Sz84RjrmB3rJ7WvURcHNh42ZpqkTpeW/mtPeQ3fuPXpi40RNDX0jyfXa1XL96tJLXYDsvkFXZGLfoqHxGAuZAQAAAAAAAPQXFiK+8MILeb1obd16yhaGuzYMtA3JakMrW1BsenuYZWOBtF3Xrm8htIXP48eP7xD8FrL91s7a23HB/VeyF2xv/c497NBDD3XBl82Va+Gu5RI2FHJnbL+1K1y6Oq6v2T1ZD2dbwizwt/A3eLzBYkNGW6YSrrMQ3HpCWwZVaes2J7TPyAoFwBqjc06t0X23FYS8pVio++13NP7cYLjog6Tfv6M/+7vbbdO5tyk7tLMNKb2Xt93NOX7vu+0lyb/OPHePnYXIxSVTKRfyJhLZENayioD15rVRYIcOGZqb1zcQDn2NbVuboUOHus9weK7foAexXSMWj+W2zT6712vdlt4LgO1LCdYD375sEGbvXfuiiS2F72Nra8fMmjXLr+kbfRIABw/21Vdf1aJFi3q0lBoGYGdZs2ZN2ROTd8YmOe+Nb6YU01t/GS1fvlwTJkzwtzq3bt06f604O4+dr1ctvUk33XaMfvBSfhg6+aJG/e5c6babblI2hl2qm877qhZZ+Hvrx12NM/ki3eofaMeEd9m+i7xzLFraRQAsu/6tyh0aHPfAI+3Xvuk2HfODl9SYf5NqzN5krrfy0qWLvB/Op7SfS5N10a0X5ULqoo6Yoeuvv14zggl/PUfMuF6fnNge7t78xGh98vr2OYGN67XrHZdbPjlRG5+4WZfmuhJ3pbCXMQAAAAAAAICdxcJfYyFpIFgP9gUsjLGhn4Pgddy4cW646N5mIe4nP/lJ/epXv3LBYHfYUNZBSG2P68ILL3Tnq5TC37mHg6xKsWkk7bxTpkxxHdO6YgGp9aottpRzfF+yjMV6NheGavYYiuUv9voX61BnbXtjCOjX17VorxG1/lbPjf/3D2nVVXtIDz/XZU/bx+a+oz9/YJyu/ZBfYcNFn7uHPuxvtavRN88NhpH22vzrEOnNYF7h8nz41IN0zn7Z9fH//h6dpVa9via7XS4LY+3dH3wGwp8FW7dweP9x++d6BQeKfWbSqbT7+RIMIV3IQmGrDwfAe4+0HsDZ3se9wQJeyykvueQSvybL3rsWDttS+D627K/YMb2tTwLgP//5z7lvp9gPKZuce0cXO76/qcQPlMJvBAxENqyzDZ9RCdZDuLNhoith6SMPaNExH9cpRRLSj5/iUlg9YuHq0kf0gMtWwwlvMUt107Htwy9/4jaretUPcksocv3Jk4+x5Dh7nLv2Md79FL1JnatFesDdpH9cOb2OO7VEcy69VPNGX9ge7l44WvNK9PDNsSD5k9Z1eJ46a9aucJ5hAAAAAAAAADuLDYdsoW6hUnP82lzAI0Zkx/mzOWkL59/tLRbefv7zn3dzAZeTFdiw1ldddZWb/zeYC9iOC+59ILF5fW2oY8taTjnllC5DXAuibHTWYov1RuxvrBevhdP90dBBMTW1tPdArYj9JugX1lv33CGuN/C4or11t+r1N6UP7zXU3+5Mnd7jh7c5b23vVgA8fr/C63Q2VHVxFulaKBuEu1YG4a0FuTY09Hv2fY8LdpuamnJtw4vVbW/ervETxmufffZxPX2DL1mEz22itu6f37S0pVUbb99fafZFBWOfw7DwFxUKv7QQzM8dHNtX+iQADn4w2QtTzg+mgcTG2rfeuz1l57Bz9Tb7YIS/DVFJlZq7t5y5hCvB9Zgtx9KlWqRjNLmTrrRuKOnIQXrg4+3DNFsH3R5z1y6P9ULOeBddZEND2w9Km//X31euJXN+peUjjtTnwxPQj5mmzx85QhufeDg3LHRRYzrOH7yxWDffte96rQAAAAAAAAD0B9Yz1ubxfeKJJ3LTvQWL1dm+zoZ4tjC1q2GYK8mGcD733HNdz+TCnnYBG7b6pptu0rx589xwz2E2rLUFwpUctrrwd+7hgKqSLGuxAPu0005zWUtnHcsuuOAC9zwUW956q5upXh8oNQ9wfzB6WK3Wbe2lYYU/9H7XG/jDf3tdd5bobdsxmO2/ItGIovKW0GfA5RXeEoS3mXRGh77/UB188MFuv31GW1pb1drS6tatzfve9z63JFPJvGNtCUQsFC6oe3dLm94zqt7fqrxly5a5vLPwCyjTpk3T0qVL3WLrYdZJ1o6xsi/1SQBsghDYEu5qCoFtrPxKDEttz0elx90Pv+lNsN2bAbDp6dy95c4l3FOux2w5Jk9Wpy0fOE+fcENJZ/KHaa6Erq5d6OO3+gH073Sum1/4PIWnMu7cWstmvb/Nxqiwc+6YIw7WCL3r/UeRX9El7xyjveJd75zZipzs/MGj5U8PAgAAAAAAAGAnsh6+1hsvmL+ycLF9xXoB70w297D1QraAuhjr+WvBdcCCpqlTp/pb2cCpnB7E5Qr/zr3w9/K94Y477nBZi/XyrRbWA9hGWy2Wt1jQbb2Wg+WnP/2pnn/++by6Ul8GqIQ9dqvt1Xlltd9gf+jmQkP1nr2l+/5S8Fv2t7YXmQO4f4jHapRIJVVT2z5ktmUWxnrx2ufDtu0z8973vVfHHX+cPnD4BzRp0kRNmjxJh3/wcFd30EEH5eb9tWPCPYADtTU1SiaSisXjfo307qY293r1JnuvFmM9f4sNWW7smKAncF/pswDYFH47pRpCYJuAvKdj5tuxdg77hktvCf+l01sBsLEQe8GCBf7Wjpk/f36fTEI/ef/J7cM8F3jgkdvah2eevL8mh4ZaLo93XhsCuqc6u/YDj+g2lRgeWh/XrS/9wNu7VK+WfdudhLZLXtTGLkLbbJuJer8/TcgR758obXxRS/JOtlZLXtwoTXx/3pzCAAAAAAAAAPqe9Qa1HrE2tLLNiVtssX3W29ba9id2P8UCFZvvtzAYtsD4gAMO8LeyLCC2oaR7yn7fbr9/D/8Ovi+Umh83YLnDtddeW3S55ZZb/Fb9h72WlrfYPKmFecvw4cPdCKrBYuH3sGHD8uo6ey566uD9hugfr271t3pozQp9umC455W/fl337TVCxxQZIfikDw2R8noHr9Xlt23z1/sf6wFcW1OrmlAoG8zhGwS/9lmpra1VMpn0DvBe++G7uSlBR+4+0r3WXkO3r7au1rVN+8faEgTBpqYmrrq6+rzP3gtrtumgfQf7W7u2Pg2AA/btlCAEHujfULGg0n649GTyZvsWlZ2j1LcGKsk+CO5D1UssxH722WfdUsqECRNK9u614+yHe2+G4Tkfv1W/O3eRvnrQsQpPm7v0pmOzPXpvvUjZaPXjutUfWjlvft2lN+k823a9dPND2gfO+4Qqkf92du1jP3GbjvnBrQo6HT9wXn5vXzfHsfcILOc2RQPvJXPcUC5z/P/OOeLUIzVi4xO6JzyR79q5uueJ/NB2yZw5+cNBe+e52Wsz4shT24PdI07VkSO8/9i6Z24uUF479x49sXGiPjmD+BcAAAAAAADY2Sz8teDNQt5SbF99fb1r25/YEM7F5vIND+289957ux7MwTDVtm5LoBLDQFugFXS6CgdR4fVKs/B3zZo1nYae1mt20aJFJZf+6Hvf+54Ld6dMmeLXZNl79IorrsgtlqXYYw/X9WansimThqstmdGzr1QgeLXevn9bpXEznsgtU/82QvOunVC8F7ANEX1unb7z7aD9uzrGhoz2d/dHg4YMcb13g9664dKCX/u8rHpllZ588kk1Lmh078c/PfkntyxqXKSFCxvd+qqVq5Tx2tbW1hQ9VzKZUsPg/LD3yZc269j3Dbw5vntDpLm5Ofts7QSzZs1ywentt9+u6dOn+7UDj/0g/fCHP+zG1L/88sv92vJcc8017hs3Ni54b3xDxT4E4cU+WFa6b1H0kgcffND14v3ud7+rQYMG+bVds7l/v/GNb+iEE07onQDYQtODvqrJv8vo1o/7dR4LfA/6avgvvHP1u8ytCjXJ8o9vb2nDPjdmA9gHzlPkE+2R77neNU55JKJPLP2BXmrMBsk2T3B42133gY/ntgPZ+5mcfw8drp29RvhxuPPnpc6Fj2Opbjr2IGUfqn/v2+bo0l8t18RPXq/2THaJ5lz6Ky33t0z+fst7L5V3WMgIHXnhZQpPHZy1VnOvu1mWH2dN1Cevn1Gy9+/audfp5hcP1oWXTeswDDUAAAAAAACAyvrP//xPF/CeeOKJfk1xNqSyBcCXXXaZX7Pz3Xrrra6HcuG9273a3L/mW9/6VtH5iW1+YOsBbGHweeed59fumLa2NrW2trr1YIjbYOktNkyyDXsc7pVtobD17D3kkEM6zEE60NhjsdD3pJNOcmGvBbxhlqvYc/DYY4/5NVnFnpdK+fT1z2vK5OG66F+LdNPta3/5u8b9flDp0Hgns/D37TffUDLRprZE+9DZNTU1evOtN/XiP150r7F9XmKxWN7nxeVYtnjnsDzLvrxhQ0Xvueee7rMWtLVz1dTUao+9xrhzmCde3KTzbnlJS276sOpqdkr/135lpwbAxnoAWw/YgR4CB4/DHsMNN9xQdOiJMHtzW0BqIXhvPnb7sARlEP5aOWTIkNyHojd85zvfcT9kzz77bE2aNMmvLc0mzr777rs1cuRIXXzxxX4tAAAAAAAAAKA3WO/Xm2++2YW6xXrShtmwytddd50uvPBCN5xyf3DVVVe5jkQWYK9cudKFvh/72Mdcb2X7nXuYzf9rQ0AXq+8q/O6K/R48kUjkwt9giNog0OoNliv88Ic/dL9XD4Jf27Zhka0X7UAPgAP9KQD+8f++rp81vqU/3rCzR7dcq8tnrNLKUw/VL/59qF/X/2zZtFGtrc3asmWLy6UssLXP6XN/f877cNj8vbWu3hb7rFjp2OfGr7PFPlvGenjbFzYSyYSrt/d6XX2Dhg1v/9n1lR8vVVsyrTsuONiv2bXt9Ajcgk/7oWsf2IHMHsf999/vJhq3oa1tTt9S7IeQDWFwzz33uGN6M/gO/yUTrFtp35ToTV/72tfcB/L73/++m/fZevcWY/W239pZe8JfAAAAAAAAAOh9FuRaoNtV+GusTX8Kfy3ga2lpcb177ffLljFY8Gv3Z4utl6NwXuDusukWgwArWPqCDf9sv0+3jmmWNVggbB3TLBCulvDX2KipxbKW888/3001WsiyFxtCujd88mN7at2WhO5b9LZf00est29ouOhxM1ZJ5x7Zr8NfM3joMKUzab+nbo1Wv7paf3vmb6qJZ7fTqbQy3v/sMxN8hrw/FAnWPdaT2NpaZ8ZnnnlGa15b47ZtGGk7Zoh3jcDLbzbrf5es916nvfwa7PQewNXGvm3z9a9/XT/96U/dtv0QDub2tblt7QeQscnM7Zs4XfUUrgT7IIQX6wFsrBdweMLs3mB/4dx1113asGGDm8Tb5v615bXXXnPL+vXrXa/fL3zhC2X1FAYAAAAAAAAAwHoAWwhsvQKtF68NBx344x//6KYqDNhcwPZ76BdeeMGvkQ4++GA3gmVP2NDP4WFpw0tvCqbXtKkeLQy1pS+yhr4W9Oi1jCXIWUqxqTotELdpOgt7DFfKdb9+Vb998h395fsf8mvQmZbm7dqyZZPeeettNTY2ujrLpCynMlYGnxW3bqV9fgr2WWm5lpXHHX+cy5qG77a76kPDu/9/tyzVO5vb9JtvHOrXgAC4l1gQbH/B2A8o+8Fj7Nsq9kPKhqXoyx/G4Q+TLcFQ0PF4vFtz9PZEEPgGSxAEBwsAAAAAAAAAAOWyYamtJ3CpXsk2WucTTzzhb+Wz0NjC32LzA5fLev9aABwEU8EQ0CYoe5NlD4ceemhVBr9h9jgt2A1yllLsebDspTdHXN3anNJHL/6L/u2je+jbn+2Ps+/2H0GAu317kx793/9xvdZr6+rc3L7GfUYy9v/SEaW1CfIt+3y1trZ5n939deLJp2jQ4CGu3sx7dqO+NOtF/fr/HaoPHti/e0b3JQLgXUQQ/oYX+4tp8ODBLggGAAAAAAAAAKCa2Jyj1hvY5ju23sLWE9jmDLalJ+x369bz15Yg+A0vqF4P/WWdLrhtmW48Z4LOOHIPvxbFWA5ln4cXnn9ef/3LU2r1PoNpP5sqV/CZikYjqq9v0Ac/9GG9732HuHPYZ+/F15p0xrXP6dNH76mrzurZkO7VhgB4F2EftKAMB8D2wbEQ2D4oAAAAAAAAAACgNPvdugW/iUTCrYcDYBOUqF43/X6Nbp77mh644v16/7j2nqjoyD4j9pl4bc1q/eWpp7R580a1trS6ILirz0rw+aqrq9Vuu43Qh6Z8VO8JjSi7YWtSp1z1jA7ad7B+ctF7FeWjl4cAeBdiH5agtMUC4OADZCEwfzEBAAAAAAAAAFCaDfschL/2O/XCBbuG829dpkX/2Kgf/5/J+tjB1T0Md08FnxXrhf/Si//Q0pdeUtO2bW5fOpVWKp1UOp3Nr6ynbywW95bsXMFDhgzTpMmTddB736f6+vrcuV5f16rP/dc/FPXWf//N92toQ8wdj3YEwLsY+3AUW2KxmJsPmL+gAAAAAAAAAADoKOj5G4yuGV4Mv1/fdbQlM7rkJyv0+6fe1ZWfOUBfnLq3vwfFWA4VfD6am7dr7RtrtfrVV7RhwwalkinvM5WdG9g6LMZrajRy5O4aO3Z/7b3PPrm5uoNz/HnZFn35hy9qzMg63f1/36c9hte4/chHALyLsQ9IUBYu9sGxENjCYAAAAAAAAAAAkP19ejDnr7HfpYeXoA67nrvnv6mrf/6K/mnCMH3jzHE6dH+GhO5MMHdvIJVOaXvTdvfFClNbU6NBBdOWBse8valNN/52tX79xDv6l38ape+dM0ENtUxvWgoB8C7I/rIKysLF/pKqra11C39hAQAAAAAAAAB2ZRZMpVKpXEAVhL7BEtRh17X8jWZd/YtX9MSLm3TSB0bqgtP30/vGDvb3oqfe3NimOx97Q7MfW6sD9mrQpf++v3ue0TkC4F2Uhb1BWWyxXsBBEAwAAAAAAAAAwK4kmUy6xcJfWwqD3yD0DUrgjy9ucr2BV6xt1nt2r9PUw0a65YC9B2nvEWQt5drYlNSqt5r1+AubNP/Z9Xp+dZNGDo3romlj9Zlj9lQ8xmeuHATAuzALegvLwiUet8m2Y7mSv8wAAAAAAAAAANXGfh9uQ80GgW+wXizwDa8DYd7bSP9Y06TG5zZo0T826m8rtyrt1dXVRHXAXvUa1hD3W6JQcyKtV95q1rbm7HzA4/dq0DGHjNCx3vLhScNVG+fz1h0EwLs4+0utVBksgeAvNguCbbx1W4K/4MLtAAAAAAAAAADoj8Khrf1e24LeIOw1tm6C34cXWw+XQFdWrN2u19a1avU7LdrclB1KHB3V18a03+h6t4zdo15DG2L+HuwIAmA4QYBbrCysM+F1AAAAAAAAAAAGonCQWyzkLawz4XUA6I8IgJFTLODtqg4AAAAAAAAAgIGsWLhL8AtgICMARgfFQt9AqfCXUBgAAAAAAAAA0N+VCnEL6wl+AQxkBMAoqVioS9ALAAAAAAAAAKg2xUJegl8AAxUBMMpG+AsAAAAAAAAAqGaEvgCqQWThwoWkegAAAAAAAAAAAACq3pQpU/y16hXJ/Mu/lA6A7YsutrfcL7x02d5vYN+gsd6k7ps0nRzQxe4OumznnzDvuqVKvwhtlrTD7cIVRcq856kT4cM602U7v0Fvvj7ltM+1Cx9QWPpFOecLdNWuy/OFG3hln78+BYq+TkVOUKK6g3LbBXLXDYRP4JXlPj+B8OGdKdkuvKPw+qH6jgdmlajuoOx2XsMur+/v7+S2cood3pkO7cMVodLdXxnCh5WjZLvQdbv7+pRz/bLbeQ1KXr+wbC+61J12odPnV4RKd5/+ZmfCh5Wjy/Z+g53++vjbeQcWln5RznkDXbXrcL5wRZEy7/3UifBhnemyXbhBcN3CA4qcoGCzpGKnKybXLnxAYekX5ZwvUG773P7wAUXK/vD6lPPzrmCzpBKHd9ChXbgiVJb7/ATCh3emZLvwjsLrh+oLDyxR3UG57QI7/fp+mRM+gVfm3V8ZwoeXo0P7oCLgb3f1/AS62J1TdjuvQcnXp7D0i9BmSTvcLlwRKt19+pv5B+QLH1aOLtv7DYo+T0V0sbuDrtrlzhc+canSL0KbJe1wu3BFkbI3np9O2/sNdtbrE8i1C1+gsPSLcq6/w+2CikC4gVfmPU+d6GJ3Tvj0RYUbFF4/VF94ghLVHZTbLlD0uqETuE1vu6vnJ1BweEkl24V3+Nft7vXLUXa78PVD95V3guA+vdVwdTHFDu9Mh/bhilDZneennOt32c5vUNbzE1KiuoOy23kNS14/VLp2/mZnwoeVo0P7cEWozLvPToQP60zZ7bwG3X19yr1+OXLX97fzLhAqXTt/sxzhwzvToV24okiZ93x1oovdOeHTF+U3yLtu4QGh7WK7O1Nu+1y78AGFpV9063xuq7SS7cI7QmW/en0KS78IbXap3Pa5duEDipTuPv3NzoQP60yX7cINguv7ZWfCh3Wmy3ZBA9+AeH2yZePiY3bBADj8fDgFT1CRJ6rggHxd7O6gy3b+CTt9IUNKVJfU7XbhCxS5j4LNkna4XVARCDfwyrzXqRNd7M4Jn74ov0HR90dh6RehzS6V277k/vAJvLI7z0+51+20XbhB4fVD9YUnKFHdQbntAmVdP9hfhmKHF1OyXXiHf91yXp9A+PDOlHm68p4fT4nqDsptF+j0+qHStfM3OxM+rBwd2ocrQmXefXYifFhnym7nNSjn9Ql0sTun7HZeA3d9fzvvwMKyvSipoHmXOrQPV4TKos9TEV3szim7ndegy9cntF1sd2fKbZ9rFz6gsPSLbp3PbZXWZbtwA6/Me746ET6sM122CzcIrhvaLjxBwWaXym2faxc+oEjpnh9/szPhwzrTZbtwg+D6ftmZ8GGdKbddoKvnJyi7ur9A+LDOlGwX3uFft5znJ9BVs/Dpy5F3/dB9FZ6gRHUH5bYLFL1ukbI7z09wWDk6tA9XFFw/1y7vgHzhw8rRZTv/hF29PoEudufscLtwRWHpF52dt6v9hTq0D1eESvf6+GVnF+hidwddtvNPWPT1KSz9IrRZ0g63C1cUln5R7nnL0eX5/Aa9+fqUe/1cw1KlX4Q2S9rhduGKwtIv+vTvS79Bua9PoMxmZbcLFL2PIico+3ze0q37DB9QpMy7vzKED+9Mmafr1vNT7nXLaRfo9Pqh0rXzNzsTPqwzJduFdwTX9ctwfccDs7rYnVN2O69Bd6/fmS4O76BD+3BFqKz06xPo0C58guC6fhmuL3WBLnbnlN3Oa9Dl9UPb4erOdKdd3uXCFUXup2CzpIq1CzfwyrznqYgudnfQZXu/QaevU+gEBZtd6qpdh/OFK4qUeffZifBhnemyXbhBcN0yTtzF7pwyT9feLnxAYekX5ZwvUG773P7wAUXK/vD6dLh+kRMUbJbkn7bL9rl24QMKS78o53yBTtrvKgFw1C+z7MkISrfu/RGUjl/amyAog/2urmCxIijDx5Ti2oWWDvzKvOv6pWNlaHHVftnh+oWlx7ULLaXk9nt/BKUTLm1fqOzs+m7VL0PVHYT3uXXvj7x24QZWhEq3XrgYr3SbobKUYJdrl13NlY6/kXddt9JeOlaG6lw7t9Fe5rX1hauK7M4J9ofbOcGGX+bdp62HynBbt+qXuWOyRZ6gzrXLrua3K6jMu75baS/DS+7erLA/QqWr9IWriuzuoNj1HSuDxQqvDNp0uG6odKt+GaruILwvr13ehleESrceKgvbun2hMlcdrIQE+8Ptism7vltpL8NL7t6ssD9Cpav0hauK7O6g0+uHytz1/cXV22JCpVv1y1B1SeE2bt37Iygdv8y7T1sPFhMq3apfho8pFFS5dtnVXBmWd1230l4WW6wIyg7XD5XhqsLdYblz+Iv9EZROuLR9/hKsO6HSrfplqLqkcBu37v0RlI5f5u4ztD+4j/BiRVCGjykUVLl2oaVQ0ev6ZW4x/rrb9MsO1y8sPeGqIrtzcvu8Fbde2NhK2xcqO7t+uCrXLlvkyWuXXc1vV1AZvqZbD5Xhtm7VLyt9fbcaKh0rrS5U5q7rl3ltfeGqIrtzcvu8FbceKh2/LPf6btUvg3O6ugJBXXh/XruCyvA13XqoDLd1q34ZPia74peecFWR3R2467qV9tIpKF270Hp2pWPpVv0yVN1BeF9eu7wNrwiVbj1UFrZ1+6wIlU5QesJV4aWU4BzBOe2PoAwvwT25wv4Ila7SF64qsruD4Lrh6zsFpdtv66GyWFu36peh6pLCbdy690dQOn4Zvrar8tedUJnbZ4Vfn2tXhGsXWjrwK/Ou65fFFiuCsuT1/f3+at56oQ7tvD+C0gmXti9U5q4bKt2qX4aXUoJ9uXbeH0Hp+GX4sQb7g3sJL1YEZfiYUly70NKBX5l3Xb90wmVon9t0G+1ldme2DFcV7g7r0M77IyidcGn7QmWx6walrbo2fllKsMu1y67mSsffCM4RnNP+cHUFixVBGT6mlGCXa59dzZWOvxFcN3x9J1zavlAZXDcow23DVYW7wzq08/4ISidc2j5/u6zr+2VufxHBLtcuu5orHX8j77puxa8rXIxXulW/zB2bLUIr7auuXXY1vLuDYvfhWBla3H5bbNP+MIWlJ1xVZHdObp+34tZDpeOXwbWC67t2flnY1u0LlaHqDoL94XbF5F3frbSX4SV3b1bYH6HSVfrCVUV2d9Dp9UNl7vr+4uptMaHSrfplqLqD8L68dnkbXhEqg/1BGbTJrXuLq/LL8LGFgirXLruaK8O6vH7B4gr7I1S6Sr90q34Zqi4p3Mate38EpeOX7lq2z1+CdSdUulW/DFWXFLTLtQ8a+2VwDXddt9JeFlusCMrwsYWCKtcuu5orw8q6vvHXXREqnSKl25/dypXFhNu4de+PoHTCpe0LlcH1i92HW/XLXLtskSeoc+2yq/ntCirddd1Kdt1thBYrgrLD/RUR7HLts6u50vE3wudyq6HSsdLqQmX4mOxKQemx1fBSKKjL7ff+CEqnoAxfM+/6wWJsX6jMtcsWeYI61y67mt+uoNJdNyjdSsFivNJt+ttBGd4fCFcV2Z2T2+etuPVQ6VhpdaFyR69fTLA/fH2noAxf062HynBbt+qXuWOyRZ6gzrXLrua3K6gsen1X4S/Gr3Nt/NIpLD3hqiK7c3L7vBW3HiodK60uVAbXLXl9axMqQ9W7kkjG468DAAAAAAAAAAAAQFVqbGzcBXsAAwAAAAAAAAAAAAAGLAJgAAAAAAAAAAAAAKgSBMAAAAAAAAAAAAAAUCUIgAEAAAAAAAAAAACgShAAAwAAAAAAAAAAAECVIAAGAAAAAAAAAAAAgCpBAAwAAAAAAAAAAAAAVYIAGAAAAAAAAAAAAACqBAEwAAAAAAAAAAAAAFQJAmAAAAAAAAAAAAAAqBIEwAAAAAAAAAAAAABQJQiAAQAAAAAAAAAAAKAC0pmMUuns4q3uFATAAAAAAAAAAAAAALCDLOhNp7NpbzQSUSzqLREpomydhcJ9iQAYAAAAAAAAAAAAAHaAZbuRiBSNRtTcmtKfV23VA8+t10PPr9fyN7e7Nn0dyEYyHn8dAAAAAAAAAAAAAKpSY2OjpkyZ4m/1XBD+btqe1A8Wva0HXtig4UNrNGJIXMPqImpLR5RuS2rGobvrFG8J2vc2egADAAAAAAAAAAAAQDdYH1sLc19c26ypNy3XrU9t08i6Og1N1SuyrUHDY8N06qRROv59e+r7z2zRtx9a7dr3RddcAmAAAAAAAAAAAAAA6IZIJKL1W5P6zK2v6IU3vYq1W7XiySZteWGjhq7fojdeekdX3bVUv/7zek3Zv0GL38zo+gfX9EkITAAMAAAAAAAAAAAAAGUKZtj99m/e1PK3o2pY36xBa5O6/tN768HvHqJ7v3GQfveN92rB1w/RnomEZi96W3uNkO57eqOeWbHND4F7LwUmAAYAAAAAAAAAAACAMlnv39febdUvn1iv2PY2DdkW1ayvHqjP/ute2m14XGk/2x0/pkH3/Z8JOmJknZa82qwhuw3SXfOtu7DpvcmACYABAAAAAAAAAAAAoAypVDbdXfj8Nm3dHle0KaaPHlin06aOcvusY2/Uz3aT1jYa1aWn7qN31rfp5Xe360/LtiqRSLtewL2FABgAAAAAAAAAAAAAyhAM3Pz6OwmlU4MUbZMOOXCIG9LZwt9wsBuPZTcm79WgsUNi2rI9qu1NaW3cnHT1vSXi3UxwnwAAAAAAAAAAAACww7717eu0du1b/lbP3H7bTf5aZTQ2NmrKlCn+1o6xXr0W7N5w/9v61q+aFG9p0VdPGaxvnz9WyaS3L96eAFsMa8NFv7M5oeO+v1Svboho3NYWLbjxUO0xqtZvVXkEwAAAAAAAAAAAAAAq4rRpn65IADxmzF56aO4v/K3KqEQAbMM8x2IR/WrBJn3h+69LkbhOmRTVb26c6PZZD+CoPwZ0EAgveGGL/vXHqxXZntLBmbSemP0Bd47eQgAMAAAAAAAAAAAAoCLmPviIv9YzFgAf8cHD/K3KqEQAHHhrXUIfnLFUm5JR1aQzmv21Mfr3qSP9ve0SyYxOv/FlLXq5WYM2SzM/PFjXXzy+w3DRlUQADAAAAAAAAAAAAKDqVSoADsLby/77df33gy2K17ZoUCyjK7+wp/7tmBHaa/catSXSevWdhL5x31r9z/PbVNeW1OhtUT108yRNPKBembQUjfknrDACYAAAAAAAAAAAAABVr5I9gC1i3dqU0r985RU9/Xpc8drtSmRiOmBMRAe+p05bW5Na+maLNrZGVZdKqH5jTKdOXqnbbjpWtTW7Zc+RliJRt1pRBMAAAAAAAAAAAAAAKuK22+/y13ru3C9/wV+rjEoGwIFX17TqvG+v0ZPLI0rFm5WuqZFq4opE04qk2lTXllF9c1Ij2n6r8fs8rsMnnqXxqZk67Pi0DvmXeK+EwATAAAAAAAAAAAAAACritGmf1tq1b/lbO87mAH5o7i/8rcqodAAcDAW9vSmlu3+9QXf+5m2t35rU9ra0aqLSbg1xHT65Tl879wCtenmuvnvVfTqg7Xp96PD3aaTX5qPTU5pwekrpVGWHgyYABgAAAAAAAAAAAFARcx98RG++2fMAeO+999K000/xtyqjN3oAByGwSSTSenlls958u011tVGNH9egvfaqdfvSaWnGiWuVeHuMJoyt1bgDo6p/I6MjPp/UAdNSeefpKQJgAAAAAAAAAAAAAFWvNwJgY3GrJa7RaMcE1+rTaYtjM7rtu1s0/xeDtfegQdpnREwHTJJq1kj/9OWE9v2XyoXAvTCtMAAAAAAAAAAAAADsGiKRSC78tRA3lcq4Hr8WDFugG4tFvCWqc78xXMf+23ZtbG7VhvUpvfGSFN1HevaWGrWui9ADGAAAAAAAAAAAAED/YkNAV8pAGAJ6R/zom5u15LdDtWdNjQ4YXqODp6Y05eKEYg1+gx4iAAYAAAAAAAAAAABQEadN+7TWru35HMBjxuylh+b+wt+qjJ0dAAeprMWzs7+9Wc/9boSO+xfp49/JKBbP7qsEAmAAAAAAAAAAAAAAFfGtb19XsQD4W1dd5m9VRn/pARz4x5NtmnhEXLW1lZ21lwAYAAAAAAAAAAAAQNXrbwFwb6lsnAwAAAAAAAAAAAAA6FI67a9UGAEwAAAAAAAAAAAAAPSxaC8ltQTAAAAAAAAAAAAAAFAlCIABAAAAAAAAAAAAoEoQAAMAAAAAAAAAAABAlSAABgAAAAAAAAAAAIAqQQAMAAAAAAAAAAAAAFWCABgAAAAAAAAAAAAAqgQBMAAAAAAAAAAAAABUCQJgAAAAAAAAAAAAAKgSBMAAAAAAAAAAAAAAUCUIgAEAAAAAAAAAAACgShAAAwAAAAAAAAAAAECVIAAGAAAAAAAAAAAAgCpBAAwAAAAAAAAAAAAAVYIAGAAAAAAAAAAAAACqBAEwAAAAAAAAAAAAAFQJAmAAAAAAAAAAAAAAqBIEwAAAAAAAAAAAAABQJSIZj78OAAD6mUQipbZEUslU2q8BAAAAAOxM8VhUtTVx1dTE/BoAADBQNDY2asqUKf5W9aIHMAAA/VRLa0ItbUnZN7Ui2SoAAAAAwE5k/zazf6PZv9Xs32wAAAD9EQEwAAD9kPX8TSTTyqTTSqW80q8HAAAAAOw89m8z9280799qNlKT/dsNAACgvyEABgCgH7JhnyOR7C8XAAAAAAD9i/1bra427v7tBgAA0N8QAAMA0A/ZN8nTzPsLAAAAAP1WPB5z/3YDAADobwiAAQDop+j9CwAAAAD9l80HDAAA0B8RAAMAAAAAAAAAAABAlSAABgAAAAAAAAAAAIAqQQAMAAAAAAAAAAAAAFWCABgAAAAAAAAAAAAAqgQBMAAAAAAAAAAAAABUWCqZUTrlb/QhAmAAAAAAAAAAAAAAqLBYPKJozN/oQwTAAAAAAAAAAAAAAFBB25uSmvvjt/T3B5r8mr5DAAwAAAAAAAAAAAAAFZDJZFz5sx+s1iNXSksvG6b1f464On9XryMABgAAAAAAAAAAAIAKiEQiSqczeuqhDdp7cER71tRo3SJ/HGgCYAAAAAAAAAAAAAAYGILev6tfbtI7K1IaMbheQ8ZIG5+JKNXq7ct2BO51BMAAAAAAAAAAAAAA0EPpdHaY57/O36Ahmd00ctgwpUdKqU0xNb2c7QWc8dr0NgJgAAAAAAAAAAAAANhBFvqmU7ZiQ0BLzz2xWaMG7a5Ysk4tMWnocGnzcxG3L53IhsC9OR8wATAAAAAAAAAAAAAAdIMN92xz/RoLdqMxKRaP6KUlW/Xakqh2HzJIrYmovP8rMk568w8xta6LKFbnbVudPxx0b/QIjng314v5MgAA2BGbtzb7a92z+p7z9YWfrPS3zHG6euElOsrfclb9Ql8+526t8DeLtgEAAAAAdGr40Ab3bzcrAQDAwNDY2KgpU6b4W5WRTKb1+sttemZBs1Y/l9LqJVJD0zDtOWiQ6lries9B0oSTpC1/lto2pzXkvQkN/0Baoz8sDdm7dyYFJgAGAKAf2pEA+PFrTtWV88drxp0/1OfGhep0hRZecWS2wg9/97vqYV1xbLYqexwhMAAAAAB0BwEwAAADTyUD4C2bEvrlj97UXxfEtPXtwRqs4RoWb1B9VBrsLbUZqS4l7TZcOvxz0pgPeAdtkLY9I731D2nz20nVj0lpvzMy2vdfsr2CK6WCpwIAADtN4w0dwl9z1BUPt4e/nsd/drdWHHi2pvvhrznqiit0ghZqUaNfAQAAAAAAAAAoKpXK9q2de/cbuu+miN5Zt4dqhuylmqENSjVIybjU7DVpi0gJb33TJunZn0vP3C6tWCBtbpHqRkuD6+NKLKnTy5fXa+uKbE/gdIWGgyYABgCgCjz+x4XSgR/TUaHwt7vWrHnNXwMAAAAAAAAAdGb03nVKZDapNZlWa1pqSmVD31ZvCcqWjJSokTask15eLC17yFt+K725yNv/mhSJSZnRCdWNyJ4zmBe4pwiAAQAY8J7QovnShKOO1Fi/ppSjPnac918ad+vae0Jhb+MTmq/xOvqoff0KAAAAAAAAAEAxsVg2pT35U3vrR/+zn/75kxs1aszrak2/pc1bk2pKpNUS8RavTYsyas1IyZqM0oMzitZJCa++eUSbdESzxlzUpo/cl1DdHtlexZUKgJkDGACAfqhbcwCH5/XVDTru2wv9HdIJobl+A6vvOV9f+MlKt37CVVdI375Ga754u27/PAEwAAAAAJSLOYABABh4KjkHcKHlzzfplReSeuwX27T2hcEaPWyEBkdrVJ+JqM5b7L8YDvtEUvtNSWj0IdLQPSNKe/+L9kJ/XXoAAwBQJdb87Hwd98cjtXDhw26564vjNf/bp+qagrl916zJhr9m/rev0Xwdp+mEvwAAAAAAAADQLel0xs0JbN1tJx4yWKd8eriuvHOUosNWa/22LUrEokrEI4rEpfH/nNKxVyR1wNRINvzd9CdllrxXqa0vZE9WwT67BMAAAFSJFWM/o4VXHOlvSWM/f6lmHCjN/9kvtNqve/yaU3Xl/ON0tR8SL7zzbE3QQl153Pn66Sq/EQAAAAAAAACgS9FoxA0JbUM3p9NSW1tGu42s0yEfqdXW7VvVrISbC7g5Ix1wbFoZr1GyJeWy3tTbv9Dgwa9KWx7zz5bylsqEwATAAABUiQn77eevBfbVWJsU+OU1WmObq36he+fbsM+X6CjbNuM+rdsXXqETtFJzvtseFAMAAAAAAAAAyheNSvF4dv2QKcO1rXm9tiVa3BzAGpHR3pPTiniNYnUxqfUttb75B7VtiSrxzv9IyY1y3YRVmUmACYABABjoxh2pow+UVqxxMW9pq9dohcZrfwuF8xypY07wiiAoBgAAAAAAAAB0m/UINkeesrtqBzdpa/M2pWPSyAMyGrlPRs1rHtbWP35Km+YfpcSmVdq0Xkq++ye1LPmI0ivPU3rLk+74niIABgBgwNtXRx01Xpr/hB73a7Je02rr0nvCkdkev2P30wSt1KuluvkeuJ8K+xADAAAAAAAAALpnxKg6TT6sQdubWtSUliZMseGdpW0v3K4h6x5UQ9vrSrVFlGyVV6Y1OLVag5ruVvK1/3bteooAGACAKjD285/RCTaX75fah3Fefc/1mvPyeM34rD8v8LhPa/oJ0vxv58/3u/qe83WlDQ392U+rQ+dgAAAAAAAAAEDZbH5fc9KZo5VObVK6ZoOOmJoNgEced5da33+vWkZNVzoZV8SrTqeHaOuQs9W0969VM+kO166nIhmPvw4AAPqJzVub/bXueE0//dKXNedlf1PH6eqFofl+A4036LhvL/Q3TIl2AAAAAICShg9tcP92sxIAAAwMjY2NmjJlir/V+1a+sE0NQ2o0ZmydX9Nu/SOna2RiobbsNk3Dj7rPr60MAmAAAPqhHQuAAQAAAAB9hQAYAICBp68D4IClsZHs9MDKpBKKRGPa8rfva9ir39T2Q29Xw/izFMmkpWhNtlEPMQQ0AAAAAAAAAAAAAFRYOp1xSxD+mkisxvsjqkETPqXNY76mun1O8fbHKhb+GgJgAAAAAAAAAAAAAKiwaDTilmLiQ/fT8CnXKNYw2q+pHAJgAAAAAAAAAAAAAKgSBMAAAAAAAAAAAAAAUCUIgAEAAAAAAAAAAACgShAAAwAAAAAAAAAAAECVIAAGAAAAAAAAAAAAgCpBAAwAAAAAAAAAAAAAVYIAGAAAAAAAAAAAAACqBAEwAAAAAAAAAAAAAFQJAmAAAAAAAAAAAAAAqBIEwAAAAAAAAAAAAABQJQiAAQAAAAAAAAAAAKBKEAADANBPRfwSAAAAAND/ZPwSAACgvyEABgCgH4rHoop6CwAAAACgf0omU+7fbgAAAP0N/4UCAEA/VFsTVyZDL2AAAAAA6I/s32qtbUn3bzcAAID+JpLx+OsAAKAfaWlNKJlKq642rng8RhgMAAAAADuZ/SLVev5a+Gu9f+vrarI7AADAgNDY2KgpU6b4W9WLABgAgH4skUipLZF0QTAAAAAAYOez4Nd6/tbUxPwaAAAwUBAAAwAAAAAAAAAAAECV2FUCYOYABgAAAAAAAAAAAIAqQQAMAAAAAAAAAAAAAFWCABgAAAAAAAAAAAAAqgQBMAAAAAAAAAAAAABUCQJgAAAAAAAAAAAAAKgSBMAAAAAAAAAAAAAAUCUIgAEAAAAAAAAAAACgShAAAwAAAAAAAAAAAECVIAAGAAAAAAAAAAAAgCpBAAwAAAAAAAAAAAAAVYIAGAAAAAAAAAAAAAB6QTqdUSKZLrkkUxllMhm/dWUQAAMAAAAAAAAAAABAhVn4G41GVBOPllzisYgikYh/RGVEMpWOlAEAAAAAAAAAAACgn2lsbNSUKVP8rb7x5ItbtPClTZbK+jVZFvrWxKS9htbp1A+M1Kjdavw9PUcPYAAAAAAAAAAAAACoAOt7az1/zay5r+uyX7yhrZGhaq0foabaYVofHabXUsP1SnODntsY129fbNGX//slbdyccMdUAgEwAAAAAAAAAAAAAFRExA37/N37VusXT23X544bpfqh2/Vuer3eyjRpU2yrovVvanPNVq2vadPW4dv1ZFNcDzzxrjs6ler54M0EwAAAAAAAAAAAAADQQzbxrk3ne+1P1+g3TzXr5MOH6Of/WKfr57+qu/+6XgtfXKIz2j6ub9d9UGdHP6Vlr/9dS1Y3K1ET0bpt2R7A6QrM3ksADAAAAAAAAAAAAAA9kE5nw9//vPc13bdwmz50cIPmLt2gP6/aomhtrWLxiG6f/B2dcdhe2uvIR/Xv799Dt0+8UpG4hb5SzA72ZP/sGQJgAAAAAAAAAAAAANhBNu9vNCpdf88bmvO/WzR+v7gWrtqkF95qkuIRpRNR1UaadMTgF9W65+Wq2f1Ete59uT44ZIXq4tuVSEXbg18/CO4JAmAAAAAAAAAAAAAA6CYLfrM9fyO64e439MPfbNCIERk9+06TVm9sUyQek9IRRZRSW2KQntk2UXVvXaO29X9Q3ZvX6M9bJ6s1OUjxSMr1Ag7O2VMEwAAAAAAAAAAAAADQbRHX8/d7d67VDXdvUCqS0MrNbXq3KaVILKZMMiNZnptJK5WM6v8s/45+/4912vDUyXrohXf1Hyu/pXTaO0ckk+v4a2FyTxEAAwAAAAAAAAAAAEA3WVZ7w+w3dP2d66R4Qlu87ZaM94ftSGVkfX+V9hpmYl5dQq81vUcff/4WTVzymKb948da0zRGkVhCmXBkSw9gAAAAAAAAAAAAAOg7wTDNN96+VjfcsVGRmpTaaiJKx6OS9ea1ENiapF3nX6/MKJPyykibq9jaVuvKaCzh2sRa08ok7YzZw3qKABgAAAAAAAAAAAAAypCynr2RiOb9cbOu+/G7ykSTao1HlIxF/dA32+vXBb42/69XZ0NBRzLe/pS3z2sUiaazIXIkqsxmqebNbfrA+MF2ekUZAhoAAAAAAAAAAAAA+kYwQvNfn9mmWM0waVBESZsIOO3tCIJfy3a9/2Vcna1Fs+sZC4QtnrV5f6Waloga1kZ12Wl76fgP7e5C4ViMABgAAAAAAAAAAAAA+kTQQfeQSYOUTDQroZjr5Wvhbjbs9fi9gF3Y6w8Hna33Vl19NvytXxPRpSeN0oVnjbW9rmdxJRAAAwAAAAAAAAAAAEAZgh66p508Qp85pU6Z1vrssM2ut68t3s5gGOi094ff8zfbMzg7JHTNdqn+tZguO3kPffWz++d6FVcKATAAAAAAAAAAAAAAdNMPrh6ns46OKt1ar7jNAWyhrz8EtOv163oAe+uu1282/K1rjqr+9aguO3m0LjprrNIWELtGlUMADAAAUKYFlx+rwy9f7G9VwMp7ddYRFT5nJfn3d/k8f7s3uWtdowX+Zs8t1uXevZ81e7W/PRCt1pyz+uj5R9+Yd40OP+terfI3AQAAAADAwFZTE9UtV++vzx0VV7rFQmAbDjroDew1cOGvt52SIt629fytez2qS0/aw4W/NudvNBqp2NDPgYh34spGygAAoAIs+Dlbtyz3NwMTZ+g3903XOH8zy4KuK/Wwv5WnSPtVs7+kM25d4W9lnXpdo66d6m+UPN8EfeX+OzRjvL9Z1nVLPA5nqm5ccoWO97ccCwHPnKOl/mYx+xwovfFy4b2Y4FrZ844r8jidk6/WM9ce7W904/7cva3WzLx77vgcTD7vbt03MztnR5csDLpsXpHXKf+8+a+Pp4znqVv3UYp/nXGF1+8F7n25anrotSn2Xi3ynvEUOzZ4DldV4nnYWYq+54q8Z4v+XOivunhvO0Gb4q937v3fh4+7+Htsx9gXSWaPG8DvSwAAAAAABrDGxkZNmTLF3+o5S1ktu7Xy//vWKv30qYQig5uVilram1HGWyJ1EUW8sjadUf26iC7511H66nTr+StFe6mrLj2AAQDozyysXNLoL3frK5qjM474kuas9PeHWODX3tZfOoSKx+qMW8fqxnCb66bq4cs69jIsPN9vzpNuObPrdm4pDGXyHkewFAl2xk/XfaE2N57s1VnIE6p78BdX61St0C13FvSanXevblluwXD4vBYgtR/7zBLv2Eev7Njjtoz7W3DnHOm86e11FkL5AWP7MVdr3K1nl9/rdOoV2ePyni8L+ELnda9PQc/YMp6nfhMuuefp2C56Pa7WggUrdOpx4WDe3qvyXs/2x/Sb81br4iI9kletKhL091MWJB5uz0ewdPK8rFq4WEtPPrrgPXe2bhlX5OdCf+1FnqeM93aeeZpfpPeze1789b7SnfeYGykg9BoX/jw4/ripWrpgMb2AAQAAAACoAkHHXStnXTFWn/1IXJmgJ7DFsDbsczqjmpaM6t6M6JLTsuGvBca9Ff4aAmAAAAaMsZpx3936ysQVuuXM7g+Vu+DyEj3q/BCyqx6e42Ze4V1benjhzg6ajtbM8yZIjy4OPQerNefOedLJ0wt6BRc6Wtde5z3QR+8tGqKXtljzH52gE45rD1UtELYeiNfmBa3e+b3nsmfh62q9sjz/WgOVC8K66KmcZY95qk7w34OrZl/jh/n5vbzHzbxDv/Fe+4cvK/4liP7Ono/8L2D44W2JENhCx7xQ/Jvec5nXg93YzwXvXBXomdr7uvPenqBTT/Ze6w4/b7JfFpg80fsZ0O9kv2Rz8arQlzHunyEVfilk6nT3us8uEm4DAAAAAICBy4aD/vGV4/S5j9Qq3VyviDKqi0cV255R/VtRXfaJPfTVL2TD3wqP+NwBATAAAAPKWM04x1Ky4j3jSlp5r2Y/asOtFul1W7axGmfdVFet3uk918bNnK5TvedgdhCqrFys+RYYnlNGCDZurCb7q2Wbt1gP2+MvDJeXl/dcFPb6bA+DsoFRfg/BsTpg4grNX+jV+UNETw73PO6m/GsXD04LeywWm3M27zxlzmF6/LXZEMz1UO6MPb+5nq7ZgK9UmJ997f3nJwjcvPe2rGe3u78iX46w5zG496LzDGfPk2uT15vW9mWft9zz5D/+0q9rcdnnI/wZ9D/PyxdrQYfXxb500B6K53q4l/Met7D4rPb7Kva6u8dijzPooZ3XLv/5yHs/uPYFz4ct/nPW+fuke+/tA447WpPzvujhcZ9173kpclDh65Fbwvfm7qnY48t/zgo/o12+x5zsF0DyevSPn66Z3vs/v8dv9mfpqlc7f78AAAAAAICBJZjPd9ZlYzX9iJhqN9Uptr5BwzfE9P/+fZQu+sK+btjn7MTAvYsAGACAgWbq0TrVK7oTHmSHTJ2gA/LGZe6u1VplCca4sX0y52bnsr2Al956rwtisr1xj9bxnfb+9a1a3e3hY91zHR6K12PDuErzdHHJMCgr2+szPJSxDRN9TdEgNmusjj/eHtvZLiCzOVJ3tEexu/aCo9t7I143VrecGQ4Ds6HXxY+Ghsq+f4ZWFQzL64YIlz9ctbd/8vI5uryLsLM7Fiz0HmfQ09UFfNJk731WnIWIQaBmgZv1iveqc8N453/JwT2PC4/299nw4d5rFg54XaB5peQ9z9k23vlWFQ4TvkLzv/klzT/Ob2MB37xruvm6Fpf9HBf5ckFeKJ59joq268Be07N1i0K9UN3rXiTYt0Dzm8qGlu55tNEFLOBcrBP8Y7M9rgvf49l2uefD9arPhqO594k91x3eJ915b6/QK97re8LE/C+7dBgW22fhbt7rYffksWvk9Y727umM0OOzLyfY+9tCXX2n/diludey6/dYV8aN69hb2eoYBhoAAAAAgOoS8bv1ZnsCj9ed/7GHLp82RL+89gBdeM5+bp8N+xy0600EwAAADDh+ALYqP4BzoYrfe614L7VywqPSFlx+dtEeiF1f15PrORcsHXskdlfQC3j+bL938zkF8w4XY2HfZfM69i7t4v6Kzv9pQ2e7kMlC4BKPad41rufgqdeFhzK2QCl/aOM83j1efmv2eja/cv7Q3NneiMV66Hbgru29Xt8JPS/ePd94ctB71kKzYKjlUKDl5hfOD7jygrqiPRp7Iju8duGXE8btXzoAdj3Ry+TmqM4FgIXDh7cPq9z+PI/VjO/M6Njz9Pgr8l4LF9zmfemgi9e1GBciryjaC9YC3w4h+MSuv3yRfU2n6sZwL1T3uksP31nQI9fmjc61y4azNvRy+P0wznrh2ues4D1n74nc8+F/KcUC0vZA92idUPg+6fZ7O3tP7cNAL9Zs73j7skD+Z7JIr3EbZrnokPX5w+Bnv8hR8Bl1j6f9c9Iz2Xsu/OJM6fc3AAAAAACoFh8/dZT+78x99JEjhrthn/sSATAAAFXCBV1+r7ZyeqkVDpdaGCoWBrsuTCyYk9WUdd1cz7lg6WZQVlQ2zHv4Vuv9O0Mz88KkQBDO+suZczSusEegKeP+ivZI9edPdr1i/V6R4QA822szNIxvlxbrcpsz14K5vF6IPjcUdXnnc9cu0iva9Tx0Xx7wQ7Nye073FntMO+se/N7G7fPs+sZbWLdaqzr5koILRl1v0iJfeOhCbujky1a7Hqsde8FmQ/HuzwMdvKYdg2IXdBYdarrdjoeS2S+ldG7H3tvueQ7CePdeKfVZL650T3Kft7/bQ8J3w6rZ93qPq+MXZ5wyh5AHAAAAAAADUyqVUSKZdsM+90Gn3zwEwAAADDir9UqnQ+SWkh9ojZt5hx922rC4HeWCXRdu2vYVFQhtKyvbO1Gd9P4NDW3sL/m9DivE9Zr1zh/0CA4PH1xGr81ANizye2/6vXVvOTMIGFdrzp3zVDgUdadcQOmHjf5iPU7z5nEu6JnYXR3mXc0bOrlr1pN28vFHd7iH0kOcV34o8uwQwOHlSu91WKFXOkvn3GvuDyntH5f7EoXNbxs+X8FcuMHcyPZlCX3T2hSEyCu9x1gsFC83MCz53HTxmHrRDr+3x7cPA+16RRd5r7he2zaX8qP3tofK/pzJ3Q/Ry1PW+z7Xw7v//ewEAAAAAAC9LxaLqCYedcM+9zUCYAAABhrXU07d6q2XDUp3MPwZP13Xhubb3VUVDrldlD/Ubl7A2o1efm5Y21BgfPy1fsBoAaIfaBXtSViK9bYMhd+5JTw8cPhed0D7Fwn8pbB3daesx6ryQzoX+HXyfHc5R3D3uXliw4/BX7r+soAN+5xtG8wl60LgoGd4sISf7zxjNeO+7Gs8OzRXrs1zq4KgMztUsfdaddKDN6fka9rTecB33I6/t4NhoL12qzoJdP1hm7O98L3F9a6uxEgDxXX5vrcvAbjh5sPDYhfoxpdDAAAAAAAAuoMAGACAAcXvKdfNYVCDeVs7zAFapmC+3byerbsQGzZ5R2RDu47zp5birpMXGB+ta60HtvXkvWxet3oSdj3krz/naxfDAvcqC3O9x5jf07VIb86QBXfO0VJN1cxcqDa2W3MC5/HD5o7zxHZfNtBUJz2Xy1UkFDdBwHlnZ/cavKYdA+BSQ4L3lZ68t7PDQM/RLR3eK+0WXH6lHs4byr2S4W8332NB+GtfwCjxhYiev08AAAAAAABKIwAGAGDAWK05Z52d7Sn3nVI9CktzAVWxOUv9HsWdy863WyqUq3aut3UwD6lZea/OckO/Fj6X1+jiR0NDUk+drq9YwHhZuJ33Ol5ePIjvKmi3eZnPCvUU7VSHYXazbCjeYDt7Pa/NN8P3s1iX91HQbz1dlxYbrjh371/Ke7/ZsLvu+b0uf55pFy6GX5+yjdWM78zQ5EevLHheF2tOF8+zzeObd4z7HHU25LD3vNp7pmA4aBdcho9zPZy956RDeOkHpt695g83bD8X2t+L42Ze4b3n/J612QYd35c7QY/e2/4XWIoP/9w3yn2PuaGhg/C3ZM9vr92qFTv18QAAAAAAgOpGAAwAQH9mYU8wx+QRZ+uWcdbDrXjPNgtQ2tsGSzj8yw5Xe+PJ83JzlrrFDZXa9XC32WCpYyjX9XU9eY8jWPLPs1N1dX+u92V4+F17Lu/OBm3hYzo8lzbEb+FzfrbmWy/Por2C7bxX69Tw/Zw5R/LnY/6NG4q7/BDY5pr9zXmr8+7xjAWLtSp3bf9xKDxX8JVe/eqevza5kPxYFz62z0ccPK/W03WFTj2ueA9JN0/udWPbh/T1ljNuHevmdC58r+ZCT79dbi7ecvhz+Y7Lex9fqfmdDo29WDqu4JjL5unU6zrrdVrsubbnxuapbj/OheKl5nl29+qdY1XBzwXZUN9BKG7vuYLrlPkZ7109e2/b+6HkUMoe9wWXXvw5U957bLFm2xzbpsj82+2PzXtveW+u7gzjDwAAAAAA0B2RjMdfBwAAQAnW43P2uLs7DaHQHdYjdrFOyAWXMPY+m3/czg5rB5rs6AivnNPxebPn8+JVnffG7XM2RPSdY/vXPQEAAAAAsItobGzUlClT/K3qRQ9gAACAMhx/zgzp1vbhk9FDNmRyqZ6uu6zFmv/oVJ1A+Ns9btjsCTpggKSpNh8zwz8DAAAAAIDeRAAMAABQDjcP6bySc5iiO1Zrzp3zSg7/vKuy+ZkJxXfAeJtHeoVuuTP/s5mbM3onzn3cgc3HvGqGrmUkAQAAAAAA0IsYAhoAAADAAGdDil+ph/2tLJtfmSHGAQAAAABAu11lCGgCYAAAAAAAAAAAAABVjzmAAQAAAAAAAAAAAAADCgEwAAAAAAAAAAAAAFQJAmAAAAAAAAAAAAAAqBIEwAAAAAAAAAAAAABQJQiAAQAAAAAAAAAAAKBKEAADAAAAAAAAAAAAQJUgAAYAAAAAAAAAAACAKkEADAAAAAAAAAAAAABVggAYAAAAAAAAAAAAAKoEATAAAAAAAAAAAAAAVAkCYAAAAAAAAAAAAACoEgTAAAAAAAAAAAAAAFAlCIABAAAAAAAAAAAAoEoQAAMAAAAAAAAAAABAlYhkPP46AADoZxKJlNoSSSVTab8GAAAAALAzxWNR1dbEVVMT82sAAMBA0djYqClTpvhb1YsewAAA9FMtrQm1tCVl39SKZKsAAAAAADuR/dvM/o1m/1azf7MBAAD0RwTAAAD0Q9bzN5FMK5NOK5XySr8eAAAAALDz2L/N3L/RvH+r2UhN9m83AACA/oYAGACAfsiGfY5Esr9cAAAAAAD0L/ZvtbrauPu3GwAAQH9DAAwAQD9k3yRPM+8vAAAAAPRb8XjM/dsNAACgvyEABgCgn6L3LwAAAAD0XzYfMAAAQH9EAAwAAAAAAAAAAAAAVYIAGAAAAAAAAAAAAAAqIVN6ioiMG/ax98d+JAAGAAAAAAAAAAAAgEqIRJVJJ6R0szKpwsWr74OJJAiAAQAAAAAAAAAAAKAnst171frqL7T98X9S8x/fp9a/flCJZz+ixPPHKvmPExVZ+Uml3vm1a9ebPYEJgAEAAAAAAAAAAACgmzKZjFvSmbSLc9s2rND6Beep+a231JI4QG2J9yiR2lsp7aFUdLQiqS1Kv32H0q1vubw4nfaO889RSQTAAAAAAAAAAAAAANBNkUjELdFMdj214WXVbGtTdNSnNeKEP2jYUY9p8IceVsNhD6r+kN+pLb2f6uNe+9ZX/eMyuXNUEgEwAAAAAAAAAAAAAHTTtu1JNbem1NSWUmubtDUR05bWOm+JevVpbWtpU1NLUk2tSW332r27Iaq1r6zUhqaMWlsz7rjmFu94r00lRTKV7lMMAAB6bPPWZn8NAAAAANAfDR/a4P7tZiUAABgYGhsbNWXKFH9rx23dmtJXr3xZy5sz3n8URJWJZlRb75WpzUpvW6H40FGqG7W/FEspVhNVJJ5R3CuT219WJLlB9SPfp3h8qDKRlOKRiN7altTeg+P64ekHaEhtz/vvEgADANAPEQADAAAAQP9GAAwAwMBTqQB4zZpmHXnqK9o8OqLEUAt4pcFeGa+PSPGIGgZFNHhwRg0NGdXVSzW1EUVrvEaxiGI1MQ0ZLNXXRFTjbTfEo27I5t8t36Inzxqr/UfWZS/SAwTAAAD0QwTAAAAAANC/EQADADDwVCoAfu21Vh1z4j+0eWRMicExZaJpqVaup6/1+o1465l4XOm2wd52TKpLKT5si2K1SW/b2sYUrfFOZO0j0heO2EvPvdOm26eO0dhR3n9b9HBOYOYABgAAAAAAAAAAAIAyZdIZpVtqVbcuo/q1SW9Jqf61lOpey6judSm6KqaR72zWlw+6U1d84AZ9edxs7fb6NqVeqlFkWVx6Mar0CxGlvbLthai2vRJR6g2vLmGBcM/CX0MADAAAAAAAAAAAAABl2n33uI49IabooM2qGbRVtfXNqq3dptqaLWqo2ahUokUnjG3Uj076gb419X/1o8/8XlPH/I8y2zZpSOo11beu1qCW1WpoelUN25brsUVLdGCySXuOqPev0DMMAQ0AQD/EENAAAAAA0L8xBDQAAANPJYaATqfTikajWv722zryxp9r2+B9FKsfooy2KxNpVjzaolQyrjNGLNCdo36nt0Z8WPuPbNDnnt6qX246TLH4eqXUJkVaFI20aVhDXOlkqxaf+SNNHHmg0hnv/JGe9eGlBzAAANWk8QYdd9yp3nKDHverAAAAAAAAAACVEfGHaG5LZBSLRhSxuDVjw0J7lemIMqmMMl6TdIsU35xS3fqVir25VMm2Onec7Ywo5pUW00Z06B6TNGrocLUlE2637e0pAmAAAKrCE7rGgt9vL/S3AQAAAAAAAACVFgyubEGwrWbSlvxm/Kl7vTrrvRtp0Z/a9tePNx+sZ9a26fsrarWoZX+vvk3pjB2XdkGvzSVcE4kpkol6Szb4zVia3EMEwAAAVIUjdcXCh7XQW64+wa8CAAAAAAAAAFRU0APY/oxEvT/dSjYMViSjtFdGlNabmZH6WvJM/VvyPH098XFt0GCvQcq1NRb0RqJRxWNxRb06d17vJPQABgAAAAAAAAAAAIA+EvQAtj+jmZSi6aQi3lY0GlEsFnPzA2cXq0soEkkrFk250upNdr+FvtJudYNVE415Z7CexPQABgAAAAAAAAAAAIA+E/QAtgB3W3OT0i3vKrntTaWa1yvZtE6p7RuVbN7olVu8pclbtim5fbtSTc3eeovS2xPeepu3JJTcmtTyt17Tu+s2qy5a73oH0wMYAAAAAAAAAAAAAPpIEABP2nO0Pj/l/dqrLqExkQ0ak7Fls/ZOb9Heqe0ak27xyjbtlUxo72TGW496ZY231GpMcrC3DPPa7Ka3V7+tafscpf1228edNzh/T0QyQT9lAADQb2ze2uyvdd/j15yqK+cfp6sXXqKj/DoAAAAAQGUNH9rg/u1mJQAAGBgaGxs1ZcoUf6sy1qzf6Ie2FrmGY1dv3WW5XmnVEX+fK9r3RSNR7bPbaNuoGHoAAwAAAAAAAAAAAMAO2G/3Edp35G7eYuXI0LK79h1hyyhv3VtGjM4uI23Zw1u3Zc+Kh7+GABgAAAAAAAAAAAAAdoANttzTpdIIgAEAAAAAAAAAAABgB9jwzz1dKo0AGAAAAAAAAAAAAACqBAEwAAAAAAAAAAAAAFSJSKY3BpYGAAA9snlrs79WnsevOVVXzvc3Cp1whRZecaS/AQAAAACohOFDG9y/3awEAAADQ2Njo6ZMmeJvVS8CYAAA+qHuBsAAAAAAgL5FAAwAwMCzqwTADAENAAAAAAAAAAAAAFWCABgAAAAAAAAAAAAAqgQBMAAAAAAAAAAAAABUCQJgAAAAAAAAAAAAAKgSBMAAAAAAAAAAAAAAUCUIgAEAAAAAAAAAAACgShAAAwAAAAAAAAAAAECVIAAGAAAAAAAAAAAAgCpBAAwAAAAAAAAAAAAAVYIAGAAAAAAAAAAAAACqBAEwAAAAAAAAAAAAAFQJAmAAAAAAAAAAAAAAqBIEwAAA9FMRvwQAAAAA9D8ZvwQAAOhvCIABAOiH4rGoot4CAAAAAOifksmU+7cbAABAf8N/oQAA0A/V1sSVydALGAAAAAD6I/u3Wmtb0v3bDQAAoL8hAAYAoB+qqYmpJh5VJBpVLOaVfj0AAAAAYOexf5u5f6N5/1az3r/2bzcAAID+hgAYAIB+qr6uRvW1cfcLBuaWAgAAAICdz/5tZv9Gs3+r2b/ZAAAA+qNIxuOvAwAAAAAAAAAAAEBVamxs1JQpU/yt6kUPYAAAAAAAAAAAAACoEgTAAAAAAAAAAAAAAFAlCIABAAAAAAAAAAAAoEoQAAMAAAAAAAAAAABAlSAABgAAAAAAAAAAAIAqQQAMAAAAAAAAAAAAAFWCABgAAAAAAAAAAAAAeiidziiVyrgykPFXV/5vWmsfi3kVUltzRi/dJ2161tv2vPOPtN78Xa1a3qhMdEsADAAAAAAAAAAAAAA7KOOnvNFoRLFYxJXG6iPZVf31vlatfrhGttm0OqLNP6vXpr/FlPb+t25RRG2PRNW2ngAYAAAAAAAAAAAAAHaqiJ/yvvxyk5762xY9t2Kr27b6IBxORlN6a5n012/F9LdLarR1tfTO/Ihe/H8Neue+eq1f67Vpbu853BMEwAAAAAAAAAAAAADQTUG4u/6dNp1/7os6ZcYL+rdrV+uMm1/R9Dte1tqNrblwOBlN6801GS19MKONr8bUHEtr098iWv9oRG0bIoqkvUaVyX8JgAEAAAAAAAAAAACguyzcTSTSuuj/vKC5f06qdWyNjjxxiE6bOlrRkSM085evaHtryrX96Mx6bW54RxsSbWqOt6o547WPp9WayqjOpgLeN6OhkywF7jkCYAAAAAAAAAAAAADohqD3758WbdRfnmlR2x7NGrFPjdqSaa3b2KZxQxJqitfroZc2WGNN/Fit/vnqWm1KN2lbKqWWSFrNkZRS3mmGHJ7R+65rU80IhoAGAAAAAAAAAAAAgD6X9jvrPv+3rYrE40rXxNTUFtG6TQmt396md7cl1FZbr6Xrml27dCaj8R+pU92eabVGYmqLpbU9nVJkWESjpiVVs1tGmcp0ACYABgAAAAAAAAAAAIDu8Kf21bDhMWXSGaXTaa3b0qp3tia0vTWj5eubtfTNbaqNR11ja5/06luVdktLJq22iFfGvd0NGTf/b6ZCkwATAAMAAAAAAAAAAABAN0SjERvZWceeOErDBiUV3yYlWzJ6c3OrXnpru/68qknx5q06YcII1y7i/U+RjNqUVrNS2u4t0d0zigzOKJH0TugCZQJgAAAAAAAAAAAAANgprFfvHmNq9c/T9lBtKq54QkonI2pqTiiRkj57yAi9d/e6XG/hiLeSjkXUGsn2/q0ZJUVHSwllx36ORioT3RIAAwAAAAAAAAAAAECZMtal1/OPZ7fojNOe09ynN6lpZFLRuohGDolp9LB67T88puUb23TGz1bqr69uc+2btqW0eXtSLZGktiVSioxIK757RM3Z3QwBDQAAAAAAAAAAAAB9zc9/9ejcdVqxqk5rWjNqHlKjmkFxDR4c0+ihce07okGjdqvTxobhuvXPb7r2K5cltLWpQW2xNjWlUsrE04qMSOrdlWllUq5JRRAAAwAAAAAAAAAAAECZgiGdP3TkcO3WsFX1zSk1tKW1fVub1m5o09K3tuuZN7bqkX+s05ur39a/HrK7a7/o0W1qzsS1JZXW5mRSa9YktWVrs95ZE9W6V7JDRGeyo0H3CAEwAAAAAAAAAAAAAJTJglpz1Am7666fH6z/+o/9NPrtNtVs9erTESUV1+71Ud35b+P00OcP1LSDR2rlP9q05bU6TRqX0oH71+ng9zZo5OC46jIxDW+I641FUSWbI6rENMAEwAAAAAAAAAAAAADQTalURge9b6iG1ceVWl+jWCSjVCatqFJa2xJTXW1ch+wzWKtXtum+7yY1JjZEY6ODdGBtvT4wYog+MGyoxrYO0oRBcY3eVKt1C+O54aV7ggAYAAAAAAAAAAAAALopFou4EHj2ravVOkRK1EeyAW4mraRXfnfBG267rS2jx5/ZoCdfSOrPKyJ69uU6/f2lWr2wLKqly6RXlkrv/E3atLIC4z97IhmPvw4AAAAAAAAAAAAAVamxsVFTpkzxt3omkUirpiaqvz6xSdOnv6CNY+Pa9p64MoOlSF1Gqo+oZlBUj3zxQE3Zb6jm/WGzXl8eUTyaVm0kptqUFPMWW7dyUDym955eq+Fj/QmGe4AAGAAAAAAAAAAAAEDVq2QAHLj8/y7Vz+Y3a9sBKW0fHlWmNqVIvRTzluTgBp353jrd9e8T/NZ9gyGgAQAAAAAAAAAAAKBM6XRGs3/0ms6esUw//+tWbdkzo5bamDKyIZwj3v8jbnjoQWrV469t06d/tUo3zn9T25vTSiWlZCKTW1KhxTtBRRAAAwAAAAAAAAAAAECZbv3+Gt1w3UY9/HxCbw+qUcvgiFLKKOL9Lx6TRg6u0T7D6zRpdL0O3H2Qaurq9JvXM/rPxa8rFpeiXpt4jdfWW2KhxbLjSiAABgAAAAAAAAAAAIAy/eXxjYrVSbHd0oo1RBWr9cPcqFfGY0qk09ramta67Um92dSm1Rs2aW1Tk55cu80dH/Xa9SYCYAAAgCqyavaXdPhZ92qVv93fLbj8WJ01e7W/1b+55/byxf4WAAAAAAAAdlVHT91dqbaoEltiSrc1KJkYpHSyQenMILUk6rWlqU7vbo3rtY0xrXg3o7+uTuidTWl95D1D3PE2hHRvimQ8/joAAOgPVt6rs86cI513t+6bOdav9JSqn3eNDr9stb5y/x2aMd6v02JdfsSVetjfMpMLj/NYoHXGrSv8rZCTr9Yz1x7tbwTtxurGJVfoeL/O5I4vaJ/V8R5yJs7Qb+4bq9lu/9QO57VQ8OJHpVOva9S1U1drzlln65bl/s6Q7H5/Q6XbKXSNHX/MXT2e6RqXu4eOjym4v/nHd3wdsq/hPH8jK/zYSt6zJ/85sHu8Vwfk3gv+PefuLyy7T3nHZ3W8XrHHUwnZ+x3xKem+X64oeCxZ2ffCBPf+Pn5hd56Hrt//3Zd9DV85p+N9AgAAAAAAoP9rbGzUlClT/K0d19aW1m3//ZqeeK5JrcNjStdIkVhK6VhUmVob4jkjxTOKeOsRbz2jqD44cbAuO2Vf1cR7t/evoQcwAAD9zfijdcJEaemCxXm9OFctXKylXrl0VX5vyVWvetsTj9bxQfhrYaKFXxZoLmn0l6s17tazS/QMtXAvaJdte+qjV3bdi9S7joVxFrx1DH/bWfDWfm5/cWHk0br2/hmarHmaHe4BuvJezX40e1xeyJb3eLzluql6+LJjdXl+btqxnVsKw8sdfMye0o8nrOAxdcICzmyAHzqfe2xf0pyVfiOn8J6zS/g5WjX7Xu91nx76IoBv+RzNLnyeirKA81jvdVXe/fzmvNW6+Igiz3UJFiAf7rXPLoWPI2TeYj3svXfPuOQKfcV7zz98Z8Hz778XTr0u/OWGLp4H+6KE9/5flfc6Zd//5fY0Du6/Y/uxOv74CXrY+ywCAAAAAABg11VbG9UFF4/VL+45WL+bNUm///4kPfC9gzX3usl68OrJ+v1VB+n3lx+sB77u7f+/79UD//cgffO0/fok/DUEwAAA9DvZkEnLV+cHwKtWaPJEr/7RxVrg1xmr17ixfgC5WJdbT9IOPXKP1rUWci6fozO6HMLWa3vdVO/63nVKBXcWsvnX6VFPyPHTNfNkaemt9+Ye04I752jpxBm6tqvemlOv0I3esR1Cwx1SxmPuhlNPnuo9pmtKB5+BedfkerfmhbbeY3tmSUFdl1ZrwYIVOvW4wjB+gnc/E/TwZdfkvW+KWTX7Gt2yvOP9jJt5h35znp2jkzDXl+093B4g/+Y86ZYzix9nX16YfPzR3nt3rGac0/H5D94LM7vxHiv+/rH3f2MZPYCt57AF4MV7GZtxM6fr1Efv7fq1BQAAAAAAAHYSAmAAAPqhcftbULVaq3Ih02LNf3SCTjjnaE3Oq/fWV0mTx/nBlvWo1AR9xWvX0dGaeV7HALko73yTtUKvFE1WF+vyM7Mh22866flbruOvvVqnBj1mgx6f5xT2qC1u3Djv8VRKp4+5e1aNO1pfmbhCt9zZWdi+WnPutBC9SI/dHbHSe48sn6ADOjxxK6Tjprc/xyVlA+RS9+OCT+9c8xd2do7Fmn3rCk0+74rcOcbNtN69xY6z60knHOe/d6dOL3jO7D1f/nshT8GXJ8qXDYpdj3C/pqOxOsC7z0q8TwAAAAAAAIDeQAAMAEB/VBhGrrRAa6zGTbXhocNh2mq9stxr7gJjacFCG6PXa1ciUMy2m6f5XQ3lu2q1lqpYmGhDBPvz9nYY9nhHZYNp6wV8eTd7fLrez5VS8jHvCL9Ha2c9RV1gGwrve8ruPzwUeJ7257hk+N/l/Vjw2XFo8jzufTqhPdR1vPej95x2OM6u591X+/3mP2duOGvvfXZCN3r/muOPswPm6eIjuu7xvGOyj4dhoAEAAAAAANBfEQADANAfjc8O6ezm97XS5v+daHV+mBbMA+z3+M0LLV27Elyw3IXc8M4de4Jmhwi2tfLnuF1qcw/n5oO1pWMwl+1dOk8P23DI3ykvWLahhi8u1kPU5vLNu17XwxZ39pgLlfN4HDdE9Qrd8s3Oh6gOwvuuWagZvm7+HLXBe6WUbE9c7xxdDAFe+n6y771OuRC9I9dTu3BIc3tPe+/HvFP6vYDnL7zX70k8vWDuZtP58+CGz7bhvHPtynj9u6miPc8BAAAAAACACiMABgCgXzpaJ9jcuH7Q6+b/dXOl+j0c/WGcXehXstdnuQoCNRveucMcwmaebrl1hU69rtHNvdtpb9KQyefd7eaCbV+u6BjquZ6jppOhdQuC3TNuHasbvfN1mIPY7j3vesXm0i33MXdU1uPxHX/ODE1ePkezu+pxXZap7vGGr91hTtvCQDVPGb2SK8K7hy7fj6XmK87e49Jb57jevzOLztlbxvPg5lD29t3vPf/ee+qWM+11rnCPYO+z2VmwDwAAAAAAAOwsBMAAAPRTrpehC5m8ZVWoZ6brxevV2TC5NgRyYejX2fynrodm4TDH7YGaBbtuu0QQauGnBa7BvL1d9SYt1wIb+vnkq931H76sRFDXIdgtHbx2rfzH3CPjp+va8ybo4TtL9wLuquduRQW9kjuZm7j0/WTfh9n322JdHg7Q83rZZt+bnbOhy0sM7zz1aDf/bvHev93kPf/32esc9Aj236/We7z93r2lQu9jAAAAAAAAoD8gAAYAoJ9yga+FuW5u1lBYNj47D/ArFg6vyp+zNTv/aekArqs5goNgt/jwzuEemdk5ZSvSm3TeNbrYhn4+5+gurt87evuabnjr5XN0eeH53esYGs67Esrolep6JT96pS4v7JXc1f3kzRF8tK7NBfG2+L2s3ZcTOnJfVAgPTW5Dl5/svd7+Zq9zwbdX+s/PuJl3hO7dW3Yk/C/84gUAAAAAAADQTxAAAwDQX7kwbbVWLVztz/8b8Na9jYcX3qtXlnvNwnO2+nOoFu3hufJezX60q56V2WB36a3XdBnsZueU7bw3addWa86d4bl3g+uXN7x0ZZT/mHdMcP7FeiUvMRyr44+vUIjuKXsu4fHTNdN6WtvrNtGvczofItr10s77EkARbu5qm8M3HCL7X1TwhzA39kWEjsM/Dxwu0AYAAAAAAAD6KQJgAAD6K7+n7y23zssLz0x2HuB5bp7U/GF0x2rGd7I9PPOHtV2sy22e24kzdG1nAZ7H9Vi1eVO7DHaDwLBIb9JyzbtXtyzP9v4NZK9fueGly1H+Y94x2bDce70e9St81hPVDcl8ZngIZc+8a9zQxGd1p1eyfWFg+WItKCNMdr2el3v3s9yvCARDRBfcjw2ZfLF376de19Ww2x3D9FWzr/Fe43BwvFjzHy0chrxCVt6rs9ywzgXDiLte5t79nzO9Ar12s4H2QA6wAQAAAAAAUN0IgAEA6LeyPX1Nh96dwVC7eT2DfW7e07v1lVVXhuY5vVKrzrtbz9xXTgB2tK61OVM7hMhFuB7HNm9vQYAZsvTWs0P3ESzXaIGFdZeFe/8GsiGiXb9bAWjA7rvD9UrfX1b5j7nk4/H3F+eH5UUcf22jnrlurG45M3Q+73k59bpG3ZcX1s/TxXnXzC655yg3NHh2s3P+c1xEsfs549axbs5km/+5KxZq/+Y85Y4/41bpK/eHgmMb/nni0Tq+xDDkXevsebChqb33/sSCNpet9u6h6/tvnxv4Sj3sbede67PCczjb/MW9FGADAAAAAAAAFRDJePx1AAAADGAWYJ6xavqOzWnbR+weL9cVBeH2wDEQnmMAAAAAAAAU19jYqClTpvhb1YsewAAAAFXCDWVdoTmFe8dqLVggnXDcwAx/s/e/guGfAQAAAAAA0K8RAAMAAFQNG9pZuuWb4SGL+xGb89m7xx0f/nnncvMZj7u6rKGwAQAAAAAAgJ2FIaABAAAAAAAAAAAAVD2GgAYAAAAAAAAAAAAADCgEwAAAAAAAAAAAAABQJQiAAQAAAAAAAAAAAKBKEAADAAAAAAAAAAAAQJUgAAYAAAAAAAAAAACAKkEADAAAAAAAAAAAAABVggAYAAAAAAAAAAAAAKoEATAAAAAAAAAAAAAAVAkCYAAAAAAAAAAAAACoEgTAAAAAAAAAAAAAAFAlCIABAAAAAAAAAAAAoEoQAAMAAAAAAAAAAABAlSAABgAAAAAAAAAAAIAqQQAMAAAAAAAAAAAAAFWCABgAAAAAAAAAAAAAKiCTTvtr0ta33tJff/ZTvfiHh6S2d/zadpl0Ukqn/K3KiWQ8/joAAOhnEomU2hJJJVPt/9EAAAAAANh54rGoamviqqmJ+TUAAGCgaGxs1JQpU/ytyrLgNxKJyPtDyZYWLfvlL7T45h/o3VdWan0qo9NmjtPJnz9MqREnSbsfKTW8R5FYnX90ZREAAwDQT7W0JpRI2n802JfA0uIvbAAAAADYubx/nikai8p+o1oTj6q+ria7AwAADAi9FQC78DeaHXj57cWL9dz139W7f/2rNnn1273/ZtjSklL98ISuuD6teK3U1Or9N8SID0p7HKPY6CmK7nuyd6T9l0ZlMAQ0AAD9kPX8tfDX/sMhRfgLAAAAAP2C/dvM/RvN+7eajdRk/3YDAAC7rkwq+98CFv5uW7VKf/uP/9Cfp39W25/5m+K1tRpaW6OhkZh2q6tRrDWujW/FteWdmJIbkoqveUqDnr1eqf/5hFp+98/KJLa7c1UCATAAAP2QDftsPX8JfgEAAACg/7F/q9XVxt2/3QAAwK4rEosp1dysVT+8RU9/4t+04YEHFEl7/61QW6d4JKb6aEy7ZzLaI53WcGu7Na3kJm/ZEtG29XGtf7dWrZviGvRqoxL/+EX2pBWYE5gAGACAfsi+SW7DPgMAAAAA+qd4POb+7QYAAHZd6x57TM9O+7jWfv8HSm7arGRtnWKxmOrSGQ3OZFTr/afCiEPfr4PPv0Cf+NUDiqQGKbUlo/S2iJJbU0ptSijZFFekKabUutfdOTOZnv/3BQEwAAD9FL1/AQAAAKD/qtwsfQAAYCCxqSDM5ief0stfuVDJV1crXVOraDyu2mRKdd5/JTTsu6/2nfklHfXA73X0bx/Q4Vd9S3t+5KPKbIsotS2qRC4ElpJbsr2CM4m4O28l/iuDABgAAAAAAAAAAAAAyuEHwE3P/E0ja+qkugZFFVFdNKaGvfbSwf91oz72h8d08Le+pZEf+pBqhgxROplUpqVFia0ZJbd4i1e6ELgpolSThcAZZRLutIpUoGcQATAAAAAAAAAAAAAAlCOTTWij0ZhqbIlEVFtTo6GRqEaffrr2PuMMxQcPcT2F3eK1t97B8vZnWiJKNWeUcqWUasoovT2iZJO33pY9b6YCY0MSAAMAAAAAAAAAAABAOSLZeDUaq1esZrCi3nY8ElN9LK664cOVSaWUTiS8ZtHsEskO6ZzOWPArpbZ7696SafZDYFts2+8BXAkEwAAAAAAAAAAAAABQjkx2CGjFGxQbNEqxumGKRmvcMNA2fHMkFvP+6DiPr+1LtWSUblVuybRll3RbRJmU37ACCIABAAAAAAAAAAAAoBx+uBuJ1ytSv7ti3hKtH6F47SDFojG3LxgmOo93WDQdUcSC3rTXJJXxlmzwa3URP1euBAJgAAAAAAAAAAAAAChHJgiAGxStH6VI3W6KNYx0QXAkVuv2ZSztLcJiYXe4rbgg2boM25/e/4ofskMIgAEAAAAAAAAAAACgHDaWsxWxOtfz15ZY/Uiv3F2R+KDsPpfwFmc5b3iE6EzaP5/7szIIgAEAAAAAAAAAAACgLNmoNhKrV8x6/9aPlLwy0jBK0Vo/AI4Wj2Az/tDQ7k+3HlE0GnFnLB0Zdx8BMAAAAAAAAAAAAACUxQ+Aa+pd+BupGapo/XDVeOuZTI3bVyrNjUQi/vTAEX89o7TfA7iSCIABAAAAAAAAAAAAoAxBL95ItFbRhuGK1A9XfWw3NcUHqWHi/lIqJaXTynhleElbmesB7J/DHwvar64YAmAAAAAAAAAAAAAAKEM0GN45WqNBdSNVGxummgP31e6X/quGfGSyFIspUlujiJWhJTZkqAt8o97ihnx2qW/GzQfslqBnsR8K9wQBMAAAAAAAAAAAAACUI5oNaAe9fw9tPLBWwz93mEZ/43gNOWKcMq+slp5+Xsmnn1NiybNq/svT2uot6//0F72zaJHrBZy23r/hLr+26a+aSvQGjmSCvsYAAKDf2Ly12V8DAAAAAPRHw4c2uH+7WQkAAAaGxsZGTZkyxd+qsD8/q5pL/lPRLVvVnGxVa7JNm5ItWpdo1rutLdqcadGhB21QTUzK+L2ATSReq5HRhJKfuuz/Z+9e4O0q6zvh//e55MJdEa8lxyMEYzuVFq09HUgkF02ZVmc6dMRSItUEhxmYzvupaMFEfMXk1VbsOzMtUz5CUIwy0Na3U7Vl0uZyDDBeioyXViEBjicoqIAQQq7nst/9rL3WyT635JzkJOyz8v3axVrrWde99j5Ndn7n/zxx6uWrIgb6I1rb8q2HRwUwAJTGfbF64UWxsJhW35e3AwAAAAAwpVKN7WBt6q+P7dvy0CPRuqcvdrRVYmdbS+xsiXi+pZJNe2rr+1pboyVVD6fkt3ZYtVLbobU9qgN9WWVwyymn1887FA0fPgEwAJRBz53x3oWrY/u7PxWbN99dm1bF4o2rhcAAAAAAAEdDGqs3Bbptrdm4vdW3vyX2z//lmNHXH7P66l09VwcHY7C2Plib99emaiXt25KFx7Oq/XHS4L5oa2mJ3b/0ljjhLZfWz9vaWp8fAQEwAJTAPZ+/PbadfXmsfNeZecv5serDCyM2ro7V3XkTAAAAAABHRfW0U2Lwkx+KqE3V18+LkwYj2garUWlvj4HBSsyqDMQJ0RezYiAqs2bX9nlztPzOtfHij38pXvbxL0brSafmZzpyAmAAmPbui69srM06zoyOekPdhefH4tps472qgAEAAAAAjrrUFfTiC2LGbf9vtL7/P0Z0zolZqXvnGIgzf2lOtL354pj9n/97vPLT346X/dGX47R3fzhm/dKb84OnjgAYAKa7nsdie202d86c+vqQOfHqs2uz3seit94AAAAAAMDRkrqFToHvrJkx+z2Xxpy7botX3bgmfvUz/z1+5c6/jZd86HNx0m+8O9pe+nNRaWuLan9/xOBgfvDUEQADwHTXuz221WZz5hTdPxfOjI5hJcEAAAAAABxVDWP4tp3+onjZv/s38bKlvx4tp5yetx6QQuBomfq4VgAMAAAAAAAAUBICYAAAAAAAAICSEAADwHTXMSfm1mbbtz9WXx/yWPQa/BcAAAAA4LgiAAaA6a7zzJhTm23bvr2+PmR7/ODhiLnzzw9DAQMAAAAAHB8EwAAw7Z0fb15cm228L+6pN9R13xcb46xYMP/MvAEAAAAAgLITAANACcxftSoWx+a4fvV9ect9sfojmyMW/05c1pk3AQAAAABQepVqTb4MADSJHTv35EuTcV+sXrg6NuZrsXhVbF51fr4CAADAVDr15NnZd7c0BwCmh+7u7ujq6srXyksADABN6PACYAAAAI4VATAATD/HSwCsC2gAAAAAAACAkhAAAwAAAAAAAJSEABgAAAAAAACgJATAAAAAAAAAACUhAAYAAAAAAAAoCQEwAAAAAAAAQEkIgAEAAAAAAABKQgAMAAAAAAAAUBICYAAAAAAAAICSEAADAAAAAAAAlIQAGAAAAAAAAKAkBMAAAAAAAAAAJSEABgAAAAAAACgJATAANKlKPgcAAKD5VPM5AECzEQADQBNqa22JltoEAABAc+rvH8i+uwEANBt/QwGAJjSjvS2qVVXAAAAAzSh9V9u3vz/77gYA0Gwq1Zp8GQBoInv39UX/wGDMnNEWbW2twmAAAIAXWPqH1FT5m8LfVP07a2Z7fQMAMC10d3dHV1dXvlZeAmAAaGJ9fQOxv68/C4IBAAB44aXgN1X+tre35i0AwHQhAAYAAAAAAAAoiaMZAKfEtX9w8oU8LZVKtLZMbf+PxgAGAAAAAAAAOAKVSkR7a8ukp6kOfxMVwAAAAAAAAEDpHc0K4O1P7o51X30iIuW5KX1NiXAhrQ82RLLVam1zJaq1qfPFM+PiX315zJwxdcNLCIABAAAAAACA0jsaAfDAYDWr4r3qr3vjLx5ui+q+XVGptAwFwCmKbW1tiVkn1LblwW8KgFNAm/7bGn3xl7/9qviVV52QZcRTURAsAAYAAAAAAABKbyoD4BSxpsB2oFqJ1krEiq/uiQf7T46WvbuysYCzoLdmYGAwTj51Zpw598QYOURwGqu37dSIa1r3x+tmDtbOFdm5jpQxgAEAAAAAAAAmIQW8qfI39dzc2hJxQnslBvoHo7+vPwYGBqKvry+b9u9PU38W/u7b3R/79w1G3/6oTdXacm3aU02lwPVz1mdHTAUwAAAAAAAAUHpTUQGcotUU/j705P5YtfGZeHbvYLTEYGzdWY1dAy1RHRzIunhOaW4KfdP+LS2V6Pz5F8c5v/ySGNifnSQ7R6rUbT054rrZ++N1s1QAAwAAAAAAABxTKaRN/ubB3fHlH58S9/5wIO75cVv8+Mn9sfPx5+L5n+yO53+6pzbfE7uf2xd7du6PXc/si3/66o/iqW99O6oDfdnxR7NGVwAMAAAAAAAAMAHVfBzfvsFqtPbvjRNa+6J198445YRKXNJ1enzst14VH/rNV8Svvfbk2s61HVMaO6M1Ki3V+OHf/WXseXx7tLRXBMAAAAAAAAAAL7RK3kVzmlVr/xnYNxg///JZce+VnXHnpWfGv3rtiXHFm06L//0fXxOfeNsrIlJgnHX5nGLZSgzs2Z0asrYiBB5IfUXXTEHvzxkBMAAAAAAAAMAEFHW7KbsdHKxmIfB//TeviJ9/6cxYdEtPnPvJh+PV/8/W+Mw3n4lrFrwk3vYLp0SkcYJbKtHSGtHa1lqbKrWpJVpb620z2uuR7VTVBAuAAQAAAAAAACYjlev2V+Psl86MN3eeELd/85nY/N3nonVGSwzuH4xPfOWp6Buoxr/7xVOyfVNY/NzTe+NHj+6IR7/3fPR8/2fR+/Dz8eg/74vP/I//Hc8882y0TFEJsAAYAAAAAAAAYBKyrqAHq/Fzp7Znlbvf++m+aGtvydorM1riJ7v6Y8fegXjFKW0RtfYUAPftG4hdO/fH8zsHY9fuwfjZD56IJzfeG2vv+Gr82d/8U5YpDwwMpNMfEQEwAAAAAAAAwCRkw/dWKtH77P5oqc3/xctmRX/fYAymsX33DcaLZrfGabVp+7N9EbX21AV0KvFtnTUjKn17Yv9D/xy7v3V/DOzbH7P+9e9E39xzs/NWKq3Z/EgIgAEAAAAAAAAmIwXAbZXoeXJ/bOnZFb/3xtNi8etPiWp/xOwTWuMPF5wRbS2VuOvbO7J9U3VvtVqNfb09sfPrX409P306+n/utdHX8QsRp70kWiv1EYDr/z0yAmAAAAAAAACACUhBbjZPBb2pqrcaseIvH4//8/je2LCiMx56/9z44YfmxYo3nRbv+9sfx99/f2dUZrfGwOBg9P/4idj7ox9H34teGQNn/3IMnvqSqNbaB/v6Um/SdVlp8ZERAAMAAAAAAABMQKrizVQqWRjcNrMlHv7p3njznz8av7WuN/7iu8/GRzf8JF7/Xx6OP9n0k4jWdMxgFuwOtLTFwKt/PgZf2hHVdHB/f3aOSjpXSpSTYn4EBMAAAAAAAAAAE1BpqcerqXJ3oG127B5sj+qsWbGzvz3+57f3xKq/eyb+y1eei+/+aCBi9uyI1pkRLbPSgTHQPiMGa8dVBuvBb4qSj7zedzQBMAAAAAAAAMAEtOYFuv/250+Mf/PKHXHBz7XGyfsej/Y922PWwI9iRv8PY2aa+n4Ybc/1Rtvz26Nt1/aY/ZNvxKxTTonWGTOj/9mfRLW/L1paWrPK31RVPFRZPAWRcKV2sqMRLAMAAAAAAAA0je7u7ujq6srXps4F1/xJ/PCp56ISgw1B7gGppTLrpDjxvF+P1jM64/mf/DT27dwd0TYjZp54cgycdEa85zX74sO/VlsejGg9whJeATAAAAAAAABQelMZAKeIdbAasW8g4t9ufC6e3N+ade08dvJaa0zVvq1ttcXBSOP87tv5fOx6+tmo7t8fg6e8Mt41rzU+esFpMVjbnPcyfdh0AQ0AAAAAAAAwCanr5taWSrSltLW1PeKUl8TgCadGnPTiMabTI2rbqjNmR3XmSTHYfkLMOOPlcdo5r41ZrzozKm2VODn2Zeet6gIaAAAAAAAA4NCOVhfQ9/2kPx7eORjt+fjAk1FJ5b4D/bH4FW3x0hPbssriFC4fCQEwAAAAAAAAUHpHKwBuNrqABgAAAAAAADhMA4PV6K/G4U+146eyZlcADAAAAAAAAHCYsrGAK3H4U+34I+32uZEAGAAAAAAAAKAkBMAAAAAAAAAAJSEABgAAAAAAACiJSnUqRxQGAKZIb6y99PK4aWu+OsySuPH+VbEoXxvyyLq49JK18WC+OpZ5V94ed6zoiJ5br4iLb96Wtw530ce7Y82SfCW2xMo3Xh9352vJRM5RNzeuuuuWWH5Wvpob97ilN8QDaxbkKwfZr2boHjesjvOu3VBvbHTO8vjCHcuiM18dMsYzKl5PZrzz1Qztl+8z7LhCti3y92f0sxul8TUX9zbevefGei6Hes+GHOLcAAAAAFBm3d3d0dXVla+VlwAYAJpSHgB3Dg9FJ2PTygvjmp6xA796iNgxdpBcyAPJGBZ01sPFnlHh53jto4197Ty0bAhEJ3SPWeDaOyJoLsLz4UF5EZwOC0vz19g5LFAeeb4RhkLiMYL4YQHwcId6Pdn2TRHztkYsHvP6RbA74rr5/Rx4XRN/LwAAAADgeHK8BMC6gAYAxrTptno16pphIeKCWHN/91EIFmvn/fiSiPXrYu0jedNh64jlH10e82JDbCyKeR9ZFytHhr/JWcvijtrrGdY2EecsiYvO2RDXrNySNxyp3ti0aVvMW7QqVizdFhs39+btB2xaOUb4myxZFQ8czmsAAAAAAEpJAAwAjG9rb/Tki0ddZ0fMyxeP2FkdWdVzzw/qQWoRZq+YqpA0Vem+Z6oC65pHtsTGrXNj8cLafXfOjQc3bRn+3B9ZF7euT109j109DAAAAABQEAADAGNatDClpRvimjeujk31pqOrp/eg4xdPyiP14Lrz1alSeUtsXJ9W6qHwlFmyLK46Z1vcdNuRVwH3bN4SD56zIBadVbvNhQti3tYtsakhWM62x9x4jcF7AQAAAIBDEAADQDNbf32c98YLG6YrpqbiNJPC3cZzXxiX3trQ9XDqWjh1yzy031Ree4Q0Fm8aV3fpshFj3x7iHse0JVZeMrrid17nRLut3hY3XTL8mueN2dVz3tV07T1aWXQ1fViK7p8X1APqsxbE4nPG6ga6IzrHG5d4DA/efPnw13CsgnwAAAAA4AUlAAaAZrb0hmx81wPTLSMC0iORxpNtPPcYY/vm48s+cFcaU7cIRqciSBwR7F6yNjo/XrvOmgX59sIE7nFUYHt93H3O8vjCHcsOs+J3blx11/Brjr6v3FnLYsXSiLtvW3f4XWVn3T8X1cpJRyxaNEY30CP03HpFw2u+cFQIPe/K24e/hpFjBwMAAAAApSQABoBpamQAOHaV6hQ5a1nckULEoiL4iK81Othd01CtOzkHAtsvXDm3vv7R0eHvgz2Hqhw+PIvW3BAXbV0btx5mFXC9e+eIu6898F5efPO2iBHdQKdK4Z6G9c4Vt+TPrnb9vA0AAAAAQAAMANPUgQAwn8arUp1KS1bFjUtr8576GLvNpnPFqjHG5V0Qi4/qPS+IFVfOjbuvPZzK6Lz751HVurdnr6PoBjobFzi2xaPN+NABAAAAgKYiAAYASqQjlr9nSTZ2cmOXyIsW1tqOoEr3UDpXLIuLYkPcujliXt42IaO6fy6M6AZ6KrqaBgAAAACOCwJgAGC0R9bFpVl3xCOqWjesjmvWR1z0nsMdX/cYWLIsrjpnRFi6ZFXWPXTqZnnYWLnF6zziLq0XxJqPL4kH12/IunOeqHr3z0ti8RjdX2ehcEM30EVX0xePek+2xN35IgAAAACAABgAmtn66w+M8Ts0XRFrh40Ne7g2xDWjzn1hXHpr6nZ4QazJuiEesc+1vdl4u4c/Xu9kHewex9MRyz+6POalsPTSAyFw1mX2Xcujp2Gs3fMuWRuRul8e1n32trjpkoZ9iulQIXEePE/clrg1jfW7dEEsyluGWbIgLkr3MtSddXpPuuPGpRN7Tx68+fLh959Nh9NNNQAAAAAwnVSqNfkyAAAAAAAAQCl1d3dHV1dXvlZeKoABAAAAAAAASkIADAAAAAAAAFASAmAAAAAAAACAkhAAAwAAAAAAAJSEABgAAAAAAACgJATAAAAAAAAAACUhAAYAAAAAAAAoCQEwAAAAAAAAQEkIgAEAAAAAAABKQgAMAAAAAAAAUBICYAAAAAAAAICSEAADAAAAAAAATEK1mi80oUq1Jl8GAAAAAAAAKKXu7u7o6urK1w5filcrlUr89NH+eOwbrRH7KtHWUomWqE1pW+1/rWk5m0e01ra1tqbWiJYZESf9/ECc/LqB7FxHgwAYAAAAAAAAKL2pCIBTslqpRDzx6L5Y976dceqeV8UJMytx0ikRbbVt7bV92mvz1to+afnEUyNmnRQxY3bESa+KmP3yiMH9te2v68uC4OJ8U0kX0AAAAAAAAAATMJgX7v7j+ufj8e/Pip/89Gfx+GM7oveh5+Kxrbti+9bdsX3bnvjhQ/vih9v2xSNf748fPdwXO/sG4uH11dj6V+kkEc8/lGqDU7VuNptSAmAAAAAAAACACRisDmbz/r6IgRTetkb0DVZj3/5q7N0/GHv3Dsa+fdXY3zcYe56LaDljb5z3sf3xq5+MmHvlYOx4MOJn/6d2/J7sNEeFABgAAAAAAABgAlqK/pqrEf2D1eirDsRgpVqbIp/Xp4GWwdi/pyVefOHz8dLXD0Z1b2uc+ZuVOOn1A1kInI5P6nHy1BIAAwAAAAAAAExAGrM3GUz/S0FvCoKrg9E3OFibV6O/1tYf1ehrqUb1hMF46lvtsf2Rp6N/1o74yff2xHM/qEZlRu08efKb4uR0ztrhQ+c+UpVqTb4MADSZvr6B2N/XH/0DR+P3wAAAAJisttaWmNHeFu3t9XH7AIDpo7u7O7q6uvK1w9PfV4229kr85X97Kv7+phnx4pNrfz8YbK1NlZhRaYnapmjd3xoz+2ZEW1s1WqrVOP2XdsYZ/2Ignu0+NQZ+NCte84aWePGSwTjzXfuzMYVbGv5akZLbosj4cKkABoAmtXdfX+zdn35XrP5bYAAAALywsgqd2pS+q6XvbADA8Sur2q39p7+2nLqCHqgMRl9lIAaeb4/BU/tiz7k/jP2v3BGtg23xzDdPjUduOSN2/WhGVGZWY/czEanmJ50jhb9791bje9+rxo4d1SMOfxMBMAA0oVT529c/GNXBwRio/U0g/QMDAAAAL6z03Sz7jpa6eKzN03c3AOD4VE3dP6fxftP/WmvLaRDg3TNj94Vb48mP/M94/k/ujh2f/Lt4+h0PRMwajPZTqlGdPRD7+wdqf4eI2B8DWdj7zM+qcettA/G//tfs+Miqanz/n1KkfGQEwADQhFK3z+kPf8EvAABA80nf1WbOaMu+uwEAx6naXwhS6U5/y2D0722Nwfb+eOr3Nsb3r74j/s8ZX4+2fTNj4dm/EO2///346Yf+IXa/5NkY3DGjdkRb7JrZH6+YPxDP7hiIT6/bGy97+Ukx66Td8d3vzIi/+5s9+QUOnwAYAJpQ+k3ywdQHCAAAAE2pra01++4GABxv6mU7WQVwbXlw5+zon/vj+NHKz8X3f+PL8aPnn4odO/fFxqfuj7sf+8d4Vf8r4sQLfxZPfuLu2PmWbTFwel/84h/ujxNeXY1P37Yrzvy5k2P37h3x1//fjtj5zLPx0pceeVmQABgAmpTqXwAAgOY1BcPzAQDTUDX/W0C1v1Jbbok9v/HV6Pn9W+Ohl/1jPP3jXbFn757Yt3dvPP38s/E/H+uOdT1/G0/9ZFdUT98VP/y/1sevrH0yXvTLEX/6J8/ECSecGD9+4pm443PPxHOPD8TChTvj31xyYnb+IyEABgAAAAAAAJiAlvy3wCozqrHrkr+LB9/+mXh4zyPx7E/2xK7dz8eu53fFnt27Y9+uPTGwZ3889FRv/E1vd3z3Bz+If/2ifxkdZ744bv+vO6Jv1+x4ovdn8eW//lk893h/LLpwb/zff/SyOPmU1voFjoAAGAAAAAAAAGACBmMgm+943bdi69y/i8d/9Gzs3LEr9uyrTXt216Y9sXv3rti9a3fsqs337t8X+5/eG5d3Lo5fmv0L8ek1P4snf9AWP97+TDxw387Y99OIC+f3x4c+/oqYOaslqlPQNaQAGAAAAAAAAGACKnkF8O7ZT8YTT/449v9sf/Tv2hf7nt8b+2vz/c/vi77n98ee3btiz47dseTE8+KmC1bGktMWxEP/ZSBe/KNT48kfPhPb/3lP9D1diQVvrsaHb5wTJ5zQmoW/xfmPhAAYAAAAAAAAYAJaW+pdNL/9tW+O0wdOjGee3x3PPbs3du3cF88/X5tq81279kfl2Zb403/5h3HbwpXx1jNa47G/eTT2fPvEeOXPqjFnR1vEcy3xL+dHfPATZ8as2fXK36kIf5NKtSZfBgCaxI6de/IlAAAAmtGpJ8/OvrulOQAwPXR3d0dXV1e+dvhSvFqpVOJ7P3kk/uafvxJ9gwNxUvvMaK+kcLgau1sG4vUvOTv+VecvxZ7HPxftP+2OH36zP7at/+N47gedMdj2ZOyevyt+e82ZccKJU1f5WxAAA0ATEgADAAA0NwEwAEw/UxUAj60aP9z7ZMyqzIiXtJ8S0dISgzvvjRN2/Nd44ltbYu9Pd8VTPT8fD33jo3H6r8yLhde/KmJG25SHv4kuoAEAAAAAAAAm6Jm9O+sL1Wr8cOdP42PfuC3O+cxvxfwv/8e4eON1sX77V6N/cCAG9++Iged7Y9bJu2P2Sypx6qu+Fy9+40fjX37wpDz8TZXE9VNNJQEwAAAAAAAAwAR99hsb4qr/9Sex8qs3xQV/8Z74+Pf/R5zR8pK4ZNbCeLh3ezz63A+jLY0VXN0bLVGNlrZKtJ/aHgMzXxUn/NyvxoxZL47q4GDWjfTRIAAGAAAAAAAAmKBLXn9hPP9sX9zxje44vf+l8f/M+4+x+dKb49+/6bejMtAWzw7sief3/Cjad38rdu3aGTufa4sdP3t5/KzlTfHz//Y/R6WlMvX9PjcwBjAANCFjAAMAADQ3YwADwPQz1WMA79vfFzPa24ey3Gd374rld/5RfH3wofi9OWfGNSfujCd+cH/s7X95zH7lW2LOr/xOnHDay/KunwXAAHBcEQADAAA0NwEwAEw/UxUAZ/FqKuJN/6kZrA5myynUfX7v3rjv0e9GzzNPxBmtrfELLz0zXvPyzphxwsnZvmnc4KNZ/ZsIgAGgCQmAAQAAmpsAGACmn6muAJ6Mah4SH+3wNzEGMAAAAAAAAMBRVKm0HJPwN1EBDABN6HArgHs/e3X83qcfydeShXHD5g/E/Hwteu6M977n9tiWrx5wViy/7c/iss58FQAAgINSAQwA088LWQF8LAmAAaAJHU4AfM/qi+L6jcOD3KwtVsXmVefXG7r/OBZ+ZLuwFwAA4AgJgAFg+jleAmBdQANAGXT/8ajwN5m/6u4D4S8AAAAAAKUnAAaAErjn3s0RZ18Q8w9R1du7fXvtv3OiQ/UvAAAAAEApCYABYNq7L76yMWLu/POjI28BAAAAAOD4JAAGgOmu57HI6nrnnFkf43fhRUPT6u76LsOcvT3WNeyzcOEfxz35JgAAAAAApjcBMACUxPbPXx0L7z0/Nm++O5s+8+6zYuNHRoTAc+bE3LggVub7bN78qVh+9ua4fuHV8bmefB8AAAAAAKYtATAAlMS2jt+JzavOz9ciOt71h7H87IiNn78zeou2Cz8Qn7rlnQ1dRZ8Zl33w8pgbj8Taz9+XtwEAAAAAMF0JgAGgJObOmZMvFc6MjpT0Prw96yJ6XJ3nx4Kza/Pex4aCYgAAAAAApicBMABMd3mAu237QWNeAAAAAACOAwJgAJj2zoz588+K2Hhf3JO31D0Wvamkd/H5Mb/eMLae+2LLwxFz55/f0DU0AAAAAADTkQAYAEqg412/E4tjc1x/xYHxfns/+0ex9uGzYvnv1scF7v3s1bFw4UWxujtbzd0Xq99ze2w7+/JY+a4z8zYAAAAAAKarSrUmXwYAmsSOnXvypcl4LD53xXtj7cP5aiyMGzZ/YKj6t7fnsejo/R+x8COb85bc4lWxeVU9JAYAAGBiTj15dvbdLc0BgOmhu7s7urq68rXyEgADQBM6vAAYAACAY0UADADTz/ESAOsCGgAAAAAAAKAkBMAAAAAAAAAAJSEABgAAAAAAACgJATAAAAAAAABASQiAAQAAAAAAAEpCAAwAAAAAAABQEgJgAAAAAAAAgJIQAAMAAAAAAACUhAAYAAAAAAAAoCQEwAAAAAAAAAAlIQAGAAAAAAAAKAkBMAAAAAAAAEBJCIABoElV8jkAAADNp5rPAQDGMlitRv/gQDal5WNJAAwATaittSVaahMAAADNqb9/IPvuBgAwUrVajZZKJdpaWrMpLae2Y8XfUACgCc1ob6v9hUAVMAAAQDNK39X27e/PvrsBAIxUqVTi3ke3xSfv2RCf/OqGuGf7tqztWKlUj2XcDABM2N59fdHXP1j7i0HE4MCg7sUAAABeYOmfbVNvTelfVNvbWmLWzPb6BgBgWuju7o6urq587ejo6++PP/irO+Kz3/9u9J0yO6rt/dHe/3ys/LW3xh/+2m9mlcBHOwxWAQwATSr9Q8KsGW3ZPzAIfwEAAF546btZ+o6WvqsJfwGARgMD9bF+P/fVe+PW73w72madFHNf9JI4/+Vz4oyTTo3/+xtfiru+/7/r+w4OZPOjRQUwAAAAAAAAUHpHqwK4sar3V2/8RPzznr3x4tNOiJedPDPmvOjkOHlmJf72sf8TXae9LL70767N9jualcAqgAEAAAAAAAAOUwpyn921O/77vV+LrXsGY6B1RgxEJQZr2/b298Ws1vY4rXVmfOfJH8Ta7/5DPLv3+aPaDbQAGAAAAAAAAGCSio6Wv/ejH8WC//rf432bvhH7206ISmtbFv62VFpidlt7/GzPrnh618746e4dcfVXbolf//9WRu+OH2fHHo3OmgXAAAAAAAAAAJOUqnj7B/rjqttvj207+6K9bWZUW1pr7S2xe39f7Ny/Lx7fuSO+8XhPnDH7lPiFl3XGKa2z49vP/SCu2vD/Rt9AX36mqSUABgAAAAAAAJiEonL327298bXex6OlZUb0Z02V2saIvsHB2P7Mz+Jbj2+PvoGBeNGsE2Lui18e57/qddHWF/HVH/9T/PPTPVmIPNVVwAJgAAAAAAAAgEkoMtvdfQNROeGMqLadGJWW9hT/RrVS21j7v0pLa7S0porgSgxUB2NP//54yexT4pSZJ8bgwEC05OMAD9a2TSUBMAAAAAAAAMAEpYrdlpZKPLVzZ9x077ciTnp5VNpPTJlvNmXhbz3bzfZNAXAKe2e2tMXu/n3x/P7dMdg6GJ/67v+MPX17o7Wltb7zFBEAAwAAAAAAAExCCnYv/9Tt8TePPhWtM0+NaGuPaGkZqgzOwuC8sndff3/sHxiIn+zaEfc/sS1ePOOkmN02O9Y+/Dfx7/9hdTYWcLUeHU8JATAAAAAAAADABAwODmYVvX/7zX+MzVsfjrZqawxWWvL4thqVfCnrCrpaj3Wf37cnHv7ZT+KbP+6J/QP98eoXvTIWznlDvGbWK+MvH14f3/rp1tr+UzcWsAAYAAAAAAAAYAIG85D2W48+HC1t1WiNgagODKS0tzZVotLSUpvqMXBazqLg2vrAYG2fmraW1ugf7I/2lrZ43emvjpb2mfFPP30425alxlNAAAwAAAAAAAAwAcXYvqecMCsG9jwTg7ufjkrfzqgM7I+o9kcMpkB4sLY8WJvX1qv1cDgdV0nz2v9aqrWpNu/rH4jBXf1xavvJ2TlVAAMAAAAAAAAcQy2Verz6r97wK/Giyv7oe357tO76UbTs/mm07t0RLft2ROu+56N1z85o2bOrNt8dlV27asv7o7K3L6q790dbXyWe37k7vvnI1njZ3tPigjN/KTtnCoenQqU6VVEyAAAAAAAAQJPq7u6Orq6ufO3wpXg1jQP8N1+7J/79LX8Wz1VnRMw8IaK9LaIyWNujv179OzAQldpybSGqM/oiWvqirTXipJntsbtvV5xYO8efX3pd/Otz35yNLdySdRl95ATAAAAAAAAAQOlNVQDcaOsPe+OOezfH9qeeij39/Sl9rbVWY98T/xix97GotEe0tFej7fTza8unx+Bgf7S2RPyLOWfFO3/trdH5slcOBcpTRQAMAAAAAAAAlN5UB8AHC253/93yqDx+R1ROa4vZLx6Iyi/dHYMvfnNWFRytrfleBz/H4TIGMAAAAAAAAMAkpeA2Bbip++aBwYHalOb15Wf398WOgfZ4pq81fravJfZGf32f9L/afLA6eFTC30QADAAAAAAAAHAYUoCbxu5tbWmtTWleX64M7o/TZvXFyTP2xcmzBqK1dWa+T1s2b6m0HJXwNxEAAwAAAAAAAEyFfPTdF53372PfK/5tVM/49Rh4xR9Ey0m/nLVH5ejHs8YABgAAAAAAAEpvqscAblYqgAEAAAAAAACmULU6mC8lx7YeVwAMAAAAAAAAMIUqw7p6Pjpj/Y5HAAwAAAAAAABQEgJgAAAAAAAAgJIQAAMAAAAAAACUhAAYAAAAAAAAoCQEwAAAAAAAAAAlIQAGAAAAAAAAKAkBMAAAAAAAAEBJCIABAF5APbdeEeddui568vXJyo5/4+rYlK8fVzasPqJnt2nlhUd0/JRIr+GNF8alt/bmDUfTllj5xiti7SP5KgAAAAClJAAGgCZWD/cubJiGB32jt+fTyi35HnXj7lebVm7Idyo8si4uHbHPsHAqC6zGDpGyQG2scyYHOa6uN9ZeWju+8d7zcGzsafS5xrr+wV57fSrOM8b1C6PuY+zXUVxrrNefbRsVNm6JW2+OuOqjy6IzX1+ZnX+cQLd4byYZWqbnMl7AOOz5jHfeg713o7YVr2HkNM7xR2DT5g0xb9GC+rMr3qOx3r+a4nVOLmg9WGCaf17y1zf2eYfvM3yqv8c9P6gf92DPZO7rcC2INR/viJs+9AKH3gAAAAAcVQJgAGhSKbS7+OaOuPH+7nggn75wZW9cMyocXDJsnwfuvyEuWn/9GEHYyP3q05ol+eaaLCS7ZG10frxhn7uWR9x8+dih7jBbYuP6iHnnzI27N48dwk3aklXD7rU+1V5f2nbOglh0VrZXbuzrd664ZdSx8668vaHtllg+7DzDZaHytRviosZnkkK0S8YPE+++bWIBW8+t6+LupcvGuP6G2DhWiFx7XQ/myxPXGz3j3cyG1Q2fsdvjqlgbKycVkI5v+DNOn93IntmhP0c1Ewq60/s9NxYv7MjXc+u3jBGe98amTdvy5Ul4pPbs8sWRNq28PG7qvKH++rKfkdXjB9xL8/2GTatiUW3T0OdzzYL6vkdsROg88hkuWRAXba09oykO4wEAAABoHgJgAGhGj6yLW9dHXPTxekhUqIdFw9tGS1V+SyLWr5tcxWXtmitv3pYFnY2hcJy1LO64f0TbWDZsibtjSaz46IKYN2YINzWy0LQ2v+g9RdVs7mhcf8PquCZ7H0a8/hRM157xg2MF40uXxEVbJxKk1kPJixaODP7mxkVLxwrR6/ungHuqZNWnSxcc4vM0NTpXrIqrzolD/nJAFrhfsvbQQXcKZ0f+EsA5tWd/zhjh+SNbYuPWubVnl68fsXqoPvq9e6Gl8PfyuCmWxxeykLke6l88LAReECtSGH/bFP2SBgAAAABNRwAMAE2s6B520jo7Yl6+OFGbblsbD56zPFYcKugdR+qONwsTz+qIznEqWI9YHlKnisqRgfTRuH52zvGeyZJlYweaPR2x+Mq58eDN6w4eQueh5GuGpdh1r1k4Roid7b8kFk8grR3qCvvzqZL28rhpa2Rh9ciK0M5Xd+QVs3lwWDv/ihUjKmqnTO19Sa+1Z/yq2mTRmnqF7I1L84ZxpGroKLp/HlJ79otGh+dZ5XTts7E4Xx9fUT17Rdz4x/Vq+AdjW1a5nJ7dgYrv+mvJrpOqldN+Y1ZyT0Be7XzgFwnqXWin9WHdc09knOcN62rv4dyGLsU7YvlHl8e8ERW/2ft+iPcBAAAAgOlLAAwAzeisBbH4nHpoN7kxS3M9vZPsKrjefXIKjsfIIyegfny9IrJ270sPXek5eb2x9kMpkFsSN47qLvdoXP9QzyQPNMeoNu5csSwuig1x68Heu/QejerGOtkWj6bXMKKStQgxD5X/ptDwmvVz46q7umPN76bq7RHdXt/RUDmdugOu3ec1KSTOqkYPVV1+JOpVs4f/GWuUqqFjdPfPW2vPe1R4Pl6l9WhZt85bU1fpt8Q1H7glq/JOFdnpWaZnd0dDOL5oYW1b6mr9krUR6dlOWRfOdXdfe2GsjKIL9PQe1t6nccY3LmS/MDLyM5X9QsS22Li54bOYfkFEN9AAAAAApSUABoCm1BHL77g9qzAdqtw8RPgzJFUUXrshYlRFYgr6imrC+jQyXJ7XeZjVn3n3y4vzStl6ODY6GD0SPbeuzipZ5125bHRIeRSvf7Bn0tk5XnfM9W64HzzIuLAHr+7uiEXDKlm3xK2pe+6FC6Kn5yBj2Q51433wcY0Lm1Zen3WnHSlUbwyGa7Lq02FdBx+ohB02pc/aBNTD1blx1XumICjNqqE7onOs15j98kRDeJ5VxabPRm88Wvv8jCvr7juFvRMJwbfEyuJ1L71hWDBcVBEf1i9uNEiB/YHzpm6ba5+1Q3ymx/5sdMRr0v8f6Wm4nywUBgAAAKCsBMAA0LRSCNzQHW6qNhwjtB0V7F6yNjo/XjtuVEViqmysn6+YhgdXh6/eVXJDqJRXlk5dN9D1ADR1x7xmjHs++tc/DFkX0dsOPtbqQaphOxsrWVPAfcjuubfEyrwa9ZDjNdfUK4XT+MbpFw1GVpfm4w0P62L5QCXssCmrkh1t6BcX8qkerk4smD6Ug1dDDw/P02djzF8aaJT/0sTEgvMU8KbgvPbzdNfy2nt0/fBxoPOuvYdVJ+c/uwemKyY3PvdkTLjCels8qg9oAAAAgFISAAPANFAfF7WoCB5ZVTo62J1IADiWYVWCE5Z3lbx1bVw8FHDVK0unqhvoeqXq3IaxTRsd3esf7JlkFZeNwfMw+fir69cdXtjXUMmahZijxrtt1Bu3ZqFk+nwcYuzhTD1QT1Wma5YU93n9gV8uyMeSHdXF8iQMdTmdQtJsfdVQuDp8bNvaNNHq9lx67gfr0vlAeJ4+G4d6HfXgPHWZfvdtjRXP4yjG2U2VwmctizVXzo27rz0Q6NbH0h7RDfPSG4b9fD5w/xEG4RtWD39+jZXatc+rXBcAAADg+CYABoBpIw/qjkrlXn3c3MMKj/Lul0eG0Fll6FR0w5x1zTs8QBzmqF3/UM8kD54PVnF51rJYsXRb3PShcYLFgz7vopK1dmzPoULMbfFgNnbtxMaKjUfq1+18dX7OPMhMVbsrN/TG2ts2jNGF+GEaOveBYLpzxS3D36tJjZ+bnvuB7r7HVITnt9Ze55jjLDfYWnt25yyPL6SgeuvaWHmIrpvrXXfX3vP8nJ0rVtUrvS9ZHZseWRe3pqrq94z1iwpTaEkxNnA+5d13j90leb3r69Fdmc+N1xzVmwQAAADghSIABgAy2bi5W9fGrZPsNnlU98uFKemGuRhrdUmsGKe76qN5/UXvqYeCYz2TnlvX1auSDzGmbXGOjT3D738ofD2IeiXr2rgpDhFiZgF4Gru2PvZwDKs6ro8BO0w+BmzjOMQplE1djd99bRqrt3a+SYWyB9e5YtnEgumJSIH/uN0/F/Lw/Oa1tTfgYJXTNSn8TQHqGEF1CvdT9XKj+vvWGz0Nz3f5HXnwniqJl95w2BX4Ryq7t61bYlNjxXkW9o/4BYL8FwAAAAAAKCcBMAA0oU0r6127Dh/vtzfWfih1L3uosWAP05JV8YWsO9sLR4xpui4uHbeb3noV7NjdE9eDxyPphrkesqZxalO4OZaje/2ienXUM9mwOi7OulAepyq5UXGO9SNS5BQujgzrRqodu2LpeK9vHMXYw0NVxx3RWTv4wU1bGkK/BbEiCztHdideSONKrz7y6u0h9esND6YPT9Yd9qhq1tHqofPkurEeFVRnQfm22Li54edw1PMdIY33OxVB9+EYdW/5/88YWc3d0zu6m2oAAAAASkMADABNpzc639OddWGcuuQ9MNbn5XFT5w1D3b1OXgr1inMdmBpD5qxr3ruWR8+1DftcsjYijec6RkVoUQU7dshWr8IcHvqlrnIbzp1Pw8LVIb2xadO2bCkFsCOPSdN/vm6y15+8MZ/Jtb1x1V3dccc4Vckj1YPFEbJuig/dnXca/3mi16nLuwrfujYuzseGXbTmhrgorWf3Xx+vNr2uL1wZw96Pa9YXXWnnFa1TGAIf6Cr5wHi5oxS/bJDdS219xD3XA/+JhroLYs2kx9otKqiLELe+PvRzmD3PVPF7e1wVI8acLsb5HXb8sTby3mr/PyOWxxdG/Oxmld8H67ocAAAAgGmtUq3JlwEAOIZ6br0iLu5ZNskxcI9jKSD+UMSaw/4lCLJu1d+4Ll5z12TDcQAAAIDpr7u7O7q6uvK18lIBDADwAskqg6egW+TjRU/qznsy3WEzWhpDWffPAAAAAKUmAAYAeMGksXFj/PFkabAlbr05JjWmLyNtiZWp+/KPqqAGAAAAKDNdQAMAAAAAAAClpwtoAAAAAAAAAKYVATAAAAAAAABASQiAAQAAAAAAAEpCAAwAAAAAAABQEgJgAAAAAAAAgJIQAAMAAAAAAACUhAAYAAAAAAAAoCQEwAAAAAAAAAAlIQAGAAAAAAAAKAkBMAAAAAAAAEBJCIABAAAAAAAASkIADAAAAAAAADDFent786VjSwAMAAAAAAAAMMWuuOKK2LJlS7527AiAAQAAAAAAAEpCAAwAAAAAAABQEpVqTb4MADSZvr6B2N/XH/0Dg3kLAAAAL6S21paY0d4W7e2teQsAMF10d3dHV1dXvnb0vfWtb41Vq1bFggUL8pZjQwUwADSpvfv6Yu/+/ki/qVWpNwEAAPACSt/N0ne09F0tfWcDAGhGAmAAaEKp8revfzCqg4MxMFCb5+0AAAC8cNJ3s+w7Wu27WuqpKX13AwBoNrqABoAmtGv3vqF/WAAAAKD5nDB7Ruzf3x8nnjAzbwEAmt3R6AK6t7c3tm/fnq8N9/73vz8uu+yyOPfcc/OW4ebPn58vTS0BMAA0oR079wx1LQYAAEDzOeXk2fFc7bvbqbU5ADA9HI0AePXq1bFly5Z8bbjvfOc70dHREaeeemreMtwtt9ySbZ9qAmAAaEIpAAYAAKB5peA3fXcTAAPA9HE0AuCDeetb3xqrVq2KBQsW5C3HhjGAAQAAAAAAAEpCAAwAAAAAAABQEgJgAAAAAAAAgJIQAAMAAAAAAACUhAAYAAAAAAAAoCQEwAAAAAAAAABTbMGCBdHR0ZGvHTsCYAAAAAAAAIAptmrVKgEwAAAAAAAAAIdPAAwAAAAAAABQEgJgAAAAAAAAgJIQAAMAAAAAAACUhAAYAAAAAAAAoCQEwAAAAAAAAAAlIQAGgNK4L1YvvCgWFtPq+/J2AAAAAACOFwJgACiDnjvjvQtXx/Z3fyo2b767Nq2KxRtXC4EBAAAAAI4zAmAAKIF7Pn97bDv78lj5rjPzlvNj1YcXRmxcHau78yYAAAAAAEpPAAwA09598ZWNtVnHmdFRb6i78PxYXJttvFcVMAAAAADA8UIADADTXc9jsb02mztnTn19yJx49dm1We9j0VtvAAAAAACg5ATAADDd9W6PbbXZnDlF98+FM6NjWEkwAAAAAABlJwAGAAAAAAAAKAkBMAAAAAAAAEBJCIABYLrrmBNza7Pt2x+rrw95LHoN/gsAAAAAcFwRAAPAdNd5ZsypzbZt315fH7I9fvBwxNz554ehgAEAAAAAjg8CYACY9s6PNy+uzTbeF/fUG+q674uNcVYsmH9m3gAAAAAAQNkJgAGgBOavWhWLY3Ncv/q+vOW+WP2RzRGLfycu68ybAAAAAAAovUq1Jl8GAJrEjp178qXJuC9WL1wdG/O1WLwqNq86P18BAABgKp168uzsu1uaAwDTQ3d3d3R1deVr5SUABoAmdHgBMAAAAMeKABgApp/jJQDWBTQAAAAAAABASQiAAQAAAAAAAEpCAAwAAAAAAABQEgJgAAAAAAAAgJIQAAMAAAAAAACUhAAYAAAAAAAAoCQEwAAAAAAAAAAlIQAGAAAAAAAAKAkBMAAAAAAAAEBJCIABAAAAAAAASkIADAAAAAAAAFASAmAAAAAAAACAkhAAAwAAAAAAAJSEABgAmlQlnwMAANB8qvkcAKDZCIABoAm1tbZES20CAACgOfX3D2Tf3QAAmo2/oQBAE5rR3hbVqipgAACAZpS+q+3b3599dwMAaDaVak2+DAA0kb37+qJ/YDBmzmiLtrZWYTAAAMALLP1Daqr8TeFvqv6dNbO9vgEAmBa6u7ujq6srXysvATAANLG+voHY39efBcEAAAC88FLwmyp/29tb8xYAYLoQAAMAAAAAAACUxPESABsDGAAAAAAAAKAkBMAAAAAAAAAAJSEABgAAAAAAACgJATAAAAAAAABASQiAAQAAAAAAAEpCAAwAAAAAAABQEgJgAAAAAAAAgJIQAAMAAAAAAACUhAAYAAAAAAAAoCQEwAAAAAAAAAAlIQAGAAAAAAAAKAkBMAAAAAAAAEBJCIABAAAAAAAASkIADAAAAAAAAFASAmAAAAAAAACAkhAAAwAAAAAAAJSEABgAAAAAAACgJATAAAAAAAAAACUhAAYAAAAAAAAoCQEwAAAAAAAAQEkIgAEAAAAAAABKQgAMAAAAAAAAUBICYAAAAAAAAICSEAADAAAAAAAAlIQAGAAAAAAAAKAkBMAAAAAAAAAAJSEABgAAAAAAACgJATAAAAAAAABASVSqNfkyANA0emPtpZfHTVvnxlV33RLLz8qbh2yJlW+8Pu6OJXHj/ati0bC2kcY7R8SmlRfGNesjLvp4d6xZkjeOqbiffLXB8GPH3y8a7rXn1ivi4pu31ZsbLb0hHlizIF85oLjPAxpf9+SuOdZrzbZtWhBfuGNZdD6yLi69ZG08mG8by7wrb487VnTUVzasjvOu3TDuvRdGv4YR70txnjEMux4AAAAAcFi6u7ujq6srXysvFcAA0NS2xcbNvflygw1bxgh661JY+MD93UPTjUu3xU2XXBFrH8l3GLIlNq6v7X/O3Lh785a87RBSyNlw7gc+viTuvvbCWDkytxy5XzYVgW0hhbON22+Ii9ZfH+ddui568j3qofaFcU3P8vhCw743Lt0Q1wzbr2ZC14y4+7YRx4101rK4o+EcNy6ttZ0z/PqNYeymzbUXX3uG89ZviU152zApUB7jNXzhyhjjfUmh8IF9ikn4CwAAAABMlAAYAJrYRUuXxIObtowKLFPomILbiVi05oa4aKwgOQuRl8SKjy4YP7w8lCWrsoD0kKHqhCyINR9fErG1di95KLpp5fVxdwpfU2VuvSmzaE13PDCibUJqz/OirWtj5a1jhOqHpR6iX/SeVbH4nA2xcVQBb2+s/dDaeHCM19C54pZ44P6xK7MBAAAAAA6XABgAmtnCBXFRQyBal0LHubF40ZFVhWaVq0sXxKKzOqIzxgovJ6azc2JB9IR0dsS82BaPpjT5kXVxaxauHkbQO56ejlh85dx48OZ1hxd4j5SH6IuX1J5h7SZHVVJvWFfvxvujU/gaAAAAAAAOQgAMAE2s5wcdsXjpiOrdFDqesyAWvTpfP4SsijZV+g7rRjivXF2YxqxdULvGGOHlBPX0jDGW7+Hq6Y0HY268prO2WLufYnkqda5YFhfFhrh1CqqAh0L02vKihUsiRlRSZ9ujIzpV+QIAAAAAx4gAGACaXAoWD3QD3Rtrb9sQ8xYtiPjB2AHmgzdfHue98cKhqT727IixcIcqV+urY4WXE9Fz6xVxzVhVumks34Z7OO+NY41BPEIaK/faFKgua+gWeRLh6YSvWe9q+sGbVx/6ng6qMUSvWbIgC5ZHVVKfkyqsJyqN19z4GmrTysML5gEAAACA45MAGACaXQoWi26gH9kSG7eOrOYdbt6Vt8cD93cfmD4asfKNF8alDRWvWWVqYzA5Xng50oiQ9eKbO+LG2jXW5EHykKU3DL+HMce63RDXNJzrvEvWxoPpuDV5oDpZE7pmbsmyuOqcbXHTbUcQrmYhemOF8sQqqTetbHjNo0LquXHVXY2voTYd7vMAAAAAAI5LAmAAaHopWKx3A511i5x3OTxhZy2LO7KK12Lc23rlamxdGxcPBZGpm+gJdAM9KmQdUVk8KUuy8Did58al+fqosLP2mo+oSnc8HbH8o8tj3vp1h10FXO/eeXjFbqqGHlVJvbX2GvLFZNGa/NndVbt+3gYAAAAAMFUEwAAwDRTdQG/q2Xagy+FJy8PUvPvnInwdmj5+eN1AT4VFa24YNS5vZ+11zott8WhjejqVzloWK5Zui5s+tG5YQDsxeffPHx/xDO+vv46ikjrrWvuohdgAAAAAAKMJgAFgOsi6gV4bN60/MG7vZPRk4wXXx9Md1f1zYaLdQB8VC2LFlXOHj8t71oJYfE7E3bcdTkA7MYveszzm1Z7rxp7xu9Qe06junwsjuoGeiq6mAQAAAAAmQQAMANNCPSCNyXb/nGxYHRffvC3mXbmsdmy9cnXeogWjA+DoiNekwPVQ3UAfJZ0rlsVFqUvlobC0I5bfcUMWfF986fAQuD6O7sjxcw/DWctiTe253r1+cql3PUSvvRdjjDHc2Vl7n4YqqYuupq+P80a8hqw773wZAAAAAGCqCIABYJroXHFLPDBqjNzRHrz58qExabPp2g1ZV8V3rOiInlvXZZWrixeOVfHaEYsWpfDy8MfFHZICz8Z7yKZDBbYLYk3WDXXt2JVFCFxru787buxsHK84jbWburC+JZY3BrCHdc0ieJ6ER9bFreOG6EXX1Q3dWacxmO+/Pa6K4a/h4ps7Rr+GEWMKD01DzwMAAAAA4OAq1Zp8GQAAAAAAAKCUuru7o6urK18rLxXAAAAAAAAAACUhAAYAAAAAAAAoCQEwAAAAAAAAQEkIgAEAAAAAAABKQgAMAAAAAAAAUBICYAAAAAAAAICSEAADAAAAAAAAlIQAGAAAAAAAAKAkBMAAAAAAAAAAJSEABgAAAAAAACgJATAAAAAAAABASQiAAQAAAAAAAEpCAAwAAAAAAABQEgJgAAAAAAAAgJIQAAMAAAAAAACUhAAYAAAAAAAAoCQEwAAAAAAAAAAlIQAGAAAAAAAAKIlKtSZfBgCaTF/fQOzv64/+gcG8BQAAgBdSW2tLzGhvi/b21rwFAJguuru7o6urK18rLxXAANCk9u7ri737+yP9plal3gQAAMALKH03S9/R0ne19J0NAKAZCYABoAmlyt++/sGoDg7GwEBtnrcDAADwwknfzbLvaLXvaqmnpvTdDQCg2QiAAaAJpW6fK5X6Py4AAADQXNJ3tZkz2rLvbgAAzUYADABNKP0m+aBxfwEAAJpWW1tr9t0NAKDZCIABoEmp/gUAAGheaTxgAIBmJAAGAAAAAAAAKAkBMAAAAAAAAEBJCIABAAAAAAAASkIADAAAAAAAAFASAmAAAAAAAACAkhAAAwAAAAAAAJSEABgAAAAAAACgJATAAAAAAAAAACUhAAYAAAAAAAAoCQEwAAAAAAAAQEkIgAEAAAAAAABKQgAMAAAAAAAAUBICYAAAAAAAAICSqFRr8mUAoEns2LknX5qc3s9eHb/36UfytWRh3LD5AzE/X4ueO+O977k9tuWrB5wVy2/7s7isM18FAADgoE49eXb23S3NAYDpobu7O7q6uvK18hIAA0ATOpwA+J7VF8X1G4cHuVlbrIrNq86vN3T/cSz8yHZhLwAAwBESAAPA9HO8BMC6gAaAMuj+41HhbzJ/1d0Hwl8AAAAAAEpPAAwAJXDPvZsjzr4g5h+iqrd3+/baf+dEh+pfAAAAAIBSEgADwLR3X3xlY8Tc+edHR94CAAAAAMDxSQAMANNdz2OR1fXOObM+xu/Ci4am1d31XYY5e3usa9hn4cI/jnvyTQAAAAAATG8CYAAoie2fvzoW3nt+bN58dzZ95t1nxcaPjAiB58yJuXFBrMz32bz5U7H87M1x/cKr43M9+T4AAAAAAExbAmAAKIltHb8Tm1edn69FdLzrD2P52REbP39n9BZtF34gPnXLOxu6ij4zLvvg5TE3Hom1n78vbwMAAAAAYLoSAANAScydMydfKpwZHSnpfXh71kX0uDrPjwVn1+a9jw0FxQAAAAAATE8CYACY7vIAd9v2g8a8AAAAAAAcBwTAADDtnRnz558VsfG+uCdvqXsselNJ7+LzY369YWw998WWhyPmzj+/oWtoAAAAAACmIwEwAJRAx7t+JxbH5rj+igPj/fZ+9o9i7cNnxfLfrY8L3PvZq2PhwotidXe2mrsvVr/n9th29uWx8l1n5m0AAAAAAExXlWpNvgwANIkdO/fkS5PxWHzuivfG2ofz1VgYN2z+wFD1b2/PY9HR+z9i4Uc25y25xati86p6SAwAAMDEnHry7Oy7W5oDANNDd3d3dHV15WvlJQAGgCZ0eAEwAAAAx4oAGACmn+MlANYFNAAAAAAAAEBJCIABAAAAAAAASkIADAAAAAAAAFASAmAAAAAAAACAkhAAAwAAAAAAAJSEABgAAAAAAACgJATAAAAAAAAAACUhAAYAAAAAAAAoCQEwAAAAAAAAQEkIgAEAAAAAAABKQgAMAAAAAAAAUBICYAAAAAAAAICSEAADQJOq5HMAAACaTzWfAwA0GwEwADShttaWaKlNAAAANKf+/oHsuxsAQLPxNxQAaEIz2tuiWlUFDAAA0IzSd7V9+/uz724AAM1GAAwATai9vTXa21qi0tISra21ed4OAADACyd9N8u+o9W+q6Xq3/TdDQCg2QiAAaBJzZrZHrNmtGX/wGBsKQAAgBde+m6WvqOl72rpOxsAQDOqVGvyZQAAAAAAAIBS6u7ujq6urnytvFQAAwAAAAAAAJSEABgAAAAAAACgJATAAAAAAAAAACUhAAYAAAAAAAAoCQEwAAAAAAAAQEkIgAEAAAAAAABKQgAMAAAAAAAAUBICYAAAAAAAAICSEAADAAAAAAAAlIQAGAAAAAAAAKAkBMAAAAAAAAAAJSEABgAAAAAAACgJATAAAAAAAABASQiAAQAAAAAAAEpCAAwAAAAAAABQEgJgAAAAAAAAgJIQAAMAAAAAAACUhAAYAAAAAAAAoCQEwAAAAAAAAAAlUanW5MsAQJN57rmd8cwzz8aePXvDH9lHrlKpxOzZs+JFLzotTjnl5LwVAAAAADgedHd3R1dXV75WXgJgAGhSP/3pk1kA/JIzXhKnnXpK3sqR6Ovri12798RTTz6VBcAvfekZ+RYAAAAAoOyOlwBYF9AA0IRS8Jums89+jfB3CrW3t2fPs6PjzKFnDAAAAABQJgJgAGhCqdvnVPnL0ZGC4Fe+8uXZcwYAAAAAKBMBMAA0oTTm74knzM7XOBpSCJyeMwAAAABAmQiAAaAJpSH6U0DJ0ZOeb3rOAAAAAABlIgAGAAAAAAAAKAkBMAAAAAAAAEBJCIABAAAAAAAASkIADAAAAAAAAFASAmAAAAAAAACAkhAAAwAAAAAAAJSEABgAAAAAAACgJATAAAAAAAAAACUhAAYAAAAAAAAoCQEwAHBUbVp5YZz3xtWxKV+P2BIr3ziyDQAAAACAqSAABgCOrUd6oydbqM0fyRYmbsNqwTEAAAAAwEEIgAGAY+usZXHH/d3xwP23xPKz8jYAAAAAAKaEABgAmDZ6ftCbLwEAAAAAMBYBMACUVM+tV8R5l67Luluuj8NbTFfE2hFdLx/YtzfWXprvlx+beWRdXDp0/IhtjUbsd+mtYwW2+TXGPEcxPvCBaeWGA+0X37yttrwhrim2r9ySNgIAAAAAkBMAA0CZbV0bF7/xwti4MHW5nKbb46pztsVNl4wOgWPrllh56eqIj+b73rEsOlN7Gnf3krXR+fHiHN1xY2c674ixePP94srbh/ZbE6vjmvX59kPJxve9Pu5eesPQ8Q98fEncfW26zoJYU1v/wpVzazsuiRuL7WsW1I8FAAAAACAjAAaAUpsbV93VHWuW5KvREcs/ujzmxba46baR1bPbovM9I8fl3RIrr90Q8668veEcEYvW3BAXxYa4dajCt75fLL0h7ljRkbdFdK64JW5cmq8c1IHjh4W6S1bFA/evikX5KgAAAAAABycABoDjzVkLYvE5tXlP74gumOfGa7KS3wYbtsTdtfbFCw+EunUd8ZraOR6snSOT7Rdx0cLDrMg90uMBAAAAAMgIgAHguNMRnSno3ToyAB6t5wcp4E1dRg8fl/e8N14eN22t75PU9xsjQJ6gIz0eAAAAAIA6ATAAHHd6o+dQye8w9W6kh8blbZyMwQsAAAAA0FQEwABw3OmNR1P17jkdcaiC285Xp66ft8WjEwqMJ7rfeI70eAAAAAAABMAAcLzJx9udt2jBIQPgWLIgLqrN7t68pb4+js6FC2JebX6o/cbTuWLZhK5T1xs9j+SLAAAAAAAMIwAGgFLbFjd9aN2BsX4fWReXXrsh4pzlsWZFqu49lAWx5uNLItZfH+etbAxne2PtyobznrUsViytzWv7raydvrBp5YVxzfp85aAWxIor52bHX3prGg84t2H1sOsWFckbNzfsAwAAAADAEAEwAJTa3LjqPREr33hhnJemS9bGg0tviAfuWHbo6t/CklXxwF3LY14KgYvzvPHyuKlnS2xqCHsXremOL1w5N+6+ttjnwti4sN42EZ0rbsmuEzdffuA6126Ii1LYXFT81u4lne/BoX1Wx6Z8EwAAAAAAEZVqTb4MADSJ739/a7zudefka4en59Yr4uKbI66665ZYflbeyDBT8ZwBAAAAgOmhu7s7urq68rXyUgEMAAAAAAAAUBICYAAAAAAAAICSEAADAAAAAAAAlIQAGABKqnPFLfHA/cb/BQAAAAA4ngiAAQAAAAAAAEpCAAwAAAAAAABQEgJgAAAAAAAAgJIQAAMAAAAAAACUhAAYAAAAAAAAoCQEwAAAAAAAAAAlIQAGgCZUqVSir68vX+NoSc8ZAAAAAKBMBMAA0IRmz54lAD7Knt3xXPacAQAAAADKRAAMAE3oRS86LR5//Mf5GlMthetPPflU9pwBAAAAAMpEAAwATeiUU07OpocffjSefOrpvJUjlYLfVPn78MM9Q88YAAAAAKBMKtWafBkAaDLPPbcznnnm2dizZ2/4I/vIpTF/U7fPqfJX+AsAAAAAx5fu7u7o6urK18pLAAwAAAAAAACU3vESAOsCGgAAAAAAAKAkBMAAAAAAAAAAJSEABgAAAAAAACgJATAAAAAAAABASQiAAQAAAAAAAEpCAAwAAAAAAABQEgJgAAAAAAAAgJIQAAMAAAAAAACUhAAYAAAAAAAAoCQEwAAAAAAAAAAlIQAGAAAAAAAAKAkBMAAAAAAAAEBJCIABAAAAAAAASkIADAAAAAAAAFASAmAAAAAAAACAkhAAAwAAAAAAAJSEABgAAAAAAACgJATAAAAAAAAAACUhAAYAAAAAAAAoiUq1Jl8GAJrM3sH9sWdgX/RV+8Mf2AAAAC+sSm1qr7TF7NaZMatlRr0RAJg2uru7o6urK18rLxXAANCkdg7siR39u2K/8BcAAKAppO9m6Tta+q6WvrMBADQjATAANKFU+bt7YG++BgAAQLNJ39nSdzcAgGYjAAaAJpS6fQYAAKC5+e4GADQjATAANKE05i8AAADNzXc3AKAZCYABoAkZ8xcAAKD5+e4GADQjATAAAAAAAABASQiAAQAAAAAAAEpCAAwAAAAAAABQEgJgAAAAAAAAgJIQAAMAAAAAAACUhAAYAAAAAAAAoCQEwAAAAAAAAAAlIQAGAAAAAAAAKAkBMAAAAAAAAEBJCIABAAAAAAAASkIADAAAAAAAAFASAmAAAAAAAACAkhAAAwAAAAAAAJSEABgAAAAAAACgJATAAAAAAAAAACUhAAYAAAAAAAAoCQEwAAAAAAAAQEkIgAEAAAAAAABKQgAMAAAAAAAAUBICYAAAAAAAAICSEAADAAAAAAAAlIQAGAAAAAAAAKAkBMAAwJTb+Jm3xLmfuTdfAwAAAADgWKlUa/JlAKBJ/GT/M/nS1Emh7B88tCj+5GPXxeK87YB742PXfSTufO2H49u/d0HeVhyTr4x0+rvjr6+5NF6Trx5QP1f89j/EdW/Im2rGOtc7R+wT3/xYnPtXm0a358Z8DfkxYzs73vf7fx7vekW+Wnjijrjiv306vjHi9Sb1a4xxXH5MXLA2bvmNOaPXM9vjszcuj0/GeM8mN+axE1C81jHuO5nQe5yvZUa9h2PsM5Zxrj/0+p/OVxuN8Xk5+P2OoXj94372Dnj0b/9D/Na9D+drdSM/V2N9Joc0XqP4vGQbGk3i3gEAKK2XzXhRvgQANLvu7u7o6urK18pLBTAAcAgp5PqH+PbIabwA7ont8WjtmDcNBW0pFHxL/MFT746/bjj+ry84O+78q7fEFX+7Pd/vyKRwb9j9ZdMY4W/yigti/um1+VPpXhttjx89leYPx48ezxoOeLw3CwBf8/JJBLZHy0Ofj88+kS9PRApOi4C/4fn8yUs+Hb913VviY9/M94sL4rqG7d/+2Ifjnal5xHFjh78NUnjauH86z9PpWv9hcvc9wsbvpvD37HjT0/fEveOeJ4XYb4nfunfO8M/tby8a5/M28c/3my5YO2yfP3ntpviD2rWm6jMMAAAAAFNBAAwATKlHH7gnvvHa+Q0Vup+PTz59drzvd4cHaq/5jT/PQrRJVcBOmTnxqpfUZk/3Rk+9oe6Je+Oe2r2+6fSIO787vAvrR3+cQr7GYPuFsije+dqH45Ofv2NEeD2OVL06TtXw4t9LIWbttf7VkQWzh3ZBXPf77443Re2+1x9u1+D3xjceinjnwuti/ukPxz0PjBW6pl82+EjcmQXQIypz33DdlH/e0vNLv8jwjXuXN4ToAAAAAPDCEgADAFNoe9z7/Yfjnb94IGisB6fNp/OMs2v/3R4/agg+s/D69PnxztfVto2oDu558uGI0zuiM19/4WyPV/3iu+NNT3867ppA6Lhxfeq6+Ox439Kxq3YXLz3SYHaCxq26nqBv3hN31l7Hq15ZD++/8f17R58n+2WDFBIfvHvoqfSa3/jdrEr6zs0TDOQBAAAA4CgTAAMAUyeroB1eJVvvMnkSFavHSHFfjV09ZyHvS+bE4rRtWDfDedfQtW3HKlg8qFdeGu/MKnc/FhvzprHVq2bj9PlxwVhdYSdHGsweI/Xun+uvY/EvLhrx/tRl+xzzKu0L4k2192Ks+wEAAACAF4IAGACYMqO6f07ecF3WzXBkY8C+Jc69sUmC4DfMr1duDnX1nHcxnKqXs20N4XAWbEe86YwXorvqsdUrdzfFnRMZf/agwfU43WFPteIZvu6CwwjR6+/N0LH5+zO8ajkP6V+AKu16NTkAAAAANAcBMAAcVzbFH6QQdtT0kbgz32O0sY4Zq/J0dPfPhTRW6rc/9uEscB0Kgsc8R92dfzXyevXpD1I16zjGOubg47LOiVc1Vr4+keapi+ED24bC4cd7s26U55/XPAFwvOLSuC4bf/Zj44/fm72miRreHfbUujc+9t9SV9SL4p2HMwZv3v3zgeefV90+dE/DZ6h2/0/ni5My0c/3oQyvJgcAAACAF4oAGACOK4viTz6WwtiRUx7OjmmsY64bXuWbjNH983AXxHX58VlFcB68jRXSvvO3R16v8bixjXXMdQftCnh45Wsx/m+9q+Q5cUHDOMD1cYxr+4/XjfILpD7+7EHG733FZLqsnsLXNxTyF9NH4s7Xfrj2nozxuZmAetfOw++vXnW7Kb4x9Pmph/aTN8HP9yEVvzwAAAAAAC8sATAAMCXqAerEut/NKoJ/P3VhHHHn5heuS+hsLNm88rUY/7cITLMxgvNxXbNtL0DXwod2QVz327XX8NBHsiB9dFfEeSh60PF9j0LXyae/O/56ZKj6e6MrwycmH8d4RKXub91be09qDnThXXutx6Ir6zFkn4+pDNABAAAA4AgIgAGAKVDv/nlS47u+4oKYf1gVm1PolR3xpqzr3noIOmyM36FxgPNthzV27THwht+N96XuqjffMUbwWYSi9SB7TEc0Nu8xkHf//L7fHxEo16asIryhG+jRVcHHQh5QN+UvCAAAAABwPBIAAwBTII2/Os4Yud+89+DjqTZU3R5zeRfJj37383HPqPuvV8/eWduWxpbNKoKb0px41+++O9709Kfjzu/nTQ0WL02V1uN3E71x/RGMzXvUbY/Pbt4UMdQ193D1Cu4DgW+9S+xjW1X+6N9+Phs/+50LL23OAB0AAACA444AGAA4cqlKc6yQ7ok74oq/+siYY/1u/Mzy+OTTZ8f7lh5u18BToR7yfuOhTfGNUV345uMA17alCtSmHt/1FZfGO19bex1P17tFHqa27Za8m+hzP9MYAm+Pz974lviDh9L4yYc3Nu9Rd6jq5KyCu7Eb6AviutS1eDYG8ceG/+LBNz9W7z562DM4Mhs/U++K+k0XrD3EeNMAAAAAcOwIgAGAQxg+9uqB6UDAtvG7m8YO6VL4+LF/iL++4Oy486+GH/8HT6VxYv883jVF46aOPH8xjQyeh8tD3uS180eFoAeqfic5vmsWQI6+lyv+dnu+Q9037l0+ap9zr/sP8dnxums+iMW/9+Gs+nVMb7guvv2xtfG+pz7ScJ3l8cmoj9X7woaX43y+PnNvXp18kOrrohvxhz5/4Jnln7k/ee2I8/7Vpnjnb/9DfHvpnBHVwYf+fBdGvl/1z/A/xC1NWT0NAAAAwPGqUq3JlwGAJvGT/c/kS9PBvfGx6z4fr/r9qQtzAQAApouXzXhRvgQANLvu7u7o6urK18pLBTAAcGTG6/4ZAAAAAIBjTgAMAByB7fHZzeN0/wwAAAAAwDGnC2gAaELTqwtoAACA45cuoAFg+tAFNAAAAAAAAADTigAYAAAAAAAAoCQEwAAAAAAAAAAlIQAGAAAAAAAAKAkBMAAAAAAAAEBJCIABAAAAAAAASkIADAAAAAAAAFASAmAAAAAAAACAkhAAAwAAAAAAAJSEABgAAAAAAACgJATAAAAAAAAAACUhAAYAAAAAAAAoCQEwAAAAAAAAQEkIgAEAAAAAAABKQgAMAAAAAAAAUBICYAAAAAAAAICSEAADAAAAAAAAlIQAGAAAAAAAAKAkBMAAAAAAAAAAJSEABoAmVMnnAAAANC/f3QCAZiQABoAm1F5py5cAAABoVr67AQDNSAAMAE1oduvMfAkAAIBm5bsbANCMBMAA0IRmtcyIE1pn5WsAAAA0m/SdLX13AwBoNgJgAGhSJ7fOjlPbTowZlTbjSgEAADSB9N0sfUdL39XSdzYAgGZUqdbkywAAAAAAAACl1N3dHV1dXflaeakABgAAAAAAACgJATAAAAAAAABASQiAAQAAAAAAAEpCAAwAAAAAAABQEgJgAAAAAAAAgJIQAAMAAAAAAACUhAAYAAAAAAAAoCQEwAAAAAAAAAAlIQAGAAAAAAAAKAkBMAAAAAAAAEBJCIABAAAAAAAASkIADAAAAAAAAFASAmAAAAAAAACAkqhUa/JlAAAAAAAAgFLq7u6Orq6ufO3Qvva1r+VLL7zJ3LcAGAAAAAAAACi9yQbA05UuoAEAAAAAAABKQgAMAAAAAAAAUBICYAAAAAAAAICSEAADAAAAAAAAlIQAGAAAAAAAAKAkBMAAAAAAAAAAJSEABgAAAAAAACgJATAAAAAAAABASQiAAQAAAAAAAEpCAAwAAAAAAABQEgJgAAAAAAAAgJIQAAMAAAAAAACUhAAYAAAAAAAAoCQEwAAAAAAAAAAlIQAGAAAAAAAAKAkBMAAAAAAAAEBJCIABAAAAAAAASkIADAAAAAAAAFASAmAAAAAAAACAkhAAAwAAAAAAAJREpVqTLwMAAAAAAACUUnd3d3R1deVrR+6LX/xi3HTTTfna4Tn33HPjgx/8YJx22ml5y5ETAAMAAAAAAAClN5UB8Lp16+L9739/LFu2LE499dS8dXy9vb3xuc99LlauXJm31H3pS1+KSqUSX/va1/KWIycABgAAAAAAAEpvKgPgt771rVn17ic+8Ym85eC2bNkSS5cujT179uQtdc8++2y84hWvyALgdL6pYAxgAAAAAAAAgEmaSOXvoRRdP+/YsSObTwUBMAAAAAAAAEBJCIABAAAAAAAApkga7/flL395fPGLX8xbji0BMAAAAAAAAMAU6ejoiKuvvjouueSSWLduXd567AiAAQAAAAAAAI7AO97xjli6dOnQdM8992Tj+773ve895pXAAmAAAAAAAACAI3DZZZfF/Pnzh6bXv/718eyzz2bzBQsW5HsdGwJgAAAAAAAAgCPw9re/PVatWpVNqfvnz33uc1n4u379+qwS+FgSAAMAAAAAAABMoQ9+8IPx9a9//ZiHv4kAGAAAAAAAAGCKpND3P/2n/5SvHXsCYAAAAAAAAICSEAADAAAAAAAATEJHR0fcc8898eyzz+Yth2fdunXZPI0XPFUq1Zp8GQAAAAAAAKCUuru7o6urK187Mr29vfGOd7wjvvOd7+Qth+9Tn/pULFu2LF87cgJgAAAAAAAAoPSmMgAubNmyJV86PKnyN40ZPJUEwAAAAAAAAEDpHY0AuBkZAxgAAAAAAACgJATAAAAAAAAAACUhAAYAAAAAAAAoCQEwAAAAAAAAQEkIgAEAAAAAAABKQgAMAAAAAAAAUBICYAAAAAAAAICSEAADAAAAAAAAlIQAGAAAAAAAAKAkBMAAAAAAAAAAJSEABgAAAAAAACgJATAAAAAAAABASQiAAQAAAAAAAEpCAAwAAAAAAABQEgJgAAAAAAAAgJIQAAMAAAAAAACUhAAYAAAAAAAAoCQEwAAAAAAAAAAlIQAGAAAAAAAAKAkBMAAAAAAAAEBJCIABAAAAAAAASkIADAAAAAAAAFASAmAAAAAAAACAkhAAAwAAAAAAAJSEABgAAAAAAACgJATAAAAAAAAAACUhAAYAAAAAAAAoCQEwAAAAAAAAQEkIgAEAAAAAAABKQgAMAAAAAAAAUBICYAAAAAAAAICSEAADAAAAAAAAlESlWpMvAwAAAAAAAJRSd3d3dHV15WtH15YtW6JSqeRrEXPmzImOjo587egSAAMAAAAAAACld6wC4D/90z+ND3zgA9lyCn63b98ep512WjzxxBNZ29GmC2gAAAAAAACAKXLPPffE1VdfHXv27ImHHnooC36fffbZ+Pa3v53vcXQJgAEAAAAAAACmSG9vb1b5W0jVv6eeemp85zvfyVuOLgEwAAAAAAAAwCSlqt7UpfS8efOyLp9The8Xv/jFLOh9+9vfnu9V97a3vS0+97nPZeFwml9yySUxe/bsrLvoqSYABgAAAAAAAJik97///VGtVuOqq66Kr3zlK1kYnILdyy67LDo6OvK96lKX0CkgTmHxNddcE6ecckqsXLlyKDieSpXaTVXzZQAAAAAAAIBS6u7uzkLaqbBly5ZYunRpfO1rX4tzzz03a0vVvcnI8LdROm7BggX5WsQ73vGO2LFjR6xfvz5vOXICYAAAAAAAAKD0pjIAvuKKK7Lg9i/+4i/ylsOTqn/TPT344IMHDY4nQxfQAAAAAAAAAJOQwt977rln3O6bV69enVUIpyl1C11UB4/0Z3/2Z9l8vO2HQwAMAAAAAAAAMAmp8vc3f/M349d//ddHhcAp/E3B7pw5c2L+/Pnxgx/8IAuCn3322XyPulRF/KUvfSnrRrqxW+gjpQtoAAAAAAAAoPSmsgvoQhrDN1UCP/HEE3lLxFvf+tasO+dbbrklW0/VvfPmzcvG+S2C3j/90z+ND3zgA8PGEJ4qKoABAAAAAAAADsPb3va2rLJ3ZBfOjeP5jjW273e+852sfarD30QADAAAAAAAADBJqevnVMV72WWXDQt5TzvttPjyl788FAqnat/k1FNPzebJ1VdfnQXH733ve/OWqSMABgAAAAAAAJiEL37xi9n4v2kc4KKr58LKlSuzcX9Tt8+zZ8/OQuLU1ljtm5ZTl9DpPGOND3wkjAEMAAAAAAAAlN5UjgGcxvlN/v7v/z6bj5QC3dTNc5Iqf8fr6nnLli1ZAHzXXXfF29/+9rz1yKgABgAAAAAAAJiEZcuWxfbt2/O10VI30AsWLMimg43zm7qJTgHxVIW/iQAYAAAAAAAAYBLe9ra3ZVW+q1evztZTV85pPN80parekdK+f/Znf5ZV+6Z5Cn5TW+oeOo0HPJV0AQ0AAAAAAACU3lR2AZ0U3Tenat8U5hahcKoMfvDBB/O96tatWxfvf//7s33ScWmfdNycOXPi61//er7X1BAAAwAAAAAAAKU31QFwkoLdJAW7RRA8b968+NSnPjWsW+df/dVfzbqD/sQnPpGtf/vb344vfelLWVfSHR0dWdtUEQADAAAAAAAApXc0AuCxvPWtb83C3lWrVuUtEbNnz47169dn7UebMYABAAAAAAAApsi5554bX/7yl2PNmjXZlMb5TV7/+tdn86NNAAwAAAAAAAAwRS677LI45ZRT4itf+Uo2fetb34qrr7466yL6WNAFNAAAAAAAAFB6x6oL6BeaCmAAAAAAAACAkhAAAwAAAAAAAJSEABgAAAAAAACgJATAAAAAAAAAACUhAAYAAAAAAAAoCQEwAAAAAAAAQEkIgAEAAAAAAABKQgAMAAAAAAAAUBICYAAAAAAAAICSEAADAAAAAAAAlIQAGAAAAAAAAKAkBMAAAAAAAAAAJSEABgAAAAAAACgJATAAAAAAAABASQiAAQAAAAAAAEpCAAwAAAAAAABQEgJgAAAAAAAAgJKoPPTQQ9Wa+kqlEoODg9m8WE9SW9LS0hJp32K9tbU1W0/7Feco5klxfLHPyOVGY7WntnTN4vzFvaV5ah8YGIi2trZsXhyb2ov7K9rSsUlq37NnT7YMANPBSSedNOzP3+LPxeLPw9Re/DmX/lxOfyamfZLGPw/TPsWxheK44lzFtmJeHN94/eRY/vl/xhlnDO0z1rzQuJ6Wk8bthWJb0rh/sVy81jSNvEajYlvjtRrbGrclI9fHk/b7yU9+kq+NVpy7eI/7+/uH7jnN03uU3p8ktaWpWC7et+J9TIrzFMcVf6cq7jW1j/U6iildv7heWi+uV5wvzdM1Gj+XxfmKc6V543JxbKPitRX7pPnIaydpW9q3r68vm6f2NDX+XTFJ29K+SXG+YjlN6e+XaV5cM01puZCOL15T8RqTkecqlg+1T3E/aTnN07mL9eI5FudIU2ov9klTkvZrfM7F/RbnLI4rFMeltrRvsa2YF8cX91asp+uk9eK8STFPiuOLfUYuNxqrPbUV95qWi3tL89SeXuNk//6ftifFtuJ8xXKxb/Gsi3tIy43Hp/a0f7EtzYt7LI4tzpfmxXLjORqvN1La72CKY4tzTfXPfzpfcd9Fe7GcpOOL7Wny83/gc5CMPFexfKh9ivtJy2me9h+5rThHaktTsU+akvQsGp9z2p4U5yyOLRTHFecqthXz4vjG6yfpOmm9OG9SzJPi+GKfkcuNxmpPbcW9puXi3tI8tafXONmf/5Gfk+J8xXKxb9ovtRf3kJbTlJaT1J72L7aleXGPxbHF+dK8WG48R+P1RiqOH09xbHGu8X7+035pubhOmhef6fTcCsVzKZ5pcb7iHkbeTzo+rReTn/8Dn4Nk5LmK5UPtU9xPWk7ztP/IbcU5Uluain3SlKRn0fic0/akOGdxbKE4rjhXsa2YF8c3Xj9J10nrxXmTYp4Uxxf7jFxuNFZ7aivuNS0X95bmqb34rDa+p6m9uL+iLR2bFMclxbbifMVysW/xmS3uIS03Hp/a0/7FtjQv7rE4tjhfmhfLjedovN5IxfHjKY4tzjXez3+S2orrpHnxvqV9CsV5iuOKZ1rcw8j7SccX29Pk5//A5yAZea5i+VD7FPeTltM87T9yW3GO1JamYp80JcX7V1wnbU+KcxbHForjinMV24p5cXzj9ZN0nbRenDcp5klxfLHPyOVGY7WntuJe03Jxb2me2tNrHPnzX7z2pHj96dgktY/8nBTnK5aLfdN+qb24h7RcXDdJ7Wn/YluaF/dYHFucL82L5cZzNF5vpOL48RTHFufy8+/nP01J8f4V10nbk+KcxbGF4rjiXMW2Yl4c33j9JF0nrRfnTYptSXF8sc/I5UZjtae2dI3i/MV7l66R7iWtt7e3Z+9/cWxqL+6haEvHJsVxSbGtOF+xXOybrpva03pxzsbjU3vav9iW5qktLRfHFudL82K58RyN1xupOH48xbHFuQ718/9P//RP8Qu/8AvZcvG+Zdf43ve+Vy1OkqQNxQ2P/GAXJy/2KfYv1oubTlNqSxqPL7aneXETxX6N50uK9eLYxnMmqT1J7Y3Hpn2LhzHWOZ9//vl4wxvekK0DQDP75je/GSeeeGL2Z1r6syz9OVb8eZrW01T8eVpI+xT7Fn/uFu3Fn6nF8Wm5UByTpmb68/9lL3tZtl4o9ksaj2289ljnHGu5MLKtOL4wclux3vjaGqXtY52zaE9GbmuUAuDGfZN0nfSlpPjSUzyf9F4V0no6Ju1TfIFJinnaVtxv2rdoL17HyOWk2L84Nimuk44vpuKcSbHeuK2Q7jfdf1JsS1M6d3FPxdR4neI+iuMaP0fFvmmfkZ+vpPG+inlx3bRcfN6L+0jzxnspnnexfyHtk551sVxI+6X29CUlnbvxuJHLhXT+wsh9i3tJ6+le0jnTepqK11sojknzxmdWrKdzpXnap/Gei2PSVDyPYv9i32KfYv9ivbhOmlJb0nh8sT3NR74/jedLivXi2MZzJqk9Se2Nx6Z9D/b3/+Ieivspzl9sT/s2XrNoS4pji+ukeZpG/iNUIW1LbcVzTIr19PqT4txJ2lacv1Bcs5DWj9XPf+M5i/2LY5PiOun4YirOmRTrjdsKI59B2pam4vUUx6Sp8TrFfRTHNX6Oin3TPiM/X0njfRXz4rppuXifivtI88Z7KZ53sX8h7TNVP/+N5x25b3EvaT0tp3tJ62kqXm+hOCbNG59Zsd54fOM9F8ekqXgexf7FvsU+xf7FenGdNKW2pPH4Ynuaj3x/Gs+XFOvFsY3nTFJ7ktobj037jvfz33gPxXJx/qS4RuM1i7akOLa4Tpqn6Wj+/BfnKKR7mMzPf/rsFfed5sX24n4bPzepvXGfYjkpzjHyPGk9HV9MaT21J8V647bCyGeQtqUpnTsdXxyTpsbrFPdRHNf4OSr2Tfs0thca76uYF9dNy8X7VNxHmjfeS/G8i/0LaR8//weuk6bUljQeX2xP85HvT+P5kmK9OLbxnElqT1J747Fp3/F+/tN6cQ/F/RTnL7anfRuvWbQlxbHFdf5/9t4D0LKquv9f9/V5Uxlmht67IFZUNIpiwxhQY8EWI/40loiGmESTYNcYjQnJn8RoUNFYorFLNKhYUCwg0mGEoQ1lem+vv/vfn3Pf582aw51hQAYhvu+wWHuvvvc5551z777nHDj0QD7+f5Pzv22gvb7APPhLxgT2s07U5wAdRGxrknIe69Av70faYlPfv0CuS25e2m4n64DnWpxv7QU2U8f/1jwQMpD91cPr2yfHA/b1zTEBcoA8+xLXRT9IOcDOGqzH+OqxzTmVAX3po4dDU8d/ax4gYwL7WSfqc4AOIrY1STmPdeiX9yNtsclykeuSm5e228k64LkW51t7gc3U8d+y1xcZoC63tXrisV+aH+R4wL65rUPYNh/AFzvmHN4uJn5w4xlfPbbK6CsD+poHDj0Yjv9rr702HvKQh1R6dI6lqioLMJboAxMB5IC+dkAOtHXQ+hOvSpomQ7JPHPTGQGYuIEfuQIHynEdkuylMYQpTmMIUHkzg/OU5EXhO5Nyaz5fCPjb4wpHpB+XzMHLtJM+ZD4Tzv8h5sm+9DuUg24HttTOQE0uqA5m+WZ/tjWEb2K/btdNvT+ZcCvrMmSScR/1yPLaJbZDt7ANkyrXNudXn/MaC8oWpMbGpx6hzyHjmVkY/E3I4OqCc3OiEdWXkmpgT/EB9fkC7sQDa1iqsC5kfSCBr1d98yI1Dbmh7PsCxcYGPTdYB+/oaH6IN4QeMrZ1kbdSS44EcB8iBtsbXn3hQzivZJ04eDzJzATly7PRVnvOIbJd12DJ/dWAPEbNdbkDbOFmOvfsJenQ5v/XBjW0+5dkOGN+cWQfoGwMStM2BfY5X37+znX2ATLm2Obf6nN9Y0NTxv/PHvzptt+cDaCOnTmyyDtjXF45MPwg/YGztJPrA4xcgBzkOkANtja8/8aCcV7JPnDweZOYCcuTY6as85xHOEcg6bP+vH/8eA9irw95xGzvbAetAplzbnFt9zo+v8nbHDDb1GHUOGc/cyuhnQg5HB5Q7JmFdGbkm9hP8AG2Q7duNBdC2VmFdyKaO/6nzf85JG25s8ynPdsD45sw6QN8YkKBtDuxzvPr+ne3sA2TKtc251ef8xoKmjv+p419/4kE5r2SfOHk8yMwF5Mix01c520idyHZw28SdOv5bsbOdfYBMubY5t/qc31jQ1PH/u3H8qwe2nUOOsXxcmheOzDz0iZfzoaNt33zG0jfXkWOCbJd12P6uH/8dNCgY41x45haZg9A3sH1iZRuSE9OCsZeQWZx688PpIwfGxBZkbgwo22QYZwpTmMIUpjCFByM4v3ke9jznuS2f9zyfC8+Nto2B74Pl/A+wrXMJaFeH+jqsybaox9leX194O/8cW5tsJ9rFgTsvea6zv/MlnE8p26tTZhsOyOF8ZyCHAPbaWJNxBH105gG2jeP2NTftetwcP9dlTGJggy7nyz7KJGHbPNjyq3H6zikf2rCr5wfGBuhzbKDM+Or1g3sBXgd6cgP8ATEAOvzoq7Ne+8C5EdZj25qsQ3tjadvOR5k15P6uPP71B5kbA8o2GcbJwI4Pf/rjq9y2YGztuLbWL9y21mJdcH0Bff3Rux2A20Uf/SHhfIk8F3X7PE7INhyQA5s6kFsT9tpYk3EEfXTmAbaN47jMTbseN8fPdRnTuUKX82UfZZKwbR5sH0jHvzXgD4gB0BlPnbXZB86NsB7bxrAO7c2rbTsfZfRzXPoP1OPfuBnYPdCPf+Mi0x8S9XHluajbY4ueWMaDIwPuB3VoD4ilvTHMI4ybc9s2DnnoYwto1+Pm+OqAMZ0rx2SO7KNMErbNg+3U8T91/lduWzC2dlxb6xduW2uxLri+gL7+6N0OgBjGRaY/JJwvYRwp2+dxQrbhgBzY1IHcmrDXxpqMI+ijMw+wbRy3r7lp1+Pm+LkuYzpX6HK+7KNMErbNg+3U8T91/Cu3LRhbO66t9Yup43/bfcW2cdy+5qZdj5vj57qM6Vyhy/myjzJJ2DYPtlPH/292/BOH4ynbEI95hCPDnpxwZJAy4mELnHvHRtt8IHPjQeaowzgZ2E0d/yV23tFNJGhLQDuQ7ZQ7ANr1gVgAQEcfXhUx0bct8EVWpyzHnri068iynH8KU5jCFKYwhQcLPJdxvm53rgSc39Dlc262oW3fGA/G879+0s6A3ND27K0NaAtyPUD/7cVRrn+2z7J2/nVfQJt5bWfP/KA3Nn2grF1bMN9AmdztpB/7h22Q5wM5fbjbT3mWwSVhHG2tHdiuxwTGwcZ49XzqaEP6tstpfNroza2tMvvY0856YEzhscD8wa0H0M/blDZ65XJkxtWWD6r6WqvADh/kcGMK2vbREeN37frfnBn00Qvs6EPksu7sn+vMUK+PubIMG/3Ni95cEoC7vevQ3tj0gbJ2bWFeZXLktOHUOHX87/rjHx2+9Glrr1wdIJ6xzC2wQ+f4oWxD274xfleOf2qzrrotffIL7KyZXNad/XOdGer1MVeWYaO/edGbSwLwXXH8ExMosw7nST+/GDVGHjdy+nD8c54sg0vCONpaO7BdjwmMg43x6vnU0Yb0bZfT+LTRm1tbZfaxp531wJjCY2Hq+H9gHP/mN2cGffQCO/oQuaw7++c6M9TrY64sw0Z/86I3lwTgeV/J0N7Y9IGydm1hXmVy5LT1Y/+wDfK4kdOH45fzZBlcEsbR1tqB7XpMYBxsjFfPp442pG+7nManjd7c2iqzjz3trAfGFFPHfytPrkUfdNbmOKxHP4AvsjplOfbEpV1HllGbddVt6ZNfYGfN5LLu7J/rzFCvj7myDBv9zYveXBKATx3/29YHYWO8ej51tCF92+U0Pm305tZWmX3saWc9MKb4XTz+iUVu2s6ji6yQPtYHdxzOR643LyhnynJrpl1Hlpkf+7otffQCO2t2PMr1z3VmqNfHXFmGjf7mRW8uCcB35fFf6mgVkjmG2TgHyPI8COT0DSzqxRtDW/sSaFc8cQTt7OPAAXGdGOMD4tiewhSmMIUpTOHBAs5dnMM8PwPPreqUy7OtHHhORQ/ZlmPbzr4u1+f+OP/nuHW/HJ82lPUZ7WTZJ8cC5tVne/7K6/q6bTsbc2aunrby7Mv85Yt39SBvw+zv9gLOvzpgXzv6XEtpk/NA7WKoA/rSz3H1U44dfYDM6zv72mUoM77QnhzoctxcK3ryWAcwlv76wiF9dgT9AT6MTR/jobcOdcQW+ECOgbY+yIyft78cyLOtHJgbvXkzx7adfV2uD+NCTt8xCsanPzCGtvYlkPPZzvNOO/swP4K4zpfxAXGUWaP+2Ye2cnysHx+4H8C10Q5uXfX4wn4m8ukPB/ZtK6/77erjn/EwL9rkPFC7GOqAvvRzXP2UY5fnzHm0r12GMuML7cmBLsfNtaInj3UAY+mvLxzSZ0fQH+DD2PQxHnrrUGYfkEdCDtfHNiCuNcuBPNvKgbnMYVuObTv7ulwfxoCcvuMR1iiMoa19CeR8tvO8084+zLEgLn3kxgfEoS8B/bMPbeX4WD8+8Afj8U8f5HlyvzQ2oG5stafvl20g54Gwc16EOkAO68t16KccuzxnzqN97TKUGV9oTw50OW6uFT15rAMYS3994ZA+O4L+AB/n2T5Abx3K7APySMjh+tgGbj91yuXZVg7MZQ7bcmzb2dfl+jAG5PQdjwscRToAAOb7SURBVLBGYQxt7Usg57Od55129sn7NXHpIzc+II4ya9Q/+9BWjo/14wP/XTr/02detMl5oHYx1AF96ee4+inHjj5A5jza1y5DmfGF9uRAl+PmWtGTxzqAsfTXFw7psyPoD/BhbPoYD711KLMPyCMhh+tjGxDXmuVAnm3lwFzmsC3Htp19Xa4PY0BO3/EIaxTG0Na+BHI+23neaWcf5lgQ10Un7ZTTRm6N+qMjhm3l5LZ+fOBTx//WOtrFUAf0pZ/j6qccO/oAWd5ucO0ylBlfaE8OdDlurhU9eawDGEt/feGQPjuC/gAfxqaP8dBbhzL7gDwScrg+tgFxrVkO5NlWDsxlDttybNvZ1+X6OI95rMJ9VOCf59KYObb22gHiCNrZh7wCe/rI8c8xlUFA/+xDWzk+zjE+8P9rx38lMUgemIUJJwDKdvS1pQ+yH8g2FqG9xAZQpy1kLvPLgfnc6YyFjX3zAP2mMIUpTGEKU3gwIp8nPccBL4TyeW5750t8PU96jqQPhzwHC+NA2Y6+tvRB9gPZBq7MGNDdnf8FbeQZ6o2V7eu2wDyinY9+cHV1mX3aOSZyKcN+Oz0x3B7Grs+V2wDUbXOsrIPqF6bAWMaGmy/rgBfBfLDG1u0D4MrsezGdSZ2gXc8HsjzbE8O+8UHm+OWY9bgQdpBjAsbLHzLwJZY2QJmxlZnbHNaBjj7xjaNeW2E85pg68jUtd2Fl4C9HbxzygHpc+9iCB+Pxb345MF+eK23tmwfo7zwBZfrQJ3+u15y5LmK6XY2J3hja70wfEC+PA33ensisA1ivtspB1hlXf2EsY8OtBx1tY+JPe+r433XHPzEAttRm/HpdAH85euPgC3JcawDmIL71AfToHAtkjcI4ULajry19kP1AtoErMwZE7eq0hcxlfjkwH+MBxsLGvnkAcbF1noAx9aGPnTXAzZnrIqbbFX2uX5ud7QPi5XHU7ZFZB7BebZWDrIPYf+DGB7TNgT3cfOYxprZTx//U8Q9lO/ra0gfZD2QbuDJjQNSuTlvIXOaXA/MxHmAsbOybB+jvPAFl+tAnf67XnLkuYrpdjYneGNrvTB8QL4+jbo/MOoD1aqscZJ1x9RfGMjbcfFkH8Kc9dfxPHf9QtqOvLX2Q/UC2gSszBkTt6rSFzGV+OTAf4wHGyn19AG10zhNQn23In+s1Z66L2G5X9Ll+bXa2D9rVne2RWQewXm2Vg6wzrv7CWMaGmy/rAP60p47/qeMfynb0yVuPl0HfeLlGY0DsW9gA54t+3nfNYXzkABtgLOugbR5AG501AGX6mNd6c05lEDGt05jojaH9zvQB8fI46vbIrANYr7bKQdYZV39hrCrDZKckNBgyyCI8+CEHrh2Qowf0aeOvLrcdrDn1ow1yn3Z3d3fVJ7cxtG3HIWs3h/0pTGEKU5jCFB5s8BzHOVACnCNp18+BGZ5TAeffHIu250nI2J4zf9vnf+vItnXoC5fqfajuj8w6MrTN8txWBzkugU69bagdjKktyPZ5/vI8QGwL7fTHBh9ts4/bXdIu94ExgXJ887aXkAFsIBYsiUkM9dYEiGO7DvO2ywVyXDhx1AHjYidhZ1x59jGe4wD4AXUZ5jaWQE5+dcSznW2zDcDO3HzYQ04sKddFHxBDAvjQVq9vRq7B/QDox5j1M7bz8H/l+j/7C+XY5LxQnid0eVsQx7j1D+nYQsZwu7aDdWJrbfoDZdhlW4h6tKNPGxt8tM0+jkfSLveBHCjH13nK5JxgA00d/1uPE9vZNtsA6wSMGzmxpFwXfUAMCeBDW72+GbkG9wOgHzXoZ2zrerAf/xLj0F8gd0w5L5TnCV3eFsQxz4Pl+KcOfZFTm2O3D3Kt6IiXbTM5J9hAU8f/1uPEdrbNNsA6AeNGTiwp10UfEEMC+NBWr29GroE8ORZtatDP2NY1df5v1ZS3BXGM+3/t/J9rVY6v85TJOcEGmjr+tx4ntrNttgHWCRg3cmJJuS76gBgSwIe2en0zcg3uB0A/atDP2Nb1YDv+ieu8WS+y3/Xzv+ORtMt9kGtVjq/zlMk5wQaaOv63Hie2s222AdYJGDdyYkm5LvqAGBLAh7Z6fTNyDe4HQD9q0M/Y1nV3xz/xgDkcB/7a4Ked3JzamM846Gj39PRU/Xz8otseh4xlDjg16C+UY5PzQnme0OVtQRzjPliP/w4caFggbXgOhBOEDNjW3okQ2pmYjQaUw51wYTzgZBIXGXHqOaE8MGPB9QNwfKcwhSlMYQpTeDAiX3gIz3+eE21DnAMBNlmvPNvTfqCf/61b4Kt/vZ1j5Tao9/XL8bOveqCvevPW7ZQDbevIMTIHtvP4jZm3A/16fOdcH4CN+0+eS2JhQz/nAsY2Blxb/IA+9ZrIpY1QD8/bPsutizZ1GCPXnG2IoZ21wa1Hwgaira/IdsZRDhwjcgnAiQmwkZBrbwx4PZ71SNg7XtrYuc1oewxlmF9/2xA+wDzqlWd72r8r1//GAPq1s5GTw9j0c2zkzpHbCuiDnWStIscAOY/cMauDlAH6toV5cjxsrA859QJiYUPfcWV/+saAa+tc6VOviVzaCPXwvO2z3Lpok98YueZsQwztrA1uPRI2jkdfke2Moxw4RuQSgBMTYCMh194Y8Ho865GwRwds5/h5/xLq9bcNGcs86nMOoG7q+H/gHf95/MigvB3o2xbmyfGwcRsgd6zMszGhPA5jGwMOYaO/9dVrIoY2Qj08b/ssJ57tXCdtddmGGNpZG9x6JGwg2vqKbGcc5cAxIpcAnJgAGwm59saA1+NZj4Q9OmA7x8/7l1Cvv23IWOZRn3MAdVPH/7Y2cnIYm36Ojdw5yttHH+wkaxU5Bsh55Hn8yKC8HejbFubJ8bCxPuTEBcTChn7OBYxtDLi2zpU+9ZrIlecTqIfnbZ/l1kWbOoyRa842xNDO2uDWI2ED0dZXZDvjKAeOEbkE4MQE2EjItTcGvB7PeiTs0QHbOX7ev4R6/W1DxjKP+pwDqPu/dvw7TuyNB4wB9KNPfKEeTg5j07cmgNw5yttHH+wkaxU5Bsh55Hn8yKC8HejbFubJ8bCxPuTODbGwoZ9zAWMbA66tc6VPvSZy5fkE6uF522e5ddGmDmPkmrMNMbSzNrj1SNhAtPUV2c44yoFjRC4BODEBNhJy7Y0Br8ezHgl7dMB2jp/3L6Fef9uQscyjPuf40Y9+FEceeWQcddRRcfjhh8fb3va2Sm6MH//4x5X8iCOOiMMOO6zSgzy/2Dtvf/M3f1PFgl75ylfG8PBwZe+PN8xN3sc+9rFxww03VH1gPMAPCIB5GAPHMP4QuSDnxL5tbIwFJ47IefRrZyMnt7Hp59jI0SPL20cf7CRkGTkGyHnk5lIHOSeAvm1hnhwPG+tDTlxArMpaAwNilAMB9cDg9nMi5dhYnAmRKxPt+uQyLzAmJLCDkDlRxtLfvA5e/RSmMIUpTGEKDxZ4LsvnPc5xnuskPmzB0XOC58KJPj7a1M+HcGT4ZDsgVw+Q0bYvty4IG+PfV+f/DP2MKSnLubKvbXXAdo4BcgxgXAldHptcmVAHsh0whrmRy4FzjSz3JWXZH2Qf29lGUu98q9eX2rRTZj7lGTkmlC+sgXL8JfrmgfIYBTJt8NFGXa4n+wF02RcSORdEX+BTR/0CHJhfX7l27XTEJpYfjrRl33f/54MQcvI4j/SVZVvp//LxDwnsIGTEtw/0N28erzGyvW3s9QHYqoOsAXJ8zLEygNxthQwbtgkcOC59jCEZ13h5uwD0+mqjT/bLPrazjaTeutQ7D3DtjFevMSPHhJwLodxacj51eYwCmTb4aKMu15P9ALrsC4mcC6IvnIMMxqO/ecyvr1y7djpiQ/UvR9FLHLvIyWMt9JVh474uTR3//7eOf/ra5b6kDH32yz62JeyNA2g7R4w/+9oHysynPEMZHHIuhHJrMY55IGuDBLJcW73+XE/2A+iyLyRyLoi+wKcOxqO/ecyvr1y7djpiQ1PH/137jkkYExLYQciIbx/ob948XmNke9vY6wOwVQdZA+T4mGNlALn7PDJsHmjHv77Z1rrU68t8aKesXmNGjgk5F0I5/hJ980B5jAKZNvhooy7Xk/0AuuwLiZwLoi/yviAYj/7mMb++cu3a6YgNTR3/d+07JmFMSGAHISO+fcAcEMN9L8+xMbK9bbeJwFYdZA2Q4yOHMoDcvMiwmTr+t0I5/hJ980B5jAKZNvhooy7Xk/0AuuwLiZwLoi/yviAYj/7mMb++cu3a6YgN/baO/8HBwbj88ssrWrhwYVx88cVx0UUXxSc/+cnKhsXbK664Iq666qq47rrr4pe//GWlP/fccyfj5/F/6lOfiiVLllQ+xET37ne/u9K7D2A3MDBQxRCOWzBO6oOE+eACP2yRw50X4Jw4Z8ZCb83Z3jb2+gBs1UH0JeIjY2zKAHLHiwybB/Lx3ygbv8haRToBtgVtksBxEgaDO8naZH/6+DtZxst2DkKdMAcEjC/qeusE6AA67TZt2hSPetSjKvkUpjCFKUxhCg9k/OpXv4pZs2ZV5zXPY4I+517Pi/S1gQP1EOdHyHMxwO6Bfv7fc889J/vtgI1cG7myrAP214w24qaB8fjRutH45cahWFUumsca1Frmu8Gvh7l4Honde0biUf298cw5s2P3Mkf7dvcHo87xRbvcIvdt12Vg+fLlFQfomBcu6N2eIG9bbOrzV4/tPIN8wamNdkC5NjmWbUHfmrC3Lep1gRzPPI5D0K/v33JAW132U59jKgO0h4aG4tJLL43/+I//qD7g8Jgh5uQpT3lKvPrVr65+ydrb21v5Wzt66rEO5xCYH44P0K5dG78s08e+tWNDTnJle6Auj1EbOMj7CDEhYhkHu9+V639lQFtK7+5cFrv1/zRGxmbEms1PKXa9k9uWsXHc5Tw5DjLrNoe0NcfWRzXBcxxtjF+vHyDH7v48/omFXJscy7agb03Y2xb1ukCOZx7s6Av6jlG7gw466C6xdjWY99tuu62aM7cl9TiHwLrhjl+7dm386jKQ4yDTlpjZHtDvREcdhRprVkXX7bdG742/jrjj9uhaVc4hmzZGs6Ps5DOmRXPunjFy6OExcuAhMbbvgTE2c2aMd3VXP0QZL7HI8WA9/svsxFhHM7aMD8ZY6Y01W7G7O7qic7wRfR090dUsecs/4JjMDeTE+20f/xnIsZs8/qln86boWbs6GkvvjM6bro+uO26LjhUrojG4JcaLbcws14zzF8Rw2dbNgw6N8QV7RczdPcan9RNwm78l1kQOgcz61MttC/rW7Xgy6OfYIMczD3b0BX1rrNsD2uqyn/oNw834z5vG42cbu2O4tz+eMGMknrXnSBzQOxb93a16ciwo/100vrU/II//2vxoAwfqHQfksQiw+10+/5sbZB+3LWPbVcc/fNq0aTFjxoyKG+O+AHnIvWXLlup7T770tz7g+OhbU86tXBt9taMt6DvvjjnD+cnI8cyDHX1Bv75/ywFtddlPfY6pDJjPNjBGnhf6+GuLzm2ZbQF9OT5Au3btnEMZyHGQaUvMbA/o1+dHGzhQ7zgg6jYOdv9Xjn/qyHnU5VqFYzI3kGPrtiXmA+78P2FjW384dgJZzofOOhwffW20A8q1ybFsC/rWhL1tUa8L5HjmcRyCvmOs2wPa6rKf+hxTGTCfbWCMPC/08dcWndsy2wL6cnyAdu3aOYcykOMg05aY2R7Qr8+PNnCQ9xHiQNRtHOw45j/xiU/ED3/4w/j4xz8++chloB+Lw9y9+7GPfSwWL14cr33ta6v2/Pnz4znPeU68//3vjyc+8YlVXBaVX//618e///u/V3cZUwP77qc//elqsZnPUmeddVZ1ZzFwLswlHIu1Ok5R1+OLDXD86LRTBrQ1N8g+bltrz3lyHGTGMYdkDvcZAM9xtDG+9Wcgx+7eHv8s4h999NGVzjqqffn0009/l4ZyDCCDWzxc2IebkDYwifbGFsjNA8/+6sxLO9vmHPrBnQAGpa0E5PyyYe+9967aU5jCFKYwhSk8kLF06dLqgiyfy/I5U7nnQGSeEz1HK6sjx5Rrj+8D5fw/ffr0igvlto1lDeqzjVzaMBrx+WWN+NyK8fjKyvG4fnAsNpW8zQYXVy3OInC5VCp8LIaK7PaxzfGjzSvj4sFVsWRsXczv6o3dOvuqeMA6RG5nIG9XcwZf2iBzfurblzYygcy5z211AHtlGcQyv3nsA9r4ZZscRx3cXOZH7r5CW6IPZeS+dnXkGMI2/uZXRp+2seHLli2Lv/zLv6w+oKBjAeTZz3529YvXm2++Ob7zne9Uv1ZlsYkPR34gMrbAN+e2bx3qgL7KuZgnNqCPHMpz67YAmXtsmRNoa276zruyOtrF1h7fHMOcwH6OSxvQz/bGFsjNA8/+6sxLO9vmHPrBHfvdXf/D9aPdbI7GjN6rY4/+r8f0aTdEd8faGB5dECNj87epy5gALtnXljpoWyc62yDXZhuuH33Hoj7HVp5tBTJz57Y6gL2yDGJBwDwZ5s02OY46uLnMj9x9hbZEH8rIfe3q2H333asfZnDs3F/EfrVu3brJsYlcYx4fbWxz/XlekFcfwNMxkn2NlbdF5sZqFn3H+Fh03XBdTPvuebH7978dXb+4KDpvuyU61q2JZvUYtuLHYujQSCXrvnlR9F11Rcz59VXRvPWWaO4+P5qzZ1fxGiWu+amN/G47awX24ZO1lDagn+2tWyBHhs02Y5nwQWZe2tk259CPmm8bXx0/ayyKC5pXxwWNa+KCuDp+0FgYFzZuiIvjxri8cWvc1FgRo+V8PrdjRvRE12QeYd0AXa7L/AAu2deWePU4toFxlMv1o08763Ns+jGwJab98mcx7XvnRfcPvxPdl/4iuhffEp3r10WMDperFBKVeIMD0cEPAm5aFF3XXhHdZZs3brspxju7orlgz3J9s7W2nIf90lpErgdQi75AHdw4cOXuK7Ql+lBG7mtXR44hbONv/hUDY/Gui9fGlxZtiKXrNkX3brvHkr7d48fr+mLhQGes2zQWR85sbX/j1WsEOaZc1O3s66MO5BjI74vjf9Xw8rh58NexcnhZDIxuqY6Fnuit9Pg679ZTR7vY2uObY1grsJ/j0gb0s72xBXLzwLO/OvPSzrY5h35w5+menv/xE8iNn+2QGRPAJfvaEq8exzYwjjRnzpzYbbfdqvMZfsjuKxCLmFy79vX1VXPDjx5zPcJ6gHOZa6Gd5wCbduOCOxfOA3L3FdoSfSgj97WrI8cQtvE3vzLn1dhw/ZXlvm0I5JhyUbezr486kGMgv0/O/xN2QFtz03feldXRLrb2+OYY1grs57i0Af1sb2yB3Dzw7K/OvLSzbc6hH9yxe/wj0xdkrh9t/ARy42c7ZOYHcMm+tsSrx7ENjKNcrh99x6I+x1aebQUyc+e2OoC9sgxiQcA89gFt6wH1OOrg5jI/cvcV2hJ9KCP3tasjxxC28Te/Mvq0jQ3XX1nu24ZAjikXdTv7+qgDOQbyB9rxz+cb7t79gz/4g8oPyjE2btxY6U8++eTK9lvf+lZly/ckLByz4Mt5Bntyff7zn4/HPOYx1Xco+F9//fXVou8HP/jB+J//+Z945jOfGfPmzdtmLPhSC3n53AUckxzgY12OFf2D6fxvG64ffceiPsdWnm0FMnPnNli1alW1UI+9MjC5AAwIKMcIsrCcHDK5Phl1H2VuUEDfjW1cbeH420ZnW8oyYV7jAuNqz2P1phaApzCFKUxhCg8GsADsnYie/zy/eW5T5nkTGedBYRsb4gjtQT0m5DnV3MqNo09G3UfZb3L+5xfy2iqzXUeWaQcX9FcNR7z9xs64aEMzVow0Y6z8a1Z3+/L4ljLGRuH0q1CMgzHBx6KrcyxGGlvijrF1ccnIbTEcg/GQ7vkY3iWXQJ7rsp15HhPEArBz5FxKAHvmSZlzDkfHxbByYwM5yL5ZDnI95sp1iOyLHWQ72wF1AD+Q7YzNuMklchza+mQ5IKa/klRnTvNt3ry5ep/Nz3/+83jIQx4SL3vZyyr7H/zgB9Vdv/wqlbnjrmB+qcp+y6ITd2iInNt5gefxAfvYYkMeZBBtQC50xhD4YEd+OHrzqssc0j/HB7axIY7Annm4/fbbY//9969kxjSn48ty48DrqPsoeyBc/+c8gAXf+dO/FdN67yiTUfa7GIjejqWxafiYGG/2VTbWKugD4uQ8UH3c5kVuHdlPjl5b9fSZsxxTAuZTph2/sH7HO95Rfbjeb7/9JmPrJwfZF86+8M53vjMWLFgQ++yzz6TeXLkOoS/ADrKd7YA6gB/IdsZmvp1nkOPMnTt3m33p/gB/U/jSQ1gncF7geXzAPrbYMC5kkONHXpcBfJC57+W5NzcLPtMuOD/mnffF6Lz5phjevCnGit04abEpnDt7S6dQyVEtBnNuGI2RYtu75I7oX3RNjHV0x9hBhxJyMi/kuMytnLayOuo+ynbF8T9Szsfnx1XxifhR/Lj56/h1OXaXNNfGytgcaxvQplge6+POxrr4dSyNX8XNsTDuiPkxu9DMMhtbc1pD3gbAWgV9YC0AX6g+butEnnOol6PXVj1958iYHQNbYsYXPh1dP/l+dJZt1xgciEazbG/8ClXxq61c9ar/aDZGyrXMlk3Rwd3CN1xbYnXE2P4HRUfZJlXcifqAPNdKO49NG5B9sYNsZzugDuAHsp2xGbfzDHIc2vpkOSCm5/+/vWh1XHDncOtYKPYzWGgr5/Cxjs5YPt4T1470xw9XdsRR00ZiXl9rbIL427t+Ajm386Jdhn1ssaEuZJDjR16XAXyQue9hN9IcjnWjq6O/qz9WDi+PGV2z4vzVX47vFrpk40/ix2v/N24eXBg9jd5Y0Ld3OaW14hnDOkQ9n9x6HBc8y42jT0bdR9kD8fwvtIHnOQHWKugDbI2FL1Qft3mR5xwQ15MsADMv2u8KEJv85OEGGPZrYS3Wl5FrrY8t22Zf7Byz/hnqAH4g2xmb+XaeQY5DW58sB8S8u+t/x5HlygS6B+Lxb15za6NM/+wHbGOTx1nPJ7cex2Vu5cbRJ6Puo+z+Ov7z8WRc7XOeDG3geU6AtQr6AFtj4QvVx21e5DmHejl6bdXTd46MKQHzKTO3sba3/8pB9s1yoA9krlyHyL7YQbazHVAH8APZztiM23kGOQ5tfbIcEHPq+G/l1Q/YxiaPM+fjbl6eNPisZz1rsh7HBedJaTNnzqwWbllMfMUrXlHxa665pnqf73Of+9zq2NPnpz/9aTziEY+IAw44oHoKBe8IfuMb31j1v/KVr8Tv//7vV/7WBAeOg/zmVi6hUybMW9/22d5+HdrAiZFB3DyX9XoAvpD1ZjlAnnOol6PXVj19x2JMCZhPmbmNlfffFStWxB577FH56Q+qR0AjqBdmQoJQRB4UnD5y/SyGg88+vO6jHajHzD602+kdHH1qM5ay7bXhxOPXClOPgJ7CFKYwhSk8GMAjoLnw8tzHOdYLLc9twn4+/2GHb5Zlm+yjzNgPlPM/j4BWL3L/7tpwUC6J4pqNjXjfLZ2xoYjGWfiN0RhvjFS8asdIKajUWtpwFn9Z+O3oGI3uzqGK93Zvjp7uwejp2hJ9nZvj9/sPiWf3PSz6onWnaM4psqxdfXUfLtoA8nytI7RFni/2kLfilQv/pZ+Lrls/VIyHKtsdodl3UIwc8t4Yn/nIknTrdZbIdQL3AWAtcpDt3Zb6WjNQjm09PnbmyfuDdjkfMJbzlePRZ//kg8lf//VfVwtJf/zHf1y9k2b9+vVx2mmnxdOe9rTqQvmCCy6ID3/4w7HvvvtGf39/9WijU045pToOQbvcQLk5tVHmWGwDfehzXLstgWOGPN74ESN3LGtnDmBff+My9iyDfvGLX1S/4l29enUlZ5GbX/cef/zxk3nJUZ97OH3roQ93fu3D6z7agXrM7EO7nT5vU7cxUDbZrlY+yjhj6weves3Q9MYvYq/pX46OvrIvEqvoYqQZG4cfFisGXhgjY9O2iZt9IWtELmhTV9Zpb4w8B44Jnrd99s1jFeiAfvy94L1LPKZLnHTSSXHmmWdW+7rxQL3N4+bf9a53bePLB319Qa4HOJ/AWHKQ7Z0Lfa0ZKMe2Hh878xjj4IMPrn4QtSMQhy8dWLRdu3Zt9et1vvzGH1+eKMGdV95NbM7tgc+NPBlAO3geq1CunTbKHIttoA+UxwlsQ8wFNtX5v7Qby5bEzPO/EZ2//Fl1N2cVr8hBc5x85C0dQhG/ak7U3ZhQFFaqiY7SH3rq78fAM0+O5oyZrQXFEoBtVK8JTh+544JT3/11/I+XehePrYwvdl4cFzWvj7Eia3YwprtHY6xRztnd8eLG8fHU0aNiXufsMv6t9VkDlGtAtz09ckHb/Vad9sbIc+CY4PXjXz5a/ub33nZL9H3l89F56w1clqCp9NVGnEAJE2PkKrLO0kaDackwaVa5dnbFUNnWwyc+s3pUtLny3xnrFrSzjNrZBwDyzEG2dy70daxAObb1+NiZxxhAu5yvQpHdtG4k3v7zNXH5an7QtxV7HXpozNy99bcsozk8EmfMXxVPmd8aO3lAziVX1jZ3gfLt+ToW20AfqD5O22WPj5uGFsa3ln8xnr7b82KwMRBfWnpOvHTvN8TR/Y+Ir638TPxo3f+WGFsX9/bo3SdOmvuCOGraw2NG99ZtbC775ocrM+/9cfyvWrUmFt5w4+T+8Jtiw6aBKvasGdNizfpNMXvm9BgYHK5qO2j/veOIww4pf//7q9zI8vbIdSuDA3Tb0yMXjjHrtDcGeq4zubZELsbLcT5UzlWjmzZtE/OeoKuvfAqZNSs6C98mdqmHH5WuXLlyshZQt7Fv3UIfZdgyd8BYueZsb1x9Gf+uOP6N5d+xHI+++6dxgXpstyeXK4PXcwPl2/N1LLaBPlB9nLYhx8MYftc+/ytzDui7jYEy23U5HHvmTRn02zz+ATaOCU6N2IHM81gFPiD7GQvSXzv622uL+nizTh9l2DJ3wFhykO2Nq681A+XY1uNjZ552teV8wFjOV45Hf+r4b8myDZzHO0N8H8CPkozNPFKT+vPOO6/63IQeOXEuvPDC6vHRPDrasfF5iTuCn/zkJ1ffq7D4iy2Pid6wYUO89KUvjX/8x3+sHg9tDdbkNrCGrHd+sGEe4CCPp10bnmtGBv2uHP/XXnttHHPMMZM+6CobFoArSYEJ6oOijUxoZ5I8CH3cULlP2zjGgCvLOeH2bYOcD9R1eaLQGd9Y3P0xtQA8hSlMYQpTeDDABeB28LyW4TnSttzzZv0cKZTl8yXI8UD2zXHp63Nfn/99B7AyOMht0E6X+VWbOuO9t3bGxrFSd7XgOxbjDRd+h6t+szFS6cpMECUa3PlbWp2dw9HVMVzx3u6BQpuiq3Mo+grv694YD+2ZH6f1/H5Ma/TdpS6ALM9TO71Ax2OKnZ9sS9sLPij7iUpXxtK18E3RsfaCCendY7x3/xg9qFysz33KZM6cK8O8uQba7g8CHZRlAFmO6X4A6uPOXHmOq2/e79znIEH7y1/+cvXh473vfW/893//d7UgTPsFL3jBZHwWhHk8NBfOfFHH4tpb3/rW6o5h88FzPfWLcNpArg862n4ZAfxgWgeyHKsO9RnIiG9bbn7Gmxd+hbYs+PFop8c97nFVP8cDxADWlcdlLff18W9tOR+o69gGXc2B6N90WYx1zY7BGccWe2xKXB6D29g65x0dzdiv48MxrffWiJ6uKAdzJeeWsWb5+7B+6PhYNfjMGBmfWfnkD93AWuSgXV2ANtu4etdqsa3XTd+64M4L8+Z+JWjnYxK7L33pS9U+zUJnHZw73vKWt8Spp55a9XM+yOOBD+Z18IvwM844I174whdOjk1Yr/FsU0+2NU87f+yFcwgcv/rMeaTYjhaA8bvxxhvjyiuvrBZ/fexlrhEiBucVHlPm+WV74AuNW265ZXIcjpE41vmbHP/1bSyQ5VgVSr9z2ZKY9bmPR+PmG2O09PlXzW4JV0WsfsCzdT4BcqKUvY+fRUzkLrFpl1Z3Z1eMPOoxsemFf1QtClZxCshNvYIxAOvK43I8u/L43zQ+ED/puCG+Hr+K22NVOX9XqnsM3gf88NgvXtF5Qhze3KuaE2FuxwDd38e/HPvusp2nfeHc6Fhye/nbVOYbu4ktNF78O/ibVfW2BXPTIFdRYkd7El3dMfKIx8Tw814Uzfl7bPM3RQJZnmG9yHObep0HgM6xZCDLMZ1D4LjVZ648x9X35vXj8ZYfr4wbNpRrutqE7HXYYTFz7u4TvW3RNzYY//2Q1dvEz/lFzgfPdrvq+B8dHy1XciOxbmRNDDQ3x4LuveOzy/4trtt0eTx3jz+KJ8x6enxp+Sfi5+suKNt420F3Rnc8ZMbD4g/3eGXM7yr7eMlPLjgwP1DmeNTRRiayrzrHpc89Of6XLl8ZHV195Tw1vZJlVN5b/7dDaLZ67YZqjHPnzIplK9fEvLmzYtPmgRgZHY/BjWtj991mxoIFrVc8UJO1ZTh+xwDd18f/gQceWOUWA6tWxU3nnRc3f/ObMbhmTWUDRjZvrvy7+vurvhgtctA1fdt56+zpiQWPfGQc/cd/HHOPPDIaKQfzwlNtHBOwzvrYbLtv2hfZP7eJ4zwAc2UZQJZjOocA23o9cuU5rr55v3O7QiLL9bMNz/HlGdkPnu2cpxwLyPVBR/ten/8T1GcgI75tufnJBQfZV5njUZfjgeyb49LXJ28H+7SNYwy4spwTbt82yPlAXefYtLMO+jmm9rStLUMdvnDot3n+r8fKx6R+GdrDc23Y6qOftjkP3HbOlZH9c5s4zgMwV5YBZDmmdYL6uDNXnuPqm/c7tyskslw/2/AcX56R/eDZznnKsYBcH3S0HyjHPz+Gv+iii+6y+GtcFm9/8pOfxDfLeQl99sWOJ6d96lOfio9+9KOTn8vY11/zmtfEK1/5yqrPu3/R8zoCfpT78pe/vHocNN+nUA8grnUbG24b5HGAuq4+NmMaSw5s/y4c/3yP9dCHPrSy1adqX3/99YVvnWQ4gDsYocxJtu+A8gGXkxgHO+3150uHX//613HnnXdWxHPCkV1yySWVDy+TNpaD8SAHxhHIsQPKtYHzBcmuXADmF3bs7Dz/fNGiRTE4OFj9Yp3b3flFBI9km8IUpjCFKUxhZ8ACMF/EA897wPMc8NxoW3jeFPSx48KLx7Yo0w6ujPOlOOKII6rzNLJ8/ucXfMhp35vzfx3IuVAiFjAWjyQ1Zq6Tdka7mNqvGe2I113XHRuapV99DT5WLfQ2qwVg2kOFczfwxEJwtQBMTV5HjEV3x1B0dw0Wai0A93ZvjN6uLdWdwD2dA/Ho7oPjFT3PmawTtKu1Xmc7HXflAecsxwS00XkBDZDlfF0L3xyNVedX/Z1B17T5Mf+4M8r4tp3Xu8NIY24sG3t8DI12b1OjoCZrddtba71mxlrflwByUddnH9rIJGRA2y9+8YvxT//0T/GNb3yjuuP1YQ97WPX4I+qyNvCFL3yhelcNC0Tf/e53qw9Cj3/84ydjwq0JzgeEPD5t5HUgr88JcfiQ5DY1rqhva5FryfKcm8f7Mh4XfpVj0w7cHclCMHcEg3b1wslLe1ce/3J80TnWepzm+EjstvSbsfuqz8aqvf8o1u7+nOhqjsSMjb+IwZlHx1DHvJZd8ZnRuDn2a36Ala8oB3FrEZg5IV6h8ZGuWDvytFg9fGJJxIf1rfs2/ua1NuukJudIPch96zeeHKDXB+CHPbJsR3vx4sXVXbqXXnrphHT7ePSjH1390IEvnvFlkZQ7hnnU+d0B3/e85z3VZ5m8DwK3JzHrNQrkeV60yxzQdhsjUw+cs0MPPXS7C8DYc6fu97///eqzlyCGecwFkPEYMu7u526s7YEF4FtvvbVqGwduTfB7e/zjq562XxLY91gA48x9sZ35ibOj59KLy99d4pR9hDzlX/XjBQyLvKOc56oFofIf0VvyCYdC9PGqtK0g0VPq2fzEE2PgxadVtWVY72/z+B8ZH43vd14Xn44LY11zsJy77xrjnoBT+0Ma+8UZzZNiv47dt8knlAE5Mm3U68cY7ovjX1nn4ED0n/2haNxyY6mXua62WAW2Ytl7qiuV8heq0oFW9KIvMToncgHU+E6YFd6I0cc8IUZOe22MdbYeN+844PlYR+fYMtye2a8O5PrCtcsc0Cbejo5/UNeju23jWPzx+ctjxVCZo8kZ2goWgGdsZwEYfPPwOyZrA+3ygVy3NvBdcfxvGt0YW5qb4tw7/ymmdU6PZ8x9Xhze/9AYHNsSK0aXxB49+8b/rvpS/GjteTFW+8GH4HHfszt2i9fv97exT+8BVWzyQqBeqzL1QlkeI5x4tO/t8b9i5eq48eZb4tabFsXYeNm3Jvzg5c/ZRJvH2iNv9flxC3wczt+8EhM9tfH3Y2QEGq5+/DNQjp+x0bGYv2CPeM4fvijmzuqPvfbac/IL3TwfxMzzAJQBeauGlo16/YjjHKkHuU/OQw45ZDLe2PBwXPupT8WvynXpgnI9ut+JJ0Z3X1+MFvnCz3ymelT7kS9/+WSMsTKuRV/9aoyU89JRL3tZdE2cDzk/rLzyyrjl/PNj3yc+MX7v7/4u+ice/QjIzQ+ZyMs8eW2JHMrjgDMOQW7HluH8Zb86kOsL1y5zQJt49+b4V0YbmYQMaAunBuxsq7c20C4fMAZcG/j9cv6fkIMcM9eS5fXc9LEjbx63dnBl6oWyPEZemXN/gO/UH/vYx07Oh2O1DoHc8Sp322GrH33jQOiMlecBKAM5tjbq9SOOc6Qe5L511OMC9MYE+GGfZYC2uQQy89mGZzmgP3X8/24f/zwR6U/+5E+qV6L+XTlPYIdeO/W8CugDH/jAZL15jHDe/8tnUBaQ+Z4SOT+g57uVv/3bv43/+q//ql5L1A7Pe97zqtyCsfKEM8dMLOtyjM4zwC7PCW3Hiw/ItWpLX18InXZ5HoAyAOe70PsSrnEK8uWc1p1lgDa6fDwis3bb8Ouuu676zlcg4/hvFEX1CGiFQKc6F/ZzYUwmAZVle74gZofgi4Y3v/nN1UIoC6Xb2ykymBzgxnFjGb8+MXJkQh+wK+8Avuyyy6q7SMjBL+b50oR3F/IFPl+88cUEz1HnnXNTmMIUpjCFKdwdXAD2vCrnnNbuglrU5RJ9Fm75sZWxgDz7yLXPeuLzvlTO7zs6/9NGBvJFshwQE2hbj+MdWuYW+gl1dTl3/J65qCcWDZWLvvKvtcA7GmPjPBpuYsG3s1xIdY6WieMOYC6qtsYgbEdjrFr87epsPfqZxd8W3xzTe1eX9lBMbzTjFd0viMM6Di32rfmvwzG0q10d4A5g2/D6fOU5qsecbF/1ZxErdm4BuGfm3rHnw14Q06aRc+tF9U6h0RV3Nk+KLY2DqjqtmxrY5vC8Xek7lrydkXthjkx7eZZjC+kLz3mAebItC7v8+pRftPIh5SUveUm86U1vquzMgx13B2PDFw/f+c53qgVgFkOzDYDTB+SgfrdVrhcgB8qslX4+fozhXCB3Xo2ZjznHBhfKedQzj26q3/G7s2i3EJzrd8y78vinj4065fStB/Svvjr2uubd5ThdFisPfn1snPnUmL/4y9HTsSruOOQNMdKzoLKnjt03nRtzG9+LYtxa/O3rLYmIMlH7eMk32h2rxp5XRKOxfuQRMdqcM7lNrJm+tQHH5BgA9WlvvXDbAO74AO2sq88X+zF37vJ5Y2fB55E///M/r/z5EcQ99fVOYuu3LkDf7WvdyuCODU6/3TiRO7/ItJdDO1oA5nMl+zqPuQR8mcKCNwvXPPaZfZQfGvOBmEVdQJ6nPvWp23xArsMFYOvONcPpA+t3W2nnWJ2r+tjoO285B5x+lQN9qb/ngm/FjPO+xJPKKxT1tii2xbnVLkoWAVunsq2GLVmJW0TcJcpCKLKSLThDbnrF62Ps+CeWc2LrixjyC+uxRsd8fxz/t46vjPc3vhF3NNb+xou/oqPZEU+Mw+NPm0+P2R2tHwFMzvlELfSt8f46/tF1DA5G36c+Gh2XXzKxyE+9W8dNC5qc7UpXeggm7NjjqoilW6quVFB153CxGe/pieGXv7ps7ydVZ/28La2Numg7duuHu0/Tvz+Of+XYQmNlXBcvHYy3/XhVrBxujbkd9jrs8B0vAB/RWgA2B2RbWHeWawes33071wucK2Xo4fSdN2LAb92yKL679qtx8ryXxr/d8Z5YO7I63rjfO+KmzQtj95494vG7PTVGx0aru4KHxgdjzcjKuHHztbFwy5Vx5+CtMdhs/X0T+/QcFK/e5y9ifs/Wp+nUxwHMX+fCvvXTz/tMjgloIwPtjn8WgH/+i4vj4l/8NMZKDGNmQpbl+GY5fThfHvPFNcQPgHgNgI//P/Cgg+ND//gv1QLwvvvuU/nn2gD1gKxDZl7g/pn7tI1jDLgyYmkPp885SWxZsSK+/dKXxopLL429f+/3Yo9HPzpm7rdfTJs/Pxb+539WC8RP+9jHopc7sFggKOO85AMfiFVXXx3P+OQnK7kYXr8+ri/XBlf+x3/ECf/wD7HfU55SvSte3HTTTRW3HsdnjfTdFyHAOGg7dm3h2AL6v43jX194zgPMk22NoR9AB8yj3rYwXpZrB9BTP3OQ7azHuVKGHk7fecs54PW6c0zzaAMXdblEH+RY9kH2yVzYJ/7hhx9efTfBItH27AEy0C5OHTkO3y2Az3zmM3HcccdtM1+Afo4jz/mYI7aJQJf3U2IIYgNjmo++Md0/c5+2cYwBV0Ys7eH2bYOcD9R1bmuAzvjGkoN2beyNA9Qjz/70nRsImCcfm/rkeLv6+D/xxBPjX//1X+Poo4+ubCF94TkPME+2NbZ+AB0wj3rbwnhZrh1AT/1uK+2sx7lShh5O33nLOeD1unNM82gDF3W5RB/4WGYWd4Fybd72trdV3MVhgZ6bR1772tdWP5zn5gwf6cwPQqgPPZ8zP/e5z00+MhrweWzVqlXVGpj2gJiAPI7bcQL3CXUQYPx5THLjAX0Eut/k+N/R58R7A9c4cz5gDQDutgboaGOPTltrrLd5TzN3ABsHVD75DuAM+jkB7byzQcoFev5Q8wGbP9ze1ZtRX4m+OzA51mFu23BAm1qsFeQ2oI3vrloAZrycoHjnFo8OnDevdaeB4OKYA4lf4HO7/NQi8BSmMIUpTOHuUL8D2Ishz8H5PIgMeL5TphzQ5sKLBV3tsh7Q9xyLDQvAnou1V+6dxF5QATi++dxMGxt8GYMxzGFsoA6OnLu06Nd1oC63nfGZpT3xpRVdvN231DASG1evjYE162JkeDTGR8sFUaPk6Sr+nePRPaMzevfoic5pLV/ROfEO4M5CrYXfDdHbtSmm9WyMvp4N0d2BbFMc2tgnXtH1/6K3/KvXYz+jXqs2LADXt7Vo11cGd95nrftcTBu6ZsJqx+idOT96p/WUYNu+O2/n0Iiljd+PTY3DtqmNtkDG9s8fkKybNtA3xwA5TrYH2gP4q171qsl2jiG4s5o7J7nzl8fE8uMCnsyirX7Y8WGFYw/Oo2d5BFK2EbwfR1iL46sj10ubueADCdeIbm/kcoAcaOtxpB3I+ZD/7Gc/i29/+9tV7dsDdu1qrAM7PsixYM6joc2dtwM1IQNw6kKf29Z9T49//enbhgPa2HZuWhH7/OQd0Td0XUT/aAzOOTLGBw6O/o03xfC8PeKOY8+IoY4FMby0I4Zu7Czyi2J6z60xY+87Y+Y+i6N3/lA0WFdkCCVe1Wh2xODoHjHcnF/+PnTGspGXxlhz+mRtEuNBVv8SHALYgHYybelnPfL6thb0+fv99re/vfpwt7PgPUB8BgH3xpe7gPnSj1oYJ6DttodyrY4RaPebHv/cObW9BeClS5dWC8B8+c/c8SNcjvNsT25+fJzvmmZsvK/KOurwEdCAutwHM6xR7vjqcHy2iVWfE+XOQSUv/cV3Xh37furjMX/xqhgmfbEl0uRMEbvsg43p06P7yIfGtOMeF9177VkClM+gm26J5vpflcEsLJMwWEy5473kKG5VOYWI1ugoMebvGysP+/MYbMyNjok7Q+vbjNroC/TWa/3ocxsbfO/N8T/aMR4fjm/Hj5sLo0maKtXEyCs3BlANooXiX6mzXWUz0UwoVcYLm4+NP248MboaW7fF9mBt0q44/seaY3Hbr38S+5/72ZizbnNLX2km/B1Iydco56W+Yx4WPcc+MrrmLSjC0WhuuTGaGy+P5uDN0RzZUuK2/l6WDFt9KzRjaN5DYvVhr49mz/yWZKIWawRZBnd+aLvtsx5kf+3u7vhnlN+4oxk/WRPR19mMl+9XrjPL5W8rYssmb5uvLdoY/3jp+lg11Ppia3vY67AjdrgAfN5Rre+q3FfJ43gykGmToZ3cGHXkmMaqz8nm8Q3x9WWfjRk9M+Npuz03Fm65vJqAY/qPi83NjTGrc050R8+kP9B3aHwgbhi4Jv5n5X/FnUOLKx1olP36uFm/Fy9e8Nro7eybkLVqqddJn3jum7Tr20y5cB8A1oU+t7HBNx//y5avjIsv+WW1ANxd/mbzY5zbb789rrjiiujr66u+s3vGM55RvWuQxVz8jENciD58ZxaAd589fZs7gAGxAPVAjnV7wAYf6d4c/1xPijXlXP71P/iDGFqzJo54yUuqxzpvKeeyLVyDco4u/vPKeWza7rtH/4IFMWPf8vf58ssr3dM++tGYU87J3AXM4nCjjGvzkiVxwWtfG4c+5zlx1GmnRWeRCRaAqYGarMdtZ23qrBtkGdz5oZ391YPsr93dHf/1GCDHyfZAe6Af5PW0+qyjzTaq5wXKlcEzkGVfoZ3cGHXkmMaqz4lyODCXtvBsB3I+cyhTDpQD7bIeaGMNtOvbDDnfI7D4y2Ng3QcAHF/scxsbfBmDMXIOZEAdj6f92te+Vt0B7OcOY8FBzgEHtu3DjSlyDPPq41i3B+NJ7mf35fnfuOjViXZ9ZXDnhHG4b8mRa2c7y42njcgyuPNDu11ckP21sw780UPG0jfHAMZhP/jP//zP+PrXvz75nZj2QD9o6vjf/vHP02lZwOWGRD7PZT1gPYsbNVnL4js+4uT61OPPHbEsFrPWx2Oewete97o44YQTqu9i9KVutgmv5fmjP/qj6gfIxHacjguQwzE4N+ohYuZxOw9wkNvAWFmWYzh+9JBjbQdqvi/BmmiuzxodOzXWa2/XVwZ3Tpy3q666Ko499tiqj1y7agF4IkYFFSaFvFBCp419J9DJurvJ4Uvke/LYCH8BBMhXH0AdyOW5tmqwRbYrHgFN7Ic//OHVou8FF1wwWUM78AXKBz/4wWpcv3OPg77wzDj29EVxxnlfjNMOmJBN4YGNqW02hSn8VuE7gD2H5XNvPjfDOdkDbJUDuefMe3MR4x3AuQYu/lwYBtYoaHPR52Ntsh5O35rgnqvhuX7ewwq01bcO7YH6taMd8a6b+mLRYCMGNw/EndfdGMMDI9HoKB8OmK+Siy+9y6ii0SzXF83R0h6OaXtPi2n7s4hLzaWmxlh0deQFYB7/vDn6e1fGtK6N0d21qdBQdDcH4029fxF7NvatarDWXBvI9efxassCMG0vgJE5P4A+PkCZenX7dpwfM5qLKt3dgxhba7qnWBLPjo1x2OQYBH1gXXUoz3rbXsBmGWNkn9KHPnZwiA809ze8Ts3bKu+/8izLtnAX++g7Rjg+cMdvDHi7459HPe/MHb/4bA/kEtjlPte5vNKEx2GTE1AfsEZB+744/gFt50df0TEyEHv+/CMx67bvR/QNFRqNmFb0fWXf6Snz2rUgbpt2Rtx60eNi8Oru6BzoKsdzqacc8+Ndg9Ezb2nsc/xP4sAn/SR6pm9h45Sg7HeFxjti0/C+0dO/JtaMnhzrx/giamud8FwLtWU5fcbiHAFlwn0hj9v5yvuJcQF9vvDmdTP//M//PHlHaztMmzYt/uzP/qx695Jx2C78QntnfV/84hdXtTgO65QcD+36fADnog7lWW+bcZMzy7hzakd3APO49iVLllQLxSzqUn8d/ACEY8SasWWRgf20HbwD2G3iHOTxIM/byvkB8iyr29JXD+X9Ab5ldCA+svQbcegPfxav+PHKKKe1alGMvBWKDYu/fcc8PGa88S+i/9BDY7ynN9YNdlY3uc/sKX8zx4djePWF0bnk36I5dEfZ/8t48a8WgsnbjLGOMo6O3ljW8cexvueJpa7WsWvd1isHzofbSNC+L45/LL4Vl8fHGt8Pns8RnUW+aTSaSzZH844t0VxWjtk15bjfUo774aKnHB7tPqs7GvP7Koq9+qNRKGZMjJlbRxNmN3vjPR2nxhHje05um1xTHVmX9dSc5fQZCzKhTJgvj3vN8Po4Z9F/xSN+fHU87/LV1d3aFSre6jT6yjXKk06MGS96WXTuf3CsHu6O1Zsb1fbee/ZYTOseiVj38xhf+qkY28j1W9nPqjK4PqTOVpzh8WmxZuZrY3PPY0rNrf0v1w+s13FYp6ReX6F/jpWhXP7tO8bj7dc2Y3MJwTuL5/V0xP/38EY8fG4rFvnZp2hfcMum+Kufro2B0a352mGv/s446KgjY2XX7AnJXXHeQ7YuAFunddlGR9850A4gv6+Of85LA6Nbyr4+XC303jJ0Q0zvmBkHTjts0ga+vet/Ho28cWRdnHPHh+LmodZ1O+Cx8G/Y/x1xZP+xla1jE1XuIiMWHLon3/9hrx2gfXfH//IVq+IXF19SLQAfsP/+1RNHeA0Gr4Hju0K+vOTcwxMo+IKZhV2PTWJC9OE7ewcwC8B5vj3u5OjMgQxeR9ZlvfGU0ze2QLbNAnD5DPW1k0+OgRUr4jF//dfxiNNPr3yXlTm48C//MvZ4xCNi94c8JNbfcktsuvPO6o7hjXfcEUPlGm+38lludok1s8wdfHY5P3aXc94vP/ShOPiUU+KY17zmLgvAeUzWB4esOdcPsAGOI/tA6vUV+udYGTlf3ZZt4D6tjPwe/8joYweHkFsL0A4ZeuMoh7QDjgtoYxsdfeIoE8jdb7TNcUCW1W3z/gg5JmS5bm3g9/bzP8A29wF2+sKhHR3/fI/AAjCv3GAByLvZBDaMwxgZ5hK0zcFNYnvttVd1lyILwG984xurvwXmfdrTnraNr9Cf+XJu89zB9aNvvDzPcLcNtvrXkXVZn3NC5kEmlAnzmR+9/upyXJBjKFOvzv3BmMrbxVGvP9w2xxvvgf3pT39a/WiUH+jwqk7+NutnLfoK+sBYdXz1q1+tFvr5DF23ZdyOQdkrXvGK6oedp0/8jWQszh2EjbUA+tjlcSNTDmkHnAugjW109ImjTCDP26oeB2RZ3Za+esgxIct1awO/t8c/3+VxEyKfl+pgUZfv23akf9KTnlTFpEZAXrYh2xLwaGfuLKZuzsm+1or8PA2YO4b/5V/+pXqCoDXBHWeeG4HOv/uQfhnawxk/yHMH108bODa05ebHVn9xT9Yvdwb8zTSf+XOteS5yLdYPlKlXhy+4+uqrqx85K5+0K8krTxTyegEWBQhIGzltbcTdTQ473j15hjb21lOfhFwzyAOjzcFhbfruijuA+cKBd0hR6wEH7HiVjB34EeVijjsp8rPP7ykuPPPYOP2bE53t4KgzzosvPpBW7R5Ui4kXxpnHnh5x9lXxvhMmRL+LmFoAnsIUfqtgAZgvPwDnMM9zwnNwloF8jgT4Cc/p9XOo8eE5rr718z+/5ONXmUJ59rMNz/HlGdkPrh13aaID1tbOV5lx4L9azwJwb6xasS6WXH9rjDc6o9HVU/1SvqOTHCwAE7f4RyEWgceGy8l6MLqmN2PG4f3RNa3oo1xTdA5Fd+em6O3i8c8bCm2Kad2bioy7gDdFT+fm6OoYiAMb+8Zre1qP0BG5fmAfOKbc5m42xqBMoGOOvabJ8yhXtnfzf2JmtO7Q3tVY0viD2NRoXdvlsbk/ZFAbMuqEQzv6ogEOnA/stQO0/aKRDxX3N7yIty7HBKyzPjbb1O2+DvTL/rlNHOcBmIu7GvM7fu8Ncq52yHoWgp/97GdXv8wX6HbF8Q/f7vV/oRk3XxJ7XPiv0Tlexj5tJKIXYhG47Des//X2xMbR/eKaH7451ix+UnSO9UQXwyhxuNMupm2M6F8V+z72h3HYiT+Mnpnl+O/oKjsvX5zywbMzOnqbsSUOimVjp5W/BLMnaxP0qcvarVE5pB3I49fGNjrjKBPY1Y//O+64I971rndVi/91POEJT4h3vOMdsf/++1e2+JobYjF0e74s8nOnMI9R1scYgFqUA7ljAe4PGdjpC4d29vjf0QIw4Ev/devWxezZs6vFX+aJBQDeB8mXDytWrIjbbrtt8gc2gPE961nP2uECsHcAg3qNIG9zxwS0rY/NttvRvsj+tJcMrox/XvJfsXz98nj/V5fEkcsGW3km/Hgv5rTHnxC7/+XbY1XvvLhw4VBctGgslq1jbhux56yIxx3SGU89ujfmxsIYu+XvIzZfXTw5zvAvxMJiGU5Hmd7BzofHnb1/Gs2OGZNjdN8hr9vVOkGWMx/a5rlxHvJ8iOwH125JY228d/yrcWvnmpbdRcti7PM3R9yxKZqbJxZ9qxeGoqxMysQV6ij/K7tqg8Xg/nIs7zc9GkfNjo5HzY/GQ+ZEzOlp2Rafxth4vKjz8fGy5uOjt9Fd5fcLJ+tiW8FzbUI7a3e8yiHtQB6/NrbRLdp8W/zr4i/EwMZ1cea3l8ZDlrbeac1CcJnV6OybFjNf/IqY9sKXxy0DM+Kblw/HFbeNxcYBao2YP7MjHndoV5z00M7Yq+vXMbb4/4uOzZeWPOQtgUocMtIcHSt/26YdH6v6Xxujzb5txgp3Ac/a7uvjH26Ov72yGV9duq09OOPgiBcf1BmzyyYbGBmPf79iXZx77foYabZytkNvZyOOndcb73jc3PjK5j3jog13/TGI+J+jWwvA1JaPyXrtwHHCqRnkbQ7XT9v6PNlud/xftO678fP1F8RtW26OP9nvrXHVpl/Gs3Z/UcztnlfFIZcwV5YBZMtG7oiP3fF3sXJ4+YQ0Ys/ufeKtB304umLrO+0zt84c1zHuiuOfR0C7AHzwQQdV72Ln2pe/0zx1hCeYcG545StfWT0JiDuHuMYhHjEg5hB+TxaAnS9qwJ+6gXWi35XHf34ENAvA3375y6Nn1qzo6umJp37sY+UaZGb88gMfqBZ6T/jwh2PGPvtUj4Ie4fx2001xyfvfX93pe+hznxuD5by2uczXUJmrkc2bq9cFbLj11jjur/4qjvmTP9lmAZjzGDVam2Oq160N/N4uNAD3hwzs9IVD99X1vzFzHHMAuON03PVY+ZjUL0N7eK4NW3300zbngdvOuTKyf24Tx3kA5soygCzHtE5QH3fmynNcfdmWtJHT5rt8FoC58YkfbPzxH/9xZfeb4k//9E+rBT4WgF1UyuDzVr126rI+iH2BOoGfsdoB/9/G8Y+dbW1so6NPHGUCObW639TjgCyr2zpH9CHHhCzXTZ+/ndxxy3tc+XvFDyq52Y0fr3B93e6YBY4FkC/3AXbIvvKVr1QLh4AnydVj0eeJEDz2mR8bUB/7GfsHrxQV2E4d//f/8a8NBODuE+532iIjVt4XzSuwNR8828uRYaevXB90tKmDNtC3HYxNjcDYxGp3/PP48Qx//K9drgOZcgjU10j9W6aeNjHoE0eZQO7caqtenmXY8kMNFoCRuy3Qb7MA3C5QZTShs0DhhGgLdsUCMHnJQ75cFxvHjaY812ib2p3IXbEAzK/j+fKt3Rco7cAfvP/93/+tHnFz32BxnHvqyXFWnBHnffG0eMCu0z2YFhMXnxunnnxWHDa1ADy1ADyFKfwWke8AFrQ9pymnT1vinJjPzZ78OZfem1+x5adxgHbnf0DfXKBej31h3UBuTO15z4h9gTz36zDWWYt743OXr45lty4vV0OtR6Q1qsdalnqYQ/4rYVp3AVMPzmVc48MRIwPR1TccM4/qj86eZvR0bqoWeHu71kVP1+bqMdA8+rmna2NM69kQnY3W+4F7SqD39n1ksn5Qr9X61Wcgb/cIaG3tuw0Atsjzdtlz7OsxK3b2DuDfDEs7TonNnUdVuamF6zNgXXkM1AgYG1CedQKdeuB4lWU9/J5cX95X4DE+1p1rFfbRAebEcQB8nS8+uPBFJjL8/ECVY9I2n3IW6lyQRea8iHz8q9OXNnrtM1eX8wOueXlH8vvf//4JSQvakwvgl+uxLxwnkGMnR0bN2GW51/8do8Mx/yefjdnXfDsa3eWYZfGXO4B7CrEI3Ff2Md5rPa0rhkfnx82/fkncctVLY2xgVnSWOkvw6N19eRz4rP+J/j1uiRmzlsaMmWvZSIW6SoGFGrSbMdw9I5aNnhZbxg8qdbXqsEYAz9sl6xynsnZtgS1jZtvDsy2wrx2g/Y1vfCP+/u//vloA5cvzM888s1rYVA/YNqAek23J04n0ZX/ilTZAG6BPzk+ftn22y646/vnyaUcLwIAFWxbFWURgPNytgIxFYI6tOu7JAnCuxZqtEWS9sK+Nx6Fw3oBzhww/5+/C1b+KT9z+9RgZH4vjbtscZ3xnefQNl/kqPuNjo9H70EfEgvf/Y/x4xZz42I8G49Y1LOyVuqqopYbyr7vsw0fv3Rl/c3JvHDxnVYwtfFMZ3KISv6Wv6hsvnPWC7r64s/ftMdR9RNvj35odk6B/Xx7/YyXWt+OK+MT4hTHQVY7v4fEYe+/lMX7BnaVWrIoPd/rPKOf2coyXE3I1hhgtys2j0dxUtjcLxITs4jguvLczGvvPiI6T9o2OP9i//G1o1fqQ5r7xt3FKzO+YVY3BOoBjsG0fyvW7/6pX5ziVtWsLbC9Y8fP45G3fLENpxiPuGIgzLlges7aUY62YYTvtqc+KOWf8dXxz0bT47M+GYtn6Mi9lmMW86LcO9/A9O+Otz+6LI+fcEuPXvynGtiyJjs6yPYttVWqxp8Kx6I87Z38oBmP+5D5nTbSFNcPdB9ze9ml7nPlFnD5w56h+/NN/+1WN+OrSljyjp6MZj9+9EW88JOL8G9bF567ftMM7f+f0dMSbHjknTj50Zszs7YgP3rFb/GTdDhaAj1ky0WqBmtwH8r5grSCPq51e2NeG+dne8b9+fE1ctOa7cf6aL1f9F+7x6njM7CdFX6O/bNOt28M5NDZ92lKVq9GMH675Vnx9xWfL9t36d+81+/xlPHzm8ZO+2NbHKFenrbBmbYX2O3v8r1y1ZvIdwLNnzYrnPve51bXv+eefX90FyN1mLOCyH3E+4m8xef0ez3h/8id/UumwJT/g7yh97OuPgHb+qAl9nk/aeT4AcvvmzGNSnuNkHfIsqy8Af7fUf8Spp8at//u/cXC5jhsq56zF3/1uPP4974m9H//41mcVUPwXfuYzcd1//mc8/I1vjAOe8QwOpNbiMOMvfhtvu616R/DhL3jBXRaA8zuArQUO4Iw71wpoi+yDHXNHn7Z9tv2uOv8THyjLerm29OUQ+dCRQ3v1+gjtM1euLdw47fTCvjY7Ov6dO2vM8ydoO0/KtZdyTYAxmFedvrTrY5Sr01aQLy8Acwcwd+tib37Rri/ayR/72MfGYx7zmMkFYP4mkIdXTHItx7oAc8R4gDH0p+943B+V16FNnk/aeT6AC9F/+Id/WNlA6CHz6ms769w+ymzfV59XWUAlJnncxnlccsYFci1wAEePLWsU3KT2xCc+sfrb6s1t2cdc5rXvPgzy/qsvdswnjw7mTlHvAFaX4WOfecw4ID7bgEVgFoeJmWsyF6Avh9yPicnnpAxusuBpSmwP6uHGPp6QxMJz3hd4hSf7H3WbC92Pf/zj6rHKGd4JW6/H41A4b8C5Q4Zfnj9B23lSrr3kmAVjMK86fWnnMWauTltBvlyn0J7zNdAXObb1WNSEDOR6gPbUTDvLub7EFyjPcW3jjz3QLgOZ8QF+5s32yOnfm6cn7ggsABtbmN+5Ue+Y7GOX9xvkytA7rmuvvbZ6BzAgHpiwbU2qlGEACzA4MAkyoW5HMPnOAnsob+j6gK1PKHM8jnFX4eabb75Hi8rY4jOFKUxhClOYwj0B5zLPZ56TPecBuDLtPIdqA/jAAHExC+cCXFLGxQltYC4A5zE8LCTzQU0ZyHWQHz8p5xfq6tDeOELbHDtDmT7fX7wlVi1dG+ON7mh2FGp08VV3jDfxLwalJNvI4UfN7Y7XP2y3ePXD58f86I2B20ai0RwqulJLjFRfnkZzJMbLpQiPi47xkRgdoVaul8ZiNIaq3LlWUK831wnPdlme5yDbIWfe6Rs3X7O1zLhe2vXEuMltvexvtL1eUw6sDyCXAHJ1cv2IxXjzfohfa6wt/982qMO6pNwHjMPjEeKDFDpkfnFO28XfjByHcRMbzp0yfLD927/922pxNs8JMfLxbz31OjPo533JXPzQkcVBPgivWdO6Iw+gA+aAE0NfSF2Gujq0h6gdWBNAVvkObonupUujMVTy82JU6phbDA4oH0APmR6x58wIFvbK8dnTtTIOf9jH47iT3xK7HXlxDPZ2xFBPd2xYtyAWfffp0TNtOKbvvbHYl7ngEObJyNx4Vw7x8gckGmObo7O5tnRatWTQd1tkch6AfUG7vg20cT6R5RjagewPnvOc51RfrLzgBS+ofl3Po7rVuS2BMSDmEcKXL/DwJQaPRHYM2MGtSQ7UE5sctolJ2+2lHMDxA8glYE7bQD9jadOOVq5cWb37+nvf+15cfvnl1WctZDzOjDjcubDvvvtuMwbQLpYEsIfsw6m5HkdZHlfuA8Yxuf8Wct6w428BoK0NuHXgzhgZK/vBSDOu3HNaLJrfWy0O8rjXjmkzYsYfvzZWds+Lj/5gIG5aiZxa8C1zxyOeS5unHl9x+2icc+FQbGnuFeN7vapa/CtbpvVIdE5orRNidIwNxLThSye3FeRY4dRsbUBd3saMSV9IXYa6OrQfKufZxY1VMdQ1sYBVjlkWbRvHzo2OZ+8Xne98ZHSd88To/vQJ0fWpJ0XXJwvBP3VCdBbq+rcnROdfPzw68dlrWim0xGAh9fp1MfbP18TYv19X/W0AK2NDrG5sirFqHlpjsL48FuC2FG4/bSTnAdgXtPFBL2lz28DyatsWr7h+QU8s3KO3tMo2KPrGrDkx6znPj1sGpsdnfjoYd6wp1xxl47I/YF/FKDRchrFwyWh87VcjsaXr0Gjs/UoKrR6tzP7Ae6WxZ/t3xaaYPnxJ5QuoQaIuawVyoJz9wf0YGecu5O7PyNED9OZx3BB42YERe/UUXWsokzQ81ogLlzfjtEua8embh2OABf660QRNL6E+dMK8eMERM6rFX3I1y9/vHaGymagJnmtlHFK2oWZkGcryuHIfEHt7x/9nl/xbHDztyJjROTv26T0gjuo/Nvo7ZpRt1PLNcfC1JuoE1lvpGp3x+DlPjZldrfclims2XTaZz3jGFPSpy21lLgBHh0yoy3UQQ19IXQayoZGyjxQ91xPcbfad73ynWrjl6RRcD0HoeAT02WefHR/60IeqR1RCvNaAJxHxgx+ugXjKA3euQS4WV3nK387BoeFtxmn91mk7j8Ha81hAjgPoO++ZnAdgvx3Qzdhzz9j3iU+MX/3TP8U155xTLQjvedxxWxd/C3hf8OX/3/9X3fl7wNOfHl19fdHV3x+9c+bEjL32irlHHBF7ls9kez/hCTF9n33uUidAJrEfuu0Adcgl7OB5+wv1jMv9mPauOv+TO9eBnzUI5fiph/RFRn3GBdrYntxvio1+ULYhDrIMZXAp9wGxt3f8b+/8L3IcdNjBHYv1ItMOWR6v9chzTEGfuvAhlrkA3PkRvNKQRzW/4Q1vqBbnoDe96U2TbQmbOtXlfKdgTsCCH3J+CC+cG+sTtKnNWrHLY8tt/ZDltvNkbK6HWRSEXAjOcQB9cmKfiRja2he2/c4F4jsX+7yrle9h+IGx39Eg93sa+4DYIG+zPHblAJmEjXMF2P94VeVZZ51V3XnLD3z5gSTx8vYXyIlDbHLYNrf7CW0WV1lA4zVNLv6ybdUD4jkWOE9+gDPvblcWfnnsOG38rEEopw71EHJ1z3/+8ye/32JuL7300snXR2HL5wUWwHmKhH4QOm2Iw3mKGvmx7S9+8YsqFsRncOaSH52aEwKMw/0Xct6we7Ac/9SJTBAfmMMx6Qshq8P4dWhv7YC8xnBu6v7KHI9jFLmtn3XadgzGhrLNfYn6NiBHrh9e79tGrr+15W3GHGmrHBijfJZoDS5DpXJ4ZVwSCYLRd5U/2+8IO2NTh7HJBycn+Wkrhxy0deIndra+ewO+UGj3rPTtAdu+ctG2q8Fjoo899sy4cKK/FdwxXHSnnlta3Ox66qRdy2crnXlX5wp1u1PPJdLO4z7Lwx2qx54a55YPCtWYsJsYl7hntU7EOfms4G0W3zx9wu9uYraf5/ZozXfyrcUGO1PzXWtgHiaUYifm5y71bGcs9Xzb22ZTmMIU7ntwDvOc5rmPvuc99Z4nPQ+K7AP0gzKMo1ye43H+5Ze4AJ7tsx0XicYD5qPfrr66LaCvLvezPsu0E8vX8ji4oqsWfpmbErtcB2E7Po4P/dLmC9QNa+O5s9fFfz5lRvzZw6fHXzxqdnzjBQfFU6cX38FyzdMcrBaCozkcjfFyYd/cEM2x0i/t8fHRGC/jHRsdi1G+0Cqwlnq9dVi/oM/2cRuBrEeegX2OMZmD/jZEPL/YLReEXBTeE5qsiQmsJnErTUAbQU3QZE0TwMYLe68nIceCHu61nn14jgmJnHd7+M4T947lJx90FyLK35x3V3rUs1t+OwLXpNZCDdZBjXXOGBlTHrPzAGgjq8fIY0UGmS/b8EUpC8Es0uan0mQfuH76CvMo14cPtCwu82tsvmgFyOXaU7u4L49/7OH16/+ukqNr3cbW4u9w+TzCR5LZ5UNiX/FnWnnn5z5zCs2N2GNOdOw5LWYfvSz2fcoFMdDfEQM93THQ1RNrVu0Zv/7Ok2J4fbHvLP7k31JqYREYXv5GlMzRG6tKLdvOW71manUs1u18awvy2Nze+rmPGFMOtBX6cBcGj3P+8pe/XHH6Oa75cx3oIR67+c53vrPyhedH0KPHHo4vddF3H84wnsA+5xPY3Jvj33h1Qk/N3LnAYoD7Hu+U5IdKv/d7v1e9eocvfrjDpF53u5gSID4EkFkndE+Pf/TOIZRr8fiv+16/bnH5k1vOMY3xGO5uxjcfOjvGusjXjO5jjo2Zj3pUfPfqobhpdfFhSa86txUqbUKMjw7HwMrrY+DGr8b5//2heOkbXh/PO+Mz8cJ/OyRec868OPOz3fG574/EdbcOxeBQOX+NlH19uPUErnqNbq92n/+z3X1x/A81RmJ5rEdQ9Vnjaxy/ILo+8oTofNcjo+PZ+0fjgJnVnb/NgbKvbBiO5qZS/2jZX2b3tBaKX3RQdLz7kdH18SdG14cfF50vOyQaB8+q7gRuLhuI5sQC8KYYjNWxsVo8pb5cTwYy6wP1mrMvbeRsc8cojION+4x+CzfeXOmggbKdLzxkeqztK+eOsl37jn14dB1xdHzxkuFYsq7ELX5WY3u8XJcMrrghNl353fjW2Z+PP3nOp+IlpwzFH735dfG6t/9+vOffDo/Pf7s/rr15JIbKti4VRt/wFZN3wVNDPj7pw6nT7QrHhhoBHBvIPoQP9lmGjfGJwxzQP3q3jjjz6M44hJt1HcwEsS9vHG3EyMx5EdN4LUrZh5K+u9GME/bqi6/+4d7xxP36o7d76w+oKhNibJfK/yqbrfso5LaRtFEP3VfH/9rRVbF46MZYuOXKeMXeb4znLnhFLB5s3bGpLSCONRDLtrHMA/o6+uNRM59QtcXS4cWxZXTzZJwM4yg3tvEAtdO/r45/fQFP6eNLcxZv+XvO4gdPQeLRn9zJwh3Ba9eurX7Uk8l52B7QNJrbHnsZuU8c6su1ZyDLubRRln1pI8/bqR2G16+Pq885J27/0Y9iqLTnHXNMtcjb6dMuiu/aG26In/7N31Tv/T30D/8wuqZNq+aK8XPO4z31LJqv3LgxDn7Na2Jv7pBL8wys3TqoC7Kft6nbSL1jcN91P8gwnsC+3bixyX9fiJPnzZzo8LcPzzEhoQ4OGItt4uS2f3Owpy3qsbHBT9JGPXRfHf+AObEuINcWIIPMZ9tY9HNMkH3g+kEZxlGuT47n9hLo+XzAI6BZDINo8+MMZXCIH2hgzyOe86Ivi8DIIH6ImOuiXc+PTDlz5njcp8ghHE9dlpH7xkVGLSz8sljp3ar1+vRVpi9EG3neTsI2NiyOQlyrskhKm9cZsSjJO5FdnATEqoNY5jeueYH6zAF6iD7z+pd/+ZfV3xAWXHncszb8oIY7sF/3utfFCSecUD1Str4fAOMJcuV8Llyz+MqPTQVxnDd+AMDffWvivb/cZU6f2Oj5bEPfuABdHvP2jn845LapH/+Au3n58egXv/jFSXv9gbm/8IUvVJz6eHKSdnPmzIl/+Id/qNZ6jAknJ3rqMUaewwfL8U+dXivmerMdP9wyHjAffY9ToTzbAvq0PcbJyfYyFvnU2ddPGKMuy8h94yCr293XMBf1A3PSd0xADrQV+mhjzfRzXPqZTy4A54D2IQrTBmLi3UGBfwAIZtIdYWdsMowNrCEPyDqU0bcm6wfusLsC/CHk1yM7C2zvj/fUnfD0U8r/vxnfqy/ULf5BnL8w4pQ35MdFL4qPnHpsfO/pV1XPC4fOO+OoagF024U+3o17bJy+6Iw4b8LuqvPOiDjr5J1cBF5YTLfNc3Yp85un1xcv71me8//q5LjpDRN2k4/Bvje1HhCnfbFlx0NSTzl7J2IWOvuUb8bp7RZga2AR9eSzDouzJ33PizO22RV2subF58ZH4uzJ/K0amNv2NbSfn9ai8MlnRZxx3tY4551xSKXdip3dZlOYwhR2FTj3eS7kvOa5EO6HdtrosIPUZ1+5csjzJ7Dv+ZO+8nz+nzWrdVcB3HwAO/uef+V1O6EcGedquHm0B8j1axfLGJmvW7U5SrTSZyzFtgyVBV85X5SzuDO+5NZ46IZF8Z6TDojZ/VvfHzSrtyPe95QDYsaWwWjEpuJU+HiJOT4Y3FXAAvDYWPkA0SwXpeNwFo9aF/eCtnMgkEG5doAdMnn9Ggtibmzrr4/UAoNkPvnwM1rFYnGaC/OhoRYN3gMaHm7djUGMajuVmMSuxlx9xbbtuPK1ovuToE0MgF3eB/WHO1bl9uH4V3VMzIHHwY7Q19mIaW0IdPfelTp24rLR4wVyO2Qoo27qdQzKMpw3OMeb+hwXTt98+fjXnoVg7tJl0ZaFYOVw7DLlubcPkQdfYrCozMJvrhdbx6Acmf1cL6jbCeXI3J7MgbEBMshakaPvGByMjoGyHw2VOYBW9EXc2B+xqmy4oZKD56IWn/UDe8XVt/5B/OiyM+L8H7w7Lvj2X8eGjv7Y3N1ZLbAMNDpi8TVHxJqbFkTZ0UuCodbi76aSfzM1lH4Rd1bH/dYvth0HPNea29TpNhd1f/RyZHLmw3mQjKU/Nuecc061wMmjyAD8D/7gD+ITn/hEpc/+5gToPv7xj1e22ZdYxKznF3k7ZOQc1IkvcH8StIkNsDMe0B/uWLMc2zrxd+maa66Z/IKR+HyZxmNDeYwdj8Dae++9qy9k+FU/PgL7erxMwvzW5DxmW2R5nEAZPnk+5Rnawt1u4M7BlSVRaXDuGmnGJfv3xjePnhU9o82Y9tjHR7OnN352c/n7zrms+E6YFt6M4Q13xOAt34xZq86NBXFxzO1fEeUveHT29MRI9MSKoTmxcO0+8Z0b9ouzvzs3vvyT0Vi8fDh6x2+p6pB25vM/dva1k9fthHJkxISbZ7y4buTpG9VPdCaA66aRGP/arTH6d1fE6FsvidE/vzjG/vwXheAXx+hbChX5WNGPfWpRNC9fHTGzu1o87njtkdH5gUdH13sfFZ1vfEjr0dEFw2VONpXjm7zum25TuHXmtuOA02/XJl7ej0HdH70c2ZLNqyavT8ZK/1f7ToufHzg9Rjoa0ffIx8SakZ64+o7W9kZfbevCaQ+tuzMGr70wdrv0qtjz1s0xc0VXbF5etvVQd4wMz4h1aw6LRTc8Kb5/4cnxH587Mb78nRlx29KyJ4zyOPCt28A5cFu4HYG6PCaQx8V5SR/sHSOgzf4E8he14Gl7d8a/PLLw+SV2iXMXYl+YMSdi9tzi3F3J+En9nz58bnzwKQtif14UXOC2Aw0miOZ2iHrydnUMgLYcGbZZj5+ELM8TUIYP82BbLlaNLI9ZHXPi0P4jY17XnvGtlf9d9sjWHBFDW/zom+/urv+Pnr7tE+qGxrmDeusCMHbCPmQeaVcd/xm8u5c733h6w9VXX10t+PI33f3tNwE5HatzY71APfWaTzu49ec2OlCPk9vEc5/ZHjrKNtztsMPiIa94RRz2/OfH4Lp1MZiesDKwenVc8a//GoOFP+Ztb4v+BQuqR2Xzg7x3v/vd1TVapr/7h3+IK8v8WZ/INWcgV5fHDOrbGKjLMpDj5H0Fe9sgz7HHntAfnuct9+H4Q46H4wCd9o4DYC/IbS3Y2jenpK/xlFmDevJIyIwtlOFDvbblGdrCsVVP37Z6893d8Z994cok7IR9yDxS/fgX5uNHGndH3izFghl3ccptQ/yYwTkW5M9AZx15P7JG5xkoc2yg3dyoxw9/F3+5E5THUHO3qovAX//61ys/66rHyW3i1cdDO/d3BvoYC8r5ySPVoX32yUDOOHm/+kc+8pHqXezMBT8w4akLT3/606v37vJUIRaCL7vsskm/jJyDOq3FeRfI3W4g6/mhAHcfE4cY/GCTfcc+1/X08Yccz84e/9kG7pxhq5zF3Pe9733V5yfOPyD7QPwQCf1pp50WPeVa2nz1+VeGj/slbXmGtnBs1efa1Jvvt3X808/5AHb2tXPus13OqRxftydjwi/bqwfIja+MvvNr/QAZsfA3r/Egc6g3DtAOrl2Gd+zXucQPGbzLHF0dxAbOkXVSA9zxkFtyXiD99ZHqyP76VFZ1JzmGDloHi5PsO1k+noCB0obzqz24g3dSICfJxxtgA9eH/IAa5FLeMOoEcm2yfFeAP4iM9cIL7/6WSL5A+9KXvhQvfelLJyS7ECc8Paol4NoK8OIfnB8Li+bp27zbtmybk87b5n23B5z2oTjjqOL/ka13jC4+9yPxzeJ7dn7X8AGnxYeK4cKzzomduSn0qDO2zXPCa1hsXRjn/2DrauI9y1P2rcPOvsu7eu+LWuu48MzT7xqz4IT3nV2kC+Osc3YU9cL43jcZ/2tia6kHxGnv2xprp2susi/WBtxuHlvY3vz8VZy18Ki7vN/3gHIyq5nu1DabwhSmsOvAeczzLuQ5O5/nsh6ZNhAybYAXHNnGPshxRT7/cwHOeZsPBZ7/8dXeXOg8Rwv6ObY5ATnU65dj2rYOCCgHyOjDB6v3/5XxIy/Nlg/trXx804YYu/n6eMLhC6KvuzVGQZxpXR1xzG7d0WhujuZY65mwjeZIGUi5WOVdweND5Wp4oPixwFou2EZa860/cCyt/NvWLgfOi/bMB/NDH7scpz7mrKvmtIrLoFsflEZGRmNoeCQGBlu0eXA4tgzsHA1Utq2FYGJw8c9dxK3FX/Juu38Bx2KtEHVByLS1rR3QjxiQPvaVQdq6H97foBY+sFgPoB5h7ZBzALSBZ5njwJbYuW0ccymHgxwTGQvBfGDnfVo8okr53R3/2OLDF4x8KdAOxCHe/X38Q+iI3yz7ZGNLUY6U8UCD3RHL+yKu7Y+4tbRHxuPmW46KT3/pzPj6BW+IH//qeXHVosfHqqFZMdjZCJ4cPVjCs8S0ds3s2LhiRumMluO5HN8sIG8uBjxulOO9HOadw4PRyUvDJ0At1AHkWebYnKOq5glyfI4FYIe/9nd3/LPo+cIXvjD+8R//sbprKoMv0//pn/4pXvSiF1VfpgP8rAlfdNhsz/fUU0+tfvSHnzkdH5y/A7SBckGt2RYiN4RMW9vaAf2IAWUf5qZOfFHF0yjQA34pzg9tp0+fXsUiBnbUm++MBvVYdcq2xqIea6X/mx7/xqJtPnOBwXLeyQ9daIw14ksPnxO3zemOvvnzY91QZ6xcX/aRYlsyteIUPrj00hi+4xvRN3hR9MSd0dO5Kvr7NkdX30iMd22Jsc6hGOsej9GezhjonRlrO/eIn96xIL52SXdctnBlVYN1si/SluwzRyDPiX71+QP0IW2dD1A//nkM8kijHI8t0xa6O2Ls3Bti7B+ujua3b4/mJSujefXaaC5cVz3aubmwtK8pdOmqGP/fO2L8owtj9M9+EWNnXtpaCJ7WGY39ZkTjCXtU7wKejF1yjTa21kv9jimPK9frOIE8y7R1jpBL5oFrjx3+w2PD1bVJUVS6LT2N+OrDZ8em7pJ/7u6xcnPExkHmp3KrtjntoTuvjsb1v4y5d2yI3Qb6Y9ZIX0wb640G1ySlhOZ4mbuR6TE0uEds2nBwLF/yyPjZJU+Mb1ywb1x29YaqlnxnB9vDbQg5H9REmx9eWDt920B7bfEjnttYW7jxsQEHzWzE247piKNmlD5mdWKj9UyLmD0vFszsjX9+2oJ41bGzY87EYr75pMqlHiMRY8QnAz9qylBmfED/vjj+exu98Zp9/ioWbbkuvrbi0/GCPU6LfXtb74pFbwzIXNZT11sjNK9nQRVDjJVr1rGO1sKyNpB9UI8LPN4l++7b+GIP9HPfyaBv7AoTU8U558orr4wbb7yx+nI971v3FRyfces8jxfumPK4jAHq9iDLtHWOkKvL6J45Mw545jPjiBe/OI551auqu4Bv+/73Y5wfo5W54s7g5ZddFo96y1ti7lFHlevxweo1D5/97Germ0pYNOM6je8Yly9fHrfddtvkU5oyyG1NeVzWBHdBwbGyraxbH9v39/nfvjJIW+ZYf+US9hnK8MOWtr5iR37GB/R39fmftjEgc2lT11ujhEwbOMcuyDb2QT0uqB//wn0b8N5T7gbmewE4nyPgLNoJ4vKKDhd+f/jDH26zGMwj3bExBzVkWBt6uDKBjHHA676Oz9h17njznb8s/BqHJ8i4CMxdstqDegxgvvrxD1m7/O6QfWjnsXHHcNaRF72ELOuAOsCTc9gO//Iv/xLTprXelb9kyZLq8wHrG6xb/PM//3Occsop1StU2N/xvSfHPyA3hCzb2seOBWD2A/rEYGxe29Pnfb3AWOa4J8c/QIYfttaa8eQnPzl4ctAHP/jBCUkL+nCuAjwR83fx+GfMcPYB9dgDc7JN8t8HQFxjA2sBtNFlP+3gEjbEh6sTyLXJcuD4sGnHsc8y7JHV4wjv2K9zibv32X+5gx8dc4acV+jxKPNzzz23Il57wRNP3IcdF/NBDfXx0s411XW5bghZ1oHW/wsMbmJ4DmAb5I2CLX0DMlAngTb86KOPrjgEnBTISWJy9IPrk0E+B0nbncbc6Bwk0M5xWfd9DX5Z/qpywcavQNpdcAnqeP3rX199IcEfuF2PE6J1E/D30mLn4vhBdfvv02uLfEfFSSfmJU1wQJx4UtkGC8+P1jrfhXHOWQtrC5gtHHAwt7Euipvvdj2wTZ4DDg68F950a6t/L/Kcsu1qdsF9UWsdrQXcu84dOCFecwar5Xmu6zgwDqmm8wd3eeRzC79hzRPz2A53nR/3gzdss/jbHjuzzaYwhSnsKnhukzK86FIOp2+b86BtzpX25YC2fp438/kfyPP5n0c85fN/jgP0h5AL+vhoSwzbEGPK9gJZtgPyur12g1v4gEJ/wr8MuxWncBaBocXXR2N0LHq6W3eO5NjGOXReEfDYZ14Kyl2A43xByx3BLAKPVncFRiUbjaN7Hl35t/K0COS47XgGMij7A2RuO+TtfEHLh+1RLrbL/PJoau7gvWDDM+INN/99vHLRh+NVN/5jvOqmnaPTiu0rF/1D/MXi98clm48vsUbLhT9f7rHtyj5T/uU6adf3q7rM8QHa7hPYuA9om8fstR/QxvZvA9TNhyBqlBwLlPdv+4C2H570E84PMI6U4Qfxuhxke74cZCGYu0N+9rOfbZOLNnbE+elPf1q9zwhbFo/ryHlo31/HvzHIoQ1odvTG2Eg5br0DGBostKXQms5YsXx+/Pe3Xhw3r9g9Vg+Px7rmYKxvbI71nVtiQ8dAbIrhGBwfaVE5hres6Y7mprJ9tpT8EHf/9gxEFN/mprKdh7jjbOsHXMjxC2p0LqwZUHfmjsE+wJ6+ZAyBjHjcxcr7uV7ykpdM/rh2e0CPHV9c4cdjNvF98YtfvFO+vGsR3/xORWtmDJC1CsfteGxnWfah7Zxi4z6gLTLgokA7yqBO9nm/oMKf93XxWDcWGDIYF7p6PImcwBqUWz9139vjP7chgS0EKp28UMlAJ9b3N+PLj5wVAzx5Aj3/imGzWear8NENd0b3pstin2mLYu/d1kd/f1f09XVVTzbo7Co1djejq7cj+mf0RP/0nujp7YyRcoa7c2hu/HLFHvGzG7onHwVuLXn7M0767v/0qU9bxwDVx+b80M7zA7ntt2Lr8VEB2zm90ThoRnQ8YvfoOHn/6HzdkdH5todF1zseWfHONxwVnc89IDoePa/YzYyY3h3jP1kWo6+7qLo7uFoIdvV0AmXaSuitNecaHaN1qYPUCfcB9bQBcTLf0fFftat6ClXbtRnLy/b7xrGzYmhsOLqLq27YMJSR9XdG1x03x4IVzZg3MD068K2otV8IZePjZb8dmx7Llx0Xl13x1Pj5FXuW7b282t8dH23rRMZ+DqyR84/nIMcJaLNd4ejcxnJiZR/6bndsiLl200AMrV5e/p6Xv79F3pY6OmNs1oK4c7QvNo+0fIlFXGolh7W2DqL2ZD3AmqxdKKdGCJ1jIRd6CZl2jll7+sbJ7f16D4mrNl0cP1r7rbh686WxZHhx7NG9d6XLlMGcGRfArZk2tYxx0ZvA1VoOg41+tOHOR24D69XW+QY5DtAfsj5Af3J+Sp+5W7FiRbVYBCfOroL1ZQLyrLdG2+rBZP2F1Anqdy4gx1PPlYGko7u7emTzvGOPjSNe9KK45dvfjg233RZLL7kkrvroR+Oocg7f/+lPr/xZ6OUuaeafR+x+7nOfqx5XKvHDvRNPPPEutQHrgogFB9RJn+2hX26jy9sfsP/V90FA2zlAZzvLsg9t5xQb/xZoiwzQRye0sY0dceDUah6hTc6njXbG007kGvSDE+e+OP4hUa8nU8bOHP+2nZcsB8rwow3HFp7boL79AfoMXovIk8Eyz+/vxRcZC3noudvUNsTjc6knI+ej7T5g7vqY3PaO223gODMBOXoWf/nxK9e8LGijy3lYEP77v//7yUXg+vipwzmFrKueyzHY3xlgazzH0g7mzm1t7SvjDlc+D/DeX16Z4t9jvt/hyUDcEbz//vtXtvXtzxjq+yCg7Rygs+Ysyz60mUf9AG1tBX3nDWhjG1/iwN0H6v4Q2831JtafWJPhR6QZxOBvK+clFsGtCxDDuOTz+P/kJz85uZ7Fk4f4IZP7HvZw57DehkSuW13dBtTnHp79rJm285LlQBl+tOHYwnMb5O2PLeN2e+RxAv0h5II+Ma2JGPrRJ162B9pbH9eHygG67KOdca3NfiYgz3pz2v5NwJOnnvOc51Tfv/ADF/6ucH7mx9s8bevQQw+t9rNvl3M+tVqDNQtkjA1YWztkP9va2q9GZDB4JSwDNbmwDXeHs8+GMMZ9DfNMFjyxQQR6+3kDIc8bzzi7Cix233LLLdUz89vdCcwz9Z/2tKfF+eefX71jy1+w7Gq07tRMj4H28c93WRA8LA5usxDYWnicwOKbY1FhC886eZt3wVZ0Oiuj9xathdFJ3OM8R8UhB040xa6odSLmUXdJlrGjRdoD4rQ3nEJRcTJ11N/9ey9q3vb9vdyd3A5t5idujZvKfrDjsewItW02hSlMYZfCc5kXR7Q9Z8vzeY7zn+dlz4H0vVgT2hij3flfIMvnf+4Czud/a4B7oeh5uH5+Ftk385xHWfYD5rItaKtDi0nVlrPoW/XL3K1bGc01yyO6euKyW9ZtE1OsHxmMH65ZFB3NTdFobojG+MZS+IZCAzE+NlwRj4AeHRmPGc3Z8fv9p1Z+9ZqIW4+fbYR6dNk+zyVy5k6bum3FId71W90BPBrDI6Px+aVPjsXrI1ZvGbtXdN3qzvjk0pNjeLRcVFd3QJftV+KX1BXcbtToNrcvHIc1A/teqLtfaJMJG+PTl9f37fsT5IasxYt4xqIMwP3wAmgjwwZk22obTsD5wd6YzJFUhzEy8GNRly8HWeTl8c76wvlSkV+B1xd+jQWvx72/jn9jqAfox6I7xga5a7fMKYuzLP5yFzC0tifWLZ0dKzc2YtPI+kLrYsNoobH1sbHQhvEiG9sQm8c2x8DIQDQb62Na16ooLGJNmee13eXvx0gZxFDrPcDrO2N8eFr1Hk5APW4Hx+044XmcWe8Y4HUbyDkxhvb6wvlVOov0zvPdATvs8YO4c+ie+GKPn9vFmoDjB+qpEQL2heNArp99ctF2DrTJttjUiZg8ts08fKnAXSg+qYKnSvFoa37gwIKvsQAL4vx4t11cCGR767dGcG+Pf+dLfbbFV8zu7C/74sTf21ISj/vtGR2Pnx88La4ZXBmze0bjoAXlWCwurR/9DEVz1c9jwbQ7Yp8FjZiz25xCs6N/Rn90dZS/OcWuq7M3uvt6Y3rv9Ojvmh6N8jd93YZNsXlgMFaPz4hrN8yLy66+bHIBnLqs1/6uPv67Gp1RKkZRySuUcXe85ODo/KfHReeHHhOdf/Pw6HjdkdHxskOj8cKDKt7xJ0dFBwvBHzwuOj/82Oh636Oi4zVHRuOw2dH84dIYO/vasuFHSzETMQvI1dfRuvs1gxoZD1wCjAmi77gdJzyPM+vzWOs2EPF2755VbevqB1aT1yvj8b0jZsTlQ0tj71njsc9uJVbxqx75PToYzcXXxOy1ozFrpHUHTwsT8dM4m7YnG2UqNh0aN9z0mLjsF4uqH0OAXB/bmTmA5zEA5I5bvccDsC/oM0a4fs6hXwZ+78Z18dYfLI+bV22JKNdosZnrrZKTtDVaXcr9wLVj8bdXjMcd5e+0dZuz1adm2u0JOFZqYkyOIc8DQI/M/QBoiw5b/OHYKQPw7R3/G8bWxp59+8ZjZz859u87JPobM+OqTb+s7PKYbJPfOpQJclrfypGlFRe9jZ5CPDR76/FnDGvNsWzDrdf+b3r8s29zp9lll18++ajNXQlqgTKo3+1lvRnq4RLAFqLvuB0nPI8z6+vxt0Gx6+rri8Ne+MJqQfi6T386flqu1XY7/PA49PnPjy7fCVxAXrbHAQccEHvssUe1qJbJO/nrsC5ryvtUrk0ZwMZ8dTvHD9Q7N8C+cA6Q62efeabtHGuTCRvj05fn2pQD+nmMyI2f2+jkjjX7CXxyjUBba3F/wk4ZgG/v+AfZFl9hDbke8luHMlEfl/b4Z2hjDPPnWLbh1pthDEEcxg+IRz8Df97jyqN9jzvuuIpDyOjz+N9cJ/71GIA4yskjaOd5sl7t67Go3+3Fo53znb9ZD5fyIjB34hvbOpxHkfXmr9dxd9DX2NTRLgfIHLn2QB/tubbnTteHPexhVZ+F0De96U3Vk0pf/epXV7bMJz+o5A5h7gLmO2eR63D/oEYI2BeOA7l+9plnXjfEeglAxlNh+WGA9iyqAudBbm5jmZN+fX9g+7GoK/GZ2DufgT7cqMg7iHk8Nk+oAOaABLYQNwMSj/2IHz1gY30A/n/l+IdzjvFYtwY413GAeMYV+oPsC6yHOdIOnbVrB8wF6vHNS9s42ucYgNge//plqLe2ewp+DMDxxN83HhWewfxxUyivJ3rmM59Z/dCCz+lcE1l7HiNtOHLq0aZum7k666cNqhmzAwwAuWGAMgPQliOr71TbQ95IOwPz6kdN7hhZB/eDgzoAt+Z7mntnwfuz/uqv/qp6BBvPyecPF+8F5pcjvNz++OOPrxaI+XKNLyQe+chHTnjeDzjgxOAm3kUTq5LV45+POiNec9dbWHcaPA7Yd8FuS9s+Svg3xX2R5/6qdadxwvuq/LxfeXIheNuXLO9UzS78nnz+SeldxDyGegpTmML/NXBO4/zlCd9zHuddZZC2nvfyxVodniOzXl8on/+BMW0L84B6rMwBdZsjy+0TK8emnW2356cdpFx0VfrSKNSygReqvlQt9S2/LRp8Id7RGT+7YVVlk0H8f7vjklg9srE4jRQq88I7Cbnrapz3ARcKrj3Go6PQ82f9Ueze2XrkXo5F21pFq5671o2d2xiiD+X5h9z+2c92C9gXKnWNFTu26dJNW+fv3mLx+jLikcEyFcRnPvjSprUfWk+uCQLIco3u07a5hnMfyT7AC3D62NCv76P1fjv8fPVgnL9sy10I3HDxXWnd8kp1tyA3teUaGQPbiD7kmNrVqQy7zPmAgJ9zldv5+K8j52sHPszzofftb397tRAM5s2bF3/+539e/YLZ/KBeU4Z1gJzPdpY5J/Xa7Dt3gjaEH2CO6tf/zfKhfaA5J2KkO2Ko1DE8QSwEb+yJfceXx6xZS2NoZFMMDm8otDEGyrG8ZWRDDJT+AP1CQ8Obo79/SczuWlM2evEtVA7ziP5NJV7ZtpsbMbaxK4abs6Ojs6fKTT07mv86OUaBjL4yOXb52KaffZHx3j8eyTZ37txKdnfAjl/44/ee97ynat8TXx4Hja9jcb+2NtvWDAH1QBt17se2d+b4h2jXCRx88MHb/LiWhV4ec83CL/s4d/+ymMmvrXmMnWDBiwVg8reLnccC7IO8byJ3/I5jZ49/58HYcvf3vaftUQooccrZhv+Xva/6t6GzI766+coYGR+Oxx3CF58lVrEfXnNTDK3637hj6c/jlwuvjMtuuDquuOmquOLmK+O2xbfFujvWxfJVt8WyoRti6S3Xxerrfx1b1i6O7n1WxW6HbIn9jm7G7GMWxKrxG+L2O2+v6mlXI7Jdefx3jjdiVkyLjkb6/I5JX5mXfaaXBKV784YY//6SGPvizTH2qRti7LM3xvh5i6vHQIPGAdOj8ah50fnyQ6PrQ8dF558cGR3PLR+m+stxvjVd9EZnTG/2bCOjLuuGQ25TtiM157EI9HVyjAIZfWVy7Bb07l52lKo36T/e0YwN3Z3xtfVXlb9BI/HYg7tLPUVerIbX3BZz79wQcwfKnEyguFSvyO2d1lnOI1xPtGTdPR3R09cZnUVHX6xZeVQsvHgo7rh9aZWPOiSODf8mQeyXcHTMCW24c4I/cO6ANlnnsUBs7zz++vUb48wLV8bN6/nhQbHlVRMby7bcwhNXSr8N8ZT+Hy0fjzf+YjRu2rB1u4Gqnu0sHkvYMEZrxde/B8ZRZ/1AHXbVNpoYO3Ls78nxXyqOry77TBzYd1i8au8/jwvWfC2u23L55Fgqm4k28dweyIwNtw709K/bfHmlE90dvZMLwPoBfaFcozJi2pebB9RjZQ6cE/yynMcZj0z86GBXgpz1/HDqck4dm1Cf7dymzJHzX4exMmHnHLYDmcfKPAysWhXj5ViYVq7HrvnkJ2N08+Y49rWvjf49yjlgApznuFuPcxePS+U7IH+4sbOgJupxDI4Dbr2Sx4FjcQ7U2yaWNsaCgDbqiOd80N6Z8z99bOjnfRTQ1xfCDmQ/OKSN+ZHpD+DmMI46bIU67JDnXNg7T5D+2NaR68jc8z/xsLGNntjKjA1Hhxy98gxtbAvlUK5RWb1GQZ46jFvPbw4XfNvRPvvsM2HdgnMscp3OBfsOHJ11wh0HdpC+1gVXx12hLv5yh17WZzu3KXf0YeudwBno60QMawPIQJbtCHn+Ibc/YNGR+MYUOSftDGz5m/H5z38+Xve6103q+VzID0pe85rXVDKIm9e4G5gnCL33ve+tfliJv3rb5KJtHeqFtoC5tDbaHv8sgLF2ArAlFz8MMDY/6GQ/qR9H9M0HEQvoRx9ufmzMj0x/QR9isZjPDl/4whcquf577rlndXzyyH3skOdcwH0FMja2deQ6Mn8gH//KqBHUYwHnAVCPtWc5feyJZWxAG8IPsH/wfYhzYRx4Pv7hAG7N2EHqrQ+uDrm+Qr28Dp6Q5atsfd8vMtr8mP6kk06q7vjlB1l3B+Lz2iJeK8sPlblx1FqhPP+Q29+asWlXv360MzpQtNtJkCNrNym5rx/2JtkRdsamHfAjp/lyPYJarRc7uGPDv93G+03B4i9/OD/60Y9WX5x97GMfq16OzgbnAOI9HJzovvnNb8YVV1xR/RLg/kXrMc6txw63Hvt71Eknbn2/7CTa37m6+GbuSZ24O/j+euzvfZFnV9S6g0csb0X7O6nrOOC0L1YX7GdXj+j+SJzL3O90zT4q+ry4qvYu4nuKqUc4T2EKD3x43vRcxrlNAp73Muhraz+fA338jUSfHypJymlnEKeeizzWWNfR90LFeuhzfrRu67IviXp/e/D6wPM/fP9ZxiSOsSbaLGCuX1kSlwvYRmcMj47H+798dXWjSUZ3lA/yMVr+PxiN5qboqN4BzAVymWMWP0ucGTE7njnj5Hj4tOMmv6wmf6b6GOo6OKDtXOlT92WusMHHubUvFadCZYwV8QGl2NTGdm9QfZdaPfq5zEEVm9phrXqpzRroUxdgu7uNQX7UZPbLwEcOoScetkLfncHbeo+PF/WfdBeiopk/vyv1LGv53R0cq/U6JpBrU5/H0c4PPcRx4vzZ1wYC2xu7eoF/5qB+RzC/gn7zm99c/XAx24l6TEB91ljX02ds2ti/J8e/ftaTdY3+3hicsSBGB3rLDlXmcLgcy9wJzCLwQFf039kRT973F9HfuTbGN2+OsU0bY2Tz+hjesj6GBjbE0GDhhUZH1scB866LebGmTErx31j2xRkbo8EPPbirbGVvjA9Mj9GO3Uo9W7ePsD4446ANl+g7R0A75sL5MR66vJ2VZeD7jGc8o3p3F4+RyrVkIOc9Xjxaii9R3vKWt8Rf/MVfVO8g4ksddDvyJTa+/DoZWDf1oZcjs17HC9F33IxTO3Bvjn8+6BOvHfHowMc//vHVr6l55BZfTBATos+XWuiZB35AyRfo2PAIQvTtYkJ8SUYM2rk+ZIwfOFbrdUwAO6Fee3RyoB96yBoO6N+ryIu+tFu/6Sn2I4WajfjJ4O3xkzuujCcd0RcP3afUVPbP/uav40lP3TOe96KHxQtfclyc+tLj48Uv/b148R8+IZ5yzD7x2L2mx7Mf94h46SnPi2MOPjjmlzk4Yo+D4vlPe1k8+eHPimMPeHwcvOBxMXfWQbH49q0fDq0POBfWCNQJ+oxZG/s7e/z3NLtij5hTWrV9dNNIjL3v8hh96Y9i9FU/ibG3/TLG/+GqGP+3hTH+L9fE2HuKjsc9v/xHRXdpjF+wJJobRiJ272vdLcwCcOe2MWc0p8XuzZllXK2+4wPUZn2Mw+0jkNOHY0dbH/vOEdCOuXB+jIeutb2ZLwhZpYjxzvH41fiKuHTFdfHMY7riiD3LPl7cGstuid7x7nKdMlFTsR/YPBwHHrFbPO6p+8ZDHjmv/J0bieHBsXjoY/aIxz51v9jvkNnFhh+1tVzGx3pjy7qeuP6aOyfHUslrdVOvX9bCsXUM6pE5Zo8Rj0fjclzV/X5+50CcdfGqWDfETl6MpLJPd29aE4f3DcXsziLIugmizEUbm/HCHw3HF24cic0jrTklL/N4d8Auj9V63Vf9WyeUAeSOAdB2nNgJ9do7H/CZnbNjRtesuGjtd2PJ0OI4cfdTYn7PnrFldNOkj3NVj29b0Md2/ejauGLTxRPSFg7qPzz6uqZVerdVBnJkxs2xc18/7CGQbQF9tzFkPx//9xfIBVl3Hrc6xwGynlqtFxt0dX/6cOxo62M/x65jcN26uPLss+P8l788vvXiF8f3Xv3qWP6rX8XY0FAcfMopMe+hD90mH+c6FmRYLOMdqzyylh928QRCHtvPXXzUUofbABAvx3Rftl7tchzH57EgR4ZOvbHpO262u3ZgV17/O07s68d1rivXQ/xsZ73awXN9yO7L4x/ohx4ipzXZ1wYCxsigr619cxCHNnrnNAO5Nvjl2PU+wB5qB2wdM7DPey9Z6PvUpz5Vff7grk84/ec+97nb5MjjAPX8gFqJi86xtfv7jd7x5nEj5y5PHoWcF38F/hB2zg+ELYvA+NI3P2197Oc50g7k+dlZ4GsdgHauK5PxaWNDbvu8DogfTvIUAeaHH0KyDfh7ot13v/vdeN/73hef+MQnKvkjHvGI6O3trfzvyfEP+D7JRyT/93//9+QcZD8WfH0FKLV7RzBt9DwqN/+AU98Mx4l9u+MfILNuQPxsRx89dx+zfXm8c35KBTU+7nGPq+bLsTrXxgS5NvXam18b2hB6iHqsyb42EMhjEPS1tW8O4tBG75xmINcGvxw79/VjH4BAtgXEcv6xsc91I7mxt66cDzuBHzLzZZ3AV3/s4I4Ne3T1OHKAHMqxs974deTvUX3fLzLavPKVx4DvCOTIeQD7G++f5p3onCMBtWVQC7XiC5eMlynvc9gYq8MNADm4PMgcEMCxVZaLajc5dWT7nYGFExtf+tQE6EO5xnp8++j0u6+QF399TALgncBvfetbq5MbC7/8Sp8vaqjht4EDTjwpjuI9vhfy+Od27/oFC+Oua4Gthcat77xt907hXYH7Is+uqLUVc+FZ57SJWZ+rncMJVZHO/U7WPPGo6Lvgwu9t5xHQ7XB/bcspTGEKvyk4d3Dx4jkOns8n+Twn99yZz4m0oUWLFlW/UuPXavyakl+v0YayLsvB9vIDztHbO0/T9loDOBZgTNteR9B2DNoaH2SOXps6Xn7s9GIzYV+oYuMTfGigWtqNasEW/0Z89Re3xVW3rpmMh9+bDjg+3nrAk+L4mfvHHl3To7s5Hj0xXngz9unYI14y/9Q4Y8+3xPN2f3F0NbpbuSZ8JZBrzPFBO53XNtkmx6TvvNOGvMht+ZRtUC3SQrTveg100swL4vR5/xFvmn/OXej0Qm8sukN7bp6wziCWMYnfqi9vP/cBtxu1IWvV1rq+ww7IQfaFOw/A+MJYxN4pPOfPI1511l2pxP/Ym+MudMLWJ13tFKyHem1bv9uGMTg++44PDjE3ef/3mMFeG5FzitwW2rUDC8F80GYhmA/YvBOJHzJuD/X4jMHtTN15fLSRmd+xAHiu3+1L2/FvLy401tcZWw44oHwwnxfNwYl3AU8+BrrwldPi+A23xKn7fS8Onn1zdGzZHLFhY4xtWB/Dm9bG0Jb10TGyMo7e7ZJ47PyLo2t1yb+J2oajMVo+fG0o9a3pirGl02NobG6M9C2o3tPnNs3bzjrRyW0DxwOcD/fbrHMOzKG/bYk+XwTzxS8/Pq3fOUEf+Tve8Y740pe+VD2hiMXcb33rW9VnEn7Rjm5Hvu985zurXy+TC6I2a3Y7UidQb1u584J9fT6wA3KQfeGQeuO0I+xY1GWRlw/ePmKQHzM86UlPiic84QnVF0fEYkx8eYMNeuYR/3Zxzes4rA/K2w04NmxsWz+xjIMM2Hd8cAgZpOzomQdHd0c5tzRK3o7R8ue28GaxLfpNI4Px9z//aKwYWhRvf860eObRnbFX/7pYMH1eTO/YM3pG50fHQBnfllkxd/pBsefMeTGrvy+aXfNj5a/HYvnigVi+bCDuuGVjLPrZirjuV8vi8l/eGb+6dElct2hlLLq19fefOhy/bWG9yJiTPD7nSXvmAX+Q49DOY8anu9EZD23sFzPKGXcbcMtnocbDd4+Olx8anW95aHS+/RHR+e5HRuc7J94D/P+OiMbRu0XzpvUx9ndXxNif/yLGP10+Pa0aKkVsrV0c1JwfCxqzypxurcPaGIN1o3Ob0oYDx49ObhvkfcX5cP/KOuIcPfuQ6GV741tqZeGfNrRhaFOcfelnYu3YTXHmydPi+Y/ujTmbNkX3+MScVv/njonxmLVbb8zfa3pMn90TWzYOVzSztBfs1V94b4wxjwUTI4ixoe64/YaBKg/jglOP46ROvrwDLv46BmwcR5YjYx6wd04AXwQ6d/L/uX59rBoo8b1emaDp5U/5nz5qbnziyTPiHQ/rirnlz3v1S7Q2tGV4PP7+qrF4x6XDceem1rxVR0rh2yO3HRxQj/Wqc5s5NnR5uwH0ABvb2OljDufAvuM/ce6z48D+w+PH6/43vrDsP2JtOTetH1sTI2MjkzHh2oOcU17NeZm3H6z5Rmwc3faVDo+c9fjJ2vG1BiAH1p3j5vzmBfhByNzegH7OBZiHHPP+hDUCa3M8jgHItcXOutHpR9sx0Dam3Dao7ysZXFNM33vvOPBZz4pHveUtccJZZ8WzPvOZeEi5Dlv83e/GhsXb3qFBLs5x73rXu6pFqPnz51c/4ON8zY+8WKzgzjRzC2pV5ngkgR7SNtuQFz+gP2ME6m0rd16wr88HdkAOsi8cUm98YSxrAvqik/SnbQ05N4Qs12+9WaefddW3KXqgDzAG8YyDDNhHD+AQsnotcPNDIueUW5c6QFt/a1dmLjmw7hxXf2VCP747cGGXzxMQi70bN26s9ICxYINOzuIvRJ/vHXIOYpM3w7pzjc6p0Ad/dTlW3f/SSy+N5z//+ZXO8WiLndvAeLbx4emexkYntw3yvuLcC76H8TsXv5PhLkK4RD58JPMD2pD7WI6tLTAGwPaiiy6qFpvU/+AHP6iuk7m7FRmfC/2McPTRR1f58APOB2MEtHM9yp0XxuAYWTTnfai8bxmYH2Rf9h2Qtws1PvWpT636eSxCX3SS8dvJ4BCyXD8xiUX7hBNOqB6TzXoPfeQQd3//5Cc/qT4v84hoYugvjEE8c+Qa6WsPh5DVa4FbNyTqOeH3x/FPWxDLeHnBnT61I9Pe60aQ4+Qxw/EBOa7bmT6UazSOsI/OeoirvO5fzw+0xc7cOwN+UMyj0utgn8/EY9chXh8rqIVFYD67sgicx0FbyjU7BvcxfYC2wBigugO4bmg/O+XJQwZHL4f8ULAjuFPeE5DPnOZQJinLoG+Ntu8r8EuYdou/D0hUj4FeGGedflYsPOqkaLv+W/DN009t3Yk6gQvP5J2yR8UZ6XnRvlP49Lu8v/bcOLX2KOPfBPdFnt8oxsSjs785+fLkFk54H49ZvmvM1lydEme/b0fLvxfGmbW8F36PJdtTwlcy71TNE7W17uqeAPp7+G7jybEce+Y2i8AXnrltfwpTmMJvF57DgOeydjyfz/M5GxkcAjxmxDt+/TUmbSjrshxYhzEBHMrnfy5CsKEGzvnW5oUcZN2QwA85UE5fckxAO3kdyInx2H16o7eDPMQsivK/io0XzheGlXv530SYlRuG4o3n/DLWbeb5ry30NDrjxN2PiLce9Ow4+6hXxyePfmucc9Tb49+P+Lt418F/Fc+Y87Q4oK/1PvVclwQc6/b6wL66PF95zr2Oop8v+PBF55yXvWCC8MvtrXTEtJvjybtfHk9bcEWctOeV8ay9r4pn7XVlPLO0nz7/injy3MtjXg+P0tzWb/LLWWJWHHnplW3kGKw5bzf6II/TdoZjgPLYjQ/UAflvC44FWJd1u73oU38eK31lkGPjePIDx9btuXXejG0fyEFuA+yMsSM7Hw3NhxPsebKN70bS35xyaFcf/8Rre/3f1REjTzwoNnfsFZvWzGrdATx5J3Chwe7oWd0VJ2y5IV4/61tx8pyL4qDOO6JzdDBmxup4dP9l8ZI9vhGnzP9OzB1bV/zKnJOHp4JvLPvUhpJ3yfRoru2JLb37xWjvzMkaqNHjzz4cUC9ttxPjd3z24eqB/uryfGU79yf65udLGxZ2+TzCY7Lg5513XrUgyl28vKKGRyIL2jzWmTuAeXcuP1bNvsQipvNuTdYC8YEcnoGdY7RmZII+0AayneF+AxkHMN67I+pi3Cz2cmcDi9mMkbFRCzZw3tGFDbodxSa3PNeSa6Zt35q1dXvRdx4FfWUQvoB8yAF++/fvFfOnc/d5ycVNm6g6ik3519ndjNs2LIn3//QjMXPG2vj7F86OPTuXx5JFa2PhZavjqouXxWU/WxJXXrI8Vi8ZjY3N/ljVOytuWd8RF3/32rj2iiVx463r4sprbo/zv/LjuOQXV8RV114TC2+6Nm5ZekPctvamyTry9pBDu+r452kaxzb2j4PGF0RjrKWrMKsnOs84Jjr/6qHR+arDouMPD4yOk/aNjqftHR1P3yc6Tt4/Ol5xaGshmPcEv+WYclyX7fiJG6J5xyY20kQg0YxHdhwYM9K7Ua0h11vvu1/Yt/76XBHP8dmHqwf6o9uzb37M7ptdbWu2MRZcr4yPlZxFf+3KRfGPl3wyevrvjL94Zn8cWv4O9kV3GVcxLEQZVSXlfzzyecas7pi9e19F/TN6KpnXPBVaJcRo+Zu55s6td+rCuQvBcbodIY4n922Rx+j2RibwB8RtNwcVqsFuS2f+3oJ49aN2j917I56xb0f8v8M6y3UZyvYYKPP07TvH4+UXDsdVqyf+/tRiZrJG6si1uD39G5hrdSyAtn23u7bOUR6z0M+8D5v5uDh25mPjzoHFsWVsY9w+cEt8d83XYvVI61Ekzm07nmPTXjp8W1yy/qIYq/5YtHDgtEPjgJ7Ws8zqtdC2b0yAHaB+ZI5LDt0Xx//9AccCzG09II+5rm/X97iwr399roiXj406embMiINPPjke8opXxIEnnRR7Pfax1V2/R7z4xbFp2bK49TvfqR4LnUFsFmW404hFmje84Q3VnUc8efCLX/xitVCSxwusD1gL5DazNtvwB9L53/hAHch1qM8wBjzriSeBeh3aup1zLdmWtn3r0vaeHP85nzXlmuHa1XmOnX2RWQ8gNsj2gLZ9uDnrdRhT0DYmi3vcLfnBD36wWuSTWBgG5vCu2Wxj30UPFkEA3NoBNWRSlmGN1kwbbp0AmbweJ8+N+nZ99wv7+tfninjYapfj8x0M5HcufifDsQyX0PPdjN/PQHxfA8zNvuaxk+up9wHta6+9tlqAojZqZe6529a6P/e5z1VPGiAXfT4zPOpRj6reBfybHP88Vplt/ba3va3qKxeOgc+i//Zv/zap58fJd955Z1UjevPnOvIYhbVox8Kzcyj96Ec/uksdxmJ+WOTl0fvawPnhKIvoPHWIRTzisK1Y/ONGQH5o+n/1+IcbwztVAecLde4j5KRtjnq9QD9gTuzMaQ7ayiEgF/St0TbcsQNzqwPyXJt6+zsDnpjV7rHPyDO5fsiPloV5DjnkkGpOeKIH41Du/kSf8cAharxHx/8NN9zQZKAEh0MYmKxdAO0B/WzLH6YdgV9/cIDsLPzVCzkBORgcg7Zm6wVuXGXWSh/d5s2bqz9evwlY/H3ta19b/SLm//2//zch/W1icZx76slxVpwR523vkcAXnhnHnv7NOOXsq6K+Rsn7ZE8+67A4+6qnx/eOZSFTnFJk72tzR+uFceY2dmB7tglVDYvijPPq79+dqP+ws+OqbYrbiTzbjSnuZa2ARdWTz4rqsuWoPLcT9bauZ1o4pV57O7SpZZu4Ymdqrtugb22/RWecF190Mu52fjA5NrZZO8413eNtNoUpTOG+xK9+9auYPp27WLf+Ao7zGVAG91wHp+850XMk8PzJBwzOxfkcCdeWPrYQfc7Z/Co15wFZrq0xzAnQAfOoty2wyzYAzq/bBX1zGVdb+0D96oHxeMXXVsfP7xhGyH8Vlf9HY2wkeq77YXR09UeDF+IBYjfHo7sM8UOvfHQ8+aF7xW7TW+9hNY+xrQNsGhipHsXY37f1DuA69NPHtvZZz6/3tXPO0dF2m4O8P2Qg22vo0zFj9IoYHWvGwNB4bBkciz9c+K8TFi2csdfH48R5V0ZfT2d0d7HtW3Kejj0yOh6Dxe8Di18VP9/4iJZiAl896o0xo78r+rq56GzEsr5XxoaOYyfHAGhTr3C/cYx5XPqwfyLPfdrGMYb7Ccg57/b68r0/iDho27FU+KO50Ty/FSPjT8t0feS8ic52wJcbXnR7DWo9js8a6bvNIGDf49uxwf1iFV++cKevnzJsuSY1x46QbWzX/XKfhTS+IOCVFatWrapkGVwHY2scaoFDwliOS71tgV22AdoB9O2u/1kHaH72iph+zg9j/h4ro3faYDS6ynboLNRVlBUvMTrHY6Tsq8MdXTHSKB+IG+PR2yh/AzpHyvFf9Nj2lbxQb4vGmn0xsnZejPb1x8pnvziG9ztkMrf11see6xd5bPBs5/bPsQCcvj627+7451f7LNrznt//+q//qmx2BOb0pS99abXYz2ckFkRzDeZ33oH5gTLHo05fkX1zXPr63N3xzxcujL/ChE0J1uICeSXaKi8ZKl72lopXKCKk7dyBcsbNo9+sqT5G2oyDtnOt3vFlO7cZBJw3x64t3HhDY8Px2du+Hecvu6j8DSi68gcafTlrVw+waIyX46L8O3y3A+Mlx5wS7/nT95axlfnt7IjhMb7Ab8a8uTPjMQ87Igb6d4+Vzd7oLOeDZeddEMuXrImB4dHoKKfArt6II487MHY/uDP6Zkd093ZEZzkZnvGss6qa3GbA8cCt1/ohgQ5gm/W2hfGyXLurmrfHOzu/HIOxdaGp2pQT22q7qMKU/1HDsoFo3rkpGg+dG+Wgr9Rir5gbH2i+MPZozprc56wb0FZujbbheTz1cYHsB8927g851sDYUHz8xq/ED5b9srKrBkrI8bJvlD94jXKxwb+9p8+PFz3k9+P7rx+JMZ560ETKPtWMTRuG4gknHRCP/L09yn7QiMsuai0iHnfCPjE0OBqX/PDOuPRHd8b0mT2t3EXHPtPZOxLv+8xjK1vrZOyce+CgVVMLyhiHYwS03X9B9lWHjD7jBj+7YyDe9aNlsWTTcLCXPWT+tHjviXvHYbttvRsE4P/zpaPx178ciiUD2851HfPKPr3fnnvEukb/hOSu+J9H3rFNfbTzeOrjqrexZ648PyOrb1P3Abc3BLR1LpYN3xHnrfx8rB9ZE3O7F0RvR1+sHV0Zr9j7TTGj0XoaAyBeu+v/sfGxWD56Z3x26b/GbYOtH2+A3o7+eNMB76gWgImhvRxSTkzrBvCcB9Cv2xpDP4AOmEc97WXLV8U5n/xUfOm//nObL5Hva+y3/4Hx/g/8Y+y9x5zYZ5+9K5k1AOeeWmk7JpHljsM23FiZZ2Q/OI9dFWvK9eN3XvOaeOxb31otAmew6PuTt70t1t14Yzzl7LNj1v77T2juCvYrvixm8fcrX/lK9XQLFlm4G0nwLktAfdSUkefD+pVRs8cDyL7KHLe6HA9k3xyXvj55O9inbRxjwJXlnHD7tkHOB+q6+tiMbyw5aNfG3jhAPfLsT//ujn9t4Tmenw/0UwZ3bHDzAOMB5DmH9vIsxxbSF57zAN7DCnhkL9dH/uAAW/0AfgDZiSeeWC2MsACX4wP7LKC5lsCdtbyuBLDox+Ifd8ZaM/bW41whc5zo6Dtv5Mi+cJD3O/c5SGS5/rbhxso8I/tZk3bWlmMBuT7oaN/d9T9AlmPVoZ6n3/BD0Xnz5lUy7nRl0dcnAvGe43e/+93VY5/JxatT+DvNa1N43SWgNuB4rI02MqGddaH7+te/Xt1F6w8E8nawT9s4r3zlK6s7I3lNkbKc09hw28B89RoAnLFlHW3sjSUH7drYGweoR5796bvNIGAex64tPMdju/P5jJsPX/WqV1VPNXJf4H2zfAcgXGA3HsAu53CMPNab8wXgnHHOOedUj/i2BsArBXgn9GmnnRZPecpTKhl6x2dM+Y9//ONt6uEpFfwoxLHjxwK5d4CTlxsq+a4Tm3b+PJ6d8XKNxV3XWc8PCV7xildU7Tw2OH3zWnOuF+T9zn0OEsp3Zv2SGvkBfU9P7alFbbBy5crqKcHc6c4xlkF9/L3jqYy8S5gaqPGeHv/8yIMfimUgb5SDrorihKig7YQIA4K6veBRDkuWLKkOZgqHMljQ5Y/7zoI4Ob6wjmoQhZgEJiXXm4Gcmjdt2vQbLQA/8BZ/dw5bF3nvuvC5I90UpjCFKUzhtwcWgLlTiXOeJ3TPiXDPbZ4TQd22ruPDFQvAyu/u/M85u529coG+HksfdcbPQJ4vZOT40ObdjRnGzHbEUF7HJy/bGH/z/fXBa+WKU/UFaes1vY3ovuGi6Borefj2m3jknLijtat0jzlgVjz60PnxB8ftH488ZB5OkyDfLcs2xFd+cmNcedOKOGLfOfH2Pzp+Umd9IPfbtTMHLAADZMwX48vQTt5u/HsPfjxmjF5WLRgMDLcWgJ973b9PaFt4y97nxNPmXx59vZ3RUy0At+oaK3MyXPwGh8bi/be8On668ZGVXHz9qNfHjP7O6OvpiM7is3Taq2Nzz6OrGnIdtK3d8dXr1IZxYkOb/cExQcpFfX9xjn4bC8B+ISEcp/UBx2StcAiZxxoc5EVedXke1MEdd/4wdE9BHGJn1GV84N+yhdtit9XxoU0goxZqAtlOnTVn5LkBcnxsZxgTHYRvc3A0Ot95Qcy+7OqYvdv66O0bLsd0mUcWdu9Cxb8DKm04KVhFhrMJegv1lTobPTG0YW6MxYxYf/yjYgPvoerZ9hHv1uDiCG3kWUfb7ZT9gHJlcCBHln1F3c4YgC953/SmN01+2buz4Evps88+u/rlMcj7JrGtBeR81q1MOVAOtMt6oA2xsaFN7hxPOV8QVPM8MBA9F12Ecwwff3w0yzmSR913brwhujZeH6Ozj4mx6QeXpB2xanhj/GrDjdFT/sY/ZvZhMb2zN3i189rrx2LTnc3Y7ciOmLkf+2b5QD7QjJ8taXKDaRy/V0f0dbWORx9hSA3OAxzkNqBtzcIxZV/bjhMO8rGgDtktm++MD15/bqzYsjoa1RMsig37b7PwakpL3hgv562u2HPhxnLMdpe/68RoqWePle14e28s6d831vX1x9w7bo1V1y6PYeoZH45p5W/5vP33jP2O2jvmHT4S3XMGqnNHY7wnXvTod1V1AGqibpDH6BiyTh91jjkDeR6zHJ/Jdvn3xcYv4rPNn8ZoY1v/nQahiMeTPxKmNXvizxonlc+/RxaTrTUD6xb1MdGHdsXxf/m6X8e/XveFWD2yDkklbwFf+q2xkPfg//jD6BqdHuVszAhK3IkF4GceEI89cZ9qkffay1ZUng89bo9Yt2Ywfvbd21sLwDN6qh8KEJH9hwXg93/2cVVtfK/CtqEetxPw7wJAThsZdsoBfeQgz0WGNlXsYrNozUjcUurr7uqIhy7oi3nTWvuNcYDnyCtWN+Ndlw3HovXbzlAdCxbsEdP7p0/07or/fczSyTFQh2OxncdNXvpuT9rIRN6ewrlDRh64be2NNzCyJb6z5itx+9DNsW/fQTG/e6+4c/CWoumMPXv3jkfMOr56X3DdH2wcXR8/XPs/cfH6H8a69OjnzkZn/P7uL4qn7vac0t56hzeg7TYxJuNUBpBvz144hqzTR53xxdJlK+Pj5376fl0A3muvPSe3rzXWxyGsW9THRB+6p8e/51iw/pZb4tsve1kc9vznxyNOP71cY2z7xfHaG26IH775zXFUsTni1FOjo7v1Y9U8j4J9jMUA7qbkh758ucy1m7jxxhsn92fqsU5iwYF1InM/yHZAX+AYlSkHyoF2WQ+0sQbauT5IucjHHBxf9LmNDb55W+ccyIA6OHL96duGA9o5DshtYKwsw8+atbdtLjjIY1Mn6Qfq/qJuW9eB7EObOMCYbneR42jPHZEs/nKXJovB6Oux9FFn/Azk9e0J8LHNQhELhXx38dWvfrWSoYPw5YewcOUZyBkPsB5sjJ/zAG0AbeoT2gP9oPv6/C+QZV+hndwYdeSYxqJO5gSfY445plrI5TyPnldYXn755dXiFbYs+GY9dwCzvdn2f/ZnfzYZlxzWkOtQDrTLeqAN+bChbX3aIycva0zf+MY3qs8ByADcOcptYuD7f+X4Z/93wZQ1KBZi8R8eHo5///d/rxaG+bHP2rVr4+STT64WiSF8hW3jsvDIe+P9HM/3CNzNzGItscH28oI8RmTMNYvU2FEPC8nr1q2r7oimFtbNGB+PiOeOa/Liw+IyeTlvsdiMnFr4ITP+jocFaOrmvEabHyvz1DJ+qMB7qvkBQx3OMXD81E07c6ENoK0v0B7oB3H8Uw9/D/le1Ndn8QN6XjXUDs4Lx+BHPvKRCem2YC75gQY/fMjINQC3Zx3Uds0111QLwLTdRtXxhQC4w0EEIRiGypSLbA/k/FFgJZ4DlV8DsfLMjsNz/d/4xjdWMfgVD6v99wT4Zcr1wK1XPW1Ifb3+ewPeqfFgXPzlbs0fnH/P3087hSlMYQpT+O2jfu7yXAc49+XzG22Ik7wXLsrsA8/v4O7O/yDXoL2wDdePGNrRhohhfOS0M5c8dwv9JGwyjFEnAH/5w2bEI/Zi4aYStL7orFKUa4X5B5cBDVftFm3F6Hgzrrh5XXzq+zfGyz/8w3jcGV+P33vL1+OF7zs/nvrWr8Xxb/rveO47z4v/+PbV8dNrlsSGzcOTua2pHer151rV5TY8t7MO5LlF7geeGB8sg9g0SY3RzdEcG92GYmyg0JaWzdjmYlPsxloUFRWf8aE2fptb+sqvULP1mDiQ6wW0rTH3c9vasx9QD3eMEGPUlrx5f7+/YV7Hl48d23xAwC7r8jhoc7ygNx5yZMYV2ChzboRteJaDrMuoxwd1mYu/oK7LcR0fde3K4x+ujnid/T0x9JrjYvO8fWL1ijmxeUN/jI30xvhIOe7T46C30kR/oCbbUmh9V4wunxabb5gXI8tnxYaDjo51T/i96Oje+stbagD0qZcvSIDbJo9X5DGKPBbnDiCznX20tw9yLuQ8Fo7PWz7aeGeA7emnn14tAhMnb4Ocz20Hd6wQ0Ad9rk977ezntjmyH1APn8xTjqW+T30q5rz5zTHnz/4s+stnMmQd666NGVe9Lfqve1/0X/vesm2XxZbRofjkHRfE39381Xj/TV+OC1ZdGSPl79e6W0bj8o8MxVWfGIor/2Motqwci9Gx8fjXK8birT8bjdMvHI2vLuIR0K0xWgewDlGXux0h29s7/vPYnE/j6Y+M9gHT945T93km9/W2zlbkGy82hdOs+s3yN4OF8DkjMXvP0ZizVzN227MRC/bujgWHHxR9e+0d8xo9ccDAaOw+bVYc/phHx75HHhq7L9g9Zk7rjWlNHiE2J/aa8/B4xIHPjscc/Nw4eNaTWrEn4HENgcwdH2O4L49/BvyM5kPj4bFfteZ9r4BfbfGXxya/JI6Px8dhld5aQK5T2NaGPvXe18c/eMRuR8bzDjgxOoO/O+SSyDHBi/no+Fhs6L0txqKc79M1DIvAHV2N2Lh+OH59xcr44TduqeiGq1bHlg0jpWb2x2Kf6+kci/45W0rsrXFoW5fnK8bnWN1ebG+ADhLaG5M2cXLbsXeW/lHz++IZh8yIpx08M/aY0XrMtP4S843s2LkRHzquJ/acVuoj/PaIEtvJJ8ixMAZzIWNhAVS1TdSMLqMuz8eH47onx39vZ188dOZxcevgov+/vTOBtuys6vx+r96rKVVJpTIWmSEhZCCRAAnaQDMHQQWkEYJISyPIYhDBAddSl7a4Vgu61LVU6KbpXraATdMqSKME7CyZjE2CEchUGQgZqSRVSc3Dm/v8zqvfy7++3JdAIElV5f7Dx97f3v89fN8555373ql7b92069q6buc36tKtl9RXtvx9/c3df979HHtn/Z+N/7N/QLxrdnttmbm31necv+58v3/Le+r/3vPJfR7+gpOWn1bPWvvi/uFv7jfIfu0p+9Qukg9SGkcOeegMcpgfO7qxjySsbU/C/uwp+xTqcpiz5od6/YPl3b33sJNOqus//vG67R//sSa2bq3pPXsWxiHr1tW688+vW/7hH2rnhg39vY5P+bj00kvrkksu6f/WykDnj8V8zz/fR8k93XNTuJ7shUG/6c++5QP3BOla5TIH5hTy5TlP3RoZB/QjrcVgXXKpyxye55wy108cHGuLzEuurOVxxWYc9kRrNwdD/fu9/yfSlvHA3O5H2pzjsw/wUK9/XmMC3nnHd7LyrsOXv/zlvWx1vsOVd/Gljbk8/NqZ60MyeAgFeL6Q/dgvPaEz0Bnp1weM1y7k4Af427Wry2HOXu1Pr/85vslpczln8HCIh3TkAMy558EBPMNhbcbzKUE8IOZ7xl2rXObA3AI999p56tlTQj+Sh798HDRviGCNcqnr+e65qcQuqAHH2sI1MDwGzveX65+HtHzU9Oc+97l9PhEPLg9JeUc0D3+J4ec+Hy1MDPcB65nX65937fNci4eL5GDwbmA+Zts3Xw6q694yQEp85OE84TzCxkNQHt7ywJe/I/CPabMu/9iA65u6fKIgc/5xgZ9cwScGGM9XF5GT9fJpUOzN2rVr++9nvvjiixf2kQGYw0cygHP2QxuQgx/ksRHqcphTi/PEfwjDx4SD9uEvMcYBPm5927ZtddFFF+213B/+Qwzj7CfzuA7t3/X1f91113X6fRuDNNgNBJ442PC3J0A2CIjXz+Dk90Jkbj1OQA74bbfdtvDOYU4OnqID33VkTOr2kqBPe5Gbtb+fdwDzL2Pe9a539SfigYT5d/jWoh8DPHwH8BBDDDHE/gnfAZxo77ctvP953/bFp7a8d2JjqGNHwhEP1/3ffEhqkNda5oPrO4DNa7wckT5hDHjmhzfUVZvovZt0/4fk3b7L1n+plows5ZVxFzBv6xVy9fm6HL3e2Rfm6kxn+3cH//dfubDWrOLtg/N4oH6zr+Qp+WiYluPc/ZYLPK5KfMsnr6oj93yqpmcmanJqriYmZ+oV/zL/nTvil07+23rusTfU+NhcjS/pXjx220/KLkVNdb9DT07N1n+6/mV16ZZ931n7qfN+v3uBXjXGYR07ou5Z9bqaHJl/h3T2aD8CG7BX+xeuSd4g4DfWPAD9wb6GpI48gc813TsJbLixnnj8Xj1w95aqLTv2ThYBr1vtCdi/a89ePd9znep5/hs7CMYn+B64FnLI3WIxn70shtbPv9Rt+8HP3PH9Xv/GpG7sPpiZq+lLbqjlH7y0xu+6p5av2lmHrJqsZcumurzdyTxKnW5PGbzjt3/3r5IE3TGYHa3Jnctrz5bDanZ0Ze15xsm15Q3PrdFj5x+mUtP+gf0gcx+cexzhuDZgDMN1y5eb+bC1dRjYQMbr5yO7/+AP/qD/F/MPBL4HmF+4+cOBOc1LLmA9gI863lfSDpjbg/0IufZqjMCPTV4L/uX/aPd73JHd72HLvvrV3jZ51lm18RP/q5Zt/rtadcMf9u9mnVuyorae84e14dCz61du+Ehdu/P2nvvjRz61fvnkl9XdXxipb35oun8n8NJDR+ppvzJeSx8/Wj/52dm6Yet8Tz9x8ki9/9+M1tLufOEPF/bqOes+oLseYP/6XCe6sblO9cyhLeH8gzd8oj6/4Z96fn+b6k5tPtGC6QiXxMxIHb9xos4/7cQ6pv9ov/HaMz1S22fW1NbvjNTOeyb7Bwsj3c/78fGVte3bN9Xs5s013uUf7eouPXJt93vy2XXKKSfUTPfzf+NdW+pZP/Lshf4f6fu/MTzovm7kO/XfRr5U18ze0V2f951XDwU8/H3p3A/1D4APmVu2UMfjxRyd/pgz6BcpjEHmPjjPeNcGjGEsdv0jeZj/0W99pv72li/UZPEOSQ54JyjD8qnX/W/lp4+tdRvPr5XTR827Zudq25Y99dyfeHyd8qTD6zu3bqvP/MV1nW+kXvHGM+qodYfU9d/cVP/0udtq9WH8AbhbRxc3tnJ3Pe6MHfWW97ywm80fI0Cf9o+NfeAdm9jSDph7jni+CLnYPPYJ/O7DYrB+vz9789y+Y65+6dKJumoze7aXGOjfAdz97FgMn71gw0Iuj0n2bl+AP/ah2wec7Nnjl2vBJh9JDWxI9cyB7YadV9eXt1xcY915+tXtX+o49+3jdwve+XvislPrZ9a9vX8nsT3RB6AuQx27vQh7Mo712rd2dUC8fsYDXf8bN91bV1//7dqydcuC/eHAsqXL68i1a+qk446uY489ZmEdwLr25vFi7n4xZ7g/whhk7oPzjHcfwSmnnLLAnev8t3/hC3X5+99fe7qfw2tPP73GedfuXn8XXNtuuaXuXb++jnnqU+vJP//ztWnt2v7deHxSEPnnafPHjcEf69/85jfXC1/4woW9x//tb/NO8n3XDOyVuT5gbuwL/XZ+uI/G/R9YH2kekDowD8MezGtdcwHj5aNnnDHsJ3Zj0eUD6+pDYkM31nxI9cyR9VoYvxiMNZfHSZt9AGzWQXp+wxHmMS6vf3734aNm/Zv9wwG+A5h31fGgmTeQ2Z9rEPbmWumPe1Q+xAP44Dya178xDHuWL1eOfOfWYWADGa8fab/yMh9wbmzmBNgB9oyFO7z+52PR5QPr6kNiQzfWfEj1zJH1ErxrlO9kXuzdroBYHpby7t4PfehD/flvD/ZEHzxf40HqX/7lXy48TOX520tf+tJ673vfu5CfGOvyMczPetazFvoG/jwQuS5iuQZ5iMxDXz5emnsQz9I++tGP9h89Trx1XZf74J7wqRbE8wZM/sGCaxA8QOZnBG9Cpa49tK89gPvwcF3//CMVPrKZh7/6B4H9BJ/5zGd6mci8fCQ7zx3bOpnbPpXy6Jd/1MH3iQPsoM+1fv36hc4yMTAxc4Y/pBYDHGIcFMbmD4lsGrT5gTa5zFs/efHrE4Pm2pD08P1+BPSBhPkHu3yu/hkP+B2wwwfAQwwxxBD7J/IBMPcx7n+DXnBh54UW9vQNuid6b+Y+KpzLhweYMx7N+/+xxx7b25mTC6lPDJon8K3fNF2v/6tNdf0WPj6wN/Z/LF2y7c5aesd1Ncr3AI90vwD0sd1A7tUXfwA8V88797j6/Tc/u9au3vfBomt4INhzy+MPO9jcO9edMH/KFhlDjtf+9ca9s3m84/zVdcFx898B2J4PHvM/uWxHffWOib2eeXz0FUf0HGKowfEG1rOnrC/kAo81Ers9GJ969ogtYQ5+CXikwR9BPD72mTqDa9N1s6/q9Oy6XL9z4nOdzPlljmuqtb/1rW/t5XcDY5OPbbH4B/L50VFyHKwF2yP9+n96YqqmvnZ7rfrPl9X4DXfWyNieGl8+USsPmaoVK7pfBke73KPdz0+ub3SeonQ/1mZmRmvn9uU1sXNlze5Z0WVcVjtecFrt/rkLavSYQ2ts77t/rWkPrE1b/lzWh2yReZIvF5tz925QLnkpW2Dn+5R+53d+p/9Htgk+cuu3fuu3+l/orQPM5fXvnAHHY+Acv+czOsCH7jwhF2Qe8wLjU6cX/lX4aNfXqg9/uA77sz/r/du7X/q3/eIv1tjOa+rQa3+nluy6taYOO7u2nfne2rHsqPqz2y6uv7/nihofHau3Hndh/diRT63tN47U1/9kunZtnKu1p4/WuW8bq/Ejq3738rn6xI1VS7tz4lfPq3rNaV3t2Zn+X55TH9gL0t5zvfrUGV4HAL66OTIuc6ELOffu2Vof/tYn6ysbr6jZqemagz/d9TDGidzxuv8O3zBbr37KC+qcJzyppmZH6+Ytu+qqTbtr+9Rcbd2yuXbv2lVLV6yssYnJmrnm6lq2e7Kbr6jdO3fVzNREnXbKKXXkkUfV7MxsHX30uv77xux5ELJnBscS2w/6+h9ZMlp3zN5bfzH7pfrKkuu75d7//PpusLy7vn+6frheUufW6pEVfW769Bq2NtCXNnrUru0Hef0Dc2zes60+fOPf1Bfv/FpfF4zMdRzo3SHhO4HrstE68brn1mG7T67R7jXM3Oxc7doxWec983H1uMevri0bd9c//8Pt/QPgf/OjJ9Zhhy+tm6/fWld+9e7uZ+N49zORmnO1fO32etqLR+slL3/m/a5/dGzcg/Qh8ftHdvvD5x61kAsyj3mB8alzTqU/QX937Zyu/3jZVH3hLv4hz751j+ofAM+/M6PFEbW7PvYMPmb7vv4BvfszSR3Yi/viGpKHlIfvoV7/22e21r/u+Of61N1/UZOz+74GezDwnb8vOuJl9cw1F9aqJYcu5KQnatCHcI4E8ABzhmtcDHDMnzUe7Prn4x5vufW22tH93NGGhMZ0nj4f01m6udcUQzu4/9z4eTlSqw9Z2X/8Mw+UPAbkSsk6XUv2Kkcb8dq1GQsypgU2HgCzR2JmcrK23Xpr3XX55bX95pv3OTY9yNMNYk++8MIaP/XU+sY3vtF//CX3JvYZH+8Y4h1TJ598cp3acXiHlT3B4c025sZuf/SaNfF5zOEwZ8Chb6Rz/K7FfOZ2nsh1Zx7zAuNTzx6xJcwh7NscxhpnPZA9tnrmQW/t1rXH9KkzHur1b7+AOT3neQa0H6y//6efvPj1iZwj5VjbflgHep7bKd3bzJccbZlfWx6XjGmReZIvt81BrUG54JlL2SJjyAHIB4wD1hH4co+YM9xLpHP82ID5zO08IRdkHvMC41PPHrElzCHs2xzGGmc9kD22euZBb+3Wtcf0qTN+UNc/D0pf8pKX9A9Kn/Oc5yzYWUte/75j/vd+7/d6CcwJFw6fGsFDVR4Sc5+gL+7H/MMhHjjyINZ83Gf4uOKsm4BDvDV4LYeNnliX/fCPRXhXMXX52wF18fNOZT4Gmro+YCaP9Y1///vf35+X+gD5fuM3fqP/9AseZAP7MA810Ill/Xlup/QaNtZccrS5VvMCY3nw/qpXvWrh02MGgXfRv+ENb+j/4XX78c4J9u8Tn/hE/6nD1Etkn9lbArvfAUyvgN5B/wCYSW6Ic+AinYOF4K5YJoRnbNuMc6QbCbAZq10eebxo5JkTmz5jQMYD/PYL+Dztx8oD4CGGGGKIIQ5sDHoHcN4P2/ui97v0eZ/0vojNeyWc/f3+zzuA9WWcXO0ZD1IHnbdu2TJdL/7IXXXXLrhYuxeYNVvjt19Z49vvrZElvBOop5NwfhDZ693aF+bz+nmnHlX/9V3P3+fhr/2ItscWydd/991399K5xybXlPufdnSGdgZgvmPqvmMIf+XS0f67juUZBzwmOydmapa3mHVgzliz4r53wdgHaOOV2IjD77kGmLewBj5kcn2RrQ9Jbs+7B/0O4IcBPAAGeZ24RnpK2Kt7JLC5Nn2uswV5kyvHfQbpsw97wdbunf06B+jwcl2ZHz6QZ6y5hXOkvQDrp10eeR7q6/+pqemauGVzrfrA5bX0spuqprtfjEcna250usaXzdT4WLd3ox2XPxLPkGusZiaW1ujseD+mDllVu192eu1+7dm17Ij5hwb8QptrT11QH+QaQfaY6wD44Avj4KA7h2Ns2kBrR2doZ/AL9p/+6Z/2v5wCfvnkXeP8Ak6cPAbnAnAd5PEcYM6wH0b2Tzw2oF2udTzXAPMW1sBnLcDcjzkb2bWrln3tayy+Jrrf6fwO4LGdN9XYjhtqevUZNb3ypC5otO6d2lHf2HFLLR0dq6esOrlW7v0O4K3fmq2dd1atOW2kDlnH2qs27am6/K65OmzpSJ13VC18BzB/GKEP+hGsyf6x53XiGpMPXE9rx2Y+969f5978CWJ3TO+qj9/8ufrbWy/p5yPT3Z7xg3wafjffPF0XHfejdf5JT6ktO3bVN++8o66Z3F3bdu2ue7ZurD2Tk7Vm7TG1bHKqRrufX7Ob7u7WOdV/6sMRa9dWd0UUzwSPPOLYetPP/fzCp3Bkbx4Xjy3ykbr+753eXp9ackV9du6K2ja7u+b46IrvCiO1bvbwesPYs+sZM4+v8bn5P4b1nr21AfVdK/LRuP4Bc8a9U9vqz2/4dH3lzq/W5F7b6GzXL6dcFzK1YaLWffnpdfT2c7s1LZ+Pm52rFYeM1fhSfr535/q27udg998hh47XWFdzojvYu3eyx/Pn2cjYdK09aWv99C+cXccce/TCOly//TBnfzjH0bN/dH9+eD1ggyfX46qvBTzq0BPSPMyJRZoTST36g7t5oupXL52oL2+Y70HMPwC+/zuAZ2em6n1n3lvnHTF/zQJzq1MPH31QQ2DDB7C7R4A+Wz5gTs7Wbk3yWRudMT03Vd/efX19fMOH6s6p23rfg+GEZY+vVx79H+qUFafV+JKlfT1rkhPdWh5Le3C/0eE5B9kbfCDPWHML58hcOzbq8rMVSbw88jzQ9a8va2UdgN9+AQ9HefcQfq/nzJux1DcW+YO+/nmHLr/XZXxHnM/byfui7w/yd4ELPQhrkhNO5obLx03y/ZDG2ZfSod91MPccYM5wbxl9P3vRxiuxWcdzDTBvYQ181gLGIvUh7S9j7CHjkcyBOcgH7BGYQ52BL+MBNnwAu3sEXGPyAfNBdutbC1i7hZyUoF2DPutZExu6HPq2X+cAHV6uK/PDB/KMNbdwjrQXYP20yyPP93v9k8N+AXzAWh/t61/gsy9gnJzMaWzaQGtHZ2hnAObmAfCNk8fQ7zqYew4wZ5jHnKKNV2KzjucaYN7CGvisBYxF6kPaX8bYQ8YjmQNzkA/YIzCHOgNfxgNs+AB29wi4xuQD5oPs1rcWsHYi3wHMg9jswRz8jscD1k9/+tP9pzpZz5rw0X0Qy7tyeVgJj0864vdCvueXd9PCY13UzXfokgM+oKYjj4PIfvhYZN/Na134fI8xX7HKmnggyvXmw2M++vvDH/7wwgNeavAJeXzvL5KvlPWdwa4NuB/Cfh/u65+PguY7i/O791vwXcc82OXdv8cfP+Cj5/bC7wDm93V7zfWB1o5uj8hrrrmmfwDMPPdk5Nprr+0jMBJsggQJBH7nSOYW0c7czZNvXnltHef2AZLLQAdtrAvSj3SBCeI4uYcPgIcYYoghhjgQwANgvlMi74Xe8/JFivfFvA/mvTDtxuaLX3O3MA7gzzzMyYWuPfuSb155bR3ni93/jz766F4Hbawc/aDltID77z+5qf7xlsnaPsH+dLVqrsZuv7LGdm6p/s94ex94zv8lpstPzr0PfbsdrKNWL69nnn10/fbP/EgdunLxf+m3WN9Cv+sASN4BrC19gH3yF2CRXKDO8Bgl8rjB9bjJB63f8y7tSn2D4pzrw2aMc/3m1CYPmX5H8sCj9Q5gegD2B5D+IgjsEWDz+oPnGvhFA4kPmzz9DGys+7Fy/TPQQRvrXuhHMueBx+T2PTVyxXdq2Re/XeNX31VjO3bXyI6JqqlpmN1/XT5qLF1WcyvGa+a4NTV51jE1+cwTauScY2vp8vnvn3T/yUs9dWDP+oQ921f2CFq/6wD49KcUcB/q9e9H9T3taU9b8MOF4/U/6Lx0febSrsz+2zjn+rAZ41y/ObXJQwJ+qZb7SIG95o8R7At7BOwTuG6Q9lxHC33qDGLJjzROnn6Gew33M7d8sT5z55fr1q0bunO5y8c2wZuereU3ztS6LatqxfSymlw6VkvPe1pt3D1Z92zZBqX/7qzZ79xR26/4Ro1u6+5742O1u/Of8cRT6wmnnFSru9cdj3vc8fWc5zx3oS/6sOe2T2BfSPlIIM+5cJ7HObkMdJCxsyNzdePI3XXp3PV11dxtdffI9to5sqcm+Kjc7l4914WMd3fzpd29fNXc8nr83NF1Tp1Y59cTat3omv7dzfy87XPtXQdSMKenR+P6B/jkISdnp+qLd15eF99+ad20/baamJnqyB2vG3NT3f9duaSOvelpdez2HyJJnwM/+wB6gbnPt3eur7OtPm5znftvl9aLfuyC/hjaH7XpDZt7Yb9KfQCbcckH6NjwWYO5fnMaJy/3xnwZq988v/u1yfrfN0zXxN53Au/zDuDu3Fg9NltPPmRn/cyJu+qUQ+fzcZ0D6qFzbpC/tQH7AHKAdkeuLYHPnuW6ViQ+7eq8A/jK7f9SV+/+Wt21+47aPbereyU63b8s5XuDx2tpnbD8CXXeoT9Spx5yZv/xz1lDiY069k1/1GS0MA64NoBs+wTmRso3r7y2jnP7AMlloIM2lhh7AEjmLTKH0l7V21jm5Gef9DFPnj3rE9ZjAPML/uEVP3/9o/XDCWrzD8D43mD+0K7N/uyfvWCODlp/7rV2pb5Bcc71YTPGuX5zapOHTL8jeQBdZF5gHmweU/Mz8npA9zxubcA8QA5IO7LtQehTZxBLfqRx8vQz6AVb9ocdwFMa61xpbK7X3C2MA/gzD3N70559yTevvLaOc/sAyWWggzbWvdDvcQLaQOZQ2qs6dqRgbj59zJNnz/qE9RjA/KL1E2tO14hPnjYAl3tR1ksuyPxtbaCNAZc5eyEftH57TLsy+2/jnOvDZoxz/ebUJg+ZfkfyALrIvMA82Dym5mfk9YCe11fagHmAHJB2ZNuD0KfOIJb8SOPk6ecf8PBOXD6i+XnPe95CDnyA7/Dl45Z5sMjDX/w8vOWBJA9LAf/4iO+Jv+KKKxYexPoPo7hP8CA23wEM2gfP2OkFW+bl64b8WGfy/fqv/3rfD3a/YsiPp+YdwPyDXuvy4JkHnfmA+T3veU8f78Nf1yng8PeX173udfW2t72t79s9SRDnWpTwHo7r//Of/3yddtpp/SdsLYb245/J2a4N8KldN954Y/9VDoI638v1f+WVV9bZZ5/d20W/Xh4AQ2DCRrBQkjqXSDLnABsg1ibkGZvNAOdIYpDA+mmXRx4XKs+c2PQZAzIe4Lff4TuAhxhiiCGGOFAw6B3AIO+H7X3R+136vE96X8TmvRLO/nz/X7duXc/VB4yTqz3jQepA3u6pubr8OxP1N9furr+6ekftnO7W0bmW7Npc4/feUWPbN1XN8M7B+T/48QB4rutv9dLRuug5p9XLnnFKnXnS2v5dUuYEWTfR9tiizeEDYOfAY4M9baC1ozO0MwBz8wD4xslj6PeYMPccYM4wjzlFG6/EZh3PNcC8hTXwWQsYi9SHtL/XvOY1/S82jxR4kPaRj3xkoZe8Tjh3vRYYwvWkDcDNXzaA62xBfHLluM8gfdazJjZ0OdY23nWgw8t1ZX74QJ6x5hbOkfYCrJ92eeT5fl7/M3j6MbFlV81u2ll15/YavXNHze2Y6B/+wBsZ73rle7uPWVUjJ62psbUra3Q535k0ss+/+kXm3H7URV+zQ64R2BfIdQB88AXz5JsHjrFpA60dnaGdAZibB1hH6eBcAK4DvucAc4Z5zCmIN792udbxXAPMW1gDn7VAfqTlIwXOMx4Au076EdjsB3teJ64x+cD1tHZs5nP/0AetFxv5eQi6Yefd9dVNV9aVW79V37xnfe2Znuzf/Tl770SNXjdZJ2wbq2Xjh9WRZz+p9nT3s62bt9bs1GStPXxNTd27tbbcvKGWj43XmsMP73OecsIJdfLJJ9TSzvbEJ57efwXD/nz975mdrJ2jk3VP7ai757bW7pqs6ZGZbg9GavmS8TpkdlkdObK6jpxbVYcuWVlLaj7WNWVeawP8+ADykbz+gZzMOTUzXZv2bK4rN99Ql228qi7vxp6ZifnjvXm6Vly5tk7b8MO1dNfJfUz/AHivnP+YZ/L1Yp8HwMvW7KxTnz5Rz/uxs+q449YtrM11uH7gnP3pz8FOz/7RsQP3GBs8uR47fS3gUYc9QJqHObFIcyKpR3/G7Ohe3/2Paybqv1w1U5Pdeo8+5thavmJlHTa6u151/J46c/VUnX34PJd8wPUAc6vDwweHGgIbPoDdPQKeY8kH5B1ktyb5rI1u/sRkTXRr3FbdT6aam5nrrt+VtWxkea3oZMaaj9zUsyY2dDmu3R6YA3R4zkHmhw/kGWtu4RxpL8D6aZdHHs8TeebEps8YkPEAv/0C5sC1gsybsdQ3FvmDvP7x8450Po6aP77byw8a1OKP61u3bl14pzW17N2+lA79roO55wBzhnkY2X8br8Rmndx/5i2sgc9awFikPqT9ZYw9ZDySOTAH+YA9AnOoM/BlPMCGD2B3j4BrTD5gPshufWsBa7eQkxK0a9BnPWtiQ5dD33luuA50eLmuzA8fyDPW3MI50l6A9dMujzwP5frHJlddMAd5/mVeJDkA9Y1F7g/3f2PTBlo7OkM7AzA3D4BvnDyGftfB3HOAOcM85hRtvBKbdXL/mbewBj5rAWOR+pD2lzH2kPFI5sAc5AP2CMyhzsCX8QAbPoDdPQKuMfmA+SC79a0FrC3yu3if/exnL3D52c6D2+OOO65/dynQh7SeNbHxIJaPTvadufTLp0SY33cYE+N39FrXHOQF8BzsAV9L8Ja3vKV/CMrHPpMDPvLLX/5y/2CYh7r8Iyjq8jCZd/TyYJu6xPNAmL/9EU8djzughu8QJidfc+RaeNDsOt1TYb8eG4DfvPYIqGEs8ru9/nloe/nll9eLXvSihRoJvnv51a9+df3UT/1U/8B+MZCfj+nmmSW/g7mW7LFdg3Z0e+QdwD4AZr6Qh4+AJsBAFvxwvuBiAzlo1DGO4cF4oBz4GOgZY16kfWRuQb7hO4CHGGKIIYY4UOA7gAH3M+55gPsZ9zlk3k+Fc6T3T4DNWO3y9tf7f34HsDH2hk2+c8FcGNvK3VOztXn3bH3kmzvrE9fsqtu3zdTUTPciaa7LN7WnxiZ31JKZyVozPlNvevaJ9dqnH1uHrRyv8SXzfVjPWuYVWW8QMg4437BhQ79PAB/DdTLcV0CM+6VdrvXdY2CNhDXwWQsYi9SHJHceR6Q9ZDySOTAH+YA9AnOoM/BlPMCGD2B3j4B9Jh8wb/MA61sLWLuFnJSgXZ8+7Y62FteC15NzwBrgOwfuF7GuVx6xeRyEc2sjgfXTLo88B+Prf+bT090edulnZzt/l5v8xHck/tfrS8b4vsb7r8W82kBrt552BrAOEtib0qEfLj7Xhe4wjzlFG6/EZh33CzBvYQ1zJde9ZSQnjyPSHtCzD+bAHOQD9gjMoc6wD+2Aj/F8pEEP/IGFfuwLqS/XoM++c03octg7j4lzgA7POcj88IE8cnDeTs/O1ER3n/rW1tvq2q031eUbr66btt9e22++p35yYkutXHJaHXbCebVk2SG1Z9ee/jsnV/ARZbMjNTUx238f8OrDDu3fTTq1Z6JWrljRf/LGE5/4xL4edff365+HmbN7ecD8/UPQ7n6+ZHTf85V4kHzg3D7kawOtHZ2hnQGYmwfAN04eQz9cfMw9B5gzzMOY69Lv6Y73xt331tVbbqx/uuuKWr/127X9+h3177aN1q47nlH3bjyj248VXYKuZ3L02fptouFudD2MTtfqY3bU8WfO1jnnP66efO6TFmrN0+67/q2PdN9dB7I/Bh0y3mMNXCvnEcBnjLnVrZvxwF4AdnoQ5IVvnu6lXf3d7WP1qTvGa8f0WF24bqpec1J3bo9111eXwvquB5Db3hP2I9ce2jXos+9cE3Pz0Hf2iwTo8JwDc2Rv8ow1t3COtDbAZmz2hCSP17g8c2LTZwzIeIDffgFz4Jofzb//mUeefnTQzu1DvjbQ2tEZ2hnAukhgXSR2Hv7yEJh/2MS+GPf9gvwcL970smPHjv4hsLkH1YDf9gaYu7f6kKwnjyMy12g8kjkwB/lA7os51BnunXaADR/ATg/CcyL5gPkgu/WtBazdQk5K0K5Bn/WsiQ1dDn3br3OADi/XlfnhA3nGmls4R9oLsH7a5ZHnQLz++RhZerMPc+MX5DOPPCRAB+0cvnuQNtDa0RnaGcC6SGBdpUO/PTL3HGDOMI85RRuvxGYd9wswb2ENfNYCxiL1Ie0vY+wh45HMgTnIB+wRmEOdgS/jATZ8ALt7BFxj8gHzQXbrWwtYu4WclKBdgz7rWRMbuhz6tl/nAB1erivz84DW7wDmnbLG/tqv/Vrv52EpsBYy12595uS66KKL6o//+I/71/nk4fti3/3ud9fHP/7x/r4EH7R1tVvHHl2XDzbf97739ZLrk+uUT6DgYfJrX/va+qM/+qM644wzet8NN9xQ73rXu+pjH/tY/zCad/4CHmaTM/eFesSgm/eSSy6p3/zN3+wfAPMd+HDsERDvPmBXAnTQzj028rWB1o7O0P7Zz362TjjhhP57+JMHLr744v54vfOd7+zf8dzmUb/55pv78eIXv7i32Y9rEdYF2uUSxwNgPhlPH/xe8g5gNxGgE8CwEYMsoD19Ap9+4IWuLf1KucyVDJunhnz9xgj5KbXLRQ4fAA8xxBBDDHGggAfA/Etx72V5b+Ne194f896YMfC4HzNHd34g3P/zI6AXQ+YU7bzFIP8gGz24frFYrbQ/GAcJki/uvPPO3k7t9BunLpzr1wbyOKQE6L5m0p5rzZjsAzg3fhAG2YnLPc3cStetD8lgLfhA5sk68tUzHl175klfW3uQLqzPtYNMLrC3vM74Q4gx2PDnurADj1vmtDaSHNkrsC7IGHjkY47uPPtCx2+MXEAtoD19Ap9+YP/a0q+Uy1zJcC+pIV+/MUJ+Su1ykebR7x5gdy1IawO47Iu8QbmB87SnjnQtSPac84C5A7sx7fpB1sjcwLl+bSCPQ0qA7p61fJAx2QdwnnveYpCdOPcZZG6l69aHZNAbPpB5so589YxH15550tfWHqQL63OOIJMLnMNzX73OtOHPdSndn8xpbSR+uGlHF8bwaRJ33HFbdR3WqpXLa/nyZTW+dFktQy5bUV0nNTE1UXt2TdSu3btq+7ad/TsJuO+2vZiToU/g0w9cr7b0K+UyVzLcy3Z9xiXkp9QuF2ke/XlduxaktQHcR+P6TxsSZI3MDTJuw4a76l+/emNd/f8mamLb0praPVYzU909Z3r+vjI61v3cH+/qL5+qQ9ZM1pMuWF5PueDU/p2/wGMNyAvaPoBzz+FBIK4F+d1TAMea5vR60oekBvuGD2SerCNfnZzEtnUyT/qwG4NMv3Zhfe/pbS758LzPetzhuXe5LuygzZG1kdZKO7rIGGsxR3eefbluY+QCe9GePoFPPyA/0JZ+pVzmSgb18FFDvn5jhPyU2uUizaPfPcDuWpDWBnA9xsZrlwOcpz11pGtBPpzXP7o2kMchJUB3z7QzFxmTfQDnuectBtmJc59B5la6bn1IBmvBBzJP1pGvnvHo2jNP+trag3Rhfc4RZHKBc3geB68zbfhzXUr3J3NaG4kfbtrRRcZYizm684P5+jcWIN2v9OeeaLM2gDu8/udl9gGc5563GGQnzn0GmVvpuvUhGawFH8g8WUe+esaja8886WtrD9KF9R+p659PcuDjnHkQyztx4a5fv75/ty3fg+s/2ATGZH3rOueduLfffnv/ccz09aY3val/By4fpSwX8PUB1s0HzwnqMOjnzW9+c33gAx+o008/fZ8+1HlAzDtlP/jBD/axvNuXujwQ5WEwfeDjAbGxgH7ohe8v5h3DgD3hXcv0zPcWy7UWQGYPoN0TbR5HAPehXP9c3zzM5qE5D9ITcKhBrcwBjOchOe+Qfv3rX7+wz1lDXTjXrw1885vf7L8DuLV39e+7eBjozgVzoM25GwaMYZPcKG0uMnOiM1gY/vS5KGNyDshvPMDOsJ/MJS/5QwwxxBBDDHGgwHtX3nO9P3Kf9R7IyBdl3hfh8ILEezHDufdpczkXzIE259mLMY/E/V8pnGeOhLWEc0abSySH0e4J+mKxouUbkzLhHJ+53TugND5H5lQH9N2+XjKnx8+1YZMP5KVfG4PzR93jKLApHYBcAps96bdPcrX9MUdv/9BqLDCndueMQTWU6saYnzEI5gLoxLNv8M1jHfq1H2sZ57WiDz7Azv6Sz1zAWKBdjuNgv/7JbzzAzrCfzCXPAcd6yOxRWDe51FQHyOxLPQFHHpJ4dCR1WXvGYQf4GMAYoDRnjqyjDsjT7lf2AdwDbPKB/aXfWMbw+p8HOvHsG3zzWIe90WYt4+Aj9cED2M1nLmAs0J45GNQTzInhQe5ZZz251h61rrbtma7te2Zq6cpD67iTHt/5jqmpycm6e8PdtXHjplq96rA655xz6phjjulzkB9kbyB7wYafnhnU1QaPufEAneF5kz64Suw5B+Q3HmBn2E/mkueAYz1qZ4/CusmlpjpAZl/qCTjykMSjI6lL/YzDDvAxgDFAac4cWYexbt0x9cKXnl+veOMp9UPPn6vHnbGjDlm7o8aXzfQD/bgzd9bTf3RJvfYXzq4Lf/wZfQx1WSuwNjZ7VmLnnVzoDK7J9rxTygHmBvhyzYA5/XteAPeegc67PZCMdg/JY7x1zSnPXHCwpw6HYX7GIGRNdOL5eQiffNZl5P0fHsM4eEh99ACwk0u/dvII7ZnDPIK5/Qzv//te08jsUVg3uR5XdIDMvtQTcOQhiUdHUpe1Zxx2gI8BjAFKc+bIOuqAPO1+ZR/APcAmH8hLvzbG8P4/D3Ti2Tf45rGO17U8hnHwkfrgAezmMxcwFmjPHIzh9X//Oo6sh8wehXWxyaWmOkBmX+oJOPKQxKMjqUsvGYcd4GMAY4DSnDmyjjogT7tf2QdwD7DJB/LSr40xvP7ngU48+wbfPNZhb7RZyzj4SH3wAHbzmQsYK7DL4YEh3w3MOz0dPHzlo5HhLHb98w5bPqb5KU95Sv+6H50HqYJYYA/EAtYlPMfIySCGfl7xilfUmWee2T/EVfLgFi7vDD7++OPrvPPO6wd1f/Znf3YhP59aQTzrIM418U7flStX1ic/+ckF2wUXXFBvfOMbF95NK9BzsF73GUmf6oL6LZf1qQOkfSLVE7xOvfDCC/uP2ebd08LYzJHAxt7x0c8veMELFvZZrnE5MmfmZX0eGwZgHfj79VxzzTX9dwADA5PsBpGERpwDJHPs2QSJOQmcI9sYeaDNmTHog/wugrkHB2hbTOekGr4DeIghhhhiiAMB+Q5ghvc+7rG+GMaOTThHAnR4xKYtORmjzdyP9v3fj4BOv8j5g+lIoL4YV3yv/vSBB7MNilfyri0gB5mvdYS5sPtiDx27+YA88w/SRR6TzAGM0eY5AMylBMk3r7H2DLTDbfPDs86g3rIeMJf7lfmYe36aF+iHu5hdqQ3Z1gba5ZlLm2uhTq4fP4Pr2mMJXDPD640/wD9Wrv/WT6w8jzHQtpiObHsGro+5/aE7sgd8i/mxC3T6Sp98c+QeuCak5wSAr8y1CmKAcfDMxTBenvUH6cI8IHMAY7TRO3sHzKUEyXcvjM21aofb5odnHXMAeVkPmMv9ynzMH+nrv411LerAGEa7TnWG63ks3f9bv3vA3GMMtC2mI7Nn41wfHPtDd2QP+BbzYxfmT598c+QeuCYk/cADKXOtghiQceZiGC+P+WK6aNebPnLbL6Am5yEwF36R/OxPH+eKuv20+Tk21kHqk5f1gLnI7XlrDJJ7J37zagdwF7OD3A98bW2gfbFY5qxFHaDjZ9izddQZ5IQzvP7neXk+aFtMR7Y9A9fH3P7QHdkDvsX82AU6faVPvjlyD1wTkn7ggZS5VkEMyDhzMYyXx3wxXbTrTZ8x2uCyd8BcSpB88xprz0A73DY/POsM6i3rAXO5X5mPueeneYF+uIvZldqQbW2gfbFY16IOjGG061RnuJ7h9T/Py2siY4lr7ebLnoHrMy7zaJOLbzE/doFO/fTJN0fugWtC0g88kDLXKogBGWcuhvHymC+mi3a96TNGG1z2DphLCZJvXmPtGWiH2+aHZ51BvWU9YC73K/MxH17/87bkZIw2c7OPbU/a6cE4/PB8fdXmoz4x2NFBm9MYj8Egv73AYR/MZexiOtIe0+/6mOPX58ge8C3mxy7Q6YuPcOZh7tOf/vR6whOesNDrIJDn1ltvrUsvvbSe//zn14knnrhQF+n5nLAmdvzw0LNPPtabB/Ag+1zyjne847c1MlK3mHZgcROAjLUo0D6IKx+oJ5eD4YkCjNFmX+gZlzYAz4PD4PPH+ZcGQwwxxBBDDLG/g++CXb58+cI9Lu913ueQ3Ofa+yJQ996tHz73WW3y1fen+z/fgZz+Nj7t6PoHxSSnjVN3aBsE/clVT5tgnhKos69tfb67yznw+CqzXos2lzFpc4/RB9UHxgDt8pIPnCfkyxFyPcesn1z0tmfWoY4PSQ7W0tYxvs056LzGLrAbI8+510zm1O+1ZM/M2z+EmM9f3Dwu2HJtwhhADgAPJBeZubK/rA30w7dnbPLVB+1T2wvIWOz6tA/iygfqyaUv6re5tLXrTJ42AC/31TUrjYOHbmzyhVygX5tccqJrMx9w79Kuz55Euz6A3/XYb+ZIZF8MY9LmHqObT79zY4Bx8pIPnCfkyxFyPcesl1x062NjsA51fEhyeCyZC+PbnNZsuQK7MfKcU7+tpR87sGf3F7T5zOFxMTeSIZwz4ANlcpGZy3ogawP9rkWbfPVB+2QOewAZi12f9kFc+UA9ue5dm0tbu87kaQPwcl9dM9I/XMlDNzb5Qi7Qr00uudG1mQ+4d2nXZ09CLpCD3/XYb+ZIZF8MY9LmHqObL/2g7cP6QCmfOTnMA+RnHmAs90f6kOeakMzxaYNjv86R/iEUHjakw321Prp/MNQmVx27MQxqOKd++0dX+djtC1CbWgAePmxKbOTLGkiGcM7IHkFykfYoV5+6femHTx/a5Ktnb8Ic9gAyFrs+7YO48oF6cumL+m0ube06k6cNwMt9dc1K4+ChG5t8IRfo1yaXnOjazAfcu7TrsychF8jB73rsN3Mksi+GMWlzj9HNl37Q9sGQl3zgPCFfjpDrOWb95KK3PbMOdXxIcngsmQvj25zWbLkCuzHynFO/raUfO7Bn9xe0+czhcTE3kiGcM+ADZXKRmct6IGsD/a5Fm3z1QftkDnsAGYtdn/ZBXPlAPbnuXZtLW7vO5KUNHjHMGej+/PYYAHjoxjrgCblAvza55ETXZj7g3qVdH3FZSy6Qgx+7ss2RyL4YxqTNPUY3X/pB2wdDXvKB84R8OUIu9alh/eSitz2zDnV8SHJ4LJkL49uc1my5Arsx8pxTv62lHzuwZ/cXtPnM4XExN5IhnDPgA2VykZnLeiBrA/2uRZt89UH7ZI7sJWPJyQDa5QLizSGMTS7XKK+dnJuLnrDRN3P3LHnoSEAtOfKJVRoHD93Y5Au5QL82ufalDf+aNWvqyU9+cn3961+vG2+8sf+uf+Ph87B8YmKiNm7cWJdddln/cdavfOUr6/DDD1/IA8jveuzXPC2yLwZfJ+cnOmmj9pK3v/3tv62BzUWCdoMAPuceRGNtJhsbxNXnxqIDudQUmQ8Q4wt9gGS46ejy1eVZh80ePgAeYoghhhjiQAAPgJctW9bfx4D3tbw/c3/Le6n3w7z3aZPbjv35/s8DYG0tzA/SP4gLtD+YP4Eth1C3f5B+oa31MSfWfdEGfACsL/3JB+YAeQyE8dqRHAO5DI83wz1FF2nP46Qt6yoTxiuNg+cvSpkjhzHqeW4qW8hFCnTzaFfXZ770Y2t7S7gfxiKN8VwHxmEzr1L4B4rMoQ6YA3kge4JnTnWgTW47Hguv/4H2xSC3jbGfhBx6Q6cWQGdol6cUzO1XPTnp0/5APOAepN947Uh6k8vweDNcJ7pIex4nbVlXmTBeaRy8g/n61waMM09KkceBQQ4gx3nuQfaEzZzqQJvcdjxWrn/XlbaE9vSTi7k5hRyvc/ICdIZ2eUrB3H7VW4427YN45gDuQfqN146kt9wv94WReyfkEJ97jg7MhWz3A4kNrtIa8HxQqh8fA5/5nKMPOg/URcYJ8yEZrc0Y7Ury4lOqAyT9AGLhIxmuRxAHsGU+cwFimDuMkeNcHqCm/WKzZ3WgTW47hvf/echtY+wnIYfe0KkF0Bna5SkFc/tVbznatA/imQO4B+k3XjuS3uQy8rxznegi7XmctGVdZcJ4pXHwhvf/+zh5HBjkAHKc5x5kT9jMqQ60yW3HwXD927P9y7OOOR8IyRXEDIqVQz10agF0hnZ5SsGcGHvMXoU27YN45gDuWfqN146kN7kM947hOtFF2vM4acu6yoTxSuPgDa//+zh5HBjkAHKc5x5kT9jMqQ60yW3H93P9ey4R014LyZXn8cYG5Hp9azcfQPKxyvhz+NoLndzarYtuPqB9MchtY5i3sXLaNaMztLOO0047rVavXt1/PzKf6si7cq+88sq65ppr6vrrr++fTZ577rn9x2FnHftnAGS7JubWJrb1b9q0qX8ArB3Z93bdddfN2SQSB80CExrgPCEXZJ48cManTpPpT5hDuCBzGGuc9UD22OrEDT8CeoghhhhiiAMFvFjghUPez7iXgUH32Ly3Any84PI+ytx7rPdp5/j3x/s/32HY5jAu9YR8YZx6whytP+0PFL8Y2nhhHqEv+X4ENGDOnvrCGbR52+MuMmdy0EXmST1r+AuCNnMh7Qs7L8ixZ6zztAn0PD/1K/Nc0g/wZR7s5rCnzNNytJFbuzZjQca0yDzJdxAHqOHxG5SLWHMpW2SM1537bhwgv/sF8GVd5gx7QjrHb27zmdt5Qi7IPOYFxqeePWJLmEPYtzmMNc56IHts9cyDnsCWdfE7R3f/0r8YiMt8zo2xB9H65Lcc1ujxBlkHZH+JzLnYGjJP8lNSG6nNXEj7wj68/vftEZjD/WpzwTOXskXGkAO4L8YB6wh8ub/MGXDcW+f422vJ3M4TckHmyWNmfOrZI7aEOYR9m8NY46wHssdWzzzoWRdb1tXPHN39S/9iIC7zOTfGHkTrk59gzhrpQ2QdkP0lMudia8g8qWccD2mZm8N+kPlOV7+jVx6SecYiBXbiPWesr/TnCdAPzCfwkSP7beslh3hAb8yxa3OtQJ89JDJP1sAO2hzuFxx9AN1cmTNhTpC1gHHANQt8Hg9zM+BkL0j82ID5zO08IRdkHvMC41PPHrElzCHs2xzGGmc9kD22euZBT2DLuvido+f5rH8xEJf5nBtjD6L1yU8wZ430IbIOyP4SmXOxNWSe1LMGtZHazIW0L+zD+/++PQJzuF9tLnjmUrbIGHIA98U4YB2BL/eXOQOOe+scf3stmdt5Qi7IPHnMjE89e8SWMIewb3MYa5z1QNYZxDEPORLYsi5+5+juX/oXA3GZz7kx9iBan/wEc/qnD5F1QPaXyJyLrSHzpJ41vCa0mQtpX9iH1/++PQJzuF9tLnjmUrbIGHIA98U4YB2BL/eXOQOOe+sc/6BrCd25YM6xFu4ZebAzB8annucytgR96gP2aA5jjXMdIHtsddevnsBm7wC/c/tBpn8xuEbjnRtjD6L1yU8wzz0DWQdkfwk4PGTmI6DbNYwyMQmDIjaDjs0Afdj64L084vOAtBLAEdgXm6O7aQ7n+uFSG5l53BzXZI9ykjvEEEMMMcQQBwq4l3H/Q3KvY3CvY+49GmDP+7gx3hPznuq9Ep2xv97/BXMlMZlHXbvxQptQ1268emsHGeMQ6RPGZ870g6yR/PbYoLPnHAcG8BjJ87iYD2BvpcdOpE8dZC/pIx4bkmNvXe0ALnP7BpnPoV8fsBY2/xiLzgB5bmY9BsBmTWMF/TK3NkNu9mNP+kDmBOkD8IHxjOwVII3PPPaizV7aY41kTxhwiDU3OBivf6R+uNRGZh56AK7JHuVoM686diXATg7Pa9ffxjCyN3xAm/XMTz57E3KskXy56JmP48AAHiN5+M0hsLcSTiJ96iB7SR/x2JDuk8O1wGVu3yDzOfTrA9bCdqBe/3CQeYwANYxPiZ+hLXsBmZM1eD4xRwrs1DTOGHMxtwdroDMyLvfYufFIecRTEztoJYAjsC82R7c3h3P9cKmNzDz0AFyTPcrRRg595lMC7OQgnzowTi4je8MHtFnP/B4v6wA51ki+XPTMx3FgAI+RPPzmENhbCSeRPnVgXo+vcdTFhuT6tCf8Hgf42FgHEqDLcVBDnvmRxOPz++TcD8AfGDMPMAZkTezMhfdNa1sfZD+M9IHMCdIHrIPd9dOr/QNqGG+/SHvJNTCX6/qQrhsOc3MD7NTNGujmYg5faU1GxrkGc+vDhpRHPDWxg1YCOAL7YnN0e3M41w+X2sjMQw/ANdmjHG3mVceuBNjJQT510MYwsjd8QJv1zO/xsg6QY43ky0XPfBwHBvAYycNvDoG9lXAS6VMH2Uv6iMeGdJ8crgUuc/sGmc+hXx+wFrbh/X++RuZkDZ5PzJECOzWNM8ZczO3BGuiMjMs9dm48Uh7x1MQOWgngCOyLzdHtzeFcP1xqIzMPPQD4DPu1f+PMq45dCYwhX8a3MQx8zAE+oM165vd4WQfIsUby5aJnPtbFAB4jefjNIbC3Ek4ifeoge0kf8diQ7pPDtcBlbt8g8zn06wPWwja8/udrZE7W4PnEHCmwU9M4Y8zF3B6sgc7IuNxj58YjmQPiOUbG4U8J4IjMCYjTj07/cBzMMzex1CYm88IDromYzK3NvOrYlQA7Oaxrr20MAx9zgA9os575yWdvQo41ki8XPfOxdvceqQ+J3xwCeyvh9Pr69esXmBQkYR4AE6G7MOdKfVkUUMRcCfkugjgXwHAuckFKc8r3YKXdX0ycg+3btw/fATzEEEMMMcQBAd4BfOihh/b3OMA9zRdc3PuYI703AnRv8trlO7gnel8E+/P9/4nfuu/dsI8VrD/lqH32w3180rc39nK/xbat9eazTt87eWC8a8n8a7RcI9Jzl/ME5D7oE/j0A68TbelXymWuZHgee62k3xghP6V2uebDNsgvnMvhj8Zc48JrHuDjj+L2+Fi4/p0rzSmfOvDSPuj1f+YdpFvLvEiG+QF29NwPIF8949G1Z570tbXNj65dWJ/1ufdtHebwvB48T7Thz3UpzZc5rY3EDzft6CJjrMUc3Tm9eD7blzFyAbWA9vQJfPqB69WWfqVc5kqGa6eGfP3GCPkptctFmmeQH5x16717tQMfV5+4dq82fz55niWYs19n37Z5r+XAx7UnH7lwnEF73D3eyP3+eH8P9+93j933RzfBcWeOZHCdHxDr/h7gazN/fuZ57vrBwbZuznPgWj2/Wa/nuDjj5k17tf0U38N5/ouj86+3AOv0GLsPADvz/f71+feA9ueax5r1pz2PPTZ9XhvM0Z0P7//75nIuhz1xHcB9A+6dPeb+CXT3Sbt8R/YEWIN19RmL3q5RqU+usGe5Qj61QNuPc2HfQGlO+dSBpx2d35H4XQloz7yDdGuZF8kwP8COnvsB5KtnPLr2zJO+tvYgXVifPXTv2zrM4eV5g10b/lyXknwgc1obiR9u2tFFxliLObpzehle//fBuRz2xHUA9w24d/aY+yfQ3Sft8h3ZE2AN1tVnLHq7RqU+RsI+5Qr5Xpvo9kOPzgV5zJ39APn0jK4dSW1inYPMO0h3j+ArGeYH2K1rXiBfPePRtWee9LW1B+nC+u5NcoFzePTOx02fc845vV1b78dgEMkkMCCY1GRpY1DcBpInUsenxO4PAGBukLmskcAul4UA4u0DG1Joa/MMMcQQQwwxxP4O7l3e97ifca9G974HvCdiYwjn3h8ZmYsBDpT7/2MFrt/90nYwgXVxfH1Bmsc8X9uJ3JPkci6hMwAxeU4lH6QPGJs2+TlE9mecfHV74Bed9g8RSnPKd+4vTo7cH2o/lq9/7HLzHLEPbEihTb82YB5hTXVi3Hv7cE2D1ibwsZ+AfLk+8qC3w/6yDnN81pKr3Rj09DOs6bliboe8RNbOmtrJkXbmwFrZi3W0IT3m1icOPc9veNqA9YD+lru/Xv9I9t9zgXnKzHkwwHWL1HPtaT8Y4NoE61vs+j+YwHUAWCtr9PwH+TP3YFs7axv0s8y1evwPtnWzHgbrZLB2j3Gu/WAD6/Jcd325zoPtOCdy7Rxj1+15ALA5dy/y3NA3vP/f1w8wp3znuR8M94sBx58txOADzAE2hnAOj9js0TkgJ7r85CBbG4OcbV54InV8SuyeC8DcIHNZI4Fdbp4j9oENKdCppV8bMI+wpjoxHgv7cE2D1ibweczJl+sjD3o77M862JgjrSVXuzHo6WdY03PF3A55iaydNbWTI+3MgbWyF+toQw6v//v6AeaU7zz3g+F+MeB4TInBB5gDbAzhHB6x2aNzQE50+clBtjYGOR3yXCsgRuAD5ucfaAhi5JrbOu6zwC7X84m5PcBHCm36tQF7EtZUJ8ZjgQ6srQRtHnzuA/mYyyEPejvszzrYmCOtJVe7MejpZ1jTc8Xcjp7nO4AhWxgiMEgp4LLxNgWSC9QZFkssNNANuMxt1D5avz2mXZn9t3HOAd8BPMQQQwwxxBAHClatWrVwD+Re5r2Oed4fhfdG73veB0Xrz/snPoBPnjYA95G+/59+09297bEE3mXCXuQ+g4PpHcC8g4hjDPLYDzqX1NmP1gYyDza55Ew+YM75hi/56kC/x4DhLwMAHg925agLuOTIGJB1fDDc/pIBmBPPtaaPHpLnXugT1mAA/Oqg9RNrTnwAnzxtAO6B+vofiS1jtD3QevAxBxwr53LkAe1yMpe6YG7f9iPgtX2BzIc0jrlg3p7fSoCuL+P0k9NzUhuwnjowR+4L8+wdH/3okwuYK4kB8gbpWUMbyDzY5JIz+YB5uz9ykEC/62C4JwDeA13/xiHb2tahxn7/TrnvAdecdEQvXSOjXT/AdrC9A1iwdkaep7kfB9P923dGsi7uCV4zXivMAb6D6XhznnNM+b5j1sta1YXrP9jeEcqx/W7u/wfTO4B/een8NQ28dzF3za4bHEzHm99BXDdA97hrd/25L8z9OQC8FvTJBe6dMUDeID1raAOZB5tcciYfMPdnVfLVgX7XwaBv88D7Qdz/gZyMZ541zZc85uTRJ6zBAOYXrd8+AT6AT542AHd/f/3PHLvnGTZ98DJGG3NhXuPMB8zJXI48oF1O5lIXzO3bfhJtXyDzWcd1CObt+a0E6PoyTn/m1Aaspw7MkfvCnHi5+OhHn1zAXEkMkDdIzxraQObBJpecyQfM2/2RgwT6XQeDvs0D77F6/fPw1t4BnKxhHNzcMyGXAZc5+eQD4/Ex1DNOqc847cnXhy1jtDEXxhuHjznw3GUuRx7QLidzqQvm9m0/ibYvkPms4zoE8zy/r7rqqjr77LMXas/Xna3/D6hCOKAu77tJAAAAAElFTkSuQmCC)"
      ],
      "metadata": {
        "id": "Q9fKYzqHAYa0"
      }
    },
    {
      "cell_type": "markdown",
      "source": [
        "# conclusion"
      ],
      "metadata": {
        "id": "Ng9oJiLBAeUz"
      }
    },
    {
      "cell_type": "code",
      "source": [
        "# model will be predict wheather the student will be placed or not placed by grtting all parameter required for the calculation to predict"
      ],
      "metadata": {
        "id": "ob9y7-vz-RNt"
      },
      "execution_count": 82,
      "outputs": []
    },
    {
      "cell_type": "code",
      "source": [],
      "metadata": {
        "id": "Rg3aR4hdAy5L"
      },
      "execution_count": null,
      "outputs": []
    }
  ]
}